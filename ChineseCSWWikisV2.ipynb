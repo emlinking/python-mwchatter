{
 "cells": [
  {
   "cell_type": "code",
   "execution_count": 1,
   "id": "9694b933",
   "metadata": {},
   "outputs": [
    {
     "name": "stdout",
     "output_type": "stream",
     "text": [
      "/home/elealin/projects/code-switching/wiki/python-mwchatter\n"
     ]
    }
   ],
   "source": [
    "%cd python-mwchatter"
   ]
  },
  {
   "cell_type": "code",
   "execution_count": 2,
   "id": "e30fde0a",
   "metadata": {},
   "outputs": [
    {
     "name": "stdout",
     "output_type": "stream",
     "text": [
      "/home/elealin/projects/code-switching/wiki/python-mwchatter\r\n"
     ]
    }
   ],
   "source": [
    "!pwd"
   ]
  },
  {
   "cell_type": "code",
   "execution_count": 3,
   "id": "195c3451",
   "metadata": {},
   "outputs": [],
   "source": [
    "import json\n",
    "import jsonlines\n",
    "import mwparserfromhell\n",
    "import mwxml\n",
    "import re\n",
    "import wikichatter as wc"
   ]
  },
  {
   "cell_type": "code",
   "execution_count": 4,
   "id": "99e23c94",
   "metadata": {},
   "outputs": [],
   "source": [
    "ZHWIKI = \"/shared/0/projects/code-switching/zhwiki/zhwiki-20240401-pages-meta-history/\""
   ]
  },
  {
   "cell_type": "markdown",
   "id": "b2feb1f2",
   "metadata": {},
   "source": [
    "# Explore Current Page Dump Format\n",
    "These dumps only store the most current revision"
   ]
  },
  {
   "cell_type": "code",
   "execution_count": 5,
   "id": "a0ed2959",
   "metadata": {},
   "outputs": [],
   "source": [
    "NEWEST_ZHWIKI = \"/shared/0/projects/code-switching/zhwiki/\""
   ]
  },
  {
   "cell_type": "code",
   "execution_count": 7,
   "id": "a582bb85",
   "metadata": {},
   "outputs": [],
   "source": [
    "!bzip2 -dk {NEWEST_ZHWIKI}zhwiki-20241201-pages-meta-current1.xml-p1p187712.bz2"
   ]
  },
  {
   "cell_type": "code",
   "execution_count": 9,
   "id": "51400129",
   "metadata": {},
   "outputs": [],
   "source": [
    "dump = mwxml.Dump.from_file(open(\"{}zhwiki-20241201-pages-meta-current1.xml-p1p187712\".format(NEWEST_ZHWIKI)))"
   ]
  },
  {
   "cell_type": "code",
   "execution_count": 17,
   "id": "7bb5a1e1",
   "metadata": {},
   "outputs": [
    {
     "name": "stdout",
     "output_type": "stream",
     "text": [
      "Page(id=13, title='数学', namespace=0, redirect=None, restrictions=[])\n"
     ]
    },
    {
     "ename": "MalformedXML",
     "evalue": "Unexpected tag found when processing a <revision>: 'origin'",
     "output_type": "error",
     "traceback": [
      "\u001b[0;31m---------------------------------------------------------------------------\u001b[0m",
      "\u001b[0;31mMalformedXML\u001b[0m                              Traceback (most recent call last)",
      "Cell \u001b[0;32mIn[17], line 5\u001b[0m\n\u001b[1;32m      1\u001b[0m page \u001b[38;5;241m=\u001b[39m \u001b[38;5;28mnext\u001b[39m(\u001b[38;5;28miter\u001b[39m(dump))\n\u001b[1;32m      3\u001b[0m \u001b[38;5;28mprint\u001b[39m(page)\n\u001b[0;32m----> 5\u001b[0m \u001b[38;5;28;01mfor\u001b[39;00m revision \u001b[38;5;129;01min\u001b[39;00m page:\n\u001b[1;32m      6\u001b[0m     \u001b[38;5;28;01mtry\u001b[39;00m:\n\u001b[1;32m      7\u001b[0m         \u001b[38;5;28mprint\u001b[39m(revision)\n",
      "File \u001b[0;32m/opt/anaconda/lib/python3.11/site-packages/mwxml/iteration/page.py:32\u001b[0m, in \u001b[0;36mPage.__iter__\u001b[0;34m(self)\u001b[0m\n\u001b[1;32m     31\u001b[0m \u001b[38;5;28;01mdef\u001b[39;00m \u001b[38;5;21m__iter__\u001b[39m(\u001b[38;5;28mself\u001b[39m):\n\u001b[0;32m---> 32\u001b[0m     \u001b[38;5;28;01mfor\u001b[39;00m revision \u001b[38;5;129;01min\u001b[39;00m \u001b[38;5;28mself\u001b[39m\u001b[38;5;241m.\u001b[39m__revisions:\n\u001b[1;32m     33\u001b[0m         revision\u001b[38;5;241m.\u001b[39mpage \u001b[38;5;241m=\u001b[39m \u001b[38;5;28mself\u001b[39m\n\u001b[1;32m     34\u001b[0m         \u001b[38;5;28;01myield\u001b[39;00m revision\n",
      "File \u001b[0;32m/opt/anaconda/lib/python3.11/site-packages/mwxml/iteration/page.py:44\u001b[0m, in \u001b[0;36mPage.load_revisions\u001b[0;34m(cls, first_revision, element)\u001b[0m\n\u001b[1;32m     41\u001b[0m \u001b[38;5;129m@classmethod\u001b[39m\n\u001b[1;32m     42\u001b[0m \u001b[38;5;28;01mdef\u001b[39;00m \u001b[38;5;21mload_revisions\u001b[39m(\u001b[38;5;28mcls\u001b[39m, first_revision, element):\n\u001b[1;32m     43\u001b[0m     \u001b[38;5;28;01mif\u001b[39;00m first_revision \u001b[38;5;129;01mis\u001b[39;00m \u001b[38;5;129;01mnot\u001b[39;00m \u001b[38;5;28;01mNone\u001b[39;00m:\n\u001b[0;32m---> 44\u001b[0m         \u001b[38;5;28;01myield\u001b[39;00m Revision\u001b[38;5;241m.\u001b[39mfrom_element(first_revision)\n\u001b[1;32m     46\u001b[0m     \u001b[38;5;28;01mfor\u001b[39;00m sub_element \u001b[38;5;129;01min\u001b[39;00m element:\n\u001b[1;32m     47\u001b[0m         tag \u001b[38;5;241m=\u001b[39m sub_element\u001b[38;5;241m.\u001b[39mtag\n",
      "File \u001b[0;32m/opt/anaconda/lib/python3.11/site-packages/mwxml/iteration/revision.py:61\u001b[0m, in \u001b[0;36mRevision.from_element\u001b[0;34m(cls, element)\u001b[0m\n\u001b[1;32m     59\u001b[0m         \u001b[38;5;28mbytes\u001b[39m \u001b[38;5;241m=\u001b[39m sub_element\u001b[38;5;241m.\u001b[39mattr(\u001b[38;5;124m'\u001b[39m\u001b[38;5;124mbytes\u001b[39m\u001b[38;5;124m'\u001b[39m)\n\u001b[1;32m     60\u001b[0m     \u001b[38;5;28;01melse\u001b[39;00m:\n\u001b[0;32m---> 61\u001b[0m         \u001b[38;5;28;01mraise\u001b[39;00m MalformedXML(\u001b[38;5;124m\"\u001b[39m\u001b[38;5;124mUnexpected tag found when processing \u001b[39m\u001b[38;5;124m\"\u001b[39m \u001b[38;5;241m+\u001b[39m\n\u001b[1;32m     62\u001b[0m                            \u001b[38;5;124m\"\u001b[39m\u001b[38;5;124ma <revision>: \u001b[39m\u001b[38;5;124m'\u001b[39m\u001b[38;5;132;01m{0}\u001b[39;00m\u001b[38;5;124m'\u001b[39m\u001b[38;5;124m\"\u001b[39m\u001b[38;5;241m.\u001b[39mformat(tag))\n\u001b[1;32m     64\u001b[0m deleted \u001b[38;5;241m=\u001b[39m \u001b[38;5;28mcls\u001b[39m\u001b[38;5;241m.\u001b[39mDeleted(comment\u001b[38;5;241m=\u001b[39mcomment_deleted, text\u001b[38;5;241m=\u001b[39mtext_deleted,\n\u001b[1;32m     65\u001b[0m                       user\u001b[38;5;241m=\u001b[39muser_deleted)\n\u001b[1;32m     67\u001b[0m \u001b[38;5;28;01mreturn\u001b[39;00m \u001b[38;5;28mcls\u001b[39m(\n\u001b[1;32m     68\u001b[0m     \u001b[38;5;28mid\u001b[39m, timestamp,\n\u001b[1;32m     69\u001b[0m     user\u001b[38;5;241m=\u001b[39muser,\n\u001b[0;32m   (...)\u001b[0m\n\u001b[1;32m     78\u001b[0m     deleted\u001b[38;5;241m=\u001b[39mdeleted\n\u001b[1;32m     79\u001b[0m )\n",
      "\u001b[0;31mMalformedXML\u001b[0m: Unexpected tag found when processing a <revision>: 'origin'"
     ]
    }
   ],
   "source": [
    "page = next(iter(dump))\n",
    "\n",
    "print(page)\n",
    "\n",
    "for revision in page:\n",
    "    try:\n",
    "        print(revision)\n",
    "        break\n",
    "    except:\n",
    "        print('error printing revision')"
   ]
  },
  {
   "cell_type": "markdown",
   "id": "5d583b49",
   "metadata": {},
   "source": [
    "# English Example\n",
    "\n",
    "Compare the outputs of this section to English_Python_MWChatter_Demo.ipynb to make sure we didn't break anything:"
   ]
  },
  {
   "cell_type": "code",
   "execution_count": 5,
   "id": "cc8bc7c2",
   "metadata": {},
   "outputs": [],
   "source": [
    "ex = open(\"talk_samples/user/687428034.txt\")"
   ]
  },
  {
   "cell_type": "code",
   "execution_count": 6,
   "id": "80b46381",
   "metadata": {},
   "outputs": [
    {
     "name": "stdout",
     "output_type": "stream",
     "text": [
      "This user is blocked...\n",
      "\n",
      "\n",
      "\n",
      "== Welcome! ==\n",
      "\n",
      "Hello, New User Person, and welcome to Wikipedia! Thank you for [[Special:Contributions/New User Person|your contributions]]. I hope you like the place and decide to stay. Here are a few links to pages you might find helpful:\n",
      "\n",
      "* [[Wikipedia:Introduction|Introduction]] and [[Help:Getting started|Getting started]]\n",
      "\n",
      "* [[Wikipedia:Contributing to Wikipedia|Contributing to Wikipedia]]\n",
      "\n",
      "* [[Wikipedia:Five pillars|The five pillars of Wikipedia]]\n",
      "\n",
      "* [[Help:Editing|How to edit a page]] and [[Wikipedia:Article development|How to develop articles]]\n",
      "\n",
      "* [[Wikipedia:Your first article|How to create your first article]]\n",
      "\n",
      "* [[Wikipedia:Simplified Manual of Style|Simplified Manual of Style]]\n",
      "\n",
      "\n",
      "\n",
      "You may also want to take the [[Wikipedia:The Wikipedia Adventure|Wikipedia Adventure]], an interactive tour that will help you learn the basics of editing Wikipedia. You can visit [[WP:Teahouse|The Teahouse]] to ask questions or seek help.\n",
      "\n",
      "\n",
      "\n",
      "Please remember to [[Wikipedia:Signatures|sign]] your messages on [[Help:Using talk pages|talk page]]s by typing four [[tilde]]s (<nowiki>~~~~</nowiki>); this will automatically insert your username and the date. If you need help, check out [[Wikipedia:Questions]], ask me on my talk page, or {{edit|Special:MyTalk|click here|section=new|preload=Help:Contents/helpmepreload|preloadtitle=Help me!}} to ask for help on your talk page, and a volunteer should respond shortly. Again, welcome! <!-- Template:Welcome --> [[User:Johnuniq|Johnuniq]] ([[User talk:Johnuniq|talk]]) 22:57, 25 September 2015 (UTC)\n",
      "\n",
      "\n",
      "\n",
      "==Notification==\n",
      "\n",
      "{{Ivm|2=''This message contains important information about an administrative situation on Wikipedia.  It does '''not''' imply any misconduct regarding your own contributions to date.''\n",
      "\n",
      "\n",
      "\n",
      "'''Please carefully read this information:'''\n",
      "\n",
      "\n",
      "\n",
      "The Arbitration Committee has authorised [[Wikipedia:Arbitration Committee/Discretionary sanctions|discretionary sanctions]] to be used for pages regarding the [[September 11 attacks]], a topic which you have edited. The Committee's decision is [[Wikipedia:Requests for arbitration/September 11 conspiracy theories|here]].\n",
      "\n",
      "\n",
      "\n",
      "Discretionary sanctions is a system of conduct regulation designed to minimize disruption to controversial topics.  This means [[WP:INVOLVED|uninvolved]] administrators can impose sanctions for edits relating to the topic that do not adhere to the [[Wikipedia:Five pillars|purpose of Wikipedia]], our [[:Category:Wikipedia conduct policies|standards of behavior]], or relevant [[Wikipedia:List of policies|policies]]. Administrators may impose sanctions such as [[Wikipedia:Editing restrictions#Types of restrictions|editing restrictions]], [[Wikipedia:Banning policy#Types of bans|bans]], or [[WP:Blocking policy|blocks]]. This message is to notify you sanctions are authorised for the topic you are editing. Before continuing to edit this topic, please familiarise yourself with the discretionary sanctions system. Don't hesitate to contact me or another editor if you have any questions.\n",
      "\n",
      "}}{{Z33}}<!-- Derived from Template:Ds/alert --> [[User:Johnuniq|Johnuniq]] ([[User talk:Johnuniq|talk]]) 22:57, 25 September 2015 (UTC)\n",
      "\n",
      "\n",
      "\n",
      "== Wikipedia:Village pump (policy) ==\n",
      "\n",
      "The [[Wikipedia:Village pump (policy)]] page is to discuss policy related issues, and should not be used to revive long-resolved 9/11 issues. If there is a new issue, please raise it at [[WP:FTN]] with a succinct comment, not a wall of text. [[User:Johnuniq|Johnuniq]] ([[User talk:Johnuniq|talk]]) 23:00, 25 September 2015 (UTC)\n",
      "\n",
      ":I see you didn't even bother to read the title of the section I posted. Otherwise you would realize that the subject of my post was a policy issue. [[User:New User Person|New User Person]] ([[User talk:New User Person#top|talk]]) 23:10, 25 September 2015 (UTC)\n",
      "\n",
      "\n",
      "\n",
      "::Dress it up however you like, you are clearly arguing for undue weight for a fringe theory. [[User talk:HighInBC|<b style=\"color:SaddleBrown\">HighInBC</b>]] <small><small><sup>(was Chillum)</sup></small></small> 03:25, 26 September 2015 (UTC)\n",
      "\n",
      "\n",
      "\n",
      "@New User Person: Did you see the reply at [[Wikipedia talk:Arbitration/Requests#Semi-protected edit request on 25 September 2015]]? You should be able to make a request if wanted, but my suggestion would be prepare a draft of what you want to say first. You could create [[User:New User Person/sandbox]] which is your standard sandbox with points that you intend to raise. However, if it concerns any aspect of [[September 11, 2001 attacks]], please review the [[WP:ARB911|previous case]] first. The first few paragraphs there have links to the evidence, workshop, and proposed decision pages. The findings there seem innocuous and might be hard for a new editor to interpret since they appear to say nothing more than the obvious fact that everyone should be nice. However, that is standard wording, and what it really means is that people do not have to repeat old arguments—instead, a quick consensus can agree on whether a proposed change is desirable, and anyone attempting to override established procedures would be subject to sanctions. The discussion at [[Wikipedia:Village pump (policy)#This page (9/11 conspiracy theories) violates the Wikipedia Five Pillars]] will not lead to anything because there is no actionable proposal that I can see. Instead, if some change were wanted, say at [[9/11 conspiracy theories]], a proposal should be made at its talk page. Disagreements about sources are discussed at [[WP:RSN]], and disagreements about what is neutral are discussed at [[WP:NPOVN]]. Question about the treatment of something claimed to be a conspiracy theory should be at [[WP:FTN]]. [[User:Johnuniq|Johnuniq]] ([[User talk:Johnuniq|talk]]) 03:42, 26 September 2015 (UTC)\n",
      "\n",
      ":There are '''no''' comments as such on the mentioned arbitration page above. Also, I have already tried to add this discussion to the 9/11 conspiracies talk page, but it was erased by a Wikipedia user there that feels his opinion has a higher validity than my own. I know I didn't mention that earlier, but trust me, I tried. This conversation isn't only related to the 9/11 conspiracies page, per se. I only used the 9/11 conspiracies page to make the basis of my point. The same exact point could be made off of a basis of Project Echelon, Project MK-Ultra, and the assassination of John F. Kennedy. [[User:New User Person|New User Person]] ([[User talk:New User Person#top|talk]]) 03:49, 26 September 2015 (UTC)\n",
      "\n",
      "::I see there were some recent edits at [[Talk:9/11 conspiracy theories]] where a very long post from three years ago was copied from the archive to talk, followed by another non-actionable comment. Suppose that instead of removing the text, other editors had said, \"yes, I fully agree\"—that would be pointless because what is needed is agreement about a proposal to change text in the article. It's only changes to articles that matter. The editors joining in at Village pump (policy) should know that the discussion is pointless, but a certain amount of shooting the breeze is reasonable on the village pump pages. [[User:Johnuniq|Johnuniq]] ([[User talk:Johnuniq|talk]]) 06:33, 26 September 2015 (UTC)\n",
      "\n",
      "\n",
      "\n",
      "== FIX IT ==\n",
      "\n",
      "MAYBE IF YOU WOULD FIX IT, THE LISTS ARE NOT SORTABLE YOU RETARDED MORONS  <small class=\"autosigned\">—&nbsp;Preceding [[Wikipedia:Signatures|unsigned]] comment added by [[Special:Contributions/73.232.126.13|73.232.126.13]] ([[User talk:73.232.126.13|talk]]) 05:12, 28 September 2015 (UTC)</small><!-- Template:Unsigned IP --> <!--Autosigned by SineBot-->\n",
      "\n",
      "\n",
      "\n",
      "I AM NOT VANDALIZING. FIX THE PROBLEM YOU MORON! THE LISTS ARE NOT ACTUALLY SORTABLE!  <small class=\"autosigned\">—&nbsp;Preceding [[Wikipedia:Signatures|unsigned]] comment added by [[Special:Contributions/73.232.126.13|73.232.126.13]] ([[User talk:73.232.126.13|talk]]) 05:18, 28 September 2015 (UTC)</small><!-- Template:Unsigned IP --> <!--Autosigned by SineBot-->\n",
      "\n",
      "\n",
      "\n",
      "== How does posting pictures to pages work? ==\n",
      "\n",
      "\n",
      "\n",
      "{{tl|Help me}}\n",
      "\n",
      "Hello. I was wondering what the correct format for adding photos to Wikipedia pages is. Thanks.\n",
      "\n",
      "[[User:New User Person|New User Person]] ([[User talk:New User Person#top|talk]]) 16:33, 29 September 2015 (UTC)\n",
      "\n",
      ":Try [[Wikipedia:Picture tutorial]] and see if it explains the process well enough.  If you have any other questions, feel free to ask.  --[[User:Jayron32|<span style=\"color:#009\">Jayron</span>]][[User talk:Jayron32|<b style=\"color:#090\">''32''</b>]] 16:36, 29 September 2015 (UTC)\n",
      "\n",
      "::Ok, thank you [[User:Jayron32|Jayron32]]. [[User:New User Person|New User Person]] ([[User talk:New User Person#top|talk]]) 16:38, 29 September 2015 (UTC)\n",
      "\n",
      "\n",
      "\n",
      "== Today's edits ==\n",
      "\n",
      "Hi there,\n",
      "\n",
      "Just in response to your previous message, I have discussed this on the talk page of the previous article to it. My edit was inline with numerous discussions that had been had surrounding a stand format/criteria to election info boxes as they are a summary, they are not there to give a breakdown of the whole result which is what the previous revision did, which is effectively duplicating the full results table below, a violation of wikipedia policy on duplication [[Special:Contributions/2.98.38.127|2.98.38.127]] ([[User talk:2.98.38.127|talk]]) 19:20, 29 September 2015 (UTC)\n",
      "\n",
      ":I didn't see a resolution to the discussion, however. So therefore your changes hasn't been reached by consensus, and will continue to be reverted. [[User:New User Person|New User Person]] ([[User talk:New User Person#top|talk]]) 19:22, 29 September 2015 (UTC)\n",
      "\n",
      "\n",
      "\n",
      "== Spamming ==\n",
      "\n",
      "Stop spamming my user talk page, thank you<br/>\n",
      "\n",
      "[[Special:Contributions/95.114.225.100|95.114.225.100]] ([[User talk:95.114.225.100|talk]]) 21:21, 29 September 2015 (UTC)\n",
      "\n",
      ":Hello, I'm not 'spamming' your page. Please stop deleting the templates that were added to your talk page. Thank you. [[User:New User Person|New User Person]] ([[User talk:New User Person#top|talk]]) 21:23, 29 September 2015 (UTC)\n",
      "\n",
      "::Spam is unsolicited BS, specially when it is sent at a high rate, in high quantity and against the recipient's will. So by definition yes, you are spamming my user talk page. Please stop it, it's childish. [[Special:Contributions/95.114.225.100|95.114.225.100]] ([[User talk:95.114.225.100|talk]]) 21:40, 29 September 2015 (UTC)\n",
      "\n",
      "\n",
      "\n",
      "*New User Person, the IP is entitled to remove posts from their talkpage, and you are ''not'' entitled to put them back. Please stop. See [[WP:BLANKING]] and [[Wikipedia:Don't restore removed comments|Don't restore removed comments]]. [[User:Bishonen|Bishonen]] &#124; [[User talk:Bishonen|talk]] 22:43, 29 September 2015 (UTC).\n",
      "\n",
      "::I know, I'm sorry Bishonen. I thought it was the opposite. I've apologized to the IP user. [[User:New User Person|New User Person]] ([[User talk:New User Person#top|talk]]) 22:59, 29 September 2015 (UTC)\n",
      "\n",
      "\n",
      "\n",
      "== Teahouse talkback: you've got messages! ==\n",
      "\n",
      "\n",
      "\n",
      "{{Wikipedia:Teahouse/Teahouse talkback|WP:Teahouse/Questions|Need more links template|ts=[[User:DESiegel|DES]] [[User talk:DESiegel|<sup>(talk)</sup>]] 21:14, 30 September 2015 (UTC)}}\n",
      "\n",
      "\n",
      "\n",
      "== He doesn't look the sort to take a hint. ==\n",
      "\n",
      "\n",
      "\n",
      "I make a habit of keeping an eye on that. [[User:HalfShadow|<font color=\"gray\">'''Half'''</font>]][[User talk:HalfShadow|<font color=\"black\">'''Shadow'''</font>]] 04:21, 1 October 2015 (UTC)\n",
      "\n",
      ":Tell me about it. Do you think I should put a notice on the ANI board? [[User:New User Person|New User Person]] ([[User talk:New User Person#top|talk]]) 04:22, 1 October 2015 (UTC)\n",
      "\n",
      "::Already reported him to AIV after the third time. [[User:HalfShadow|<font color=\"gray\">'''Half'''</font>]][[User talk:HalfShadow|<font color=\"black\">'''Shadow'''</font>]] 04:23, 1 October 2015 (UTC)\n",
      "\n",
      ":::Ok, then he'll be banned soon enough. [[User:New User Person|New User Person]] ([[User talk:New User Person#top|talk]]) 04:25, 1 October 2015 (UTC)\n",
      "\n",
      "\n",
      "\n",
      "== Stubs ==\n",
      "\n",
      "\n",
      "\n",
      "Please take care not to waste other editors' time by adding {{tl|stub}} to an article which already has a specific stub tag as you did in [https://en.wikipedia.org/w/index.php?title=Qaraqan_Saatl%C4%B1&type=revision&diff=683340691&oldid=630053032 this edit]. Thanks. [[User:PamD|<span style=\"color: green\">'''''Pam'''''</span>]][[User talk:PamD|<span style=\"color: brown\">'''''D'''''</span>]] 07:39, 1 October 2015 (UTC)\n",
      "\n",
      "\n",
      "\n",
      "== October 2015 ==\n",
      "\n",
      "\n",
      "\n",
      "[[File:Nuvola apps important.svg|25px|alt=Warning icon]] Please stop your [[Wikipedia:Disruptive editing|disruptive editing]]. If you continue to [[Wikipedia:Vandalism|vandalize]] Wikipedia, you may be [[Wikipedia:Blocking policy|blocked from editing]]. <!-- Template:uw-vandalism3 -->[[Image:Stop hand nuvola.svg|30px|alt=Stop icon]] You may be '''[[Wikipedia:Blocking policy|blocked from editing]] without further warning''' the next time you [[Wikipedia:Vandalism|vandalize]] Wikipedia. <!-- Template:uw-vandalism4 -->Please do not replace Wikipedia pages with blank content{{#if:|, as you did to [[:{{{1}}}]]}}. Blank pages are harmful to Wikipedia because they have a tendency to confuse readers. If it is a duplicate article, please [[Wikipedia:Redirect|redirect]] it to an appropriate existing page. If the page has been [[Wikipedia:How to spot vandalism|vandalised]], please [[Wikipedia:How to revert a page to an earlier version|revert]] it to the last legitimate version. If you feel that the content of a page is inappropriate, please [[Wikipedia:How to edit a page|edit]] the page and replace it with appropriate content. If you believe there is no hope for the page, please see the [[Wikipedia:Deletion policy|deletion policy]] for how to proceed.<!-- Template:Blank -->\n",
      "\n",
      "[[File:Ambox warning pn.svg|25px|alt=|link=]] Please stop your [[Wikipedia:Disruptive editing|disruptive editing]]. Your edits have been [[Help:Reverting|reverted]] or removed.\n",
      "\n",
      "* If you are engaged in an article [[Wikipedia:Editing policy|content dispute]] with another editor, discuss the matter with the editor at their talk page, or the article's talk page. Alternatively you can read Wikipedia's [[WP:DISPUTE|dispute resolution]] page, and ask for independent help at one of the [[Wikipedia:Dispute resolution#Ask for help at a relevant noticeboard|relevant notice boards]].\n",
      "\n",
      "* If you are engaged in any other form of dispute that is not covered on the dispute resolution page, seek assistance at Wikipedia's [[WP:ANI|Administrators' noticeboard/Incidents]].\n",
      "\n",
      "Do not continue to make edits that appear disruptive until the dispute is resolved through [[Wikipedia:Consensus|consensus]]. Continuing to edit disruptively may result in your being [[Wikipedia:Blocking policy|blocked from editing]]. [[User:New User Person|New User Person]]\n",
      "\n",
      "\n",
      "\n",
      "\n",
      "\n",
      "[[Image:Stop hand nuvola.svg|30px|alt=Stop icon]] You may be '''[[Wikipedia:Blocking policy|blocked from editing]] without further warning''' the next time you [[Wikipedia:Disruptive editing|disrupt]] Wikipedia.\n",
      "\n",
      "\n",
      "\n",
      "Please do not drive-by through Wikipedia just to blank articles without giving good reason or citations why.  I am sorry sir, but you are not showing good faith in preserving the quality of Wikipedia articles.  <small class=\"autosigned\">—&nbsp;Preceding [[Wikipedia:Signatures|unsigned]] comment added by [[Special:Contributions/38.95.108.244|38.95.108.244]] ([[User talk:38.95.108.244|talk]]) 08:20, 1 October 2015 (UTC)</small><!-- Template:Unsigned IP --> <!--Autosigned by SineBot-->\n",
      "\n",
      ":Your article was deleted because 'Afraid I have to support the other user's stubification. it's 10k of text without even one single reliable source'. There was also three other editors reverting your disruptive edits to [[Female-led relationship]]. Also, please sign your posts with four tildes (~). Thanks. [[User:New User Person|New User Person]] ([[User talk:New User Person#top|talk]]) 08:24, 1 October 2015 (UTC)\n",
      "\n",
      "\n",
      "\n",
      "== Blocked ==\n",
      "\n",
      "\n",
      "\n",
      "You appear to be here solely to express wrongteous anger and \"correct\" fact into conspiracist nonsense. This is obviously not your original or main account, you display far too much familiarity with process and the individuals with whom you are in dispute. If your original account is blocked, ask for unblock there. If it's not, use it. <b>[[User Talk:JzG|Guy]]</b> <small>([[User:JzG/help|Help!]])</small> 17:17, 2 October 2015 (UTC)\n",
      "\n",
      ":{{ping|JzG}} Am I missing something here? Most, if not all, of this user's contributions appear to be helpful, reverting vandalism and the like. I don't see any connection to contentious articles. [[User:Clpo13|clpo13]]<sub>([[User_talk:Clpo13|talk]])</sub> 17:45, 2 October 2015 (UTC)\n",
      "\n",
      ":: [https://en.wikipedia.org/w/index.php?title=Wikipedia:Village_pump_(policy)&diff=prev&oldid=682771891 Start here] and work both forwards and [https://en.wikipedia.org/w/index.php?title=User_talk:2602:304:CDC0:C1E0:40:ABDB:49A7:D90C&diff=prev&oldid=682756812 back]. This user is apparently a Truther. <b>[[User Talk:JzG|Guy]]</b> <small>([[User:JzG/help|Help!]])</small> 20:04, 2 October 2015 (UTC)\n",
      "\n",
      ":::Well, I stand corrected. Sneaky. [[User:Clpo13|clpo13]]<sub>([[User_talk:Clpo13|talk]])</sub> 22:48, 2 October 2015 (UTC)\n",
      "\n",
      "\n",
      "\n",
      "== Unblock Request ==\n",
      "\n",
      "{{unblock reviewed | 1=I've already made the mistake of trying to debate 9/11, and neutrality. As you can see hereUNIQ--nowiki-00000011-QINU1UNIQ--nowiki-00000012-QINU, I've already had another editor explain to me that new editors should contribute to non-polarized articles, before editing or debating such controversial debates. I took his advise, deciding to steer clear of any controversial articles until I felt I was ready, and had an ample understanding of WikipediaUNIQ--nowiki-00000014-QINU2UNIQ--nowiki-00000015-QINU. I have tried to debate with editors over five years ago as an anonymous IP, which is why I am familiar with a few of the editors, and the process of Wikipedia. I don't agree with the explanation of 9/11, that much is clear. Is that really a good enough reason to ban an editor? Especially if said blocked editor is trying '''not''' to get involved in controversial articles? It says per [[WP:BLOCKDETERRENT]] that blocks are not justifiable, particularly if the actions have ceased. It also states per [[WP:NNH]] that, \"Expressing unpopular opinions – even extremely unpopular opinions – in a non-disruptive manner\" is not a justifiable reason to block an editor per [[WP:!HERE]]. [[User:New User Person|New User Person]] ([[User talk:New User Person#top|talk]]) 03:38, 3 October 2015 (UTC) | decline = So, you tell us that you have \"tried to debate\" since more than five years ago, and yet in that time you have still not learnt to do any better than the time-wasting crap you have come up with while using this account. Thanks for that information, as it takes away any faint trace of doubt there might otherwise have been: if after five years you have not improved, you are not likely to suddenly improve if you are blocked now. It is perfectly clear that your purpose here is inconsistent with the aims of Wikipedia. If you don't like those aims, and wish to promote your personal view of what an encyclopaedia should be like, you can set up one of your own.  <small>''The editor who uses the pseudonym''</small> \"[[User:JamesBWatson|JamesBWatson]]\" ([[User talk:JamesBWatson#top|talk]]) 10:03, 3 October 2015 (UTC)}}\n",
      "\n",
      "\n",
      "\n",
      ":Well, it was worth trying. [[User:New User Person|New User Person]] ([[User talk:New User Person#top|talk]]) 16:33, 4 October 2015 (UTC)\n",
      "\n",
      "\n",
      "\n",
      "== Question for administrator ==\n",
      "\n",
      "{{Admin help-helped}}\n",
      "\n",
      "Based on the decline of my unblock request, in which I can understand his views, I'm curious if this means I'm not eligible for the standard offer. - [[User:New User Person|New User Person]] ([[User talk:New User Person#top|talk]]) 21:24, 8 October 2015 (UTC)\n",
      "\n",
      ":I see no reason why you should not be eligible for the [[WP:Standard offer]], but this is not a guarantee that you will be unblocked. Read its terms carefully, particularly #2; in six months, come back, read the terms again, read the [[WP:Guide to appealing blocks]], and make an unblock request. [[User:JohnCD|JohnCD]] ([[User talk:JohnCD|talk]]) 21:34, 8 October 2015 (UTC)\n",
      "\n",
      "::Thank you. [[User:New User Person|New User Person]] ([[User talk:New User Person#top|talk]]) 21:37, 8 October 2015 (UTC)\n",
      "\n",
      "\n",
      "\n",
      "== Unblock request #2 ==\n",
      "\n",
      "{{unblock reviewed| reason=I am requesting, once again, to be unblocked. I was wrong to try and force my views on anyone else, and using the 9/11 conspiracy theories page as a battleground. There is nobody else to blame, but myself. This is my only account, I never sockpuppeted with other created accounts, just wanted to point that out. Any edits that I mentioned above was done as an IP. If I am allowed to be unblock, I promise that I will\n",
      "\n",
      "\n",
      "\n",
      "1. Contribute to Wikipedia in a constructive manner by learning how to cite better, and make larger contributions to Wikipedia other than patrolling for vandalism.\n",
      "\n",
      "2. Stay '''away''' from any 'conspiracy theory'-related articles and/or any other polarizing debates. [[User:New User Person|New User Person]] ([[User talk:New User Person#top|talk]]) 09:32, 24 October 2015 (UTC)|decline=The standard offer specifies an absence of six months, not six days. --<font color=\"Red\">[[User:Anthony Bradbury|'''Anthony Bradbury''']]</font><sup><font color=\"Black\">[[User talk:Anthony.bradbury|\"talk\"]]</font></sup> 11:08, 24 October 2015 (UTC)}}\n",
      "\n",
      ":{{u|Anthony Bradbury}}, I only made this second unblock request because I feel that the block is no longer necessary. I ceased the actions that caused me to be blocked a week before the block was implemented. I obviously understand what I did wrong, and why it lead to my block. I'm asking, please, just give me another chance. I'm not even sure where you are getting 'six days' from, as it's been 16 days since I've been blocked. [[User:New User Person|New User Person]] ([[User talk:New User Person#top|talk]]) 19:26, 24 October 2015 (UTC)\n",
      "\n",
      "::Blocked on October 2nd, edited here on October 8th. --<font color=\"Red\">[[User:Anthony Bradbury|'''Anthony Bradbury''']]</font><sup><font color=\"Black\">[[User talk:Anthony.bradbury|\"talk\"]]</font></sup> 21:53, 24 October 2015 (UTC)\n",
      "\n",
      ":::Six days is correct, is it? It says here<ref>https://en.wikipedia.org/wiki/Category:Requests_for_unblock</ref> that the block was implemented 22 days ago. [[User:New User Person|New User Person]] ([[User talk:New User Person#top|talk]]) 22:30, 24 October 2015 (UTC)\n",
      "\n",
      "::::Yes. that was October 2nd. You edited here on October 8th. And your point is?--<font color=\"Red\">[[User:Anthony Bradbury|'''Anthony Bradbury''']]</font><sup><font color=\"Black\">[[User talk:Anthony.bradbury|\"talk\"]]</font></sup> 14:57, 25 October 2015 (UTC)\n",
      "\n",
      "\n",
      "\n",
      "== Unblock Request #3 ==\n",
      "\n",
      "\n",
      "\n",
      "{{unblock reviewed | 1=I am requesting, once again, to be unblocked. I was wrong to try and force my views on anyone else, and using the 9/11 conspiracy theories page as a battleground. There is nobody else to blame, but myself. This is my only account, I never sockpuppeted with other created accounts, just wanted to point that out. Any edits that I mentioned above was done as an IP. If I am allowed to be unblock, I promise that I will 1. Contribute to Wikipedia in a constructive manner by learning how to cite better, and make larger contributions to Wikipedia other than patrolling for vandalism. 2. Stay away from any 'conspiracy theory'-related articles and/or any other polarizing debates. Also, per [[WP:BLOCKDETERRENT]], it says \"For example, though it might have been justifiable to block an editor a short time ago, such a block may no longer be justifiable right now, particularly if the actions have since ceased or the conduct issues have been resolved.\" I am asking, once again, if my block can please be reviewed by an '''uninvolved, unbiased administrator''' who can see both sides of the coin of the situation, and make a determinable action based on the situation. So far I have seemed to get administators who take one glance at my unblock request, and deny it based on the fact that I've been labeled a 'truther'. I only say this because of the fact that my last unblock request was met with, \"Standard Policy entails six months, not six days. If that reviewing administrator '''read''' the logs, they would see that it was been 16 days since I was effectively blocked, not six. Yes, I did make a unnecessary ANI against [[User:Ian.Thomson|Ian.Thomson]], which was wrong of me to do. I only did so because I was beginning to feel cornered, however that does not make it right. I also want to take this time to apologize to [[User:Ian.Thomson|Ian.Thomson]] for that. I am sorry for that. You were not doing anything wrong, and it was wrong of me to single you out. It also says per [[WP:BP]] \"In general, once a matter has become \"cold\" and the risk of present disruption has clearly ended, reopening it by blocking retrospectively is usually not seen as appropriate.\" Seeing as my actions which caused me to be blocked has ceased, I'm not sure of the validity of this block. I have learned from my mistake, and I understand completely why my actions caused me to be banned. Per [[WP:NNH]], it states \"The community encompasses a very wide range of views. A user may believe a communal norm is too narrow or poorly approaches an issue, and take actions internally consistent with that viewpoint, such as advocating particular positions in discussions. Provided the user does so in an honest attempt to improve the encyclopedia, in a constructive manner, and assuming the user's actions are not themselves disruptive, such conversations form the genesis for improvement to Wikipedia.\", and \"Merely advocating changes to Wikipedia articles or policies, even if those changes are incompatible with Wikipedia's principles, is not the same as not being here to build an encyclopedia. The dissenting editor should take care to not violate Wikipedia policies and guidelines such as WP:SOAPBOX, WP:IDHT, and WP:CIVIL in the course of expressing unpopular opinions.\" I tried my hardest to convey my views of amending policies without being a disruption to Wikipedia, only to be met with hostility, and an eventual ban. My block says \"Not here to build an encyclopedia/obviously a truther sockpuppet that was been banned\", yet none of these accusation have been proven beyond a reasonable doubt that I am indeed a 'sockpuppet'. \"Obviously a 'truther', so that would mean that part of my block would have to do with the fact that I refuse to believe the official NIST report on 9/11? Before someone goes off on me about saying \"You are going back and forth, saying you understand why your views led to your block, yet saying it is unfair because you hold such views\", I understand that '''soapboxing''' my views about Wikipedia policy was not acceptable on the basis that I am a new user. I did not realize this while in the thick of it, it was only until it was explained to me hereUNIQ--nowiki-00000011-QINU1UNIQ--nowiki-00000012-QINU by [[User:Arnoutf|Arnoutf]] that an editor should spend some time on Wikipedia before debating it's policies. As you can see hereUNIQ--nowiki-00000014-QINU2UNIQ--nowiki-00000015-QINU once it was explained to me in terms that lacked an attitude, I ceased and desisted. I only say 'without an attitude' because other users felt that it was appropriate to say things such as 'get over it' 'you're wasting everyone's time, stop', and the like. So to sum this long-winded diatribe up, I am asking that my block request be reviewed by an '''uninvolved, unbiased''' administrator that won't just skim through my request, and immediately deny it on the basis that I am a 'truther'. I understand what I have done wrong, even though I did not understand this while I was committing the actions which led to my ban. If I am allowed a second chance on Wikipedia, I solemnly swear to 1. Stay '''away''' from any Wikipedia articles concerning polarizing subjects, pseudoscience, or conspiracy theories 2. Learn to make larger, acceptable contributions to Wikipedia articles to improve them, practice inline citations, and to contribute to Wikipedia in a fashion other than scanning for/reverting vandalism. [[User:New User Person|New User Person]] ([[User talk:New User Person#top|talk]]) 20:18, 24 October 2015 (UTC) | decline = [https://en.wikipedia.org/w/index.php?title=Wikipedia:Village_pump_(policy)&diff=prev&oldid=682771891 No]. We've dealt with enough truther crap to last several lifetimes.  <b>[[User:Ohnoitsjamie|OhNo<font color=\"#D47C14\">itsJamie</font>]] [[User talk:Ohnoitsjamie|<sup>Talk</sup>]]</b> 22:31, 24 October 2015 (UTC)}}\n",
      "\n",
      "\n",
      "\n",
      "Note: Sorry about the references, I'm still trying to figure out the text format for inline citations.\n",
      "\n",
      "\n",
      "\n",
      ":{{U|Ohnoitsjamie}}, I can see that you've denied my unblock request based solely on your stigma of 'truthers'. Not only is your response enough evidence of this, but if you '''actually bothered to read my unblock request, you would see the part where I said, \"1. Stay '''away''' from any Wikipedia articles concerning polarizing subjects, pseudoscience, or conspiracy theories\". [[User:New User Person|New User Person]] ([[User talk:New User Person#top|talk]]) 23:19, 24 October 2015 (UTC)\n",
      "\n",
      "\n",
      "\n",
      "== Unblock Request #4 ==\n",
      "\n",
      "\n",
      "\n",
      "{{unblock reviewed | 1=I am requesting, once again, to be unblocked. This will be my fourth attempt to have my block reviewed by an administrator that '''doesn't hold a stigma against 'truthers', and will review my unblock request fairly.''' I was wrong to try and force my views on anyone else, and using the 9/11 conspiracy theories page as a battleground. There is nobody else to blame, but myself. This is my only account, I never sockpuppeted with other created accounts, just wanted to point that out. Any edits that I mentioned above was done as an IP. If I am allowed to be unblock, I promise that I will 1. Contribute to Wikipedia in a constructive manner by learning how to cite better, and make larger contributions to Wikipedia other than patrolling for vandalism. 2. Stay away from any 'conspiracy theory'-related articles and/or any other polarizing debates. Also, per [[WP:BLOCKDETERRENT]], it says \"For example, though it might have been justifiable to block an editor a short time ago, such a block may no longer be justifiable right now, particularly if the actions have since ceased or the conduct issues have been resolved.\" I am asking, once again, if my block can please be reviewed by an '''uninvolved, unbiased administrator''' who can see both sides of the coin of the situation, and make a determinable action based on the situation. So far I have seemed to get administators who take one glance at my unblock request, and deny it based on the fact that I've been labeled a 'truther'. I only say this because of the fact that my last unblock request was met with, \"Standard Policy entails six months, not six days. If that reviewing administrator '''read''' the logs, they would see that it was been 16 days since I was effectively blocked, not six. Yes, I did make a unnecessary ANI against [[User:Ian.Thomson|Ian.Thomson]], which was wrong of me to do. I only did so because I was beginning to feel cornered, however that does not make it right. I also want to take this time to apologize to [[User:Ian.Thomson|Ian.Thomson]] for that. I am sorry for that. You were not doing anything wrong, and it was wrong of me to single you out. It also says per [[WP:BP]] \"In general, once a matter has become \"cold\" and the risk of present disruption has clearly ended, reopening it by blocking retrospectively is usually not seen as appropriate.\" Seeing as my actions which caused me to be blocked has ceased, I'm not sure of the validity of this block. I have learned from my mistake, and I understand completely why my actions caused me to be banned. Per [[WP:NNH]], it states \"The community encompasses a very wide range of views. A user may believe a communal norm is too narrow or poorly approaches an issue, and take actions internally consistent with that viewpoint, such as advocating particular positions in discussions. Provided the user does so in an honest attempt to improve the encyclopedia, in a constructive manner, and assuming the user's actions are not themselves disruptive, such conversations form the genesis for improvement to Wikipedia.\", and \"Merely advocating changes to Wikipedia articles or policies, even if those changes are incompatible with Wikipedia's principles, is not the same as not being here to build an encyclopedia. The dissenting editor should take care to not violate Wikipedia policies and guidelines such as WP:SOAPBOX, WP:IDHT, and WP:CIVIL in the course of expressing unpopular opinions.\" I tried my hardest to convey my views of amending policies without being a disruption to Wikipedia, only to be met with hostility, and an eventual ban. My block says \"Not here to build an encyclopedia/obviously a truther sockpuppet that was been banned\", yet none of these accusation have been proven beyond a reasonable doubt that I am indeed a 'sockpuppet'. \"Obviously a 'truther', so that would mean that part of my block would have to do with the fact that I refuse to believe the official NIST report on 9/11? Before someone goes off on me about saying \"You are going back and forth, saying you understand why your views led to your block, yet saying it is unfair because you hold such views\", I understand that '''soapboxing''' my views about Wikipedia policy was not acceptable on the basis that I am a new user. I did not realize this while in the thick of it, it was only until it was explained to me hereUNIQ--nowiki-00000015-QINU2UNIQ--nowiki-00000016-QINU by [[User:Arnoutf|Arnoutf]] that an editor should spend some time on Wikipedia before debating it's policies. As you can see hereUNIQ--nowiki-00000018-QINU3UNIQ--nowiki-00000019-QINU once it was explained to me in terms that lacked an attitude, I ceased and desisted. So to sum this long-winded diatribe up, I am asking that my block request be reviewed by an '''uninvolved, unbiased''' administrator that won't just skim through my request, and immediately deny it on the basis that I am a 'truther'. I understand what I have done wrong, even though I did not understand this while I was committing the actions which led to my ban. If I am allowed a second chance on Wikipedia, I solemnly swear to 1. Stay '''away''' from any Wikipedia articles concerning polarizing subjects, pseudoscience, or conspiracy theories 2. Learn to make larger, acceptable contributions to Wikipedia articles to improve them, practice inline citations, and to contribute to Wikipedia in a fashion other than scanning for/reverting vandalism. [[User:New User Person|New User Person]] ([[User talk:New User Person#top|talk]]) 20:18, 24 October 2015 (UTC) | decline = Considering that you recently went on a vandalism spree using IPs, your intent to disrupt is quite clear. [[User:Elockid|<span style=\"font-family:Chiller;font-size:110%;font-weight:bold;color:#8B0000\">Elockid</span>]]<sup style=\"font-family:Chiller;\">([[User talk:Elockid|<span style=\"color:#B22222\">BOO!</span>]])</sup> 23:21, 24 October 2015 (UTC)}}\n",
      "\n",
      "\n",
      "\n",
      "NUP, I think you got a bad rap, but you're not going to get anywhere with these unblock requests so soon after being blocked and having previous unblock requests denied. Take the advice of the [[Wikipedia:Standard offer|Standard offer]] and wait a few months. [[User:Clpo13|clpo13]]<sub>([[User_talk:Clpo13|talk]])</sub> 23:17, 24 October 2015 (UTC)\n",
      "\n",
      ":{{U|Clpo13}} Yeah, I can see that. Thank you for your level-headed response, seeing as nobody else can see past the perception of stigmas. I was just under the impression that if I feel a block is no longer warranted, or is unjustified, it was my duty to bring it to attention. Seeing as this block was implemented a week after I ceased the actions that led to the block, and how I've stated time in, and time again how I can and will rectify the problem, the block is no longer justifiable. I only reposted my unblock requests because of the fact that I keep getting stigmatized responses such as \"We've had enough of your 'truther' nonsense\". I am asking that an '''unbiased, uninvolved''' administrator review my block. Not one that is going to give me preloaded stigmatized responses such as the ones above. [[User:New User Person|New User Person]] ([[User talk:New User Person#top|talk]]) 23:24, 24 October 2015 (UTC)\n",
      "\n",
      "::{{U|Elockid}}, is that so? Why do I not remember committing such vandalism? Has it occurred to you that whoever was causing the vandalism was using an the same ISP as myself? [[User:New User Person|New User Person]] ([[User talk:New User Person#top|talk]]) 23:31, 24 October 2015 (UTC)\n",
      "\n",
      ":::Try another excuse. The only thing that could possibly be shared about the IPs committing the vandalism is within one's own household. In which case [[WP:BROTHER]] would apply to who could possibly be committing the vandalism. [[User:Elockid|<span style=\"font-family:Chiller;font-size:110%;font-weight:bold;color:#8B0000\">Elockid</span>]]<sup style=\"font-family:Chiller;\">([[User talk:Elockid|<span style=\"color:#B22222\">BOO!</span>]])</sup> 23:45, 24 October 2015 (UTC)\n",
      "\n",
      "::::So obviously it hasn't occurred to you that my IP could have migrated? Please don't tell me it's impossible, because it's not. There are multiple ways that an IP address (v4 and v6) can change or migrate, be it by direct intervention, or not. IP addressed change and move all the time, and they never stay allocated to one location<ref>https://en.wikipedia.org/wiki/IPv6#Mobility</ref>. [[User:New User Person|New User Person]] ([[User talk:New User Person#top|talk]]) 00:05, 25 October 2015 (UTC)\n",
      "\n",
      "\n",
      "\n",
      "== Talk page access revoked ==\n",
      "\n",
      "\n",
      "\n",
      "You don't get unlimited unblock requests, there are other people out there who need admin time. You have made 4 unblock requests, 3 just today. Further appeals can be done through [[WP:UTRS]]. [[User talk:HighInBC|<b style=\"color:SaddleBrown\">HighInBC</b>]] 00:12, 25 October 2015 (UTC)\n",
      "\n"
     ]
    }
   ],
   "source": [
    "for line in ex:\n",
    "    print(line)"
   ]
  },
  {
   "cell_type": "code",
   "execution_count": 7,
   "id": "73e3cc4b",
   "metadata": {},
   "outputs": [],
   "source": [
    "ex = open(\"talk_samples/user/687428034.txt\")\n",
    "parsed_ex = wc.parse(ex)"
   ]
  },
  {
   "cell_type": "markdown",
   "id": "c7b74626",
   "metadata": {},
   "source": [
    "wc.parse() produces a dictionary with a single key \"sections\" which is a list of sections:"
   ]
  },
  {
   "cell_type": "code",
   "execution_count": 8,
   "id": "5a81e663",
   "metadata": {},
   "outputs": [
    {
     "name": "stdout",
     "output_type": "stream",
     "text": [
      "sections\n"
     ]
    }
   ],
   "source": [
    "for k in parsed_ex:\n",
    "    print(k)"
   ]
  },
  {
   "cell_type": "code",
   "execution_count": 9,
   "id": "6a8463d2",
   "metadata": {},
   "outputs": [
    {
     "data": {
      "text/plain": [
       "list"
      ]
     },
     "execution_count": 9,
     "metadata": {},
     "output_type": "execute_result"
    }
   ],
   "source": [
    "type(parsed_ex[\"sections\"])"
   ]
  },
  {
   "cell_type": "code",
   "execution_count": 10,
   "id": "dddbc97b",
   "metadata": {},
   "outputs": [
    {
     "name": "stdout",
     "output_type": "stream",
     "text": [
      "Parsed 19 sections\n",
      "Expected: Parsed 19 sections\n"
     ]
    }
   ],
   "source": [
    "print(\"Parsed {} sections\".format(len(parsed_ex[\"sections\"])))\n",
    "print(\"Expected: Parsed 19 sections\")"
   ]
  },
  {
   "cell_type": "markdown",
   "id": "547b17cc",
   "metadata": {},
   "source": [
    "Each section is a dictionary consisting of subsections and comments (and heading, if it exists):"
   ]
  },
  {
   "cell_type": "code",
   "execution_count": 11,
   "id": "6a901211",
   "metadata": {},
   "outputs": [
    {
     "name": "stdout",
     "output_type": "stream",
     "text": [
      "Parsed fields for first section:\n",
      "subsections\n",
      "comments\n",
      "\n",
      "Expected:\n",
      "subsections\n",
      "comments\n"
     ]
    }
   ],
   "source": [
    "print(\"Parsed fields for first section:\")\n",
    "for k in parsed_ex[\"sections\"][0]:\n",
    "    print(k)\n",
    "    \n",
    "print()\n",
    "print(\"Expected:\\nsubsections\\ncomments\")"
   ]
  },
  {
   "cell_type": "markdown",
   "id": "dbf20491",
   "metadata": {},
   "source": [
    "this first section has no subsections:"
   ]
  },
  {
   "cell_type": "code",
   "execution_count": 12,
   "id": "219c375f",
   "metadata": {},
   "outputs": [
    {
     "name": "stdout",
     "output_type": "stream",
     "text": [
      "Parsed subsections:\n",
      "[]\n",
      "\n",
      "Expected:\n",
      " []\n"
     ]
    }
   ],
   "source": [
    "print(\"Parsed subsections:\")\n",
    "print(parsed_ex[\"sections\"][0][\"subsections\"])\n",
    "\n",
    "print()\n",
    "\n",
    "print(\"Expected:\\n\", [])"
   ]
  },
  {
   "cell_type": "markdown",
   "id": "6de0cb46",
   "metadata": {},
   "source": [
    "The first section does have 1 comment. \n",
    "\n",
    "Comments have the following fields:\n",
    "- \"text_blocks\": text of the comment\n",
    "- \"comments\": comments on this comment\n",
    "- \"cosigners\":"
   ]
  },
  {
   "cell_type": "code",
   "execution_count": 16,
   "id": "4c087b07",
   "metadata": {},
   "outputs": [
    {
     "name": "stdout",
     "output_type": "stream",
     "text": [
      "Parsed comment:\n",
      "[{'text_blocks': ['This user is blocked...\\n', '\\n'], 'comments': [], 'cosigners': []}]\n",
      "\n",
      "Expected comment text: This user is blocked...\n"
     ]
    }
   ],
   "source": [
    "print(\"Parsed comment:\")\n",
    "print(parsed_ex[\"sections\"][0][\"comments\"])\n",
    "\n",
    "print()\n",
    "print(\"Expected comment text: This user is blocked...\")"
   ]
  },
  {
   "cell_type": "markdown",
   "id": "dc962725",
   "metadata": {},
   "source": [
    "However, the second section has 2 comments parsed. \n",
    "\n",
    "But the second comment seems to be empty. \n",
    "\n",
    "*Important*: filter such empty comments when parsing.\n",
    "\n",
    "An author and timestamp are also parsed for this comment."
   ]
  },
  {
   "cell_type": "code",
   "execution_count": 17,
   "id": "526ea359",
   "metadata": {},
   "outputs": [
    {
     "name": "stdout",
     "output_type": "stream",
     "text": [
      "{'text_blocks': ['== Welcome! ==\\n', 'Hello, New User Person, and welcome to Wikipedia! Thank you for [[Special:Contributions/New User Person|your contributions]]. I hope you like the place and decide to stay. Here are a few links to pages you might find helpful:\\n', '* [[Wikipedia:Introduction|Introduction]] and [[Help:Getting started|Getting started]]\\n', '* [[Wikipedia:Contributing to Wikipedia|Contributing to Wikipedia]]\\n', '* [[Wikipedia:Five pillars|The five pillars of Wikipedia]]\\n', '* [[Help:Editing|How to edit a page]] and [[Wikipedia:Article development|How to develop articles]]\\n', '* [[Wikipedia:Your first article|How to create your first article]]\\n', '* [[Wikipedia:Simplified Manual of Style|Simplified Manual of Style]]\\n', '\\n', 'You may also want to take the [[Wikipedia:The Wikipedia Adventure|Wikipedia Adventure]], an interactive tour that will help you learn the basics of editing Wikipedia. You can visit [[WP:Teahouse|The Teahouse]] to ask questions or seek help.\\n', '\\n', 'Please remember to [[Wikipedia:Signatures|sign]] your messages on [[Help:Using talk pages|talk page]]s by typing four [[tilde]]s (<nowiki>~~~~</nowiki>); this will automatically insert your username and the date. If you need help, check out [[Wikipedia:Questions]], ask me on my talk page, or {{edit|Special:MyTalk|click here|section=new|preload=Help:Contents/helpmepreload|preloadtitle=Help me!}} to ask for help on your talk page, and a volunteer should respond shortly. Again, welcome! <!-- Template:Welcome --> [[User:Johnuniq|Johnuniq]] ([[User talk:Johnuniq|talk]]) 22:57, 25 September 2015 (UTC)\\n'], 'comments': [], 'cosigners': [], 'author': 'Johnuniq', 'time_stamp': '22:57, 25 September 2015 (UTC)'}\n",
      "{'text_blocks': ['\\n'], 'comments': [], 'cosigners': []}\n"
     ]
    }
   ],
   "source": [
    "for comment in parsed_ex[\"sections\"][1][\"comments\"]:\n",
    "    print(comment)"
   ]
  },
  {
   "cell_type": "markdown",
   "id": "406ce05e",
   "metadata": {},
   "source": [
    "There are 12 text blocks in the first and only comment of the second section.\n",
    "\n",
    "Each text block correspond to a paragraph/list item/other carriage-return demarcated chunk of text:"
   ]
  },
  {
   "cell_type": "code",
   "execution_count": 18,
   "id": "653030ad",
   "metadata": {},
   "outputs": [
    {
     "data": {
      "text/plain": [
       "12"
      ]
     },
     "execution_count": 18,
     "metadata": {},
     "output_type": "execute_result"
    }
   ],
   "source": [
    "len(parsed_ex[\"sections\"][1][\"comments\"][0][\"text_blocks\"])"
   ]
  },
  {
   "cell_type": "code",
   "execution_count": 19,
   "id": "3b4342c3",
   "metadata": {},
   "outputs": [
    {
     "name": "stdout",
     "output_type": "stream",
     "text": [
      "== Welcome! ==\n",
      "\n",
      "Hello, New User Person, and welcome to Wikipedia! Thank you for [[Special:Contributions/New User Person|your contributions]]. I hope you like the place and decide to stay. Here are a few links to pages you might find helpful:\n",
      "\n",
      "* [[Wikipedia:Introduction|Introduction]] and [[Help:Getting started|Getting started]]\n",
      "\n",
      "* [[Wikipedia:Contributing to Wikipedia|Contributing to Wikipedia]]\n",
      "\n",
      "* [[Wikipedia:Five pillars|The five pillars of Wikipedia]]\n",
      "\n",
      "* [[Help:Editing|How to edit a page]] and [[Wikipedia:Article development|How to develop articles]]\n",
      "\n",
      "* [[Wikipedia:Your first article|How to create your first article]]\n",
      "\n",
      "* [[Wikipedia:Simplified Manual of Style|Simplified Manual of Style]]\n",
      "\n",
      "\n",
      "\n",
      "You may also want to take the [[Wikipedia:The Wikipedia Adventure|Wikipedia Adventure]], an interactive tour that will help you learn the basics of editing Wikipedia. You can visit [[WP:Teahouse|The Teahouse]] to ask questions or seek help.\n",
      "\n",
      "\n",
      "\n",
      "Please remember to [[Wikipedia:Signatures|sign]] your messages on [[Help:Using talk pages|talk page]]s by typing four [[tilde]]s (<nowiki>~~~~</nowiki>); this will automatically insert your username and the date. If you need help, check out [[Wikipedia:Questions]], ask me on my talk page, or {{edit|Special:MyTalk|click here|section=new|preload=Help:Contents/helpmepreload|preloadtitle=Help me!}} to ask for help on your talk page, and a volunteer should respond shortly. Again, welcome! <!-- Template:Welcome --> [[User:Johnuniq|Johnuniq]] ([[User talk:Johnuniq|talk]]) 22:57, 25 September 2015 (UTC)\n",
      "\n"
     ]
    }
   ],
   "source": [
    "for tb in parsed_ex[\"sections\"][1][\"comments\"][0][\"text_blocks\"]:\n",
    "    print(tb)"
   ]
  },
  {
   "cell_type": "code",
   "execution_count": 20,
   "id": "cc14e761",
   "metadata": {},
   "outputs": [
    {
     "data": {
      "text/plain": [
       "[]"
      ]
     },
     "execution_count": 20,
     "metadata": {},
     "output_type": "execute_result"
    }
   ],
   "source": [
    "parsed_ex[\"sections\"][1][\"comments\"][0][\"comments\"]"
   ]
  },
  {
   "cell_type": "markdown",
   "id": "a7b97815",
   "metadata": {},
   "source": [
    "The fourth section demonstrates hierarchical structure (comments can have comments on them):\n",
    "https://github.com/emlinking/python-mwchatter/blob/master/talk_samples/user/687428034.txt"
   ]
  },
  {
   "cell_type": "code",
   "execution_count": 21,
   "id": "cb170698",
   "metadata": {
    "scrolled": true
   },
   "outputs": [
    {
     "data": {
      "text/plain": [
       "{'subsections': [],\n",
       " 'comments': [{'text_blocks': ['== Wikipedia:Village pump (policy) ==\\n',\n",
       "    'The [[Wikipedia:Village pump (policy)]] page is to discuss policy related issues, and should not be used to revive long-resolved 9/11 issues. If there is a new issue, please raise it at [[WP:FTN]] with a succinct comment, not a wall of text. [[User:Johnuniq|Johnuniq]] ([[User talk:Johnuniq|talk]]) 23:00, 25 September 2015 (UTC)\\n'],\n",
       "   'comments': [{'text_blocks': [\":I see you didn't even bother to read the title of the section I posted. Otherwise you would realize that the subject of my post was a policy issue. [[User:New User Person|New User Person]] ([[User talk:New User Person#top|talk]]) 23:10, 25 September 2015 (UTC)\\n\"],\n",
       "     'comments': [{'text_blocks': ['\\n',\n",
       "        '::Dress it up however you like, you are clearly arguing for undue weight for a fringe theory. [[User talk:HighInBC|<b style=\"color:SaddleBrown\">HighInBC</b>]] <small><small><sup>(was Chillum)</sup></small></small> 03:25, 26 September 2015 (UTC)\\n'],\n",
       "       'comments': [],\n",
       "       'cosigners': [],\n",
       "       'author': 'HighInBC',\n",
       "       'time_stamp': '03:25, 26 September 2015 (UTC)'}],\n",
       "     'cosigners': [],\n",
       "     'author': 'New User Person',\n",
       "     'time_stamp': '23:10, 25 September 2015 (UTC)'}],\n",
       "   'cosigners': [],\n",
       "   'author': 'Johnuniq',\n",
       "   'time_stamp': '23:00, 25 September 2015 (UTC)'},\n",
       "  {'text_blocks': ['\\n',\n",
       "    '@New User Person: Did you see the reply at [[Wikipedia talk:Arbitration/Requests#Semi-protected edit request on 25 September 2015]]? You should be able to make a request if wanted, but my suggestion would be prepare a draft of what you want to say first. You could create [[User:New User Person/sandbox]] which is your standard sandbox with points that you intend to raise. However, if it concerns any aspect of [[September 11, 2001 attacks]], please review the [[WP:ARB911|previous case]] first. The first few paragraphs there have links to the evidence, workshop, and proposed decision pages. The findings there seem innocuous and might be hard for a new editor to interpret since they appear to say nothing more than the obvious fact that everyone should be nice. However, that is standard wording, and what it really means is that people do not have to repeat old arguments—instead, a quick consensus can agree on whether a proposed change is desirable, and anyone attempting to override established procedures would be subject to sanctions. The discussion at [[Wikipedia:Village pump (policy)#This page (9/11 conspiracy theories) violates the Wikipedia Five Pillars]] will not lead to anything because there is no actionable proposal that I can see. Instead, if some change were wanted, say at [[9/11 conspiracy theories]], a proposal should be made at its talk page. Disagreements about sources are discussed at [[WP:RSN]], and disagreements about what is neutral are discussed at [[WP:NPOVN]]. Question about the treatment of something claimed to be a conspiracy theory should be at [[WP:FTN]]. [[User:Johnuniq|Johnuniq]] ([[User talk:Johnuniq|talk]]) 03:42, 26 September 2015 (UTC)\\n'],\n",
       "   'comments': [{'text_blocks': [\":There are '''no''' comments as such on the mentioned arbitration page above. Also, I have already tried to add this discussion to the 9/11 conspiracies talk page, but it was erased by a Wikipedia user there that feels his opinion has a higher validity than my own. I know I didn't mention that earlier, but trust me, I tried. This conversation isn't only related to the 9/11 conspiracies page, per se. I only used the 9/11 conspiracies page to make the basis of my point. The same exact point could be made off of a basis of Project Echelon, Project MK-Ultra, and the assassination of John F. Kennedy. [[User:New User Person|New User Person]] ([[User talk:New User Person#top|talk]]) 03:49, 26 September 2015 (UTC)\\n\"],\n",
       "     'comments': [{'text_blocks': ['::I see there were some recent edits at [[Talk:9/11 conspiracy theories]] where a very long post from three years ago was copied from the archive to talk, followed by another non-actionable comment. Suppose that instead of removing the text, other editors had said, \"yes, I fully agree\"—that would be pointless because what is needed is agreement about a proposal to change text in the article. It\\'s only changes to articles that matter. The editors joining in at Village pump (policy) should know that the discussion is pointless, but a certain amount of shooting the breeze is reasonable on the village pump pages. [[User:Johnuniq|Johnuniq]] ([[User talk:Johnuniq|talk]]) 06:33, 26 September 2015 (UTC)\\n'],\n",
       "       'comments': [],\n",
       "       'cosigners': [],\n",
       "       'author': 'Johnuniq',\n",
       "       'time_stamp': '06:33, 26 September 2015 (UTC)'}],\n",
       "     'cosigners': [],\n",
       "     'author': 'New User Person',\n",
       "     'time_stamp': '03:49, 26 September 2015 (UTC)'}],\n",
       "   'cosigners': [],\n",
       "   'author': 'Johnuniq',\n",
       "   'time_stamp': '03:42, 26 September 2015 (UTC)'},\n",
       "  {'text_blocks': ['\\n'], 'comments': [], 'cosigners': []}],\n",
       " 'heading': ' Wikipedia:Village pump (policy) '}"
      ]
     },
     "execution_count": 21,
     "metadata": {},
     "output_type": "execute_result"
    }
   ],
   "source": [
    "parsed_ex[\"sections\"][3]"
   ]
  },
  {
   "cell_type": "code",
   "execution_count": 22,
   "id": "3c5f7d1f",
   "metadata": {},
   "outputs": [
    {
     "data": {
      "text/plain": [
       "['== Wikipedia:Village pump (policy) ==\\n',\n",
       " 'The [[Wikipedia:Village pump (policy)]] page is to discuss policy related issues, and should not be used to revive long-resolved 9/11 issues. If there is a new issue, please raise it at [[WP:FTN]] with a succinct comment, not a wall of text. [[User:Johnuniq|Johnuniq]] ([[User talk:Johnuniq|talk]]) 23:00, 25 September 2015 (UTC)\\n']"
      ]
     },
     "execution_count": 22,
     "metadata": {},
     "output_type": "execute_result"
    }
   ],
   "source": [
    "parsed_ex[\"sections\"][3][\"comments\"][0][\"text_blocks\"]"
   ]
  },
  {
   "cell_type": "code",
   "execution_count": 23,
   "id": "da866a88",
   "metadata": {},
   "outputs": [
    {
     "data": {
      "text/plain": [
       "'Johnuniq'"
      ]
     },
     "execution_count": 23,
     "metadata": {},
     "output_type": "execute_result"
    }
   ],
   "source": [
    "parsed_ex[\"sections\"][3][\"comments\"][0][\"author\"]"
   ]
  },
  {
   "cell_type": "code",
   "execution_count": 24,
   "id": "e6cc6659",
   "metadata": {},
   "outputs": [
    {
     "data": {
      "text/plain": [
       "'23:00, 25 September 2015 (UTC)'"
      ]
     },
     "execution_count": 24,
     "metadata": {},
     "output_type": "execute_result"
    }
   ],
   "source": [
    "parsed_ex[\"sections\"][3][\"comments\"][0][\"time_stamp\"]"
   ]
  },
  {
   "cell_type": "code",
   "execution_count": 25,
   "id": "88c43699",
   "metadata": {},
   "outputs": [
    {
     "name": "stdout",
     "output_type": "stream",
     "text": [
      "subsections\n",
      "comments\n",
      "heading\n"
     ]
    }
   ],
   "source": [
    "for k in parsed_ex[\"sections\"][3]:\n",
    "    print(k)"
   ]
  },
  {
   "cell_type": "markdown",
   "id": "d2cce7e2",
   "metadata": {},
   "source": [
    "# Chinese Example\n",
    "\n",
    "https://zh.wikipedia.org/wiki/User_talk:Brooke_Vibber"
   ]
  },
  {
   "cell_type": "code",
   "execution_count": 18,
   "id": "56721aaf",
   "metadata": {},
   "outputs": [
    {
     "ename": "FileNotFoundError",
     "evalue": "[Errno 2] No such file or directory: '/shared/0/projects/code-switching/zhwiki/zhwiki-20240401-pages-meta-history/zhwiki-20240401-pages-meta-history1.xml-p1p2289'",
     "output_type": "error",
     "traceback": [
      "\u001b[0;31m---------------------------------------------------------------------------\u001b[0m",
      "\u001b[0;31mFileNotFoundError\u001b[0m                         Traceback (most recent call last)",
      "Cell \u001b[0;32mIn[18], line 1\u001b[0m\n\u001b[0;32m----> 1\u001b[0m dump \u001b[38;5;241m=\u001b[39m mwxml\u001b[38;5;241m.\u001b[39mDump\u001b[38;5;241m.\u001b[39mfrom_file(\u001b[38;5;28mopen\u001b[39m(\u001b[38;5;124m\"\u001b[39m\u001b[38;5;132;01m{}\u001b[39;00m\u001b[38;5;124mzhwiki-20240401-pages-meta-history1.xml-p1p2289\u001b[39m\u001b[38;5;124m\"\u001b[39m\u001b[38;5;241m.\u001b[39mformat(ZHWIKI)))\n",
      "File \u001b[0;32m/opt/anaconda/lib/python3.11/site-packages/IPython/core/interactiveshell.py:286\u001b[0m, in \u001b[0;36m_modified_open\u001b[0;34m(file, *args, **kwargs)\u001b[0m\n\u001b[1;32m    279\u001b[0m \u001b[38;5;28;01mif\u001b[39;00m file \u001b[38;5;129;01min\u001b[39;00m {\u001b[38;5;241m0\u001b[39m, \u001b[38;5;241m1\u001b[39m, \u001b[38;5;241m2\u001b[39m}:\n\u001b[1;32m    280\u001b[0m     \u001b[38;5;28;01mraise\u001b[39;00m \u001b[38;5;167;01mValueError\u001b[39;00m(\n\u001b[1;32m    281\u001b[0m         \u001b[38;5;124mf\u001b[39m\u001b[38;5;124m\"\u001b[39m\u001b[38;5;124mIPython won\u001b[39m\u001b[38;5;124m'\u001b[39m\u001b[38;5;124mt let you open fd=\u001b[39m\u001b[38;5;132;01m{\u001b[39;00mfile\u001b[38;5;132;01m}\u001b[39;00m\u001b[38;5;124m by default \u001b[39m\u001b[38;5;124m\"\u001b[39m\n\u001b[1;32m    282\u001b[0m         \u001b[38;5;124m\"\u001b[39m\u001b[38;5;124mas it is likely to crash IPython. If you know what you are doing, \u001b[39m\u001b[38;5;124m\"\u001b[39m\n\u001b[1;32m    283\u001b[0m         \u001b[38;5;124m\"\u001b[39m\u001b[38;5;124myou can use builtins\u001b[39m\u001b[38;5;124m'\u001b[39m\u001b[38;5;124m open.\u001b[39m\u001b[38;5;124m\"\u001b[39m\n\u001b[1;32m    284\u001b[0m     )\n\u001b[0;32m--> 286\u001b[0m \u001b[38;5;28;01mreturn\u001b[39;00m io_open(file, \u001b[38;5;241m*\u001b[39margs, \u001b[38;5;241m*\u001b[39m\u001b[38;5;241m*\u001b[39mkwargs)\n",
      "\u001b[0;31mFileNotFoundError\u001b[0m: [Errno 2] No such file or directory: '/shared/0/projects/code-switching/zhwiki/zhwiki-20240401-pages-meta-history/zhwiki-20240401-pages-meta-history1.xml-p1p2289'"
     ]
    }
   ],
   "source": [
    "dump = mwxml.Dump.from_file(open(\"{}zhwiki-20240401-pages-meta-history1.xml-p1p2289\".format(ZHWIKI)))"
   ]
  },
  {
   "cell_type": "code",
   "execution_count": 19,
   "id": "c9fb6da1",
   "metadata": {},
   "outputs": [],
   "source": [
    "ch_ex = None\n",
    "for page in dump:\n",
    "    if page.namespace in {1,3}:\n",
    "        ch_ex = page\n",
    "        break"
   ]
  },
  {
   "cell_type": "code",
   "execution_count": 28,
   "id": "85e71c33",
   "metadata": {},
   "outputs": [
    {
     "data": {
      "text/plain": [
       "Page(id=10, title='Brooke Vibber', namespace=3, redirect=None, restrictions=[])"
      ]
     },
     "execution_count": 28,
     "metadata": {},
     "output_type": "execute_result"
    }
   ],
   "source": [
    "page"
   ]
  },
  {
   "cell_type": "code",
   "execution_count": 29,
   "id": "5f08489a",
   "metadata": {},
   "outputs": [],
   "source": [
    "# grab last revision\n",
    "revision = None\n",
    "for revision in page:\n",
    "    pass"
   ]
  },
  {
   "cell_type": "code",
   "execution_count": 30,
   "id": "e6d465bc",
   "metadata": {},
   "outputs": [
    {
     "data": {
      "text/plain": [
       "Revision(id=80845354, timestamp=Timestamp('2024-02-08T23:46:55Z'), user=User(id=3200198, text='Ingenuity'), page=Page(id=10, title='Brooke Vibber', namespace=3, redirect=None, restrictions=[]), minor=True, comment='Ingenuity移动页面[[User talk:Brion VIBBER]]至[[User talk:Brooke Vibber]]：\\u200b当重命名用户“[[Special:CentralAuth/Brion VIBBER|Brion VIBBER]]”至“[[Special:CentralAuth/Brooke Vibber|Brooke Vibber]]”时自动移动页面', text='<div style=\"width: 100%; margin: 0.2em 0; padding: 0.3em 0; border-top: 1px solid #ddd; border-bottom: 1px solid #ddd; font-size: 120%;\">\\'\\'\\'您好，Brion VIBBER！[[Wikipedia:欢迎，新来者|欢迎]]加入维基百科！\\'\\'\\'</div>\\n感謝您對維基百科的興趣與貢獻，希望您會喜歡這裡。除了\\'\\'\\'[[Wikipedia:欢迎，新来者|歡迎辭]]\\'\\'\\'外，也請您了解以下重要文章：\\n{| style=\"background: transparent; border-top: 1px solid #ddd; border-bottom: 1px solid #ddd; border-collpase: collapse;\" \\n|- style=\"vertical-align: top;\"\\n| style=\"background: #f4f4f4; padding: .8em .2em;\" | [[Image:Nuvola apps korganizer.png|35px|left|政策]]\\n<div style=\"margin-left: 45px;\">\\'\\'\\'[[Wikipedia:五大支柱|五大支柱]]\\'\\'\\'<br /><small>[[Wikipedia:不适合维基百科的文章|百科]]、[[Wikipedia:中性的观点|中立]]、[[Wikipedia:简明版权信息|开放]]、[[Wikipedia:文明|互重]]、[[Wikipedia:忽略所有规则|勇於改善]]</small></div>\\n| style=\"background: #faf1df; padding: .8em .2em;\" | [[Image:Nuvola apps emacs.png|45px|left|GNU]]\\n<div style=\"margin-left: 55px;\">\\'\\'\\'[[Wikipedia:版权常见问题解答|版權問題解答]]\\'\\'\\'<br /><small>貢獻內容必须是<u>您所著或獲得授權</u>、<br>同意在[[Wikipedia:版权信息|GFDL]]條款下發布</small></div>\\n| style=\"background: #f4f4f4; padding: .8em .2em;\" | [[Image:Postscript-viewer.svg|35px|left|手冊]]\\n<div style=\"margin-left: 45px;\">\\'\\'\\'[[Wikipedia:使用指南|使用指南]]\\'\\'\\'<br /><small>[[help:如何访问维基百科|安全访问]]  / [[Wikipedia:沙盒|測試編輯]]  / [[Wikipedia:如何编辑页面|如何编辑]] <br> [[Help:目录|使用手册]] / [[Help:中文维基百科的繁简处理|繁简处理]] / [[Wikipedia:如何写出非常好的条目|寫個好條目]]</small></div>\\n|-\\n| colspan=\"3\" style=\"border-top: 1px solid #ddd; padding-top: .3em;\" | [[Image:Icon apps query.svg|18px|left|問號]]\\'\\'\\'有问题？\\'\\'\\'請到\\'\\'\\'[[Wikipedia:互助客栈|互助客栈]]\\'\\'\\'询问，或在我的对话页提出。別忘記：討論後要[[Wikipedia:在讨论页上签名|\\'\\'\\'簽名\\'\\'\\']]，方式之一是留下4個波浪紋「<nowiki>~~~~</nowiki>」。<div lang=\"en\" style=\"font-style: italic; font-size: 90%;\">If you have any questions about the Chinese Wikipedia, please leave a message [[Wikipedia talk:Guestbook for non-Chinese-speakers|\\'\\'here\\'\\']]. Thank you for visiting!</div>\\n|}\\n*在中文維基裡，[[間隔號]]的輸入比較特別，詳參[[Help:如何輸入間隔號]]。\\n*希望您能享受编写人類共有之自由百科的快乐，成为一名快樂的[[Wikipedia:维基百科人|维基百科人]]。\\n<span style=\"display:none\"></span>--<big>[[User:A10323nnn|nnn]]‧[[User talk:A10323nnn|分區討論]]‧[[Special:用戶貢獻/A10323nnn|做左咩?]]</big> 2011年5月22日 (日) 04:24 (UTC)\\n\\n\\'\\'Note; I don\\'t keep track of this page as often as on my [http://eo.wikipedia.org/wiki/Vikipediista_diskuto:Brion_VIBBER Esperanto], [http://www.wikipedia.org/wiki/User_talk:Brion_VIBBER English], or [http://fr.wikipedia.org/wiki/Discussion_Utilisateur:Brion_VIBBER French] user talk pages. Be sure to leave a note on one of them pointing at any important updates here.\\'\\'\\n\\n----\\n\\nHi Brion. Interested as I am in the page statistics for the International wikis, I couldn\\'t help but notice that according to the [[Special:Statistics]] page the Chinese wiki is now by far the largest wiki in the world, with a whopping 18,446,744,073,709,551,615 valid pages! Too bad I can\\'t read Chinese ;) -Scipius\\n\\n----\\n\\nHi Brion.\\n\\nI have some suggestions to the Chinese wikipedia:\\n\\n1. It is preferred to maintain a single version for Chinese language. Instead of a simplified version as well as a Formal Chinese version. There are possible to maintain a Formal Chinese version, but add the necessary translation module to the system which automatically translate the Formal Chinese version to the simplified version for Readers who do not understand the formal Chinese. \\n\\nSuch an facility could be built in sort time with the help of the unihan database (www.unicode.org). \\n\\nThere are some possible way to handle this: \\n\\n1.a through user selection: add to user perference a selection for simplify display.\\n\\n1.b through the browser/server content negoation (zh-tw, zh-hk, zh-mo to select Formal Chinese; zh-cn, zh-sg to select simplified Chinese)\\n\\n1.c add an simplified link for display the simplified version.\\n\\n1.d add an selection screen or seprated url for selection.\\n\\n\\n2. If the above is accepted, we still accept simplified Chinese writings. However, efforts can be done to convert them into formal Chinese later. A small tool can be used to assist this process.\\n\\n3. The Search facility also need to handle the conversion: for searching, converting both the search expression and the text into simplified form will be perferred. \\n\\n\\n4. If I understand correctly, the current wikipedia software provide search on single characters for Chinese, it will be suficient for Wikipedia\\'s usage. But I would like to point-out that the ranking algorithm would weight the consective matching a higher score, then it will be more close to the searcher\\'s expectation.\\n\\nI would be happy to write a small script to extract the simplified mapping table from the unihan database if you like.\\n\\nKent Sin\\nkentsin@yahoo.com\\n2003.1.4\\n\\n\\n:My impression is that converting traditional to simplified is relatively simpler (mostly many->one) than simplified to traditional (more one->many and many->many), but that it\\'s still not going to be perfect. So, this should be doable, particularly if we can come up with a simple syntax for specifying conversion overrides. (Vaguely similarly, I\\'d like to see automatic furigana on the Japanese wiki, which again is going to be perfect, and would benefit from a simple override syntax.) --[[用户:Brion VIBBER|Brion VIBBER]] 2003年1月7日 09:22 (UTC)\\n\\n----\\n\\n:Hi Brion\\nI have some suggestion about the tradition/simplified chinese issue. Basically I would propose to have zh_tw.wikipedia.org and zh_cn.wikipedia.org (and maybe zh_HK,zh_SG too) and use wikipedia\\'s interlanguage to link between zh_tw and zh_cn. The reasons to have seperate page are:\\n*The interface. This would allow to use tradition or simplified chinese as interface. (note that many these interface items have different chinese transltions for cn/hk/tw).\\n*The \"encoding\" conversion between tradition/simplified Chinese is not difficult. However, a traditional Chinese text which is \"encoding\" converted from the simplified Chinese text might be very different from a text which is written in tradition Chinese originally and vice visa. Also many translation are different. For example the term \\'software\\'-> translated into zh_cn ->converted into zh_tw is different than term \\'software\\'->translated into zh_tw.\\n*This would also help about the search problem.\\n*I would like to propose the following structure\\n**Setup zh_cn.wikipedia.org and zh_tw.wikipedia.org\\n**For each item in encyclopedia one should have\\n***In zh_cn\\n****Item name translated into zh_cn\\n****link to the corresponding item in zh_tw\\n****text in zh_cn\\n****encoding conversion of about text into zh_tw.\\n***In zh_tw\\n****Item name translated into zh_tw\\n****link to the corresponding item in zh_cn\\n****text in zh_tw\\n****encoding conversion of about text into zh_cn.\\n\\nI think the scheme is easy to implement and can avoid many problems.\\n::::::::::::::Pektiong\\n\\n*Be more precise. If we try to identify language/variant/encoding/script then we are facing the possible combination of lang=zh(Mandarin), variant=cn,tw,hk,sg, encoding=utf,big5,gb(but utf is can conver big5/gb), and script=simp or trand. There are some way to deal with this problem on the server side so the end user can automatically see the page in desired lang/variant/encoding/script. I am checking what is necessary for this to be done. (check [http://search.cpan.org/author/AUTRIJUS/Encode-HanConvert/ Encode-HanConvedrt],and [http://search.cpan.org/author/AUTRIJUS/Apache-Filter-HanConvert/ apache-filter-hanconvert] maybe?). If this is difficult to implement within wikipedia.org then mayhbe maintain seperate entry is better.\\n::::::::::::::Pektiong\\n\\n-----\\n\\n=== Subpages ===\\n\\nI remember reading somewhere in the EN WP that subpages will interfere with the yet-to-come system. Did I remember this wrongly?\\n\\nI ask this, because the [[Wikipedia 对话:繁简体问题/档案1 | current convention]] established in March in distinguishing between the traditional and simplified versions by the same title is using a slash before the identifier of the style (繁 or 简). Methods that have been tried and failed, include:\\n# Attaching the identifier directly: [[WikiWiki]] -> [[WikiWiki繁]]\\n#: It is unreadable if the title is Chinese\\n# Parenthesis: [[Wikipedia]] -> [[Wikipedia(繁)]]\\n#: It interferes with ambiguitation\\n#  \\n# A dot: [[Kristen Nygaard]] -> [[Kristen Nygaard·繁]]\\n#: The dot in Chinese is used as a name division mark, so it\\'d imply that Nygaard\\'s surname, or at least a part of it, is 繁. (See [[en:punctuation]])\\n\\nSo currently, we use:\\n: 3. [[黑客]] -> [[黑客/繁]].\\n\\nIf subpage will be a problem, we could use Chinese parenthesis:（） instead of Western parenthesis as in option 2. Although it still physically resembles disambiguitation, in practice the computer can\\'t confuse it with the real one. Any suggestion? --[[用户:Menchi|Menchi]] 2003年5月22日 16:46 (UTC)\\n\\n:Sorry for taking so long to respond!\\n\\n:There is no longer any special \\'magic\\' for slash-subpages except in the user and talk namespaces, where it automatically shows a link back to the \\'parent\\' page... so on [[对话:黑客/繁]] you\\'ll see there will automatically be a link to [[对话:黑客]] at the top of the page. That\\'s actually kind of convenient. :) Also the special user links (contributions, email) \\'\\'should\\'\\' work if there is a /繁 subpage for a user page, but I haven\\'t tested this. Slashes are otherwise just considered part of the page title, so nothing should go horribly wrong because they\\'re being used. --[[用户:Brion VIBBER|Brion VIBBER]] 2003年5月25日 02:12 (UTC)\\n\\n:: Thank you for the reply. --[[用户:Menchi|Menchi]] 2003年5月28日 03:40 (UTC)\\n\\n----\\n\\n=== Total Search Malfunction ===\\n\\nSeveral of the Wikipedians have expressed concerns about the malfunction of search. Every single word leads to a warning message. --[[用户:Menchi|Menchi]] 2003年5月28日 03:40 (UTC)\\n\\n: Thanks for the quick fix. --[[用户:Menchi|Menchi]] 2003年5月30日 08:24 (UTC)\\n\\n----\\n\\ntest\\n\\n== \\'Defunct\\' my admin privilege ==\\n\\nah.. now I know you are the developer(Chinese translation anyway.) Anywho, I\\'m following the description of \"Apply to cancel Admin privilege\" in zh page, that I need to talk to you directly to remove my admin status([[User:Djyang]]). Thanks for your help in advance. :) ---[[User:Djyang|Djyang]] 14:52 2004年8月10日 (UTC)\\n\\n:Djyang, you need to request this at [[m:requests for permissions]] since Brion no longer deals with administrator access. [[User:Angela|Angela]] 00:05 2004年8月11日 (UTC)\\n\\n== Welcome ==\\n\\n<div style=\"width:100%;margin:0.2em 0;padding:0.3em 0;border-top:1px solid #ddd;border-bottom:1px solid #ddd;font-size:120%;\">\\'\\'\\'您好，Brion VIBBER！欢迎加入维基百科！\\'\\'\\'</div>\\n感謝您對維基百科的興趣與貢獻，希望您會喜歡這裡。除了[[WP:WELCOME|\\'\\'\\'歡迎辭\\'\\'\\']]以外，也請您了解以下重要文章：\\n{|style=\"background:transparent;border-top:1px solid #ddd;border-bottom:1px solid #ddd;border-collpase:collapse;\"\\n|-style=\"vertical-align:top;\"\\n|style=\"background:#f4f4f4;padding:.8em .2em;\"|[[File:Nuvola apps korganizer.svg|35px|left|政策|link=]]<div style=\"margin-left:45px;\">[[WP:5P|\\'\\'\\'五大支柱\\'\\'\\']]<br /><small>[[WP:NOT|百科]]、[[WP:NPOV|中立]]、[[WP:CRFAQ|开放]]、[[WP:CIV|互重]]、[[WP:IAR|勇於创新]]</small></div>\\n|style=\"background:#faf1df;padding:.8em .2em;\"|[[File:Nuvola apps emacs.png|45px|left|GNU|link=]]<div style=\"margin-left:55px;\">[[WP:CRFAQ|\\'\\'\\'版權問題解答\\'\\'\\']]<br /><small>貢獻內容必须是\\'\\'\\'您所著或獲得授權\\'\\'\\'、<br />并同意在[[WP:C|CC-by-sa-3.0和GFDL]]條款下發布</small></div>\\n|style=\"background:#f4f4f4;padding:.8em .2em;\"|[[File:Postscript-viewer.svg|35px|left|手冊|link=]]<div style=\"margin-left:45px;\">[[WP:T|\\'\\'\\'使用指南\\'\\'\\']]<br /><small>[[WP:VISIT|安全访问]]  / [[WP:SB|測試編輯]]  / [[WP:HEP|如何编辑]]<br /> [[WP:HELP|使用手册]] / [[Help:中文维基百科的繁简处理|繁简处理]] / [[WP:改进条目|寫個好條目]]</small></div>\\n|-\\n|colspan=\"3\" style=\"border-top:1px solid #ddd;padding-top:.3em;\"|[[File:Icon apps query.svg|18px|left|問號|link=]]\\'\\'\\'有问题？\\'\\'\\'請到[[WP:VP|\\'\\'\\'互助客栈\\'\\'\\']]询问，或在\\'\\'\\'我的对话页\\'\\'\\'提出。别忘記：討論後要[[WP:SIG|\\'\\'\\'簽名\\'\\'\\']]，方式之一是留下4個波浪紋「 <nowiki>~~</nowiki><nowiki>~~</nowiki> 」。<div lang=\"en\" style=\"font-style:italic;font-size:90%;\">If you have any questions about the Chinese Wikipedia, please leave a message [[Wikipedia talk:Guestbook for non-Chinese-speakers|\\'\\'here\\'\\']]. Thank you for visiting!</div>\\n|}\\n*閱讀新手应该注意的七种[[Wikipedia:避免常见错误|\\'\\'\\'常见错误\\'\\'\\']]、理解[[WP:KID|維基百科的立場與常見注意事項]]。\\n*有任何编辑上的问题？请试试[[WP:IRC|IRC即时讨论]]。也可在下面加入「[[:Category:寻求帮助的维基人|<nowiki>{{Helpme}}</nowiki>]]」，其他[[WP:维基人|维基人]]见到后就会来提供帮助。\\n*不知道有甚麼可写？[[WP:RA|条目请求]]、[[WP:SA|最多语言版本的待撰条目]]、[[WP:MEA|缺少的传统百科全书条目]]和[[WP:专题/首页的缺失条目|首页的缺失条目]]中列出了许多维基百科目前还没有的条目，欢迎您来[[WP:NEW|撰寫]]！\\n*希望您能享受共同编写百科的樂趣，成为一名充實的[[WP:EDIANS|维基百科人]]。\\n<span style=\"display:none\"></span>我是欢迎您的维基人：[[User:Carrotkit|Carrotkit]] ([[User talk:Carrotkit|留言]]) 2011年8月3日 (三) 10:11 (UTC)<span style=\"display:none\"></span>\\n\\n== 給您一些果仁蜜餅！ ==\\n\\n{| style=\"background-color: #fdffe7; border: 1px solid #fceb92;\"\\n|style=\"vertical-align: middle; padding: 5px;\" | [[File:Baklava - Turkish special, 80-ply.JPEG|135px]]\\n|style=\"vertical-align: middle; padding: 3px;\" |  --<span style=\"color:Navy;\">[[User:Wangxuan8331800|铁铁的火大了]]<small>（[[User talk:Wangxuan8331800|20.00000000000 words]]）</small></span> 2011年8月22日 (一) 14:08 (UTC)\\n|}\\n\\n== 送给您一枚星章！ ==\\n\\n{| style=\"background-color: #fdffe7; border: 1px solid #fceb92;\"\\n|rowspan=\"2\" style=\"vertical-align: middle; padding: 5px;\" | [[File:Original Barnstar Hires.png|100px]]\\n|style=\"font-size: x-large; padding: 3px 3px 0 3px; height: 1.5em;\" | \\'\\'\\'原星章\\'\\'\\'\\n|-\\n|style=\"vertical-align: middle; padding: 3px;\" | 拜訪一下，第一位中文維基人呀！--[[User:Shujenchang|張樹人]]<sup>[[User talk:Shujenchang|留言]]·[[:en:User talk:Shujenchang|Talk]]·[[Special:电邮用户/Shujenchang|電郵]]·[[:en:Special:EmailUser/Shujenchang|Email]]·[[:en:User:Shujenchang/Contact#IMs|IM]]</sup> - [[Wikipedia:LGBT協會|LGBT協會]] 2012年8月29日 (三) 11:11 (UTC)\\n|}\\n\\n== 給您一個芝士漢堡！ ==\\n\\n{| style=\"background-color: #fdffe7; border: 1px solid #fceb92;\"\\n|style=\"vertical-align: middle; padding: 5px;\" | [[File:Cheeseburger.png|120px]]\\n|style=\"vertical-align: middle; padding: 3px;\" | 拜访--<big><span style=\"color:#E53333;font-family:微软雅黑;\">化学是</span>[[user:zt610152145|你]],<span style=\"color:#E53333;font-family:微软雅黑;\">化学是</span>[[用户讨论:zt610152145|我]]</big> 2012年11月12日 (一) 02:33 (UTC)\\n|}\\n==[[:Bug test page 1]]的快速删除通知==\\n[[File:Ambox warning_pn.svg|48px|left]] 您好，您创建的页面被提出[[WP:SD|快速删除]]，该条目很快会由管理员进行复核并决定是否保留。<br/>維基百科非常歡迎您的編輯，但請先看看[[WP:HEP|編輯幫助]]和[[WP:NOT|維基百科不是什麼]]，以免犯了[[WP:ACM|常見的錯誤]]。\\n\\n{{#ifexist::Bug test page 1|\\'\\'\\'请不要自行移除快速删除模板\\'\\'\\'，快速删除旨在加快處理顯然不合適的頁面。若您认为删除理由不合適或您已对条目做了改善，请在\\'\\'\\'[[:Bug test page 1|被提删页面]]\\'\\'\\'快速删除模板的正下方\\'\\'\\'加入<code>{{tl|hangon}}</code>\\'\\'\\'，并在[[{{TALKPAGENAME:Bug test page 1}}|条目的讨论页]]中说明理由。您亦可以与提删的维基人进行沟通|如果您想取回已刪除页面的条目内容，您可联络[[WP:ADMIN|管理员]]}}，多謝合作！<br/><small>幫助：[[WP:VP|互助客棧]] · [[維基百科:刪除指導|刪除指導]] · [[WP:VFU|存廢覆核請求]] · <span class=\"plainlinks\">[//zh.wikipedia.org/wiki/Wikipedia:IRC聊天频道/IRC?withJS=MediaWiki:Gadget-irc.js IRC聊天頻道]</span></small>--[[User:GZWDer|GZWDer]]（[[User talk:GZWDer|留言]]） 2013年5月16日 (四) 14:48 (UTC)\\n\\n== 给您的泡沫红茶！ ==\\n\\n{| style=\"background-color: #fdffe7; border: 1px solid #fceb92;\"\\n|style=\"vertical-align: middle; padding: 5px;\" | [[File:Bubble_Tea.png|65px]]\\n|style=\"vertical-align: middle; padding: 3px;\" | 拜访…… -- 砜中嘌呤的[[User:WhitePhosphorus|白磷]]<sub>[[User talk:WhitePhosphorus|萃取]] [[Special:用户贡献/WhitePhosphorus|打谱]]</sub> 2014年5月17日 (六) 08:29 (UTC)\\n|}\\n\\n== 給您的星章！ ==\\n\\n{| style=\"background-color: #fdffe7; border: 1px solid #fceb92;\"\\n|rowspan=\"2\" style=\"vertical-align: middle; padding: 5px;\" | [[File:Special Barnstar Hires.png|100px]]\\n|style=\"font-size: x-large; padding: 3px 3px 0 3px; height: 1.5em;\" | \\'\\'\\'特別星章\\'\\'\\'\\n|-\\n|style=\"vertical-align: middle; padding: 3px;\" | 第一位中文維基人 [[User:Good afternoon|<span style=\"color: #006FFF;\">\\'\\'\\'本人\\'\\'\\'</span>]]\\'\\'\\'請\\'\\'\\'各位\\'\\'進行\\'\\'[[User talk:Good afternoon|具建設性的認真討論]] 2014年6月8日 (日) 10:49 (UTC)\\n|}\\n\\n== 给您的泡沫红茶！ ==\\n\\n{| style=\"background-color: #fdffe7; border: 1px solid #fceb92;\"\\n|style=\"vertical-align: middle; padding: 5px;\" | [[File:Bubble_Tea.png|65px]]\\n|style=\"vertical-align: middle; padding: 3px;\" | 第一位中文维基人之地，nbfreeh不虚此行啊（某蛤蟆的话） [[User:Nbfreeh|Nbfreeh]]（[[User talk:Nbfreeh|留言]]） 2015年8月30日 (日) 11:23 (UTC)\\n|}\\n\\n== 给您一个星章！ ==\\n\\n{| style=\"background-color: #fdffe7; border: 1px solid #fceb92;\"\\n|rowspan=\"2\" style=\"vertical-align: middle; padding: 5px;\" | [[File:Original Barnstar Hires.png|100px]]\\n|style=\"font-size: x-large; padding: 3px 3px 0 3px; height: 1.5em;\" | \\'\\'\\'原星章\\'\\'\\'\\n|-\\n|style=\"vertical-align: middle; padding: 3px;\" | 第一位维基人！考古考古！ ——[[User:小曹2015|<span style=\"font-family:Verdana;font-size:middle;border-radius:999px;background:#18C3F4;padding:0 10px;color:#fff\" title=\"Reply\">萌萌哒的小曹大大</span>]][[User_talk:小曹2015|(讨论)]](互助客栈讨论请talkback) 2016年9月11日 (日) 12:52 (UTC)\\n|}\\n\\n== 给您一个星章！ ==\\n\\n{| style=\"background-color: #fdffe7; border: 1px solid #fceb92;\"\\n|rowspan=\"2\" style=\"vertical-align: middle; padding: 5px;\" | [[File:Special Barnstar Hires.png|100px]]\\n|style=\"font-size: x-large; padding: 3px 3px 0 3px; height: 1.5em;\" | \\'\\'\\'特别星章\\'\\'\\'\\n|-\\n|style=\"vertical-align: middle; padding: 3px;\" | 膜拜XD [[User:Jpcomic|<span style=\"color:#6495ED\">\\'\\'\\'Jpcomic\\'\\'\\'</span>]][[WP:WSU|<span style=\"color:gold\">\\'\\'\\'-wsu\\'\\'\\'</span>]]<sub>[[用户讨论:Jpcomic|<span style=\"color:#52D017\">留言</span>]]</sub> 2017年8月8日 (二) 07:19 (UTC)\\n|}\\n\\n== 馅饼送给您！ ==\\n\\n{| style=\"background-color: #fdffe7; border: 1px solid #fceb92;\"\\n|style=\"vertical-align: middle; padding: 5px;\" | [[File:A very beautiful Nectarine Pie.jpg|120px]]\\n|style=\"vertical-align: middle; padding: 3px;\" | 来考古啦，第一位维基人！ [[U:Brror|<span style=\"background:#ccc;padding:0px 4px\">Ｂ</span>]][[UT:Brror|<span style=\"background:#888;padding:0px 4px;color:#fff\">✉</span>]][[U:Brror/signature|<span style=\"background:#444; padding:0px 4px;color:#fff\">✎</span>]] 2018年4月5日 (四) 00:32 (UTC)\\n|}\\n\\n== 一只小猫送给您！ ==\\n\\n[[File:Red Kitten 01.jpg|left|150px]]\\n考古路过，第一位中文维基人。。。\\n\\n[[User:Kiraclyne|<span style=\"color:black\">。</span>]][[User:Kiraclyne/留名区|<span style=\"color:black\">。</span>]][[User talk:kiraclyne|<span style=\"color:black\">。</span>]] 2018年5月1日 (二) 07:25 (UTC)\\n<br style=\"clear: both;\"/>\\n\\n== 给您的乳酪汉堡！ ==\\n\\n{| style=\"background-color: #fdffe7; border: 1px solid #fceb92;\"\\n|style=\"vertical-align: middle; padding: 5px;\" | [[File:Cheeseburger.png|120px]]\\n|style=\"vertical-align: middle; padding: 3px;\" | 前来考古，拜访第一位中文维基人！ [[User:Soaring swallow|<span style=\"color: #0033FF;\">\\'\\'\\'Soaring Swallow\\'\\'\\'</span>]]※[[User talk:Soaring swallow|<span style=\"color: #FFBF00;\">\\'\\'\\'给我留言\\'\\'\\'</span>]] 2018年11月20日 (二) 14:46 (UTC)\\n|}\\n\\n== 给您一个星章！ ==\\n\\n{| style=\"background-color: #fdffe7; border: 1px solid #fceb92;\"\\n|rowspan=\"2\" style=\"vertical-align: middle; padding: 5px;\" | [[File:Special Barnstar Hires.png|100px]]\\n|style=\"font-size: x-large; padding: 3px 3px 0 3px; height: 1.5em;\" | \\'\\'\\'特别星章\\'\\'\\'\\n|-\\n|style=\"vertical-align: middle; padding: 3px;\" | Thanks for your help about Chinese Wikipedia! ------是[[User:橙子木|<span style=\"color:#FF8000;font-size:15pt\">橙🍊</span>]][[User talk:橙子木|<span style=\"color:#FF8000;font-size:15pt\">子🍊</span>]][[User:橙子木/模块列表/签名区|<span style=\"color:#FF8000;font-size:15pt\">木</span>]]哦! 2020年2月19日 (三) 16:32 (UTC)\\n|}\\n\\n== 给您一个星章！ ==\\n\\n{| style=\"background-color: #fdffe7; border: 1px solid #fceb92;\"\\n|rowspan=\"2\" style=\"vertical-align: middle; padding: 5px;\" | [[File:Special Barnstar Hires.png|100px]]\\n|style=\"font-size: x-large; padding: 3px 3px 0 3px; height: 1.5em;\" | \\'\\'\\'特别星章\\'\\'\\'\\n|-\\n|style=\"vertical-align: middle; padding: 3px;\" | 第一位中文维基人，膜拜！ <span style=\"font: 16px Segoe Script;text-shadow:0 1px 3px #BF00BE\">[[User:XinuGod|\\'\\'\\'XinuGod\\'\\'\\']]</span> <span style=\"font: 12px Segoe Script;text-shadow:0 1px 5px #5C952E\">[[User_talk:XinuGod|留言]]&#124;[[User:XinuGod#签名|签名]]</span> 2020年5月31日 (日) 11:55 (UTC)\\n|}\\n\\n== 给您一个星章！ ==\\n\\n{| style=\"background-color: #fdffe7; border: 1px solid #fceb92;\"\\n|rowspan=\"2\" style=\"vertical-align: middle; padding: 5px;\" | [[File:Surreal Barnstar Hires.png|100px]]\\n|style=\"font-size: x-large; padding: 3px 3px 0 3px; height: 1.5em;\" | \\'\\'\\'超现实星章\\'\\'\\'\\n|-\\n|style=\"vertical-align: middle; padding: 3px;\" | 考古，拜访第一位维基人！ ——[[User:X-SHLIED|<span style=\"color: #007FFF;\">\\'\\'\\'他人が悪い。自分は悪くない。他人だけが悪い。自分だけが??\\'\\'\\'</span>]]🧡[[User:X-SHLIED|X-SHLIED]] 2020年8月26日 (三) 10:21 (UTC)\\n|}\\n\\n== 紙杯蛋糕送給您！ ==\\n\\n{| style=\"background-color: #fdffe7; border: 1px solid #fceb92;\"\\n|style=\"vertical-align: middle; padding: 5px;\" | [[File:Choco-Nut Bake with Meringue Top cropped.jpg|120px]]\\n|style=\"vertical-align: middle; padding: 3px;\" | 考古紀念 [[User:Jonathan5566|<span style=\"color: #E8E615;\"><span style=\"font-size:large;\"><b>木瓜不是食物</b></span></span>]]#[[User Talk:Jonathan5566|留言]] 2021年4月22日 (四) 13:28 (UTC)\\n|}\\n\\n==考古==\\n\\'\\'\\'Welcome!\\'\\'\\'\\n\\nHello, Brion VIBBER, and [[Wikipedia:欢迎|welcome]] to Wikipedia! Thank you for [[Special:用户贡献/Brion VIBBER|your contributions]]. I hope you like the place and decide to stay. Here are some pages that you might find helpful:\\n*[[Wikipedia:五大支柱|The five pillars of Wikipedia]] ([[:en:Wikipedia:Five pillars|en]])\\n*[[Wikipedia:入门|Tutorial]] ([[:en:Wikipedia:Five pillars|en]])\\n*[[Help:编辑页面|How to edit a page]] and [[Wikipedia:改進條目|How to develop articles]] ([[:en:Wikipedia:Editing|en1]], [[:en:Wikipedia:Article development|en1]])\\n*[[Wikipedia:您的第一篇条目|How to create your first article]] ([[:en:Your first article|en]])\\n*[[Wikipedia:格式手册|Manual of Style]]([[:en:Wikipedia:Manual of Style|en]])\\nI hope you enjoy editing here and being a [[Wikipedia:維基百科人|Wikipedian]]! Please [[Wikipedia:在讨论页上签名|sign]] your messages on [[Wikipedia:讨论页|discussion page]]s using four tildes (<nowiki>~~~~</nowiki>); this will automatically insert your username and the date. If you need help, check out [[Wikipedia:問題|Wikipedia:Questions]], ask me on my talk page, or ask your question on this page and then place <code><nowiki>{{help me}}</nowiki></code> before the question. \\n\\nIf you have any questions about the Chinese Wikipedia, please leave a message [[Wikipedia talk:Guestbook for non-Chinese-speakers|\\'\\'here\\'\\']]. Thank you for visiting! Again, welcome! [[User:Zfshuo|Steve]]（[[User talk:Zfshuo|留言]]） 2021年9月25日 (六) 06:59 (UTC)<!-- Template:Welcome -->\\n\\n== 一杯雪糕送給您！ ==\\n{| style=\"background-color: #fdffe7; border: 1px solid #fceb92;\"\\n|style=\"vertical-align: middle; padding: 5px;\" | [[File:Ice_cream_with_whipped_cream,_chocolate_syrup,_and_a_wafer.jpg|200px]]\\n|style=\"vertical-align: middle; padding: 3px;\" | 请前辈恰雪糕！！！中文维基从这里启航！--[[User:Ljk041123|<span style=\"color: #007FFF;\">\\'\\'\\'Ljk041123\\'\\'\\'</span>]][[User talk:Ljk041123|<span style=\"color: #007FFF;\">\\'\\'\\' 与我对话 \\'\\'\\'</span>]] 2022年4月10日 (日) 13:28 (UTC)\\n|}\\n\\n== 給您的星章！ ==\\n\\n{| style=\"background-color: #fdffe7; border: 1px solid #fceb92;\"\\n|rowspan=\"2\" style=\"vertical-align: middle; padding: 5px;\" | [[File:Original Barnstar Hires.png|100px]]\\n|style=\"font-size: x-large; padding: 3px 3px 0 3px; height: 1.5em;\" | \\'\\'\\'原星章\\'\\'\\'\\n|-\\n|style=\"vertical-align: middle; padding: 3px;\" | Thanks for your contributions during the early days of the Chinese Wikipedia. We will never forget them. —— \\'\\'\\'[[使用者:Ericliu1912|Eric Liu]]\\'\\'\\'<sub> -{創造}-は生命（\\'\\'\\'[[使用者討論:Ericliu1912|留言]]・[[使用者:Ericliu1912#訪客芳名錄|留名]]・[[維基百科:維基學生會|學生會]]\\'\\'\\'）</sub> 2022年6月13日 (一) 09:07 (UTC)\\n|}\\n\\n== 给您一个星章！ ==\\n\\n{| style=\"background-color: #fdffe7; border: 1px solid #fceb92;\"\\n|rowspan=\"2\" style=\"vertical-align: middle; padding: 5px;\" | [[File:Original Barnstar Hires.png|100px]]\\n|style=\"font-size: x-large; padding: 3px 3px 0 3px; height: 1.5em;\" | \\'\\'\\'原星章\\'\\'\\'\\n|-\\n|style=\"vertical-align: middle; padding: 3px;\" | 考古，拜访中维梦开始的地方 \\'\\'\\'[[U:Zys6913|Zys6913]]\\'\\'\\'<sup>\\'\\'\\'[[UT:Zys6913|论]][[U:Zys6913/签名|签]][[Special:用户贡献/Zys6913|编]]\\'\\'\\'</sup> 2023年1月9日 (一) 12:34 (UTC)\\n|}\\n\\n== Salute! ==\\n\\n向您致意！--[[User:KiraRettosei|KiraRettosei]]（[[User talk:KiraRettosei|留言]]） 2023年2月21日 (二) 06:19 (UTC)', bytes=26966, sha1='mf66jueyaopix4vq5aupqc85agnhx52', parent_id=76060023, model='wikitext', format='text/x-wiki', deleted=Deleted(text=False, comment=False, user=False, restricted=None))"
      ]
     },
     "execution_count": 30,
     "metadata": {},
     "output_type": "execute_result"
    }
   ],
   "source": [
    "revision"
   ]
  },
  {
   "cell_type": "code",
   "execution_count": 31,
   "id": "d4ae1ca9",
   "metadata": {},
   "outputs": [],
   "source": [
    "parsed_ch_ex = wc.parse(revision.text)"
   ]
  },
  {
   "cell_type": "code",
   "execution_count": 32,
   "id": "f741b82c",
   "metadata": {},
   "outputs": [
    {
     "data": {
      "text/plain": [
       "{'sections': [{'subsections': [],\n",
       "   'comments': [{'text_blocks': ['<div style=\"width: 100%; margin: 0.2em 0; padding: 0.3em 0; border-top: 1px solid #ddd; border-bottom: 1px solid #ddd; font-size: 120%;\">\\'\\'\\'您好，Brion VIBBER！[[Wikipedia:欢迎，新来者|欢迎]]加入维基百科！\\'\\'\\'</div>\\n',\n",
       "      \"感謝您對維基百科的興趣與貢獻，希望您會喜歡這裡。除了'''[[Wikipedia:欢迎，新来者|歡迎辭]]'''外，也請您了解以下重要文章：\\n\",\n",
       "      '{| style=\"background: transparent; border-top: 1px solid #ddd; border-bottom: 1px solid #ddd; border-collpase: collapse;\" \\n|- style=\"vertical-align: top;\"\\n| style=\"background: #f4f4f4; padding: .8em .2em;\" | [[Image:Nuvola apps korganizer.png|35px|left|政策]]\\n<div style=\"margin-left: 45px;\">\\'\\'\\'[[Wikipedia:五大支柱|五大支柱]]\\'\\'\\'<br /><small>[[Wikipedia:不适合维基百科的文章|百科]]、[[Wikipedia:中性的观点|中立]]、[[Wikipedia:简明版权信息|开放]]、[[Wikipedia:文明|互重]]、[[Wikipedia:忽略所有规则|勇於改善]]</small></div>\\n| style=\"background: #faf1df; padding: .8em .2em;\" | [[Image:Nuvola apps emacs.png|45px|left|GNU]]\\n<div style=\"margin-left: 55px;\">\\'\\'\\'[[Wikipedia:版权常见问题解答|版權問題解答]]\\'\\'\\'<br /><small>貢獻內容必须是<u>您所著或獲得授權</u>、<br>同意在[[Wikipedia:版权信息|GFDL]]條款下發布</small></div>\\n| style=\"background: #f4f4f4; padding: .8em .2em;\" | [[Image:Postscript-viewer.svg|35px|left|手冊]]\\n<div style=\"margin-left: 45px;\">\\'\\'\\'[[Wikipedia:使用指南|使用指南]]\\'\\'\\'<br /><small>[[help:如何访问维基百科|安全访问]]  / [[Wikipedia:沙盒|測試編輯]]  / [[Wikipedia:如何编辑页面|如何编辑]] <br> [[Help:目录|使用手册]] / [[Help:中文维基百科的繁简处理|繁简处理]] / [[Wikipedia:如何写出非常好的条目|寫個好條目]]</small></div>\\n|-\\n| colspan=\"3\" style=\"border-top: 1px solid #ddd; padding-top: .3em;\" | [[Image:Icon apps query.svg|18px|left|問號]]\\'\\'\\'有问题？\\'\\'\\'請到\\'\\'\\'[[Wikipedia:互助客栈|互助客栈]]\\'\\'\\'询问，或在我的对话页提出。別忘記：討論後要[[Wikipedia:在讨论页上签名|\\'\\'\\'簽名\\'\\'\\']]，方式之一是留下4個波浪紋「<nowiki>~~~~</nowiki>」。<div lang=\"en\" style=\"font-style: italic; font-size: 90%;\">If you have any questions about the Chinese Wikipedia, please leave a message [[Wikipedia talk:Guestbook for non-Chinese-speakers|\\'\\'here\\'\\']]. Thank you for visiting!</div>\\n|}\\n',\n",
       "      '*在中文維基裡，[[間隔號]]的輸入比較特別，詳參[[Help:如何輸入間隔號]]。\\n',\n",
       "      '*希望您能享受编写人類共有之自由百科的快乐，成为一名快樂的[[Wikipedia:维基百科人|维基百科人]]。\\n',\n",
       "      '<span style=\"display:none\"></span>--<big>[[User:A10323nnn|nnn]]‧[[User talk:A10323nnn|分區討論]]‧[[Special:用戶貢獻/A10323nnn|做左咩?]]</big> 2011年5月22日 (日) 04:24 (UTC)\\n'],\n",
       "     'comments': [],\n",
       "     'cosigners': [],\n",
       "     'author': 'A10323nnn',\n",
       "     'time_stamp': '2011年5月22日 (日) 04:24 (UTC)'},\n",
       "    {'text_blocks': ['\\n',\n",
       "      \"''Note; I don't keep track of this page as often as on my [http://eo.wikipedia.org/wiki/Vikipediista_diskuto:Brion_VIBBER Esperanto], [http://www.wikipedia.org/wiki/User_talk:Brion_VIBBER English], or [http://fr.wikipedia.org/wiki/Discussion_Utilisateur:Brion_VIBBER French] user talk pages. Be sure to leave a note on one of them pointing at any important updates here.''\\n\",\n",
       "      '\\n',\n",
       "      '----\\n',\n",
       "      '\\n',\n",
       "      \"Hi Brion. Interested as I am in the page statistics for the International wikis, I couldn't help but notice that according to the [[Special:Statistics]] page the Chinese wiki is now by far the largest wiki in the world, with a whopping 18,446,744,073,709,551,615 valid pages! Too bad I can't read Chinese ;) -Scipius\\n\",\n",
       "      '\\n',\n",
       "      '----\\n',\n",
       "      '\\n',\n",
       "      'Hi Brion.\\n',\n",
       "      '\\n',\n",
       "      'I have some suggestions to the Chinese wikipedia:\\n',\n",
       "      '\\n',\n",
       "      '1. It is preferred to maintain a single version for Chinese language. Instead of a simplified version as well as a Formal Chinese version. There are possible to maintain a Formal Chinese version, but add the necessary translation module to the system which automatically translate the Formal Chinese version to the simplified version for Readers who do not understand the formal Chinese. \\n',\n",
       "      '\\n',\n",
       "      'Such an facility could be built in sort time with the help of the unihan database (www.unicode.org). \\n',\n",
       "      '\\n',\n",
       "      'There are some possible way to handle this: \\n',\n",
       "      '\\n',\n",
       "      '1.a through user selection: add to user perference a selection for simplify display.\\n',\n",
       "      '\\n',\n",
       "      '1.b through the browser/server content negoation (zh-tw, zh-hk, zh-mo to select Formal Chinese; zh-cn, zh-sg to select simplified Chinese)\\n',\n",
       "      '\\n',\n",
       "      '1.c add an simplified link for display the simplified version.\\n',\n",
       "      '\\n',\n",
       "      '1.d add an selection screen or seprated url for selection.\\n',\n",
       "      '\\n',\n",
       "      '\\n',\n",
       "      '2. If the above is accepted, we still accept simplified Chinese writings. However, efforts can be done to convert them into formal Chinese later. A small tool can be used to assist this process.\\n',\n",
       "      '\\n',\n",
       "      '3. The Search facility also need to handle the conversion: for searching, converting both the search expression and the text into simplified form will be perferred. \\n',\n",
       "      '\\n',\n",
       "      '\\n',\n",
       "      \"4. If I understand correctly, the current wikipedia software provide search on single characters for Chinese, it will be suficient for Wikipedia's usage. But I would like to point-out that the ranking algorithm would weight the consective matching a higher score, then it will be more close to the searcher's expectation.\\n\",\n",
       "      '\\n',\n",
       "      'I would be happy to write a small script to extract the simplified mapping table from the unihan database if you like.\\n',\n",
       "      '\\n',\n",
       "      'Kent Sin\\n',\n",
       "      'kentsin@yahoo.com\\n',\n",
       "      '2003.1.4\\n',\n",
       "      '\\n',\n",
       "      '\\n',\n",
       "      \":My impression is that converting traditional to simplified is relatively simpler (mostly many->one) than simplified to traditional (more one->many and many->many), but that it's still not going to be perfect. So, this should be doable, particularly if we can come up with a simple syntax for specifying conversion overrides. (Vaguely similarly, I'd like to see automatic furigana on the Japanese wiki, which again is going to be perfect, and would benefit from a simple override syntax.) --[[用户:Brion VIBBER|Brion VIBBER]] 2003年1月7日 09:22 (UTC)\\n\"],\n",
       "     'comments': [],\n",
       "     'cosigners': [],\n",
       "     'author': 'Brion VIBBER',\n",
       "     'time_stamp': '2003年1月7日 09:22 (UTC)'},\n",
       "    {'text_blocks': ['\\n',\n",
       "      '----\\n',\n",
       "      '\\n',\n",
       "      ':Hi Brion\\n',\n",
       "      \"I have some suggestion about the tradition/simplified chinese issue. Basically I would propose to have zh_tw.wikipedia.org and zh_cn.wikipedia.org (and maybe zh_HK,zh_SG too) and use wikipedia's interlanguage to link between zh_tw and zh_cn. The reasons to have seperate page are:\\n\",\n",
       "      '*The interface. This would allow to use tradition or simplified chinese as interface. (note that many these interface items have different chinese transltions for cn/hk/tw).\\n',\n",
       "      '*The \"encoding\" conversion between tradition/simplified Chinese is not difficult. However, a traditional Chinese text which is \"encoding\" converted from the simplified Chinese text might be very different from a text which is written in tradition Chinese originally and vice visa. Also many translation are different. For example the term \\'software\\'-> translated into zh_cn ->converted into zh_tw is different than term \\'software\\'->translated into zh_tw.\\n',\n",
       "      '*This would also help about the search problem.\\n',\n",
       "      '*I would like to propose the following structure\\n',\n",
       "      '**Setup zh_cn.wikipedia.org and zh_tw.wikipedia.org\\n',\n",
       "      '**For each item in encyclopedia one should have\\n',\n",
       "      '***In zh_cn\\n',\n",
       "      '****Item name translated into zh_cn\\n',\n",
       "      '****link to the corresponding item in zh_tw\\n',\n",
       "      '****text in zh_cn\\n',\n",
       "      '****encoding conversion of about text into zh_tw.\\n',\n",
       "      '***In zh_tw\\n',\n",
       "      '****Item name translated into zh_tw\\n',\n",
       "      '****link to the corresponding item in zh_cn\\n',\n",
       "      '****text in zh_tw\\n',\n",
       "      '****encoding conversion of about text into zh_cn.\\n',\n",
       "      '\\n',\n",
       "      'I think the scheme is easy to implement and can avoid many problems.\\n',\n",
       "      '::::::::::::::Pektiong\\n',\n",
       "      '\\n',\n",
       "      '*Be more precise. If we try to identify language/variant/encoding/script then we are facing the possible combination of lang=zh(Mandarin), variant=cn,tw,hk,sg, encoding=utf,big5,gb(but utf is can conver big5/gb), and script=simp or trand. There are some way to deal with this problem on the server side so the end user can automatically see the page in desired lang/variant/encoding/script. I am checking what is necessary for this to be done. (check [http://search.cpan.org/author/AUTRIJUS/Encode-HanConvert/ Encode-HanConvedrt],and [http://search.cpan.org/author/AUTRIJUS/Apache-Filter-HanConvert/ apache-filter-hanconvert] maybe?). If this is difficult to implement within wikipedia.org then mayhbe maintain seperate entry is better.\\n',\n",
       "      '::::::::::::::Pektiong\\n',\n",
       "      '\\n',\n",
       "      '-----\\n',\n",
       "      '\\n'],\n",
       "     'comments': [],\n",
       "     'cosigners': []}]},\n",
       "  {'subsections': [],\n",
       "   'comments': [{'text_blocks': ['=== Subpages ===\\n',\n",
       "      '\\n',\n",
       "      'I remember reading somewhere in the EN WP that subpages will interfere with the yet-to-come system. Did I remember this wrongly?\\n',\n",
       "      '\\n',\n",
       "      'I ask this, because the [[Wikipedia 对话:繁简体问题/档案1 | current convention]] established in March in distinguishing between the traditional and simplified versions by the same title is using a slash before the identifier of the style (繁 or 简). Methods that have been tried and failed, include:\\n',\n",
       "      '# Attaching the identifier directly: [[WikiWiki]] -> [[WikiWiki繁]]\\n',\n",
       "      '#: It is unreadable if the title is Chinese\\n',\n",
       "      '# Parenthesis: [[Wikipedia]] -> [[Wikipedia(繁)]]\\n',\n",
       "      '#: It interferes with ambiguitation\\n',\n",
       "      '#  \\n',\n",
       "      '# A dot: [[Kristen Nygaard]] -> [[Kristen Nygaard·繁]]\\n',\n",
       "      \"#: The dot in Chinese is used as a name division mark, so it'd imply that Nygaard's surname, or at least a part of it, is 繁. (See [[en:punctuation]])\\n\",\n",
       "      '\\n',\n",
       "      'So currently, we use:\\n',\n",
       "      ': 3. [[黑客]] -> [[黑客/繁]].\\n',\n",
       "      '\\n',\n",
       "      \"If subpage will be a problem, we could use Chinese parenthesis:（） instead of Western parenthesis as in option 2. Although it still physically resembles disambiguitation, in practice the computer can't confuse it with the real one. Any suggestion? --[[用户:Menchi|Menchi]] 2003年5月22日 16:46 (UTC)\\n\"],\n",
       "     'comments': [{'text_blocks': ['\\n',\n",
       "        ':Sorry for taking so long to respond!\\n',\n",
       "        '\\n',\n",
       "        \":There is no longer any special 'magic' for slash-subpages except in the user and talk namespaces, where it automatically shows a link back to the 'parent' page... so on [[对话:黑客/繁]] you'll see there will automatically be a link to [[对话:黑客]] at the top of the page. That's actually kind of convenient. :) Also the special user links (contributions, email) ''should'' work if there is a /繁 subpage for a user page, but I haven't tested this. Slashes are otherwise just considered part of the page title, so nothing should go horribly wrong because they're being used. --[[用户:Brion VIBBER|Brion VIBBER]] 2003年5月25日 02:12 (UTC)\\n\"],\n",
       "       'comments': [{'text_blocks': ['\\n',\n",
       "          ':: Thank you for the reply. --[[用户:Menchi|Menchi]] 2003年5月28日 03:40 (UTC)\\n'],\n",
       "         'comments': [],\n",
       "         'cosigners': [],\n",
       "         'author': 'Menchi',\n",
       "         'time_stamp': '2003年5月28日 03:40 (UTC)'}],\n",
       "       'cosigners': [],\n",
       "       'author': 'Brion VIBBER',\n",
       "       'time_stamp': '2003年5月25日 02:12 (UTC)'}],\n",
       "     'cosigners': [],\n",
       "     'author': 'Menchi',\n",
       "     'time_stamp': '2003年5月22日 16:46 (UTC)'},\n",
       "    {'text_blocks': ['\\n', '----\\n', '\\n'], 'comments': [], 'cosigners': []}],\n",
       "   'heading': ' Subpages '},\n",
       "  {'subsections': [],\n",
       "   'comments': [{'text_blocks': ['=== Total Search Malfunction ===\\n',\n",
       "      '\\n',\n",
       "      'Several of the Wikipedians have expressed concerns about the malfunction of search. Every single word leads to a warning message. --[[用户:Menchi|Menchi]] 2003年5月28日 03:40 (UTC)\\n'],\n",
       "     'comments': [{'text_blocks': ['\\n',\n",
       "        ': Thanks for the quick fix. --[[用户:Menchi|Menchi]] 2003年5月30日 08:24 (UTC)\\n'],\n",
       "       'comments': [],\n",
       "       'cosigners': [],\n",
       "       'author': 'Menchi',\n",
       "       'time_stamp': '2003年5月30日 08:24 (UTC)'}],\n",
       "     'cosigners': [],\n",
       "     'author': 'Menchi',\n",
       "     'time_stamp': '2003年5月28日 03:40 (UTC)'},\n",
       "    {'text_blocks': ['\\n', '----\\n', '\\n', 'test\\n', '\\n'],\n",
       "     'comments': [],\n",
       "     'cosigners': []}],\n",
       "   'heading': ' Total Search Malfunction '},\n",
       "  {'subsections': [],\n",
       "   'comments': [{'text_blocks': [\"== 'Defunct' my admin privilege ==\\n\",\n",
       "      '\\n',\n",
       "      'ah.. now I know you are the developer(Chinese translation anyway.) Anywho, I\\'m following the description of \"Apply to cancel Admin privilege\" in zh page, that I need to talk to you directly to remove my admin status([[User:Djyang]]). Thanks for your help in advance. :) ---[[User:Djyang|Djyang]] 14:52 2004年8月10日 (UTC)\\n'],\n",
       "     'comments': [{'text_blocks': ['\\n',\n",
       "        ':Djyang, you need to request this at [[m:requests for permissions]] since Brion no longer deals with administrator access. [[User:Angela|Angela]] 00:05 2004年8月11日 (UTC)\\n'],\n",
       "       'comments': [],\n",
       "       'cosigners': [],\n",
       "       'author': 'Angela',\n",
       "       'time_stamp': '00:05 2004年8月11日 (UTC)'}],\n",
       "     'cosigners': [],\n",
       "     'author': 'Djyang',\n",
       "     'time_stamp': '14:52 2004年8月10日 (UTC)'},\n",
       "    {'text_blocks': ['\\n'], 'comments': [], 'cosigners': []}],\n",
       "   'heading': \" 'Defunct' my admin privilege \"},\n",
       "  {'subsections': [],\n",
       "   'comments': [{'text_blocks': ['== Welcome ==\\n',\n",
       "      '\\n',\n",
       "      '<div style=\"width:100%;margin:0.2em 0;padding:0.3em 0;border-top:1px solid #ddd;border-bottom:1px solid #ddd;font-size:120%;\">\\'\\'\\'您好，Brion VIBBER！欢迎加入维基百科！\\'\\'\\'</div>\\n',\n",
       "      \"感謝您對維基百科的興趣與貢獻，希望您會喜歡這裡。除了[[WP:WELCOME|'''歡迎辭''']]以外，也請您了解以下重要文章：\\n\",\n",
       "      '{|style=\"background:transparent;border-top:1px solid #ddd;border-bottom:1px solid #ddd;border-collpase:collapse;\"\\n|-style=\"vertical-align:top;\"\\n|style=\"background:#f4f4f4;padding:.8em .2em;\"|[[File:Nuvola apps korganizer.svg|35px|left|政策|link=]]<div style=\"margin-left:45px;\">[[WP:5P|\\'\\'\\'五大支柱\\'\\'\\']]<br /><small>[[WP:NOT|百科]]、[[WP:NPOV|中立]]、[[WP:CRFAQ|开放]]、[[WP:CIV|互重]]、[[WP:IAR|勇於创新]]</small></div>\\n|style=\"background:#faf1df;padding:.8em .2em;\"|[[File:Nuvola apps emacs.png|45px|left|GNU|link=]]<div style=\"margin-left:55px;\">[[WP:CRFAQ|\\'\\'\\'版權問題解答\\'\\'\\']]<br /><small>貢獻內容必须是\\'\\'\\'您所著或獲得授權\\'\\'\\'、<br />并同意在[[WP:C|CC-by-sa-3.0和GFDL]]條款下發布</small></div>\\n|style=\"background:#f4f4f4;padding:.8em .2em;\"|[[File:Postscript-viewer.svg|35px|left|手冊|link=]]<div style=\"margin-left:45px;\">[[WP:T|\\'\\'\\'使用指南\\'\\'\\']]<br /><small>[[WP:VISIT|安全访问]]  / [[WP:SB|測試編輯]]  / [[WP:HEP|如何编辑]]<br /> [[WP:HELP|使用手册]] / [[Help:中文维基百科的繁简处理|繁简处理]] / [[WP:改进条目|寫個好條目]]</small></div>\\n|-\\n|colspan=\"3\" style=\"border-top:1px solid #ddd;padding-top:.3em;\"|[[File:Icon apps query.svg|18px|left|問號|link=]]\\'\\'\\'有问题？\\'\\'\\'請到[[WP:VP|\\'\\'\\'互助客栈\\'\\'\\']]询问，或在\\'\\'\\'我的对话页\\'\\'\\'提出。别忘記：討論後要[[WP:SIG|\\'\\'\\'簽名\\'\\'\\']]，方式之一是留下4個波浪紋「 <nowiki>~~</nowiki><nowiki>~~</nowiki> 」。<div lang=\"en\" style=\"font-style:italic;font-size:90%;\">If you have any questions about the Chinese Wikipedia, please leave a message [[Wikipedia talk:Guestbook for non-Chinese-speakers|\\'\\'here\\'\\']]. Thank you for visiting!</div>\\n|}\\n',\n",
       "      \"*閱讀新手应该注意的七种[[Wikipedia:避免常见错误|'''常见错误''']]、理解[[WP:KID|維基百科的立場與常見注意事項]]。\\n\",\n",
       "      '*有任何编辑上的问题？请试试[[WP:IRC|IRC即时讨论]]。也可在下面加入「[[:Category:寻求帮助的维基人|<nowiki>{{Helpme}}</nowiki>]]」，其他[[WP:维基人|维基人]]见到后就会来提供帮助。\\n',\n",
       "      '*不知道有甚麼可写？[[WP:RA|条目请求]]、[[WP:SA|最多语言版本的待撰条目]]、[[WP:MEA|缺少的传统百科全书条目]]和[[WP:专题/首页的缺失条目|首页的缺失条目]]中列出了许多维基百科目前还没有的条目，欢迎您来[[WP:NEW|撰寫]]！\\n',\n",
       "      '*希望您能享受共同编写百科的樂趣，成为一名充實的[[WP:EDIANS|维基百科人]]。\\n',\n",
       "      '<span style=\"display:none\"></span>我是欢迎您的维基人：[[User:Carrotkit|Carrotkit]] ([[User talk:Carrotkit|留言]]) 2011年8月3日 (三) 10:11 (UTC)<span style=\"display:none\"></span>\\n'],\n",
       "     'comments': [],\n",
       "     'cosigners': [],\n",
       "     'author': 'Carrotkit',\n",
       "     'time_stamp': '2011年8月3日 (三) 10:11 (UTC)'},\n",
       "    {'text_blocks': ['\\n'], 'comments': [], 'cosigners': []}],\n",
       "   'heading': ' Welcome '},\n",
       "  {'subsections': [],\n",
       "   'comments': [{'text_blocks': ['== 給您一些果仁蜜餅！ ==\\n',\n",
       "      '\\n',\n",
       "      '{| style=\"background-color: #fdffe7; border: 1px solid #fceb92;\"\\n|style=\"vertical-align: middle; padding: 5px;\" | [[File:Baklava - Turkish special, 80-ply.JPEG|135px]]\\n|style=\"vertical-align: middle; padding: 3px;\" |  --<span style=\"color:Navy;\">[[User:Wangxuan8331800|铁铁的火大了]]<small>（[[User talk:Wangxuan8331800|20.00000000000 words]]）</small></span> 2011年8月22日 (一) 14:08 (UTC)\\n|}\\n'],\n",
       "     'comments': [],\n",
       "     'cosigners': [],\n",
       "     'author': 'Wangxuan8331800',\n",
       "     'time_stamp': '2011年8月22日 (一) 14:08 (UTC)'},\n",
       "    {'text_blocks': ['\\n'], 'comments': [], 'cosigners': []}],\n",
       "   'heading': ' 給您一些果仁蜜餅！ '},\n",
       "  {'subsections': [],\n",
       "   'comments': [{'text_blocks': ['== 送给您一枚星章！ ==\\n',\n",
       "      '\\n',\n",
       "      '{| style=\"background-color: #fdffe7; border: 1px solid #fceb92;\"\\n|rowspan=\"2\" style=\"vertical-align: middle; padding: 5px;\" | [[File:Original Barnstar Hires.png|100px]]\\n|style=\"font-size: x-large; padding: 3px 3px 0 3px; height: 1.5em;\" | \\'\\'\\'原星章\\'\\'\\'\\n|-\\n|style=\"vertical-align: middle; padding: 3px;\" | 拜訪一下，第一位中文維基人呀！--[[User:Shujenchang|張樹人]]<sup>[[User talk:Shujenchang|留言]]·[[:en:User talk:Shujenchang|Talk]]·[[Special:电邮用户/Shujenchang|電郵]]·[[:en:Special:EmailUser/Shujenchang|Email]]·[[:en:User:Shujenchang/Contact#IMs|IM]]</sup> - [[Wikipedia:LGBT協會|LGBT協會]] 2012年8月29日 (三) 11:11 (UTC)\\n|}\\n'],\n",
       "     'comments': [],\n",
       "     'cosigners': [],\n",
       "     'author': 'Shujenchang',\n",
       "     'time_stamp': '2012年8月29日 (三) 11:11 (UTC)'},\n",
       "    {'text_blocks': ['\\n'], 'comments': [], 'cosigners': []}],\n",
       "   'heading': ' 送给您一枚星章！ '},\n",
       "  {'subsections': [],\n",
       "   'comments': [{'text_blocks': ['== 給您一個芝士漢堡！ ==\\n',\n",
       "      '\\n',\n",
       "      '{| style=\"background-color: #fdffe7; border: 1px solid #fceb92;\"\\n|style=\"vertical-align: middle; padding: 5px;\" | [[File:Cheeseburger.png|120px]]\\n|style=\"vertical-align: middle; padding: 3px;\" | 拜访--<big><span style=\"color:#E53333;font-family:微软雅黑;\">化学是</span>[[user:zt610152145|你]],<span style=\"color:#E53333;font-family:微软雅黑;\">化学是</span>[[用户讨论:zt610152145|我]]</big> 2012年11月12日 (一) 02:33 (UTC)\\n|}\\n'],\n",
       "     'comments': [],\n",
       "     'cosigners': [],\n",
       "     'author': 'zt610152145',\n",
       "     'time_stamp': '2012年11月12日 (一) 02:33 (UTC)'}],\n",
       "   'heading': ' 給您一個芝士漢堡！ '},\n",
       "  {'subsections': [],\n",
       "   'comments': [{'text_blocks': ['==[[:Bug test page 1]]的快速删除通知==\\n',\n",
       "      '[[File:Ambox warning_pn.svg|48px|left]] 您好，您创建的页面被提出[[WP:SD|快速删除]]，该条目很快会由管理员进行复核并决定是否保留。<br/>維基百科非常歡迎您的編輯，但請先看看[[WP:HEP|編輯幫助]]和[[WP:NOT|維基百科不是什麼]]，以免犯了[[WP:ACM|常見的錯誤]]。\\n',\n",
       "      '\\n',\n",
       "      '{{#ifexist::Bug test page 1|\\'\\'\\'请不要自行移除快速删除模板\\'\\'\\'，快速删除旨在加快處理顯然不合適的頁面。若您认为删除理由不合適或您已对条目做了改善，请在\\'\\'\\'[[:Bug test page 1|被提删页面]]\\'\\'\\'快速删除模板的正下方\\'\\'\\'加入<code>{{tl|hangon}}</code>\\'\\'\\'，并在[[{{TALKPAGENAME:Bug test page 1}}|条目的讨论页]]中说明理由。您亦可以与提删的维基人进行沟通|如果您想取回已刪除页面的条目内容，您可联络[[WP:ADMIN|管理员]]}}，多謝合作！<br/><small>幫助：[[WP:VP|互助客棧]] · [[維基百科:刪除指導|刪除指導]] · [[WP:VFU|存廢覆核請求]] · <span class=\"plainlinks\">[//zh.wikipedia.org/wiki/Wikipedia:IRC聊天频道/IRC?withJS=MediaWiki:Gadget-irc.js IRC聊天頻道]</span></small>--[[User:GZWDer|GZWDer]]（[[User talk:GZWDer|留言]]） 2013年5月16日 (四) 14:48 (UTC)\\n'],\n",
       "     'comments': [],\n",
       "     'cosigners': [],\n",
       "     'author': 'GZWDer',\n",
       "     'time_stamp': '2013年5月16日 (四) 14:48 (UTC)'},\n",
       "    {'text_blocks': ['\\n'], 'comments': [], 'cosigners': []}],\n",
       "   'heading': '[[:Bug test page 1]]的快速删除通知'},\n",
       "  {'subsections': [],\n",
       "   'comments': [{'text_blocks': ['== 给您的泡沫红茶！ ==\\n',\n",
       "      '\\n',\n",
       "      '{| style=\"background-color: #fdffe7; border: 1px solid #fceb92;\"\\n|style=\"vertical-align: middle; padding: 5px;\" | [[File:Bubble_Tea.png|65px]]\\n|style=\"vertical-align: middle; padding: 3px;\" | 拜访…… -- 砜中嘌呤的[[User:WhitePhosphorus|白磷]]<sub>[[User talk:WhitePhosphorus|萃取]] [[Special:用户贡献/WhitePhosphorus|打谱]]</sub> 2014年5月17日 (六) 08:29 (UTC)\\n|}\\n'],\n",
       "     'comments': [],\n",
       "     'cosigners': [],\n",
       "     'author': 'WhitePhosphorus',\n",
       "     'time_stamp': '2014年5月17日 (六) 08:29 (UTC)'},\n",
       "    {'text_blocks': ['\\n'], 'comments': [], 'cosigners': []}],\n",
       "   'heading': ' 给您的泡沫红茶！ '},\n",
       "  {'subsections': [],\n",
       "   'comments': [{'text_blocks': ['== 給您的星章！ ==\\n',\n",
       "      '\\n',\n",
       "      '{| style=\"background-color: #fdffe7; border: 1px solid #fceb92;\"\\n|rowspan=\"2\" style=\"vertical-align: middle; padding: 5px;\" | [[File:Special Barnstar Hires.png|100px]]\\n|style=\"font-size: x-large; padding: 3px 3px 0 3px; height: 1.5em;\" | \\'\\'\\'特別星章\\'\\'\\'\\n|-\\n|style=\"vertical-align: middle; padding: 3px;\" | 第一位中文維基人 [[User:Good afternoon|<span style=\"color: #006FFF;\">\\'\\'\\'本人\\'\\'\\'</span>]]\\'\\'\\'請\\'\\'\\'各位\\'\\'進行\\'\\'[[User talk:Good afternoon|具建設性的認真討論]] 2014年6月8日 (日) 10:49 (UTC)\\n|}\\n'],\n",
       "     'comments': [],\n",
       "     'cosigners': [],\n",
       "     'author': 'Good afternoon',\n",
       "     'time_stamp': '2014年6月8日 (日) 10:49 (UTC)'},\n",
       "    {'text_blocks': ['\\n'], 'comments': [], 'cosigners': []}],\n",
       "   'heading': ' 給您的星章！ '},\n",
       "  {'subsections': [],\n",
       "   'comments': [{'text_blocks': ['== 给您的泡沫红茶！ ==\\n',\n",
       "      '\\n',\n",
       "      '{| style=\"background-color: #fdffe7; border: 1px solid #fceb92;\"\\n|style=\"vertical-align: middle; padding: 5px;\" | [[File:Bubble_Tea.png|65px]]\\n|style=\"vertical-align: middle; padding: 3px;\" | 第一位中文维基人之地，nbfreeh不虚此行啊（某蛤蟆的话） [[User:Nbfreeh|Nbfreeh]]（[[User talk:Nbfreeh|留言]]） 2015年8月30日 (日) 11:23 (UTC)\\n|}\\n'],\n",
       "     'comments': [],\n",
       "     'cosigners': [],\n",
       "     'author': 'Nbfreeh',\n",
       "     'time_stamp': '2015年8月30日 (日) 11:23 (UTC)'},\n",
       "    {'text_blocks': ['\\n'], 'comments': [], 'cosigners': []}],\n",
       "   'heading': ' 给您的泡沫红茶！ '},\n",
       "  {'subsections': [],\n",
       "   'comments': [{'text_blocks': ['== 给您一个星章！ ==\\n',\n",
       "      '\\n',\n",
       "      '{| style=\"background-color: #fdffe7; border: 1px solid #fceb92;\"\\n|rowspan=\"2\" style=\"vertical-align: middle; padding: 5px;\" | [[File:Original Barnstar Hires.png|100px]]\\n|style=\"font-size: x-large; padding: 3px 3px 0 3px; height: 1.5em;\" | \\'\\'\\'原星章\\'\\'\\'\\n|-\\n|style=\"vertical-align: middle; padding: 3px;\" | 第一位维基人！考古考古！ ——[[User:小曹2015|<span style=\"font-family:Verdana;font-size:middle;border-radius:999px;background:#18C3F4;padding:0 10px;color:#fff\" title=\"Reply\">萌萌哒的小曹大大</span>]][[User_talk:小曹2015|(讨论)]](互助客栈讨论请talkback) 2016年9月11日 (日) 12:52 (UTC)\\n|}\\n'],\n",
       "     'comments': [],\n",
       "     'cosigners': [],\n",
       "     'author': '小曹2015',\n",
       "     'time_stamp': '2016年9月11日 (日) 12:52 (UTC)'},\n",
       "    {'text_blocks': ['\\n'], 'comments': [], 'cosigners': []}],\n",
       "   'heading': ' 给您一个星章！ '},\n",
       "  {'subsections': [],\n",
       "   'comments': [{'text_blocks': ['== 给您一个星章！ ==\\n',\n",
       "      '\\n',\n",
       "      '{| style=\"background-color: #fdffe7; border: 1px solid #fceb92;\"\\n|rowspan=\"2\" style=\"vertical-align: middle; padding: 5px;\" | [[File:Special Barnstar Hires.png|100px]]\\n|style=\"font-size: x-large; padding: 3px 3px 0 3px; height: 1.5em;\" | \\'\\'\\'特别星章\\'\\'\\'\\n|-\\n|style=\"vertical-align: middle; padding: 3px;\" | 膜拜XD [[User:Jpcomic|<span style=\"color:#6495ED\">\\'\\'\\'Jpcomic\\'\\'\\'</span>]][[WP:WSU|<span style=\"color:gold\">\\'\\'\\'-wsu\\'\\'\\'</span>]]<sub>[[用户讨论:Jpcomic|<span style=\"color:#52D017\">留言</span>]]</sub> 2017年8月8日 (二) 07:19 (UTC)\\n|}\\n'],\n",
       "     'comments': [],\n",
       "     'cosigners': [],\n",
       "     'author': 'Jpcomic',\n",
       "     'time_stamp': '2017年8月8日 (二) 07:19 (UTC)'},\n",
       "    {'text_blocks': ['\\n'], 'comments': [], 'cosigners': []}],\n",
       "   'heading': ' 给您一个星章！ '},\n",
       "  {'subsections': [],\n",
       "   'comments': [{'text_blocks': ['== 馅饼送给您！ ==\\n',\n",
       "      '\\n',\n",
       "      '{| style=\"background-color: #fdffe7; border: 1px solid #fceb92;\"\\n|style=\"vertical-align: middle; padding: 5px;\" | [[File:A very beautiful Nectarine Pie.jpg|120px]]\\n|style=\"vertical-align: middle; padding: 3px;\" | 来考古啦，第一位维基人！ [[U:Brror|<span style=\"background:#ccc;padding:0px 4px\">Ｂ</span>]][[UT:Brror|<span style=\"background:#888;padding:0px 4px;color:#fff\">✉</span>]][[U:Brror/signature|<span style=\"background:#444; padding:0px 4px;color:#fff\">✎</span>]] 2018年4月5日 (四) 00:32 (UTC)\\n|}\\n',\n",
       "      '\\n'],\n",
       "     'comments': [],\n",
       "     'cosigners': []}],\n",
       "   'heading': ' 馅饼送给您！ '},\n",
       "  {'subsections': [],\n",
       "   'comments': [{'text_blocks': ['== 一只小猫送给您！ ==\\n',\n",
       "      '\\n',\n",
       "      '[[File:Red Kitten 01.jpg|left|150px]]\\n',\n",
       "      '考古路过，第一位中文维基人。。。\\n',\n",
       "      '\\n',\n",
       "      '[[User:Kiraclyne|<span style=\"color:black\">。</span>]][[User:Kiraclyne/留名区|<span style=\"color:black\">。</span>]][[User talk:kiraclyne|<span style=\"color:black\">。</span>]] 2018年5月1日 (二) 07:25 (UTC)\\n'],\n",
       "     'comments': [],\n",
       "     'cosigners': [],\n",
       "     'author': 'kiraclyne',\n",
       "     'time_stamp': '2018年5月1日 (二) 07:25 (UTC)'},\n",
       "    {'text_blocks': ['<br style=\"clear: both;\"/>\\n', '\\n'],\n",
       "     'comments': [],\n",
       "     'cosigners': []}],\n",
       "   'heading': ' 一只小猫送给您！ '},\n",
       "  {'subsections': [],\n",
       "   'comments': [{'text_blocks': ['== 给您的乳酪汉堡！ ==\\n',\n",
       "      '\\n',\n",
       "      '{| style=\"background-color: #fdffe7; border: 1px solid #fceb92;\"\\n|style=\"vertical-align: middle; padding: 5px;\" | [[File:Cheeseburger.png|120px]]\\n|style=\"vertical-align: middle; padding: 3px;\" | 前来考古，拜访第一位中文维基人！ [[User:Soaring swallow|<span style=\"color: #0033FF;\">\\'\\'\\'Soaring Swallow\\'\\'\\'</span>]]※[[User talk:Soaring swallow|<span style=\"color: #FFBF00;\">\\'\\'\\'给我留言\\'\\'\\'</span>]] 2018年11月20日 (二) 14:46 (UTC)\\n|}\\n'],\n",
       "     'comments': [],\n",
       "     'cosigners': [],\n",
       "     'author': 'Soaring swallow',\n",
       "     'time_stamp': '2018年11月20日 (二) 14:46 (UTC)'},\n",
       "    {'text_blocks': ['\\n'], 'comments': [], 'cosigners': []}],\n",
       "   'heading': ' 给您的乳酪汉堡！ '},\n",
       "  {'subsections': [],\n",
       "   'comments': [{'text_blocks': ['== 给您一个星章！ ==\\n',\n",
       "      '\\n',\n",
       "      '{| style=\"background-color: #fdffe7; border: 1px solid #fceb92;\"\\n|rowspan=\"2\" style=\"vertical-align: middle; padding: 5px;\" | [[File:Special Barnstar Hires.png|100px]]\\n|style=\"font-size: x-large; padding: 3px 3px 0 3px; height: 1.5em;\" | \\'\\'\\'特别星章\\'\\'\\'\\n|-\\n|style=\"vertical-align: middle; padding: 3px;\" | Thanks for your help about Chinese Wikipedia! ------是[[User:橙子木|<span style=\"color:#FF8000;font-size:15pt\">橙🍊</span>]][[User talk:橙子木|<span style=\"color:#FF8000;font-size:15pt\">子🍊</span>]][[User:橙子木/模块列表/签名区|<span style=\"color:#FF8000;font-size:15pt\">木</span>]]哦! 2020年2月19日 (三) 16:32 (UTC)\\n|}\\n'],\n",
       "     'comments': [],\n",
       "     'cosigners': [],\n",
       "     'author': '橙子木',\n",
       "     'time_stamp': '2020年2月19日 (三) 16:32 (UTC)'},\n",
       "    {'text_blocks': ['\\n'], 'comments': [], 'cosigners': []}],\n",
       "   'heading': ' 给您一个星章！ '},\n",
       "  {'subsections': [],\n",
       "   'comments': [{'text_blocks': ['== 给您一个星章！ ==\\n',\n",
       "      '\\n',\n",
       "      '{| style=\"background-color: #fdffe7; border: 1px solid #fceb92;\"\\n|rowspan=\"2\" style=\"vertical-align: middle; padding: 5px;\" | [[File:Special Barnstar Hires.png|100px]]\\n|style=\"font-size: x-large; padding: 3px 3px 0 3px; height: 1.5em;\" | \\'\\'\\'特别星章\\'\\'\\'\\n|-\\n|style=\"vertical-align: middle; padding: 3px;\" | 第一位中文维基人，膜拜！ <span style=\"font: 16px Segoe Script;text-shadow:0 1px 3px #BF00BE\">[[User:XinuGod|\\'\\'\\'XinuGod\\'\\'\\']]</span> <span style=\"font: 12px Segoe Script;text-shadow:0 1px 5px #5C952E\">[[User_talk:XinuGod|留言]]&#124;[[User:XinuGod#签名|签名]]</span> 2020年5月31日 (日) 11:55 (UTC)\\n|}\\n'],\n",
       "     'comments': [],\n",
       "     'cosigners': [],\n",
       "     'author': 'XinuGod',\n",
       "     'time_stamp': '2020年5月31日 (日) 11:55 (UTC)'},\n",
       "    {'text_blocks': ['\\n'], 'comments': [], 'cosigners': []}],\n",
       "   'heading': ' 给您一个星章！ '},\n",
       "  {'subsections': [],\n",
       "   'comments': [{'text_blocks': ['== 给您一个星章！ ==\\n',\n",
       "      '\\n',\n",
       "      '{| style=\"background-color: #fdffe7; border: 1px solid #fceb92;\"\\n|rowspan=\"2\" style=\"vertical-align: middle; padding: 5px;\" | [[File:Surreal Barnstar Hires.png|100px]]\\n|style=\"font-size: x-large; padding: 3px 3px 0 3px; height: 1.5em;\" | \\'\\'\\'超现实星章\\'\\'\\'\\n|-\\n|style=\"vertical-align: middle; padding: 3px;\" | 考古，拜访第一位维基人！ ——[[User:X-SHLIED|<span style=\"color: #007FFF;\">\\'\\'\\'他人が悪い。自分は悪くない。他人だけが悪い。自分だけが??\\'\\'\\'</span>]]🧡[[User:X-SHLIED|X-SHLIED]] 2020年8月26日 (三) 10:21 (UTC)\\n|}\\n'],\n",
       "     'comments': [],\n",
       "     'cosigners': [],\n",
       "     'author': 'X-SHLIED',\n",
       "     'time_stamp': '2020年8月26日 (三) 10:21 (UTC)'},\n",
       "    {'text_blocks': ['\\n'], 'comments': [], 'cosigners': []}],\n",
       "   'heading': ' 给您一个星章！ '},\n",
       "  {'subsections': [],\n",
       "   'comments': [{'text_blocks': ['== 紙杯蛋糕送給您！ ==\\n',\n",
       "      '\\n',\n",
       "      '{| style=\"background-color: #fdffe7; border: 1px solid #fceb92;\"\\n|style=\"vertical-align: middle; padding: 5px;\" | [[File:Choco-Nut Bake with Meringue Top cropped.jpg|120px]]\\n|style=\"vertical-align: middle; padding: 3px;\" | 考古紀念 [[User:Jonathan5566|<span style=\"color: #E8E615;\"><span style=\"font-size:large;\"><b>木瓜不是食物</b></span></span>]]#[[User Talk:Jonathan5566|留言]] 2021年4月22日 (四) 13:28 (UTC)\\n|}\\n'],\n",
       "     'comments': [],\n",
       "     'cosigners': [],\n",
       "     'author': 'Jonathan5566',\n",
       "     'time_stamp': '2021年4月22日 (四) 13:28 (UTC)'},\n",
       "    {'text_blocks': ['\\n'], 'comments': [], 'cosigners': []}],\n",
       "   'heading': ' 紙杯蛋糕送給您！ '},\n",
       "  {'subsections': [],\n",
       "   'comments': [{'text_blocks': ['==考古==\\n',\n",
       "      \"'''Welcome!'''\\n\",\n",
       "      '\\n',\n",
       "      'Hello, Brion VIBBER, and [[Wikipedia:欢迎|welcome]] to Wikipedia! Thank you for [[Special:用户贡献/Brion VIBBER|your contributions]]. I hope you like the place and decide to stay. Here are some pages that you might find helpful:\\n',\n",
       "      '*[[Wikipedia:五大支柱|The five pillars of Wikipedia]] ([[:en:Wikipedia:Five pillars|en]])\\n',\n",
       "      '*[[Wikipedia:入门|Tutorial]] ([[:en:Wikipedia:Five pillars|en]])\\n',\n",
       "      '*[[Help:编辑页面|How to edit a page]] and [[Wikipedia:改進條目|How to develop articles]] ([[:en:Wikipedia:Editing|en1]], [[:en:Wikipedia:Article development|en1]])\\n',\n",
       "      '*[[Wikipedia:您的第一篇条目|How to create your first article]] ([[:en:Your first article|en]])\\n',\n",
       "      '*[[Wikipedia:格式手册|Manual of Style]]([[:en:Wikipedia:Manual of Style|en]])\\n',\n",
       "      'I hope you enjoy editing here and being a [[Wikipedia:維基百科人|Wikipedian]]! Please [[Wikipedia:在讨论页上签名|sign]] your messages on [[Wikipedia:讨论页|discussion page]]s using four tildes (<nowiki>~~~~</nowiki>); this will automatically insert your username and the date. If you need help, check out [[Wikipedia:問題|Wikipedia:Questions]], ask me on my talk page, or ask your question on this page and then place <code><nowiki>{{help me}}</nowiki></code> before the question. \\n',\n",
       "      '\\n',\n",
       "      \"If you have any questions about the Chinese Wikipedia, please leave a message [[Wikipedia talk:Guestbook for non-Chinese-speakers|''here'']]. Thank you for visiting! Again, welcome! [[User:Zfshuo|Steve]]（[[User talk:Zfshuo|留言]]） 2021年9月25日 (六) 06:59 (UTC)<!-- Template:Welcome -->\\n\"],\n",
       "     'comments': [],\n",
       "     'cosigners': [],\n",
       "     'author': 'Zfshuo',\n",
       "     'time_stamp': '2021年9月25日 (六) 06:59 (UTC)'},\n",
       "    {'text_blocks': ['\\n'], 'comments': [], 'cosigners': []}],\n",
       "   'heading': '考古'},\n",
       "  {'subsections': [],\n",
       "   'comments': [{'text_blocks': ['== 一杯雪糕送給您！ ==\\n',\n",
       "      '{| style=\"background-color: #fdffe7; border: 1px solid #fceb92;\"\\n|style=\"vertical-align: middle; padding: 5px;\" | [[File:Ice_cream_with_whipped_cream,_chocolate_syrup,_and_a_wafer.jpg|200px]]\\n|style=\"vertical-align: middle; padding: 3px;\" | 请前辈恰雪糕！！！中文维基从这里启航！--[[User:Ljk041123|<span style=\"color: #007FFF;\">\\'\\'\\'Ljk041123\\'\\'\\'</span>]][[User talk:Ljk041123|<span style=\"color: #007FFF;\">\\'\\'\\' 与我对话 \\'\\'\\'</span>]] 2022年4月10日 (日) 13:28 (UTC)\\n|}\\n'],\n",
       "     'comments': [],\n",
       "     'cosigners': [],\n",
       "     'author': 'Ljk041123',\n",
       "     'time_stamp': '2022年4月10日 (日) 13:28 (UTC)'},\n",
       "    {'text_blocks': ['\\n'], 'comments': [], 'cosigners': []}],\n",
       "   'heading': ' 一杯雪糕送給您！ '},\n",
       "  {'subsections': [],\n",
       "   'comments': [{'text_blocks': ['== 給您的星章！ ==\\n',\n",
       "      '\\n',\n",
       "      '{| style=\"background-color: #fdffe7; border: 1px solid #fceb92;\"\\n|rowspan=\"2\" style=\"vertical-align: middle; padding: 5px;\" | [[File:Original Barnstar Hires.png|100px]]\\n|style=\"font-size: x-large; padding: 3px 3px 0 3px; height: 1.5em;\" | \\'\\'\\'原星章\\'\\'\\'\\n|-\\n|style=\"vertical-align: middle; padding: 3px;\" | Thanks for your contributions during the early days of the Chinese Wikipedia. We will never forget them. —— \\'\\'\\'[[使用者:Ericliu1912|Eric Liu]]\\'\\'\\'<sub> -{創造}-は生命（\\'\\'\\'[[使用者討論:Ericliu1912|留言]]・[[使用者:Ericliu1912#訪客芳名錄|留名]]・[[維基百科:維基學生會|學生會]]\\'\\'\\'）</sub> 2022年6月13日 (一) 09:07 (UTC)\\n|}\\n',\n",
       "      '\\n'],\n",
       "     'comments': [],\n",
       "     'cosigners': []}],\n",
       "   'heading': ' 給您的星章！ '},\n",
       "  {'subsections': [],\n",
       "   'comments': [{'text_blocks': ['== 给您一个星章！ ==\\n',\n",
       "      '\\n',\n",
       "      '{| style=\"background-color: #fdffe7; border: 1px solid #fceb92;\"\\n|rowspan=\"2\" style=\"vertical-align: middle; padding: 5px;\" | [[File:Original Barnstar Hires.png|100px]]\\n|style=\"font-size: x-large; padding: 3px 3px 0 3px; height: 1.5em;\" | \\'\\'\\'原星章\\'\\'\\'\\n|-\\n|style=\"vertical-align: middle; padding: 3px;\" | 考古，拜访中维梦开始的地方 \\'\\'\\'[[U:Zys6913|Zys6913]]\\'\\'\\'<sup>\\'\\'\\'[[UT:Zys6913|论]][[U:Zys6913/签名|签]][[Special:用户贡献/Zys6913|编]]\\'\\'\\'</sup> 2023年1月9日 (一) 12:34 (UTC)\\n|}\\n'],\n",
       "     'comments': [],\n",
       "     'cosigners': [],\n",
       "     'author': 'Zys6913',\n",
       "     'time_stamp': '2023年1月9日 (一) 12:34 (UTC)'},\n",
       "    {'text_blocks': ['\\n'], 'comments': [], 'cosigners': []}],\n",
       "   'heading': ' 给您一个星章！ '},\n",
       "  {'subsections': [],\n",
       "   'comments': [{'text_blocks': ['== Salute! ==\\n',\n",
       "      '\\n',\n",
       "      '向您致意！--[[User:KiraRettosei|KiraRettosei]]（[[User talk:KiraRettosei|留言]]） 2023年2月21日 (二) 06:19 (UTC)'],\n",
       "     'comments': [],\n",
       "     'cosigners': [],\n",
       "     'author': 'KiraRettosei',\n",
       "     'time_stamp': '2023年2月21日 (二) 06:19 (UTC)'}],\n",
       "   'heading': ' Salute! '}]}"
      ]
     },
     "execution_count": 32,
     "metadata": {},
     "output_type": "execute_result"
    }
   ],
   "source": [
    "parsed_ch_ex "
   ]
  },
  {
   "cell_type": "code",
   "execution_count": 33,
   "id": "00627398",
   "metadata": {},
   "outputs": [
    {
     "name": "stdout",
     "output_type": "stream",
     "text": [
      "26 sections parsed by python-mwchatter\n"
     ]
    }
   ],
   "source": [
    "print(\"{} sections parsed by python-mwchatter\".format(len(parsed_ch_ex[\"sections\"])))"
   ]
  },
  {
   "cell_type": "code",
   "execution_count": 34,
   "id": "96f198d6",
   "metadata": {},
   "outputs": [
    {
     "name": "stdout",
     "output_type": "stream",
     "text": [
      "26 sections parsed by mwparserfromhell\n"
     ]
    }
   ],
   "source": [
    "gold_parse = mwparserfromhell.parse(revision.text)\n",
    "print(\"{} sections parsed by mwparserfromhell\".format(len(gold_parse.get_sections())))"
   ]
  },
  {
   "cell_type": "markdown",
   "id": "a472fae2",
   "metadata": {},
   "source": [
    "The second section, which is very cleanly structured (indentation, every comment signed): https://zh.wikipedia.org/wiki/User_talk:Brooke_Vibber#Subpages"
   ]
  },
  {
   "cell_type": "code",
   "execution_count": 35,
   "id": "b6b81660",
   "metadata": {
    "scrolled": true
   },
   "outputs": [
    {
     "data": {
      "text/plain": [
       "{'subsections': [],\n",
       " 'comments': [{'text_blocks': ['=== Subpages ===\\n',\n",
       "    '\\n',\n",
       "    'I remember reading somewhere in the EN WP that subpages will interfere with the yet-to-come system. Did I remember this wrongly?\\n',\n",
       "    '\\n',\n",
       "    'I ask this, because the [[Wikipedia 对话:繁简体问题/档案1 | current convention]] established in March in distinguishing between the traditional and simplified versions by the same title is using a slash before the identifier of the style (繁 or 简). Methods that have been tried and failed, include:\\n',\n",
       "    '# Attaching the identifier directly: [[WikiWiki]] -> [[WikiWiki繁]]\\n',\n",
       "    '#: It is unreadable if the title is Chinese\\n',\n",
       "    '# Parenthesis: [[Wikipedia]] -> [[Wikipedia(繁)]]\\n',\n",
       "    '#: It interferes with ambiguitation\\n',\n",
       "    '#  \\n',\n",
       "    '# A dot: [[Kristen Nygaard]] -> [[Kristen Nygaard·繁]]\\n',\n",
       "    \"#: The dot in Chinese is used as a name division mark, so it'd imply that Nygaard's surname, or at least a part of it, is 繁. (See [[en:punctuation]])\\n\",\n",
       "    '\\n',\n",
       "    'So currently, we use:\\n',\n",
       "    ': 3. [[黑客]] -> [[黑客/繁]].\\n',\n",
       "    '\\n',\n",
       "    \"If subpage will be a problem, we could use Chinese parenthesis:（） instead of Western parenthesis as in option 2. Although it still physically resembles disambiguitation, in practice the computer can't confuse it with the real one. Any suggestion? --[[用户:Menchi|Menchi]] 2003年5月22日 16:46 (UTC)\\n\"],\n",
       "   'comments': [{'text_blocks': ['\\n',\n",
       "      ':Sorry for taking so long to respond!\\n',\n",
       "      '\\n',\n",
       "      \":There is no longer any special 'magic' for slash-subpages except in the user and talk namespaces, where it automatically shows a link back to the 'parent' page... so on [[对话:黑客/繁]] you'll see there will automatically be a link to [[对话:黑客]] at the top of the page. That's actually kind of convenient. :) Also the special user links (contributions, email) ''should'' work if there is a /繁 subpage for a user page, but I haven't tested this. Slashes are otherwise just considered part of the page title, so nothing should go horribly wrong because they're being used. --[[用户:Brion VIBBER|Brion VIBBER]] 2003年5月25日 02:12 (UTC)\\n\"],\n",
       "     'comments': [{'text_blocks': ['\\n',\n",
       "        ':: Thank you for the reply. --[[用户:Menchi|Menchi]] 2003年5月28日 03:40 (UTC)\\n'],\n",
       "       'comments': [],\n",
       "       'cosigners': [],\n",
       "       'author': 'Menchi',\n",
       "       'time_stamp': '2003年5月28日 03:40 (UTC)'}],\n",
       "     'cosigners': [],\n",
       "     'author': 'Brion VIBBER',\n",
       "     'time_stamp': '2003年5月25日 02:12 (UTC)'}],\n",
       "   'cosigners': [],\n",
       "   'author': 'Menchi',\n",
       "   'time_stamp': '2003年5月22日 16:46 (UTC)'},\n",
       "  {'text_blocks': ['\\n', '----\\n', '\\n'], 'comments': [], 'cosigners': []}],\n",
       " 'heading': ' Subpages '}"
      ]
     },
     "execution_count": 35,
     "metadata": {},
     "output_type": "execute_result"
    }
   ],
   "source": [
    "parsed_ch_ex[\"sections\"][1]"
   ]
  },
  {
   "cell_type": "markdown",
   "id": "e5de6445",
   "metadata": {},
   "source": [
    "The first section is trickier to parse because there are some unsigned comments, people didn't indent, no headings: https://zh.wikipedia.org/wiki/User_talk:Brooke_Vibber#Subpages"
   ]
  },
  {
   "cell_type": "code",
   "execution_count": 36,
   "id": "3c1386b3",
   "metadata": {},
   "outputs": [
    {
     "data": {
      "text/plain": [
       "{'subsections': [],\n",
       " 'comments': [{'text_blocks': ['<div style=\"width: 100%; margin: 0.2em 0; padding: 0.3em 0; border-top: 1px solid #ddd; border-bottom: 1px solid #ddd; font-size: 120%;\">\\'\\'\\'您好，Brion VIBBER！[[Wikipedia:欢迎，新来者|欢迎]]加入维基百科！\\'\\'\\'</div>\\n',\n",
       "    \"感謝您對維基百科的興趣與貢獻，希望您會喜歡這裡。除了'''[[Wikipedia:欢迎，新来者|歡迎辭]]'''外，也請您了解以下重要文章：\\n\",\n",
       "    '{| style=\"background: transparent; border-top: 1px solid #ddd; border-bottom: 1px solid #ddd; border-collpase: collapse;\" \\n|- style=\"vertical-align: top;\"\\n| style=\"background: #f4f4f4; padding: .8em .2em;\" | [[Image:Nuvola apps korganizer.png|35px|left|政策]]\\n<div style=\"margin-left: 45px;\">\\'\\'\\'[[Wikipedia:五大支柱|五大支柱]]\\'\\'\\'<br /><small>[[Wikipedia:不适合维基百科的文章|百科]]、[[Wikipedia:中性的观点|中立]]、[[Wikipedia:简明版权信息|开放]]、[[Wikipedia:文明|互重]]、[[Wikipedia:忽略所有规则|勇於改善]]</small></div>\\n| style=\"background: #faf1df; padding: .8em .2em;\" | [[Image:Nuvola apps emacs.png|45px|left|GNU]]\\n<div style=\"margin-left: 55px;\">\\'\\'\\'[[Wikipedia:版权常见问题解答|版權問題解答]]\\'\\'\\'<br /><small>貢獻內容必须是<u>您所著或獲得授權</u>、<br>同意在[[Wikipedia:版权信息|GFDL]]條款下發布</small></div>\\n| style=\"background: #f4f4f4; padding: .8em .2em;\" | [[Image:Postscript-viewer.svg|35px|left|手冊]]\\n<div style=\"margin-left: 45px;\">\\'\\'\\'[[Wikipedia:使用指南|使用指南]]\\'\\'\\'<br /><small>[[help:如何访问维基百科|安全访问]]  / [[Wikipedia:沙盒|測試編輯]]  / [[Wikipedia:如何编辑页面|如何编辑]] <br> [[Help:目录|使用手册]] / [[Help:中文维基百科的繁简处理|繁简处理]] / [[Wikipedia:如何写出非常好的条目|寫個好條目]]</small></div>\\n|-\\n| colspan=\"3\" style=\"border-top: 1px solid #ddd; padding-top: .3em;\" | [[Image:Icon apps query.svg|18px|left|問號]]\\'\\'\\'有问题？\\'\\'\\'請到\\'\\'\\'[[Wikipedia:互助客栈|互助客栈]]\\'\\'\\'询问，或在我的对话页提出。別忘記：討論後要[[Wikipedia:在讨论页上签名|\\'\\'\\'簽名\\'\\'\\']]，方式之一是留下4個波浪紋「<nowiki>~~~~</nowiki>」。<div lang=\"en\" style=\"font-style: italic; font-size: 90%;\">If you have any questions about the Chinese Wikipedia, please leave a message [[Wikipedia talk:Guestbook for non-Chinese-speakers|\\'\\'here\\'\\']]. Thank you for visiting!</div>\\n|}\\n',\n",
       "    '*在中文維基裡，[[間隔號]]的輸入比較特別，詳參[[Help:如何輸入間隔號]]。\\n',\n",
       "    '*希望您能享受编写人類共有之自由百科的快乐，成为一名快樂的[[Wikipedia:维基百科人|维基百科人]]。\\n',\n",
       "    '<span style=\"display:none\"></span>--<big>[[User:A10323nnn|nnn]]‧[[User talk:A10323nnn|分區討論]]‧[[Special:用戶貢獻/A10323nnn|做左咩?]]</big> 2011年5月22日 (日) 04:24 (UTC)\\n'],\n",
       "   'comments': [],\n",
       "   'cosigners': [],\n",
       "   'author': 'A10323nnn',\n",
       "   'time_stamp': '2011年5月22日 (日) 04:24 (UTC)'},\n",
       "  {'text_blocks': ['\\n',\n",
       "    \"''Note; I don't keep track of this page as often as on my [http://eo.wikipedia.org/wiki/Vikipediista_diskuto:Brion_VIBBER Esperanto], [http://www.wikipedia.org/wiki/User_talk:Brion_VIBBER English], or [http://fr.wikipedia.org/wiki/Discussion_Utilisateur:Brion_VIBBER French] user talk pages. Be sure to leave a note on one of them pointing at any important updates here.''\\n\",\n",
       "    '\\n',\n",
       "    '----\\n',\n",
       "    '\\n',\n",
       "    \"Hi Brion. Interested as I am in the page statistics for the International wikis, I couldn't help but notice that according to the [[Special:Statistics]] page the Chinese wiki is now by far the largest wiki in the world, with a whopping 18,446,744,073,709,551,615 valid pages! Too bad I can't read Chinese ;) -Scipius\\n\",\n",
       "    '\\n',\n",
       "    '----\\n',\n",
       "    '\\n',\n",
       "    'Hi Brion.\\n',\n",
       "    '\\n',\n",
       "    'I have some suggestions to the Chinese wikipedia:\\n',\n",
       "    '\\n',\n",
       "    '1. It is preferred to maintain a single version for Chinese language. Instead of a simplified version as well as a Formal Chinese version. There are possible to maintain a Formal Chinese version, but add the necessary translation module to the system which automatically translate the Formal Chinese version to the simplified version for Readers who do not understand the formal Chinese. \\n',\n",
       "    '\\n',\n",
       "    'Such an facility could be built in sort time with the help of the unihan database (www.unicode.org). \\n',\n",
       "    '\\n',\n",
       "    'There are some possible way to handle this: \\n',\n",
       "    '\\n',\n",
       "    '1.a through user selection: add to user perference a selection for simplify display.\\n',\n",
       "    '\\n',\n",
       "    '1.b through the browser/server content negoation (zh-tw, zh-hk, zh-mo to select Formal Chinese; zh-cn, zh-sg to select simplified Chinese)\\n',\n",
       "    '\\n',\n",
       "    '1.c add an simplified link for display the simplified version.\\n',\n",
       "    '\\n',\n",
       "    '1.d add an selection screen or seprated url for selection.\\n',\n",
       "    '\\n',\n",
       "    '\\n',\n",
       "    '2. If the above is accepted, we still accept simplified Chinese writings. However, efforts can be done to convert them into formal Chinese later. A small tool can be used to assist this process.\\n',\n",
       "    '\\n',\n",
       "    '3. The Search facility also need to handle the conversion: for searching, converting both the search expression and the text into simplified form will be perferred. \\n',\n",
       "    '\\n',\n",
       "    '\\n',\n",
       "    \"4. If I understand correctly, the current wikipedia software provide search on single characters for Chinese, it will be suficient for Wikipedia's usage. But I would like to point-out that the ranking algorithm would weight the consective matching a higher score, then it will be more close to the searcher's expectation.\\n\",\n",
       "    '\\n',\n",
       "    'I would be happy to write a small script to extract the simplified mapping table from the unihan database if you like.\\n',\n",
       "    '\\n',\n",
       "    'Kent Sin\\n',\n",
       "    'kentsin@yahoo.com\\n',\n",
       "    '2003.1.4\\n',\n",
       "    '\\n',\n",
       "    '\\n',\n",
       "    \":My impression is that converting traditional to simplified is relatively simpler (mostly many->one) than simplified to traditional (more one->many and many->many), but that it's still not going to be perfect. So, this should be doable, particularly if we can come up with a simple syntax for specifying conversion overrides. (Vaguely similarly, I'd like to see automatic furigana on the Japanese wiki, which again is going to be perfect, and would benefit from a simple override syntax.) --[[用户:Brion VIBBER|Brion VIBBER]] 2003年1月7日 09:22 (UTC)\\n\"],\n",
       "   'comments': [],\n",
       "   'cosigners': [],\n",
       "   'author': 'Brion VIBBER',\n",
       "   'time_stamp': '2003年1月7日 09:22 (UTC)'},\n",
       "  {'text_blocks': ['\\n',\n",
       "    '----\\n',\n",
       "    '\\n',\n",
       "    ':Hi Brion\\n',\n",
       "    \"I have some suggestion about the tradition/simplified chinese issue. Basically I would propose to have zh_tw.wikipedia.org and zh_cn.wikipedia.org (and maybe zh_HK,zh_SG too) and use wikipedia's interlanguage to link between zh_tw and zh_cn. The reasons to have seperate page are:\\n\",\n",
       "    '*The interface. This would allow to use tradition or simplified chinese as interface. (note that many these interface items have different chinese transltions for cn/hk/tw).\\n',\n",
       "    '*The \"encoding\" conversion between tradition/simplified Chinese is not difficult. However, a traditional Chinese text which is \"encoding\" converted from the simplified Chinese text might be very different from a text which is written in tradition Chinese originally and vice visa. Also many translation are different. For example the term \\'software\\'-> translated into zh_cn ->converted into zh_tw is different than term \\'software\\'->translated into zh_tw.\\n',\n",
       "    '*This would also help about the search problem.\\n',\n",
       "    '*I would like to propose the following structure\\n',\n",
       "    '**Setup zh_cn.wikipedia.org and zh_tw.wikipedia.org\\n',\n",
       "    '**For each item in encyclopedia one should have\\n',\n",
       "    '***In zh_cn\\n',\n",
       "    '****Item name translated into zh_cn\\n',\n",
       "    '****link to the corresponding item in zh_tw\\n',\n",
       "    '****text in zh_cn\\n',\n",
       "    '****encoding conversion of about text into zh_tw.\\n',\n",
       "    '***In zh_tw\\n',\n",
       "    '****Item name translated into zh_tw\\n',\n",
       "    '****link to the corresponding item in zh_cn\\n',\n",
       "    '****text in zh_tw\\n',\n",
       "    '****encoding conversion of about text into zh_cn.\\n',\n",
       "    '\\n',\n",
       "    'I think the scheme is easy to implement and can avoid many problems.\\n',\n",
       "    '::::::::::::::Pektiong\\n',\n",
       "    '\\n',\n",
       "    '*Be more precise. If we try to identify language/variant/encoding/script then we are facing the possible combination of lang=zh(Mandarin), variant=cn,tw,hk,sg, encoding=utf,big5,gb(but utf is can conver big5/gb), and script=simp or trand. There are some way to deal with this problem on the server side so the end user can automatically see the page in desired lang/variant/encoding/script. I am checking what is necessary for this to be done. (check [http://search.cpan.org/author/AUTRIJUS/Encode-HanConvert/ Encode-HanConvedrt],and [http://search.cpan.org/author/AUTRIJUS/Apache-Filter-HanConvert/ apache-filter-hanconvert] maybe?). If this is difficult to implement within wikipedia.org then mayhbe maintain seperate entry is better.\\n',\n",
       "    '::::::::::::::Pektiong\\n',\n",
       "    '\\n',\n",
       "    '-----\\n',\n",
       "    '\\n'],\n",
       "   'comments': [],\n",
       "   'cosigners': []}]}"
      ]
     },
     "execution_count": 36,
     "metadata": {},
     "output_type": "execute_result"
    }
   ],
   "source": [
    "parsed_ch_ex[\"sections\"][0]"
   ]
  },
  {
   "cell_type": "markdown",
   "id": "941804c0",
   "metadata": {},
   "source": [
    "https://zh.wikipedia.org/wiki/User_talk:Brooke_Vibber#Total_Search_Malfunction"
   ]
  },
  {
   "cell_type": "code",
   "execution_count": 37,
   "id": "f64840af",
   "metadata": {},
   "outputs": [
    {
     "data": {
      "text/plain": [
       "{'subsections': [],\n",
       " 'comments': [{'text_blocks': ['=== Total Search Malfunction ===\\n',\n",
       "    '\\n',\n",
       "    'Several of the Wikipedians have expressed concerns about the malfunction of search. Every single word leads to a warning message. --[[用户:Menchi|Menchi]] 2003年5月28日 03:40 (UTC)\\n'],\n",
       "   'comments': [{'text_blocks': ['\\n',\n",
       "      ': Thanks for the quick fix. --[[用户:Menchi|Menchi]] 2003年5月30日 08:24 (UTC)\\n'],\n",
       "     'comments': [],\n",
       "     'cosigners': [],\n",
       "     'author': 'Menchi',\n",
       "     'time_stamp': '2003年5月30日 08:24 (UTC)'}],\n",
       "   'cosigners': [],\n",
       "   'author': 'Menchi',\n",
       "   'time_stamp': '2003年5月28日 03:40 (UTC)'},\n",
       "  {'text_blocks': ['\\n', '----\\n', '\\n', 'test\\n', '\\n'],\n",
       "   'comments': [],\n",
       "   'cosigners': []}],\n",
       " 'heading': ' Total Search Malfunction '}"
      ]
     },
     "execution_count": 37,
     "metadata": {},
     "output_type": "execute_result"
    }
   ],
   "source": [
    "parsed_ch_ex[\"sections\"][2]"
   ]
  },
  {
   "cell_type": "markdown",
   "id": "31367b4a",
   "metadata": {},
   "source": [
    "https://zh.wikipedia.org/wiki/User_talk:Brooke_Vibber#'Defunct'_my_admin_privilege"
   ]
  },
  {
   "cell_type": "code",
   "execution_count": 38,
   "id": "aa9d526d",
   "metadata": {},
   "outputs": [
    {
     "data": {
      "text/plain": [
       "{'subsections': [],\n",
       " 'comments': [{'text_blocks': [\"== 'Defunct' my admin privilege ==\\n\",\n",
       "    '\\n',\n",
       "    'ah.. now I know you are the developer(Chinese translation anyway.) Anywho, I\\'m following the description of \"Apply to cancel Admin privilege\" in zh page, that I need to talk to you directly to remove my admin status([[User:Djyang]]). Thanks for your help in advance. :) ---[[User:Djyang|Djyang]] 14:52 2004年8月10日 (UTC)\\n'],\n",
       "   'comments': [{'text_blocks': ['\\n',\n",
       "      ':Djyang, you need to request this at [[m:requests for permissions]] since Brion no longer deals with administrator access. [[User:Angela|Angela]] 00:05 2004年8月11日 (UTC)\\n'],\n",
       "     'comments': [],\n",
       "     'cosigners': [],\n",
       "     'author': 'Angela',\n",
       "     'time_stamp': '00:05 2004年8月11日 (UTC)'}],\n",
       "   'cosigners': [],\n",
       "   'author': 'Djyang',\n",
       "   'time_stamp': '14:52 2004年8月10日 (UTC)'},\n",
       "  {'text_blocks': ['\\n'], 'comments': [], 'cosigners': []}],\n",
       " 'heading': \" 'Defunct' my admin privilege \"}"
      ]
     },
     "execution_count": 38,
     "metadata": {},
     "output_type": "execute_result"
    }
   ],
   "source": [
    "parsed_ch_ex[\"sections\"][3]"
   ]
  },
  {
   "cell_type": "code",
   "execution_count": 39,
   "id": "d6ea5d3c",
   "metadata": {
    "scrolled": true
   },
   "outputs": [
    {
     "data": {
      "text/plain": [
       "{'subsections': [],\n",
       " 'comments': [{'text_blocks': ['== Welcome ==\\n',\n",
       "    '\\n',\n",
       "    '<div style=\"width:100%;margin:0.2em 0;padding:0.3em 0;border-top:1px solid #ddd;border-bottom:1px solid #ddd;font-size:120%;\">\\'\\'\\'您好，Brion VIBBER！欢迎加入维基百科！\\'\\'\\'</div>\\n',\n",
       "    \"感謝您對維基百科的興趣與貢獻，希望您會喜歡這裡。除了[[WP:WELCOME|'''歡迎辭''']]以外，也請您了解以下重要文章：\\n\",\n",
       "    '{|style=\"background:transparent;border-top:1px solid #ddd;border-bottom:1px solid #ddd;border-collpase:collapse;\"\\n|-style=\"vertical-align:top;\"\\n|style=\"background:#f4f4f4;padding:.8em .2em;\"|[[File:Nuvola apps korganizer.svg|35px|left|政策|link=]]<div style=\"margin-left:45px;\">[[WP:5P|\\'\\'\\'五大支柱\\'\\'\\']]<br /><small>[[WP:NOT|百科]]、[[WP:NPOV|中立]]、[[WP:CRFAQ|开放]]、[[WP:CIV|互重]]、[[WP:IAR|勇於创新]]</small></div>\\n|style=\"background:#faf1df;padding:.8em .2em;\"|[[File:Nuvola apps emacs.png|45px|left|GNU|link=]]<div style=\"margin-left:55px;\">[[WP:CRFAQ|\\'\\'\\'版權問題解答\\'\\'\\']]<br /><small>貢獻內容必须是\\'\\'\\'您所著或獲得授權\\'\\'\\'、<br />并同意在[[WP:C|CC-by-sa-3.0和GFDL]]條款下發布</small></div>\\n|style=\"background:#f4f4f4;padding:.8em .2em;\"|[[File:Postscript-viewer.svg|35px|left|手冊|link=]]<div style=\"margin-left:45px;\">[[WP:T|\\'\\'\\'使用指南\\'\\'\\']]<br /><small>[[WP:VISIT|安全访问]]  / [[WP:SB|測試編輯]]  / [[WP:HEP|如何编辑]]<br /> [[WP:HELP|使用手册]] / [[Help:中文维基百科的繁简处理|繁简处理]] / [[WP:改进条目|寫個好條目]]</small></div>\\n|-\\n|colspan=\"3\" style=\"border-top:1px solid #ddd;padding-top:.3em;\"|[[File:Icon apps query.svg|18px|left|問號|link=]]\\'\\'\\'有问题？\\'\\'\\'請到[[WP:VP|\\'\\'\\'互助客栈\\'\\'\\']]询问，或在\\'\\'\\'我的对话页\\'\\'\\'提出。别忘記：討論後要[[WP:SIG|\\'\\'\\'簽名\\'\\'\\']]，方式之一是留下4個波浪紋「 <nowiki>~~</nowiki><nowiki>~~</nowiki> 」。<div lang=\"en\" style=\"font-style:italic;font-size:90%;\">If you have any questions about the Chinese Wikipedia, please leave a message [[Wikipedia talk:Guestbook for non-Chinese-speakers|\\'\\'here\\'\\']]. Thank you for visiting!</div>\\n|}\\n',\n",
       "    \"*閱讀新手应该注意的七种[[Wikipedia:避免常见错误|'''常见错误''']]、理解[[WP:KID|維基百科的立場與常見注意事項]]。\\n\",\n",
       "    '*有任何编辑上的问题？请试试[[WP:IRC|IRC即时讨论]]。也可在下面加入「[[:Category:寻求帮助的维基人|<nowiki>{{Helpme}}</nowiki>]]」，其他[[WP:维基人|维基人]]见到后就会来提供帮助。\\n',\n",
       "    '*不知道有甚麼可写？[[WP:RA|条目请求]]、[[WP:SA|最多语言版本的待撰条目]]、[[WP:MEA|缺少的传统百科全书条目]]和[[WP:专题/首页的缺失条目|首页的缺失条目]]中列出了许多维基百科目前还没有的条目，欢迎您来[[WP:NEW|撰寫]]！\\n',\n",
       "    '*希望您能享受共同编写百科的樂趣，成为一名充實的[[WP:EDIANS|维基百科人]]。\\n',\n",
       "    '<span style=\"display:none\"></span>我是欢迎您的维基人：[[User:Carrotkit|Carrotkit]] ([[User talk:Carrotkit|留言]]) 2011年8月3日 (三) 10:11 (UTC)<span style=\"display:none\"></span>\\n'],\n",
       "   'comments': [],\n",
       "   'cosigners': [],\n",
       "   'author': 'Carrotkit',\n",
       "   'time_stamp': '2011年8月3日 (三) 10:11 (UTC)'},\n",
       "  {'text_blocks': ['\\n'], 'comments': [], 'cosigners': []}],\n",
       " 'heading': ' Welcome '}"
      ]
     },
     "execution_count": 39,
     "metadata": {},
     "output_type": "execute_result"
    }
   ],
   "source": [
    "parsed_ch_ex[\"sections\"][4]"
   ]
  },
  {
   "cell_type": "markdown",
   "id": "afc506c0",
   "metadata": {},
   "source": [
    "This section has a lot of fancy formatting: https://zh.wikipedia.org/wiki/User_talk:Brooke_Vibber#%E7%B5%A6%E6%82%A8%E4%B8%80%E4%BA%9B%E6%9E%9C%E4%BB%81%E8%9C%9C%E9%A4%85%EF%BC%81"
   ]
  },
  {
   "cell_type": "code",
   "execution_count": 40,
   "id": "58fdfff1",
   "metadata": {},
   "outputs": [
    {
     "data": {
      "text/plain": [
       "{'subsections': [],\n",
       " 'comments': [{'text_blocks': ['== 給您一些果仁蜜餅！ ==\\n',\n",
       "    '\\n',\n",
       "    '{| style=\"background-color: #fdffe7; border: 1px solid #fceb92;\"\\n|style=\"vertical-align: middle; padding: 5px;\" | [[File:Baklava - Turkish special, 80-ply.JPEG|135px]]\\n|style=\"vertical-align: middle; padding: 3px;\" |  --<span style=\"color:Navy;\">[[User:Wangxuan8331800|铁铁的火大了]]<small>（[[User talk:Wangxuan8331800|20.00000000000 words]]）</small></span> 2011年8月22日 (一) 14:08 (UTC)\\n|}\\n'],\n",
       "   'comments': [],\n",
       "   'cosigners': [],\n",
       "   'author': 'Wangxuan8331800',\n",
       "   'time_stamp': '2011年8月22日 (一) 14:08 (UTC)'},\n",
       "  {'text_blocks': ['\\n'], 'comments': [], 'cosigners': []}],\n",
       " 'heading': ' 給您一些果仁蜜餅！ '}"
      ]
     },
     "execution_count": 40,
     "metadata": {},
     "output_type": "execute_result"
    }
   ],
   "source": [
    "parsed_ch_ex[\"sections\"][5]"
   ]
  },
  {
   "cell_type": "markdown",
   "id": "8c41e546",
   "metadata": {},
   "source": [
    "https://zh.wikipedia.org/wiki/User_talk:Brooke_Vibber#Salute!"
   ]
  },
  {
   "cell_type": "code",
   "execution_count": 41,
   "id": "06c2075e",
   "metadata": {},
   "outputs": [
    {
     "data": {
      "text/plain": [
       "{'subsections': [],\n",
       " 'comments': [{'text_blocks': ['== Salute! ==\\n',\n",
       "    '\\n',\n",
       "    '向您致意！--[[User:KiraRettosei|KiraRettosei]]（[[User talk:KiraRettosei|留言]]） 2023年2月21日 (二) 06:19 (UTC)'],\n",
       "   'comments': [],\n",
       "   'cosigners': [],\n",
       "   'author': 'KiraRettosei',\n",
       "   'time_stamp': '2023年2月21日 (二) 06:19 (UTC)'}],\n",
       " 'heading': ' Salute! '}"
      ]
     },
     "execution_count": 41,
     "metadata": {},
     "output_type": "execute_result"
    }
   ],
   "source": [
    "parsed_ch_ex[\"sections\"][-1]"
   ]
  },
  {
   "cell_type": "markdown",
   "id": "8fe5f22c",
   "metadata": {},
   "source": [
    "Example of a user page which has only a few labeled sections (highly unstructured): https://zh.wikipedia.org/wiki/User_talk:Formulax/Archive1"
   ]
  },
  {
   "cell_type": "code",
   "execution_count": 42,
   "id": "10533cda",
   "metadata": {},
   "outputs": [],
   "source": [
    "ch_ex2 = None\n",
    "for page in dump:\n",
    "    if page.namespace in {1,3}:\n",
    "        ch_ex2 = page\n",
    "        break"
   ]
  },
  {
   "cell_type": "code",
   "execution_count": 43,
   "id": "854ef0e0",
   "metadata": {},
   "outputs": [
    {
     "data": {
      "text/plain": [
       "Page(id=109, title='Formulax/Archive1', namespace=3, redirect=None, restrictions=[])"
      ]
     },
     "execution_count": 43,
     "metadata": {},
     "output_type": "execute_result"
    }
   ],
   "source": [
    "ch_ex2"
   ]
  },
  {
   "cell_type": "code",
   "execution_count": 44,
   "id": "df20e197",
   "metadata": {},
   "outputs": [],
   "source": [
    "# grab last revision\n",
    "revision2 = None\n",
    "for revision2 in ch_ex2:\n",
    "    pass"
   ]
  },
  {
   "cell_type": "code",
   "execution_count": 45,
   "id": "91308ca7",
   "metadata": {},
   "outputs": [],
   "source": [
    "parsed_ch_ex2 = wc.parse(revision2.text)"
   ]
  },
  {
   "cell_type": "code",
   "execution_count": 46,
   "id": "58492cc5",
   "metadata": {},
   "outputs": [
    {
     "data": {
      "text/plain": [
       "{'subsections': [],\n",
       " 'comments': [{'text_blocks': ['----\\n',\n",
       "    '你好，很高兴认识你。我想加入Wikipedia管理团队，加入了Wiki-L Mailing list,不知道是不是已经完成了？\\n',\n",
       "    '还想与你取得联系，可否取得你的email address?--[[用户：alan1986228]]\\n',\n",
       "    '----\\n',\n",
       "    'hi, 你对中国历史（例如说清朝）感不感兴趣？清回答。 --[[用户:Colipon]]\\n',\n",
       "    '::我对人文方面都十分有兴趣。--[[用户:Formulax|Formulax]] 2003年7月7日 02:14 (UTC)\\n'],\n",
       "   'comments': [],\n",
       "   'cosigners': [],\n",
       "   'author': 'Formulax',\n",
       "   'time_stamp': '2003年7月7日 02:14 (UTC)'},\n",
       "  {'text_blocks': ['----\\n',\n",
       "    'hi, Formulax. 我最近一直没有过来。那张照片我确实没有确认版权问题。邓丽君是名人，我忽略了这一点, sorry. --[[用户:Dlloader]]\\n',\n",
       "    '----\\n',\n",
       "    '最近在升级系统,所以没怎么上网,现在好了.--[[用户:Formulax|Formulax]]\\n',\n",
       "    '----\\n',\n",
       "    '嗨，Formulax 。我最近要忙功课了，不能多来了。我已经开始向同学和朋友介绍这个网站了，\\n',\n",
       "    '但是他们多数不会特别热心来这里的。:(看了你写的关于 Linux 的条目，看来你还是真正的黑客了？:)我还会继续关心这里的进展 。--[[用户:ghyll]]\\n',\n",
       "    '----\\n',\n",
       "    '我有点不清楚，我加入的有关gimp的东西有版权问题吗？那是我自己译的。还有我的英文不太好，不是十分清楚那本英文书的版权，不过我请教过旁人的，他们说那本说的版权可以让我再发表，(只要提及原作者就行)我照做了，还有你说那些内容与百科全书无关，我就不知道什么才有关了。因为我到现在为止，还没读过百科全书，请指点一下。谢谢 wide288\\n',\n",
       "    '----\\n',\n",
       "    'Formulax你好！我在线上看到你的专长是Java，不知道你有没有翻译或写有关Java条目的计划？[[用户:Samuel|samuel]] 2003年5月15日 09:59 (UTC)\\n'],\n",
       "   'comments': [{'text_blocks': [':目前我主要翻译各国资料，或者一些历史、人文方面的条目，至于计算机方面的内容目前没有什么计划，我看你写得很好，如果有空的话，还是你先些吧！--[[用户:Formulax|Formulax]] 2003年5月16日 06:22 (UTC)\\n'],\n",
       "     'comments': [],\n",
       "     'cosigners': [],\n",
       "     'author': 'Formulax',\n",
       "     'time_stamp': '2003年5月16日 06:22 (UTC)'}],\n",
       "   'cosigners': [],\n",
       "   'author': 'Samuel',\n",
       "   'time_stamp': '2003年5月15日 09:59 (UTC)'},\n",
       "  {'text_blocks': ['\\n',\n",
       "    '----\\n',\n",
       "    '\\n',\n",
       "    '指数109? 哇！厲害,厲害！真棒！我知道最接近您的是指数99 -- [http://fr.wikipedia.org/wiki/Utilisateur:anthere 法國的Anthere小姐]，我自己72. --[[用户:Menchi|Menchi]] 2003年6月16日 07:39 (UTC)\\n'],\n",
       "   'comments': [{'text_blocks': ['::快挂掉了，大家还是保重身体啊！--[[用户:Formulax|Formulax]] 2003年6月16日 07:45 (UTC)\\n'],\n",
       "     'comments': [],\n",
       "     'cosigners': [],\n",
       "     'author': 'Formulax',\n",
       "     'time_stamp': '2003年6月16日 07:45 (UTC)'}],\n",
       "   'cosigners': [],\n",
       "   'author': 'Menchi',\n",
       "   'time_stamp': '2003年6月16日 07:39 (UTC)'},\n",
       "  {'text_blocks': ['\\n',\n",
       "    '-----\\n',\n",
       "    '\\n',\n",
       "    '您一個小時就翻譯完畢[[中华人民共和国史]]?!? --[[用户:Menchi|Menchi]] 2003年6月20日 07:15 (UTC)\\n'],\n",
       "   'comments': [{'text_blocks': ['\\n',\n",
       "      '::已经好几天啦！--[[用户:Formulax|Formulax]] 2003年6月20日 07:17 (UTC)\\n'],\n",
       "     'comments': [{'text_blocks': ['\\n',\n",
       "        '::: 那也很快。我翻譯[[加拿大]]：一個月！哈哈! :-D --[[用户:Menchi|Menchi]] 2003年6月20日 07:22 (UTC)\\n'],\n",
       "       'comments': [],\n",
       "       'cosigners': [],\n",
       "       'author': 'Menchi',\n",
       "       'time_stamp': '2003年6月20日 07:22 (UTC)'}],\n",
       "     'cosigners': [],\n",
       "     'author': 'Formulax',\n",
       "     'time_stamp': '2003年6月20日 07:17 (UTC)'}],\n",
       "   'cosigners': [],\n",
       "   'author': 'Menchi',\n",
       "   'time_stamp': '2003年6月20日 07:15 (UTC)'},\n",
       "  {'text_blocks': ['\\n',\n",
       "    '----\\n',\n",
       "    '你发信问了关于条目数显示的问题了吗--[[用户:Shizhao|Shizhao]] 2003年7月8日 00:23 (UTC)\\n'],\n",
       "   'comments': [{'text_blocks': ['\\n',\n",
       "      ':抱歉，我前几天忘了。不过今天我正准备发的时候看到Brion的email，他说所有的wiki都已经升级到phase 3，而新的条目统计马上就会更新。新功能如下：\\n',\n",
       "      \"* page caching for anonymous users' page views reduces database load\\n\",\n",
       "      '* to accomodate the above, IP address is no longer shown in upper corner\\n',\n",
       "      \"* '''comma page count is being replaced with pages-with-links count; I'll be recalculating the present article counts in a bit'''（新的条目数正在统计中）\\n\",\n",
       "      '* \"go\" is now default instead of \"search\"; this is often faster\\n',\n",
       "      '* various little fixes \\n',\n",
       "      ':::::::--[[用户:Formulax|Formulax]] 2003年7月8日 07:58 (UTC)\\n'],\n",
       "     'comments': [],\n",
       "     'cosigners': [],\n",
       "     'author': 'Formulax',\n",
       "     'time_stamp': '2003年7月8日 07:58 (UTC)'}],\n",
       "   'cosigners': [],\n",
       "   'author': 'Shizhao',\n",
       "   'time_stamp': '2003年7月8日 00:23 (UTC)'},\n",
       "  {'text_blocks': ['----\\n',\n",
       "    '请再查一下[[中国君主列表]]看现在的格式怎么样，是否需要修改？\\n',\n",
       "    '[[用户:Colipon|方宏时]] 2003年7月27日 22:38 (UTC)\\n'],\n",
       "   'comments': [{'text_blocks': ['\\n',\n",
       "      '::应该没有问题了。--[[用户:Formulax|Formulax]] 2003年7月30日 07:26 (UTC)\\n'],\n",
       "     'comments': [],\n",
       "     'cosigners': [],\n",
       "     'author': 'Formulax',\n",
       "     'time_stamp': '2003年7月30日 07:26 (UTC)'}],\n",
       "   'cosigners': [],\n",
       "   'author': 'Colipon',\n",
       "   'time_stamp': '2003年7月27日 22:38 (UTC)'},\n",
       "  {'text_blocks': ['\\n',\n",
       "    '----\\n',\n",
       "    '\\n',\n",
       "    '你好，我是这个网站地注册用户，我在对这个网站地使用情况进行研究，请你告诉我你住在哪个城市，你是中国公民吗？你对哪些主题的内容感兴趣，你的专业是什么？请你将以上信息发给我的信箱tianfawei@msn.com，谢谢您！\\n',\n",
       "    '\\n',\n",
       "    '----\\n',\n",
       "    'Formulax, 我在将[[文化大革命]]翻译为[[en:Cultural Revolution|英语版]]过程当中。[[User:Colipon|方宏时-Colipon]] 21:01 2003年8月16日 (UTC)\\n'],\n",
       "   'comments': [{'text_blocks': ['\\n',\n",
       "      ':我本来要翻译，但是后来居然忘了:P。另外你编辑时自动变成IP地址是因为太长时间没有动作，服务器因为你已经离开，所以最后变成IP地址。只要过一段时间点“Preview”应该就可以了。--[[User:Formulax|Formulax]] 04:19 2003年8月17日 (UTC)\\n'],\n",
       "     'comments': [{'text_blocks': ['\\n',\n",
       "        '::好，多谢。--[[User:Colipon|方宏时-Colipon]] 00:18 2003年8月18日 (UTC)\\n'],\n",
       "       'comments': [],\n",
       "       'cosigners': [],\n",
       "       'author': 'Colipon',\n",
       "       'time_stamp': '00:18 2003年8月18日 (UTC)'}],\n",
       "     'cosigners': [],\n",
       "     'author': 'Formulax',\n",
       "     'time_stamp': '04:19 2003年8月17日 (UTC)'}],\n",
       "   'cosigners': [],\n",
       "   'author': 'Colipon',\n",
       "   'time_stamp': '21:01 2003年8月16日 (UTC)'},\n",
       "  {'text_blocks': ['\\n',\n",
       "    'Formulax, 您觉得翻译页面怎么样？由什么需要修改的？ --[[User:Colipon|方宏时-Colipon]] 20:45 2003年8月18日 (UTC)\\n'],\n",
       "   'comments': [{'text_blocks': ['\\n',\n",
       "      ':我觉得非常好，现在没有什么要改的，不过有可能过几天其他人就会来改进也说不定。:)--[[User:Formulax|Formulax]] 08:25 2003年8月20日 (UTC)\\n'],\n",
       "     'comments': [],\n",
       "     'cosigners': [],\n",
       "     'author': 'Formulax',\n",
       "     'time_stamp': '08:25 2003年8月20日 (UTC)'}],\n",
       "   'cosigners': [],\n",
       "   'author': 'Colipon',\n",
       "   'time_stamp': '20:45 2003年8月18日 (UTC)'},\n",
       "  {'text_blocks': ['\\n',\n",
       "    '----\\n',\n",
       "    '你好，关于“国际语学”条目，你删除的理由是侵犯版权，但是那个网站有如下的声明：“大同语不是任何个人或任何团体的私有物，而是全人类的共同财富。因此，大同语作者放弃有关大同语的所有版权。本网站上的所有内容，均允许并欢迎各地报纸、杂志、网站等媒体免费复制及转载。”所以我想是可以转载的。\\n',\n",
       "    '另外，你的Email不能用。[[User:kou_zx|kou_zx]]\\n',\n",
       "    '----\\n',\n",
       "    '你好，关于“FreeBSD”条目，原文中也有声明“因此任何人都可以自由复制，或在网络中散布该文档”，所以我认为可以转载，另外，“Image:FreeBSD.PNG”也是在同一份文档中的图片。[[User:kou_zx|kou_zx]]\\n',\n",
       "    '----\\n',\n",
       "    '请问，有没有某个网站可以自动转换繁体-简体？[[User:Colipon|方宏时-Colipon]] 03:39 2003年11月11日 (UTC)\\n'],\n",
       "   'comments': [{'text_blocks': [':[http://www.hjtek.com/trans/instant.htm 这里]有一个，我还看到过其他几个，但一时找不到，你可以到Google去找找看。--[[User:Formulax|Formulax]] 06:35 2003年11月11日 (UTC)\\n'],\n",
       "     'comments': [],\n",
       "     'cosigners': [],\n",
       "     'author': 'Formulax',\n",
       "     'time_stamp': '06:35 2003年11月11日 (UTC)'}],\n",
       "   'cosigners': [],\n",
       "   'author': 'Colipon',\n",
       "   'time_stamp': '03:39 2003年11月11日 (UTC)'},\n",
       "  {'text_blocks': ['\\n',\n",
       "    '----\\n',\n",
       "    '使用MediaWiki有个问题，就是它是直接插入一个代码来实现的。您建立的[[MediaWiki:Copyright]]由于有<nowiki>请在[[Talk:页面名称|对话页]]声明</nowiki>之类的话，因此在文章中插入这个代码保存后，还需要在编辑一次把“页面名称”替换为相应的条目的名称，并不方便。--[[User:Shizhao|Shizhao]] 07:30 2003年12月7日 (UTC)\\n'],\n",
       "   'comments': [{'text_blocks': ['\\n',\n",
       "      ':知道了。--[[User:Formulax|Formulax]] 07:41 2003年12月7日 (UTC)\\n'],\n",
       "     'comments': [],\n",
       "     'cosigners': [],\n",
       "     'author': 'Formulax',\n",
       "     'time_stamp': '07:41 2003年12月7日 (UTC)'}],\n",
       "   'cosigners': [],\n",
       "   'author': 'Shizhao',\n",
       "   'time_stamp': '07:30 2003年12月7日 (UTC)'},\n",
       "  {'text_blocks': ['\\n',\n",
       "    '----\\n',\n",
       "    '\\n',\n",
       "    '[[2004年台湾总统大选]]上的图很不错！--[[User:Shizhao|Shizhao]] 06:57 2003年12月9日 (UTC)\\n'],\n",
       "   'comments': [],\n",
       "   'cosigners': [],\n",
       "   'author': 'Shizhao',\n",
       "   'time_stamp': '06:57 2003年12月9日 (UTC)'},\n",
       "  {'text_blocks': ['----\\n',\n",
       "    \"Hello Formulax. I've nominated you for [http://sources.wikipedia.org/wiki/Wikisource:Administrator adminship at Wikisource]. Please reply there to say if you accept or not. Thanks for all your work over there. :) [[User:Angela|Angela]] 02:29 2004年1月17日 (UTC)\\n\"],\n",
       "   'comments': [],\n",
       "   'cosigners': [],\n",
       "   'author': 'Angela',\n",
       "   'time_stamp': '02:29 2004年1月17日 (UTC)'},\n",
       "  {'text_blocks': ['\\n',\n",
       "    '----\\n',\n",
       "    'Hello Formulax, my question about copyright-site: I thought the process is as the following: If I find a site which probably violates copyright, then I move it to a temp and replace that site with a standard text, so that the author could react on the accusion. It is anyway possible, that the site which I thought the informations was from had cited wikipedia article, or the author had the permission of the original author. The text which violates copyright is conserved one week long in the temp-site, before it is deleted. Is that right? -- [[User:Wing|Wing]] 19:02 2004年2月1日 (UTC)\\n'],\n",
       "   'comments': [{'text_blocks': ['\\n',\n",
       "      ':/temp不是用来存放违反版权的文章的，而是如果其他人要编写，暂时先存在/temp中，1周之后移动到正式的地址。我们既然已经给出了违反版权文章的来源，就没有必要再放在/temp中了。--[[User:Formulax|Formulax]] 02:01 2004年2月2日 (UTC)\\n'],\n",
       "     'comments': [{'text_blocks': ['\\n',\n",
       "        ':: Aha, I see. I have misunderstand the procedure. Thanks anyway for explanation. -- [[User:Wing|Wing]] 09:23 2004年2月2日 (UTC)\\n'],\n",
       "       'comments': [],\n",
       "       'cosigners': [],\n",
       "       'author': 'Wing',\n",
       "       'time_stamp': '09:23 2004年2月2日 (UTC)'}],\n",
       "     'cosigners': [],\n",
       "     'author': 'Formulax',\n",
       "     'time_stamp': '02:01 2004年2月2日 (UTC)'}],\n",
       "   'cosigners': [],\n",
       "   'author': 'Wing',\n",
       "   'time_stamp': '19:02 2004年2月1日 (UTC)'},\n",
       "  {'text_blocks': ['----\\n',\n",
       "    'Formulax你好! 我想请问关于计算机科学的分类,必须要按照英文版的结构吗??我看到德语及其他的语种的就没有参照??\\n',\n",
       "    '还有关于其他的条目, 是要从英文版的翻译过来, 还是自己来编写???  --[[用户:田姓氏|田姓氏]]\\n',\n",
       "    '\\n',\n",
       "    ':不一定要按照英文版的结构，但是由于英文版有现成的，也可以直接翻译过来。如果您会德语或法语或其他语言，从其他语言翻译过来也未尝不可。不过我的意见还是最好是中文版自己的。--[[User:Samuel|Samuel]] ([[User talk:Samuel|对话页]])[[WikiWiki| ]] 01:20 2004年2月9日 (UTC)~\\n'],\n",
       "   'comments': [],\n",
       "   'cosigners': [],\n",
       "   'author': 'Samuel',\n",
       "   'time_stamp': '01:20 2004年2月9日 (UTC)'},\n",
       "  {'text_blocks': ['----\\n',\n",
       "    'Formulax，不知道新加坡那里的华人对于这个协作计划有什么看法？好像wiki上很少新加坡人也！--[[User:Samuel|Samuel]] ([[User talk:Samuel|对话页]])[[WikiWiki| ]] 01:20 2004年2月9日 (UTC)\\n'],\n",
       "   'comments': [{'text_blocks': ['\\n',\n",
       "      ':新加坡人的中文都很差的。--[[User:Formulax|Formulax]] 03:23 2004年2月11日 (UTC)\\n'],\n",
       "     'comments': [],\n",
       "     'cosigners': [],\n",
       "     'author': 'Formulax',\n",
       "     'time_stamp': '03:23 2004年2月11日 (UTC)'}],\n",
       "   'cosigners': [],\n",
       "   'author': 'Samuel',\n",
       "   'time_stamp': '01:20 2004年2月9日 (UTC)'},\n",
       "  {'text_blocks': ['\\n',\n",
       "    '----\\n',\n",
       "    '[[新加坡教育]]这篇文章真不错--[[User:Shizhao|Shizhao]] | ([[User talk:Shizhao|Talk]])[[WikiWiki| ]] 11:29 2004年2月16日 (UTC)\\n'],\n",
       "   'comments': [],\n",
       "   'cosigners': [],\n",
       "   'author': 'Shizhao',\n",
       "   'time_stamp': '11:29 2004年2月16日 (UTC)'},\n",
       "  {'text_blocks': ['\\n', '----\\n', '\\n'], 'comments': [], 'cosigners': []}]}"
      ]
     },
     "execution_count": 46,
     "metadata": {},
     "output_type": "execute_result"
    }
   ],
   "source": [
    "parsed_ch_ex2[\"sections\"][0]"
   ]
  },
  {
   "cell_type": "code",
   "execution_count": 47,
   "id": "119942ad",
   "metadata": {},
   "outputs": [
    {
     "data": {
      "text/plain": [
       "{'subsections': [],\n",
       " 'comments': [{'text_blocks': ['==Bureaucrats提名==\\n',\n",
       "    '\\n',\n",
       "    '您被提名为Bureaucrat，请参看[[Wikipedia:申请成为管理员]]--[[User:Shizhao|Shizhao]] ([[User talk:Shizhao|Talk]])[[WikiWiki| ]] 09:10 2004年2月26日 (UTC)\\n'],\n",
       "   'comments': [],\n",
       "   'cosigners': [],\n",
       "   'author': 'Shizhao',\n",
       "   'time_stamp': '09:10 2004年2月26日 (UTC)'},\n",
       "  {'text_blocks': ['\\n'], 'comments': [], 'cosigners': []}],\n",
       " 'heading': 'Bureaucrats提名'}"
      ]
     },
     "execution_count": 47,
     "metadata": {},
     "output_type": "execute_result"
    }
   ],
   "source": [
    "parsed_ch_ex2[\"sections\"][1]"
   ]
  },
  {
   "cell_type": "code",
   "execution_count": 48,
   "id": "4e965482",
   "metadata": {},
   "outputs": [
    {
     "data": {
      "text/plain": [
       "{'subsections': [],\n",
       " 'comments': [{'text_blocks': ['== 大學 ==\\n',\n",
       "    '\\n',\n",
       "    '您上傳到Wikisources的[http://sources.wikipedia.org/wiki/%E5%A4%A7%E5%AD%A6 大學]有亂碼，可以在上傳一下嗎？ --[[User:Samuel|Samuel]] ([[User talk:Samuel|对话页]])[[WikiWiki| ]] 11:17 2004年2月26日 (UTC)~\\n'],\n",
       "   'comments': [{'text_blocks': ['\\n',\n",
       "      \":好像不是乱码。'''□'''在中文古籍中经常会看到，表示这个字由于年代久远或其他原因在最早的版本中已经没有了或无法辨认了，也就是表示缺字，其后往往会标上一个字，表示从其他书中获猜测出来的一个字。还有一些看似乱码的东西，是一种汉字在计算机中的写法。有些生僻的汉字在电脑上的字库中没有，只好用这种办法代替。比如“女+子”就是“好”字。--[[User:Shizhao|Shizhao]] ([[User talk:Shizhao|Talk]])[[WikiWiki| ]] 12:19 2004年2月26日 (UTC)\\n\"],\n",
       "     'comments': [],\n",
       "     'cosigners': [],\n",
       "     'author': 'Shizhao',\n",
       "     'time_stamp': '12:19 2004年2月26日 (UTC)'}],\n",
       "   'cosigners': [],\n",
       "   'author': 'Samuel',\n",
       "   'time_stamp': '11:17 2004年2月26日 (UTC)'},\n",
       "  {'text_blocks': ['\\n',\n",
       "    '----\\n',\n",
       "    '我已经将你设置为了bureaucrat--[[User:Shizhao|Shizhao]] ([[User talk:Shizhao|Talk]])[[WikiWiki| ]] 02:30 2004年3月6日 (UTC)\\n'],\n",
       "   'comments': [{'text_blocks': ['\\n',\n",
       "      ':谢谢。--[[User:Formulax|Formulax]] 03:08 2004年3月6日 (UTC)\\n'],\n",
       "     'comments': [],\n",
       "     'cosigners': [],\n",
       "     'author': 'Formulax',\n",
       "     'time_stamp': '03:08 2004年3月6日 (UTC)'}],\n",
       "   'cosigners': [],\n",
       "   'author': 'Shizhao',\n",
       "   'time_stamp': '02:30 2004年3月6日 (UTC)'},\n",
       "  {'text_blocks': ['\\n'], 'comments': [], 'cosigners': []}],\n",
       " 'heading': ' 大學 '}"
      ]
     },
     "execution_count": 48,
     "metadata": {},
     "output_type": "execute_result"
    }
   ],
   "source": [
    "parsed_ch_ex2[\"sections\"][2]"
   ]
  },
  {
   "cell_type": "code",
   "execution_count": 49,
   "id": "e95f99d4",
   "metadata": {},
   "outputs": [
    {
     "data": {
      "text/plain": [
       "{'subsections': [],\n",
       " 'comments': [{'text_blocks': ['== 你好，我提交的网站有什么问题吗？ ==\\n',\n",
       "    '\\n',\n",
       "    '在下两个小站*[http://www.8ug.com/index.htm 网上购物导航]\\n',\n",
       "    '*[http://www.028cd.com 成都商务秘书网]\\n',\n",
       "    '内容健康，已链接了维基百科。提交到这里，冒犯了谁啊？\\n',\n",
       "    '\\n',\n",
       "    '我又再去了一次，还把畫面擷取了。你來給我指出：放了到哪裡去？\\n',\n",
       "    '[[File:NetPurchaseSingo_html_m52e73c26.jpg]][[File:NetPurchaseSingo_html_m48608fcc.jpg]]\\n',\n",
       "    '--[[User:Tomchiukc|石添小草]] 18:08 2004年3月7日 (UTC)\\n'],\n",
       "   'comments': [],\n",
       "   'cosigners': [],\n",
       "   'author': 'Tomchiukc',\n",
       "   'time_stamp': '18:08 2004年3月7日 (UTC)'},\n",
       "  {'text_blocks': ['\\n',\n",
       "    '让你费心了，你的态度很让人敬佩！\\n',\n",
       "    '不过，维基百科的链接确实在“友情链接”里面，就是画面的右下角。请查。\\n',\n",
       "    '是不怎么显眼，那倒不是对维基百科的不恭，下次更新一定换个位置。'],\n",
       "   'comments': [],\n",
       "   'cosigners': []}],\n",
       " 'heading': ' 你好，我提交的网站有什么问题吗？ '}"
      ]
     },
     "execution_count": 49,
     "metadata": {},
     "output_type": "execute_result"
    }
   ],
   "source": [
    "parsed_ch_ex2[\"sections\"][3]"
   ]
  },
  {
   "cell_type": "markdown",
   "id": "09e0f968",
   "metadata": {},
   "source": [
    "https://zh.wikipedia.org/wiki/User_talk:Ghyll"
   ]
  },
  {
   "cell_type": "code",
   "execution_count": 50,
   "id": "8e770f92",
   "metadata": {},
   "outputs": [],
   "source": [
    "ch_ex3 = None\n",
    "for page in dump:\n",
    "    if page.namespace in {1,3}:\n",
    "        ch_ex3 = page\n",
    "        break"
   ]
  },
  {
   "cell_type": "code",
   "execution_count": 51,
   "id": "d277a464",
   "metadata": {},
   "outputs": [
    {
     "data": {
      "text/plain": [
       "Page(id=123, title='Ghyll', namespace=3, redirect=None, restrictions=[])"
      ]
     },
     "execution_count": 51,
     "metadata": {},
     "output_type": "execute_result"
    }
   ],
   "source": [
    "ch_ex3"
   ]
  },
  {
   "cell_type": "code",
   "execution_count": 52,
   "id": "12296f5a",
   "metadata": {},
   "outputs": [],
   "source": [
    "# grab last revision\n",
    "revision3 = None\n",
    "for revision3 in ch_ex3:\n",
    "    pass"
   ]
  },
  {
   "cell_type": "code",
   "execution_count": 53,
   "id": "f9985648",
   "metadata": {},
   "outputs": [],
   "source": [
    "parsed_ch_ex3 = wc.parse(revision3.text)"
   ]
  },
  {
   "cell_type": "code",
   "execution_count": 54,
   "id": "1e0197fa",
   "metadata": {},
   "outputs": [
    {
     "data": {
      "text/plain": [
       "{'subsections': [],\n",
       " 'comments': [{'text_blocks': ['欢迎。\\n',\n",
       "    '----\\n',\n",
       "    '有空常来呵！--[[用户:Formulax|Formulax]]\\n',\n",
       "    '\\n',\n",
       "    '\\n',\n",
       "    '\\n'],\n",
       "   'comments': [],\n",
       "   'cosigners': []}]}"
      ]
     },
     "execution_count": 54,
     "metadata": {},
     "output_type": "execute_result"
    }
   ],
   "source": [
    "parsed_ch_ex3[\"sections\"][0]"
   ]
  },
  {
   "cell_type": "code",
   "execution_count": 55,
   "id": "c837aed4",
   "metadata": {},
   "outputs": [
    {
     "data": {
      "text/plain": [
       "{'subsections': [],\n",
       " 'comments': [{'text_blocks': ['==[[:中文地名索引/A]]页面存废讨论通知==\\n',\n",
       "    \"[[File:Ambox warning pn.svg|left|48px|]]您好，您先前创建或编辑的页面[[:中文地名索引/A]]已被列入[[WP:页面存废讨论|页面存废讨论列表]]中，'''正在投票表决'''是否应该删除。有编者认为条目可能不符合维基百科的收录方针，并已经解释了原因。（参见[[WP:NOT|维基百科不是什么]]）<br>\\n\",\n",
       "    '\\n',\n",
       "    '我们欢迎您参与讨论并留下关于条目是否符合方针、应当如何处理的意见；请在[[WP:页面存废讨论#中文地名索引/A]]中留下您的意见，记得使用<nowiki>~~~~</nowiki>[[WP:SIG|签名]]。您也可以在讨论期间改写您原先的条目，但请不要移除条目顶端的[[WP:AFD|条目删除模板]]。谢谢合作，祝编辑愉快！<!-- Template:AFDNote -->[[User:今古庸龍|今古庸龍 (ten7728)]] ([[User talk:今古庸龍|留言]]) 2011年3月17日 (四) 12:13 (UTC)\\n'],\n",
       "   'comments': [],\n",
       "   'cosigners': [],\n",
       "   'author': '今古庸龍',\n",
       "   'time_stamp': '2011年3月17日 (四) 12:13 (UTC)'},\n",
       "  {'text_blocks': ['\\n'], 'comments': [], 'cosigners': []}],\n",
       " 'heading': '[[:中文地名索引/A]]页面存废讨论通知'}"
      ]
     },
     "execution_count": 55,
     "metadata": {},
     "output_type": "execute_result"
    }
   ],
   "source": [
    "parsed_ch_ex3[\"sections\"][1]"
   ]
  },
  {
   "cell_type": "markdown",
   "id": "cae1e628",
   "metadata": {},
   "source": [
    "https://zh.wikipedia.org/wiki/Talk:%E6%A4%8D%E7%89%A9%E5%AD%A6"
   ]
  },
  {
   "cell_type": "code",
   "execution_count": 56,
   "id": "f544e7d0",
   "metadata": {},
   "outputs": [],
   "source": [
    "ch_ex4 = None\n",
    "for page in dump:\n",
    "    if page.namespace in {1,3}:\n",
    "        ch_ex4 = page\n",
    "        break"
   ]
  },
  {
   "cell_type": "code",
   "execution_count": 57,
   "id": "d6ec1273",
   "metadata": {},
   "outputs": [
    {
     "data": {
      "text/plain": [
       "Page(id=160, title='植物学', namespace=1, redirect=None, restrictions=[])"
      ]
     },
     "execution_count": 57,
     "metadata": {},
     "output_type": "execute_result"
    }
   ],
   "source": [
    "ch_ex4"
   ]
  },
  {
   "cell_type": "code",
   "execution_count": 58,
   "id": "f064f96a",
   "metadata": {},
   "outputs": [],
   "source": [
    "# grab last revision\n",
    "revision4 = None\n",
    "for revision4 in ch_ex4:\n",
    "    pass"
   ]
  },
  {
   "cell_type": "code",
   "execution_count": 59,
   "id": "330f0136",
   "metadata": {},
   "outputs": [],
   "source": [
    "parsed_ch_ex4 = wc.parse(revision4.text)"
   ]
  },
  {
   "cell_type": "code",
   "execution_count": 60,
   "id": "61a8d3d0",
   "metadata": {},
   "outputs": [
    {
     "data": {
      "text/plain": [
       "{'subsections': [],\n",
       " 'comments': [{'text_blocks': ['{{DYKtalk|date=2023-02-23}}\\n',\n",
       "    '{{WikiProject banner shell| topic =自然科學 | level = 3 | class =C|\\n{{WikiProject Biology |importance=high}}\\n{{植物專題 |importance=Top |Navy=yes}}\\n{{WikiProject Tree of Life|importance=high}}\\n}}\\n',\n",
       "    '\\n'],\n",
       "   'comments': [],\n",
       "   'cosigners': []}]}"
      ]
     },
     "execution_count": 60,
     "metadata": {},
     "output_type": "execute_result"
    }
   ],
   "source": [
    "parsed_ch_ex4[\"sections\"][0]"
   ]
  },
  {
   "cell_type": "code",
   "execution_count": 61,
   "id": "bcab98f3",
   "metadata": {},
   "outputs": [
    {
     "data": {
      "text/plain": [
       "{'subsections': [],\n",
       " 'comments': [{'text_blocks': ['== 定义 ==\\n',\n",
       "    '植物学（botany biology）是一门研究植物形态解剖、生长发育、生理生态、系统进化以及分类的综合性科学，为一级学科。倾向于高等植物的研究。<small>—以上[[Wikipedia:在對話頁上簽名|未簽名]]的留言由[[User:Ziqi|Ziqi]]（[[User talk:Ziqi|對話]]｜[[Special:Contributions/Ziqi|貢獻]]）加入。</small>\\n',\n",
       "    '\\n',\n",
       "    '[[User:Arthursilva|arthur]] ([[User talk:Arthursilva|留言]]) 2011年1月6日 (四) 03:02 (UTC)\\n'],\n",
       "   'comments': [],\n",
       "   'cosigners': [],\n",
       "   'author': 'Arthursilva',\n",
       "   'time_stamp': '2011年1月6日 (四) 03:02 (UTC)'},\n",
       "  {'text_blocks': ['\\n',\n",
       "    '上述的定義應是現在某些植物學家強調的plant science，或譯「植物科學」的定義，主要的原因是：屬於這個領域的科學家們，多是從事高等植物的研究，或者其研究的材料為高等植物，且其關注的，經常不屬於《傳統植物學》的學門，故喜用plant science以區別botany。關於「進化」一詞，似用演化較妥，其優劣(進化退化)不應以人的觀點為之。\\n',\n",
       "    '\\n',\n",
       "    '維基英文的定義：\\n',\n",
       "    '\\n',\n",
       "    'Botany, plant science(s), phytology, or plant biology is a branch of biology that involves the scientific study of plant life.\\n',\n",
       "    \"'''生物學的一支，以科學方法研究植物(生命)的學科。'''\\n\",\n",
       "    '\\n',\n",
       "    '由於各個學門分化極細且其範圍難以介定，逕說「研究植物形态解剖、生长发育、生理生态、系统进化以及分类的综合性科学」似乎較不妥當。何況，植物學由於分子生物學的發展，相對於「傳統植物學」，常有新的不同學門出現。\\n',\n",
       "    '\\n'],\n",
       "   'comments': [],\n",
       "   'cosigners': []}],\n",
       " 'heading': ' 定义 '}"
      ]
     },
     "execution_count": 61,
     "metadata": {},
     "output_type": "execute_result"
    }
   ],
   "source": [
    "parsed_ch_ex4[\"sections\"][1]"
   ]
  },
  {
   "cell_type": "code",
   "execution_count": 62,
   "id": "e59728ce",
   "metadata": {},
   "outputs": [
    {
     "data": {
      "text/plain": [
       "{'subsections': [],\n",
       " 'comments': [{'text_blocks': ['== 中国第一 ==\\n',\n",
       "    '\\n',\n",
       "    '[[User:Arthursilva|arthur]] ([[User talk:Arthursilva|留言]]) 2011年1月6日 (四) 02:47 (UTC)\\n'],\n",
       "   'comments': [],\n",
       "   'cosigners': [],\n",
       "   'author': 'Arthursilva',\n",
       "   'time_stamp': '2011年1月6日 (四) 02:47 (UTC)'},\n",
       "  {'text_blocks': ['條目內文：「中国近代植物植物分类学的奠基人是胡先骕，编写了中国第一部中文《高等植物学》，发现了中国的“活化石”水杉，并将其命名。」\\n',\n",
       "    '\\n',\n",
       "    '對「第一」可能不同的人有不同的解讀：\\n',\n",
       "    '下列幾本書應受到重視：\\n',\n",
       "    '李時珍《本草綱目》、李善蘭《植物學》(翻譯了第一部中文植物學教科書，且可能是植物學一詞的由來，並且為許多植物學專有名詞的濫觴)。\\n',\n",
       "    '\\n',\n",
       "    '\\n'],\n",
       "   'comments': [],\n",
       "   'cosigners': []}],\n",
       " 'heading': ' 中国第一 '}"
      ]
     },
     "execution_count": 62,
     "metadata": {},
     "output_type": "execute_result"
    }
   ],
   "source": [
    "parsed_ch_ex4[\"sections\"][2]"
   ]
  },
  {
   "attachments": {
    "image.png": {
     "image/png": "[encoded data removed]"
    }
   },
   "cell_type": "markdown",
   "id": "c6ca4034",
   "metadata": {},
   "source": [
    "![image.png](attachment:image.png)"
   ]
  },
  {
   "cell_type": "code",
   "execution_count": 63,
   "id": "2b064be1",
   "metadata": {},
   "outputs": [
    {
     "data": {
      "text/plain": [
       "{'subsections': [],\n",
       " 'comments': [{'text_blocks': ['==關於研究領域==\\n',\n",
       "    '[[User:Arthursilva|arthur]] ([[User talk:Arthursilva|留言]]) 2011年6月14日 (二) 08:29 (UTC)\\n'],\n",
       "   'comments': [],\n",
       "   'cosigners': [],\n",
       "   'author': 'Arthursilva',\n",
       "   'time_stamp': '2011年6月14日 (二) 08:29 (UTC)'},\n",
       "  {'text_blocks': ['* 標題名稱讓這個段落有點混亂，建議採分支(學門)等，而不是比較像是研究對象及內容的\"領域\"。\\n',\n",
       "    '* 這個段落還有點混亂，比像是侷限於\"某人\"的看法，應有教科書來當作依據。需要再整理與添加文獻。\\n',\n",
       "    '\\n',\n",
       "    '\\n',\n",
       "    \"{{DYKEntry/archive\\n | closeframe = 1\\n | revid = 76085438\\n | hash = 3e47a384d68dd2e2ce6bac448181fe490c6f99e8\\n | result = +|a3e0958549e98523e8d74b58dfc5a3df10ebc01f|1677121446\\n | article = 植物学\\n | question = 在出版《[[自然系統]]》前，瑞典科学家[[卡尔·林奈]]曾在[[乌普萨拉大学]]讲授'''[[植物学|哪一门学科]]'''？\\n | image = \\n | type = biology\\n | author = Icosohedral\\n | nominator = \\n | timestamp = 1674916162\\n}}\\n\",\n",
       "    '**{{支持}}--[[User:金色黎明|金色黎明]]（[[User talk:金色黎明|留言]]） 2023年1月28日 (六) 14:43 (UTC)\\n'],\n",
       "   'comments': [{'text_blocks': ['**{{支持}}--[[User:藍莓味綠茶|藍莓味綠茶]]（[[User talk:藍莓味綠茶|留言]]） 2023年1月28日 (六) 14:53 (UTC)\\n'],\n",
       "     'comments': [],\n",
       "     'cosigners': [],\n",
       "     'author': '藍莓味綠茶',\n",
       "     'time_stamp': '2023年1月28日 (六) 14:53 (UTC)'},\n",
       "    {'text_blocks': ['**{{support}}——[[User:YitsunChu|<span style=\"color:#0080FF\">Yitsun Chu</span>]] [[User talk:YitsunChu|<span style=\"font-size:70%\">💬留言</span>]] 2023年1月28日 (六) 15:10 (UTC)\\n'],\n",
       "     'comments': [],\n",
       "     'cosigners': [],\n",
       "     'author': 'YitsunChu',\n",
       "     'time_stamp': '2023年1月28日 (六) 15:10 (UTC)'},\n",
       "    {'text_blocks': ['**{{支持}}：符合DYK標準--[[User:Z7504|<span style=\"color:#00BFFF;\">Z7504</span>]]<span style=\"color: #6640FF;\">非常建議必要時多</span>[[Wikipedia:条目评选|<span style=\"color: #6640FF;\">關注評選</span>]]（[[User talk:Z7504|留言]]） 2023年1月28日 (六) 22:58 (UTC)\\n'],\n",
       "     'comments': [],\n",
       "     'cosigners': [],\n",
       "     'author': 'Z7504',\n",
       "     'time_stamp': '2023年1月28日 (六) 22:58 (UTC)'},\n",
       "    {'text_blocks': ['**{{問題不當}}：植物學本身有很多分支，條目中也有列出[[植物生理學]]、[[植物遗传学]]等，這個設問不太好，有多個答案。--[[User:Nostalgiacn|Nostalgiacn]]（[[User talk:Nostalgiacn|留言]]） 2023年1月29日 (日) 03:09 (UTC)\\n'],\n",
       "     'comments': [{'text_blocks': ['***植物學的這些分支並非和植物學是同一個起源吧？--[[User:Newbamboo|🎋]][[User talk:Newbamboo#top|🍣]] 2023年1月31日 (二) 13:43 (UTC)\\n'],\n",
       "       'comments': [{'text_blocks': ['****{{ping|Icosohedral|Nostalgiacn|Newbamboo}}你们应该举[[本草学]]这个例子。--[[User Talk:CatOnMars|Cat]] [[Special:用户贡献/CatOnMars|on the Mars]] 2023年1月31日 (二) 16:33 (UTC)\\n'],\n",
       "         'comments': [{'text_blocks': ['****:那個範疇了解不多，只能看一下條目內容作判斷，感謝指出其他同類學科，這個設問真的有問題。--[[User:Nostalgiacn|Nostalgiacn]]（[[User talk:Nostalgiacn|留言]]） 2023年2月1日 (三) 01:55 (UTC)\\n'],\n",
       "           'comments': [],\n",
       "           'cosigners': [],\n",
       "           'author': 'Nostalgiacn',\n",
       "           'time_stamp': '2023年2月1日 (三) 01:55 (UTC)'}],\n",
       "         'cosigners': [],\n",
       "         'author': 'CatOnMars',\n",
       "         'time_stamp': '2023年1月31日 (二) 16:33 (UTC)'}],\n",
       "       'cosigners': [],\n",
       "       'author': 'Newbamboo',\n",
       "       'time_stamp': '2023年1月31日 (二) 13:43 (UTC)'},\n",
       "      {'text_blocks': ['***已修改--[[User:Icosohedral|Icosohedral]]（[[User talk:Icosohedral|留言]]） 2023年2月6日 (一) 06:51 (UTC)\\n'],\n",
       "       'comments': [],\n",
       "       'cosigners': [],\n",
       "       'author': 'Icosohedral',\n",
       "       'time_stamp': '2023年2月6日 (一) 06:51 (UTC)'},\n",
       "      {'text_blocks': ['***[[種植業]]不知能否作為問題的答案。——[[U:Tiouraren|<span style=\"background-color:#f2f0e0;color:#564; padding:0.2em;font-family:Times New Roman\">T I O U R A R E N </span>]][[UT:Tiouraren|<span style=\"background-color:#794;color:#FFF;padding:0.2em\">\\'\\'\\'留言\\'\\'\\'</span>]] 2023年2月1日 (三) 05:11 (UTC)\\n',\n",
       "        '****[[Wikipedia talk:新条目推荐/候选/存档10#提议DYK允许使用陈述句。|講白了就是沒有共識，連個陳述句問法都有一堆異議了]]。可能不只植物學，所有「XX學」假設在提名這個條目候選（應該也沒人會承認這個還稱得上新條目）時，題目都會特別難想。那還倒不如改為比如：「\\'\\'\\'[[植物学|哪一門學科]]\\'\\'\\'是以[[植物]]為命名的[[学术领域大纲|學科]]？」這種題目吧？雖然答案就在題目裡面，起碼題目也沒爭議吧？--[[User:Z7504|<span style=\"color:#00BFFF;\">Z7504</span>]]<span style=\"color: #6640FF;\">非常建議必要時多</span>[[Wikipedia:条目评选|<span style=\"color: #6640FF;\">關注評選</span>]]（[[User talk:Z7504|留言]]） 2023年2月1日 (三) 05:51 (UTC)\\n'],\n",
       "       'comments': [],\n",
       "       'cosigners': [],\n",
       "       'author': 'Z7504',\n",
       "       'time_stamp': '2023年2月1日 (三) 05:51 (UTC)'},\n",
       "      {'text_blocks': ['***可將問題直接設為「\\'\\'\\'[[植物学]]\\'\\'\\'有何由來？」，有[[Talk:剝削]]等先例。 \\'\\'\\'[[User talk:Yumeto|<span style=\"color:purple\">紺野</span>]][[User:Yumeto|<span style=\"color:#000\">夢人</span>]]\\'\\'\\' 2023年2月1日 (三) 08:41 (UTC)\\n'],\n",
       "       'comments': [{'text_blocks': ['****原來還有這種題目通過的噢？那題目可以簡化成「\\'\\'\\'[[植物学|何謂植物學？]]\\'\\'\\'」就好了啊。但是為什麼問題不當仍然給過呢？--[[User:Z7504|<span style=\"color:#00BFFF;\">Z7504</span>]]<span style=\"color: #6640FF;\">非常建議必要時多</span>[[Wikipedia:条目评选|<span style=\"color: #6640FF;\">關注評選</span>]]（[[User talk:Z7504|留言]]） 2023年2月1日 (三) 10:51 (UTC)\\n'],\n",
       "         'comments': [{'text_blocks': ['*****主編要先把問題改沒有歧義的，才會通過的，因為系統是自動選用{{tl|DYKEntry}}的問題。--[[User:Nostalgiacn|Nostalgiacn]]（[[User talk:Nostalgiacn|留言]]） 2023年2月5日 (日) 05:47 (UTC)\\n'],\n",
       "           'comments': [],\n",
       "           'cosigners': [],\n",
       "           'author': 'Nostalgiacn',\n",
       "           'time_stamp': '2023年2月5日 (日) 05:47 (UTC)'}],\n",
       "         'cosigners': [],\n",
       "         'author': 'Z7504',\n",
       "         'time_stamp': '2023年2月1日 (三) 10:51 (UTC)'}],\n",
       "       'cosigners': [],\n",
       "       'author': 'Yumeto',\n",
       "       'time_stamp': '2023年2月1日 (三) 08:41 (UTC)'}],\n",
       "     'cosigners': [],\n",
       "     'author': 'Nostalgiacn',\n",
       "     'time_stamp': '2023年1月29日 (日) 03:09 (UTC)'},\n",
       "    {'text_blocks': ['**{{建議}}:非常開心看到植物相關條目有如此重大的更新，相當感動。但仔細看內容過內容後感到十分失望，以下是敝人的一些小建議。\\n',\n",
       "      '***1. 「早期現代植物學」\\n',\n",
       "      '****第一行的「二分鍵」建議翻為「單道檢索表」，附上我參考的ref.<ref>{{cite journal |author1=吴增华|author2= 侯学良|date=2015 |title=检索表的矛盾分析及其实践意义(综述)|journal=亞熱帶植物科學 |volume=44 |issue= 1|pages=87-90}}</ref>\\n',\n",
       "      '****第三行「synoptic keys」感覺比較像是「辨識特徵」之類的概念，「同步鑰」這個翻譯感覺有些偏離本意\\n',\n",
       "      '****第五行「送往歐洲研究」在邏輯上有些問題，建議改為「被採集回歐洲」，因為歐洲人當時比較像是收集奇珍異寶的感覺，不一定是研究\\n',\n",
       "      '****第十一行的那幾個科學家，建議加上所屬國家及職業。ex.法國植物學家安托萬·羅蘭·德朱西厄，敝人認為這樣能讓讀者更能想像這些人的時代背景與生平\\n',\n",
       "      '****第三段內容，大多與細胞生物學較為相關，建議延伸表述其與植物學的關聯，不然容易使讀者迷失。舉例「細胞是植物的基礎單位」為什麼會對植物學有很大的影響，這個概念應該是對整個生物學都有很大的影響吧?後面的細胞學說部分亦然\\n',\n",
       "      '****本文提及的早期現代植物學多與分類相關，若真的如此建議可以在開頭就破題說「早期植物學多著重於植物之分類」，讓讀者較能抓住本章節的方向，因為敝人在讀到第二段、第三段的時候就有點搞不清楚這裡是在說植物學還是生物的分類學歷史了\\n',\n",
       "      '***2.「現代植物學」\\n',\n",
       "      '****提及孟德爾的學說時，建議提及其與植物學相關的部分，目前的論述較難使讀者對植物學產生共鳴。也許可以提及孟德爾是透過植物進行實驗得到等較為貼合植物學之內容\\n',\n",
       "      '****二十一行，微繁殖Micropropagation，在中文指的就是「植物組織培養技術」，建議不用特別分開寫，若真的要分開寫較常見的翻譯是「植物微體培養/繁殖技術」\\n',\n",
       "      '****倒數第四行，短柄草屬應該沒有人在簡稱「草屬」\\n',\n",
       "      '****內容旁藍色石蓮的圖片說明，提及「種加詞」，雖然也有這樣的說法，但還是推薦使用「種小名」這個較廣泛的稱呼\\n',\n",
       "      '***3. 「研究領域與重要性」\\n',\n",
       "      '****前四行，讀起來相當不順暢，ex.「植物是生物的基本組成成分」具有邏輯問題\\n',\n",
       "      '****第七行，「歷史上所有生命都被分成動物或植物」，真菌的部分?\\n',\n",
       "      '****第九行，超連結導向錯誤，發生學不等於系統發生樹\\n',\n",
       "      '****第十一行，應該沒有這種定義，詳情請參照[[植物]]\\n',\n",
       "      '****古植物學部分，雖然藍菌的確也是其中的一環，然而並不只有藍菌，或者想到古植物學其實並不會直接想到藍菌，像是花粉相關研究，或大型蕨類的研究反而才是現今較為主流的古植物學研究（敝人也不是這部分的專家，還有待其他人補充）\\n',\n",
       "      '****認為可以把每個領域切出來談，各寫一個小標做個概論式的介紹之類的，這樣可能會比較清楚\\n',\n",
       "      '****「人體營養」部分基本上就是農業吧，覺得可以直接說農業中的植物科學就好\\n',\n",
       "      '***「植物生物化學」\\n',\n",
       "      '****第四行，葉綠素a的超連結導向葉綠素，敝人覺得不妥，推薦在這裡不要提及葉綠素a, b 的部分，把內容簡單化\\n',\n",
       "      '****第五行，「因此在人類看來，包含葉綠素的植物組織呈綠色」，包含葉綠素的植物組織不一定呈綠色，建議改為「因此在人類看來呈現綠色」即可\\n',\n",
       "      '****敝人認為在「植物學」條目中的「植物生物化學」應該要是更概論式的講述此一領域的研究內容，而非將重點放在各式途徑，建議可以與「研究領域與重要性」合併（簡單來說就是對所有分支學科一視同仁，不要有的寫在研究領域與重要性中，有的又獨立出來），並專注講述植物生物化學此學科的主要內容，將較為艱澀的內容更新於該學科的條目敝人認為是比較好的做法\\n',\n",
       "      '***「植物生態學」\\n',\n",
       "      '****第二行，建議改為「物種間的關係」因為植物不只有這兩種關係，這兩種關係也可能同時存在\\n',\n",
       "      '****第十二行，親蟻植物的超連結導向菌根菌，建議修改\\n',\n",
       "      '***「遺傳學」\\n',\n",
       "      '****第六行，辣薄荷這個案例可能難以引起中文維基的使用者共鳴，建議修改成其他例子\\n',\n",
       "      '****第八行，遠交超連結導向錯誤，而且這裡指的應該為異株授粉，遠交指的比較像是遠源雜交\\n',\n",
       "      '****第九行，感覺雌雄異株應該稱為dioecous或dioicous應該不是重點，反正中文都叫「雌雄異株」\\n',\n",
       "      '****第十一行，沒有人會說植物的無性繁殖是孤雌生殖，因為就算他是雄性個體還是可以無性繁殖，覺得這一小段內容很怪，沒有看的很懂\\n',\n",
       "      '****第十五行，「不過錯誤的胞質分裂也可能使染色體加倍」，寫錯誤的細胞分裂即可，cytokinesis指的是細胞分裂素，但是通常造成染色體加倍的主因多也是因為紡錘絲的問題\\n',\n",
       "      '****第十七行，多倍體是否能進行雜交主要取決於染色體倍數，若是偶數倍則較有機會，奇數倍則因難以形成配子而較困難，與是否為父代種群無關\\n',\n",
       "      '****第二十一行，葉綠體應該是母系遺傳吧，但敝人沒有很確定，可能要再查閱一下\\n',\n",
       "      '***後面內容還有諸多須修正之處，若敝人有空會再接續補上，但還是希望主編能詳閱參考資料與文獻，進行全篇式的整理與改寫，敝人將會相當期待，非常感謝閣下對於維基植物相關內容之貢獻--[[User:Slience Suzuka|Slience Suzuka]]（[[User talk:Slience Suzuka|留言]]） 2023年2月1日 (三) 23:26 (UTC)\\n'],\n",
       "     'comments': [{'text_blocks': ['***感谢审阅，已修改大部分建议内容。至于“植物生物化学”章节内容的侧重点以及全篇式的整理与改写我会在未来考虑尝试，也欢迎各位维基人共同合作增进这篇条目的质量。--[[User:Icosohedral|Icosohedral]]（[[User talk:Icosohedral|留言]]） 2023年2月2日 (四) 10:51 (UTC)\\n'],\n",
       "       'comments': [{'text_blocks': ['****感謝閣下對此條目的盡力付出，若敝人之後欲進行此條目的改寫，將會通知閣下，希望能邀請閣下一同參與--[[User:Slience Suzuka|Slience Suzuka]]（[[User talk:Slience Suzuka|留言]]） 2023年2月4日 (六) 03:24 (UTC)\\n'],\n",
       "         'comments': [],\n",
       "         'cosigners': [],\n",
       "         'author': 'Slience Suzuka',\n",
       "         'time_stamp': '2023年2月4日 (六) 03:24 (UTC)'}],\n",
       "       'cosigners': [],\n",
       "       'author': 'Icosohedral',\n",
       "       'time_stamp': '2023年2月2日 (四) 10:51 (UTC)'}],\n",
       "     'cosigners': [],\n",
       "     'author': 'Slience Suzuka',\n",
       "     'time_stamp': '2023年2月1日 (三) 23:26 (UTC)'},\n",
       "    {'text_blocks': ['**{{support}}：-[[Special:用户贡献/Prince of Erebor|👑]]\\'\\'\\'[[U:Prince of Erebor|<span style=\"color:#DAA520;font-family:源泉圓體;\">孤山王子</span>]][[UT:Prince of Erebor|📜]]\\'\\'\\' 2023年2月2日 (四) 19:52 (UTC)\\n'],\n",
       "     'comments': [],\n",
       "     'cosigners': [],\n",
       "     'author': 'Prince of Erebor',\n",
       "     'time_stamp': '2023年2月2日 (四) 19:52 (UTC)'},\n",
       "    {'text_blocks': ['**{{支持}}--[[羅潔塔|羅]][[U:Rosalina474418|潔]][[Special:用户贡献/Rosalina474418|塔]]💎<small>462273</small> 2023年2月3日 (五) 12:04 (UTC)\\n'],\n",
       "     'comments': [],\n",
       "     'cosigners': [],\n",
       "     'author': 'Rosalina474418',\n",
       "     'time_stamp': '2023年2月3日 (五) 12:04 (UTC)'},\n",
       "    {'text_blocks': ['**{{支持}}--[[User:ThirdThink|ThirdThink]]（[[User talk:ThirdThink|留言]]） 2023年2月3日 (五) 12:29 (UTC)\\n'],\n",
       "     'comments': [],\n",
       "     'cosigners': [],\n",
       "     'author': 'ThirdThink',\n",
       "     'time_stamp': '2023年2月3日 (五) 12:29 (UTC)'},\n",
       "    {'text_blocks': ['**{{支持}}--符合標準，感謝貢獻。[[User:Wetrace|Wetrace]]歡迎參與[[維基專題:人權|WP人權專題]] 2023年2月4日 (六) 03:47 (UTC)<hr>\\n'],\n",
       "     'comments': [],\n",
       "     'cosigners': [],\n",
       "     'author': 'Wetrace',\n",
       "     'time_stamp': '2023年2月4日 (六) 03:47 (UTC)'},\n",
       "    {'text_blocks': ['**{{注意}}，如對最新更改的問題沒有異議，三天後放行。--[[User:Cdip150|-{街燈電箱150號}-]] <small>[[User talk:Cdip150|開箱維修]] [[Special:Contributions/Cdip150|抄錶]] [[WP:AH/ARC/2011/1-3|檢驗證明]]</small> 2023年2月9日 (四) 03:10 (UTC)\\n'],\n",
       "     'comments': [{'text_blocks': ['***{{ping|Cdip150}}主編有沒有考慮過植物學的其它問法？怎麼感覺直接用上面提及的「\\'\\'\\'[[植物学|哪一門學科]]\\'\\'\\'是以[[植物]]為命名的[[学术领域大纲|學科]]？」還比較沒有爭議？[[Wikipedia talk:新条目推荐/候选/存档10#提议DYK允许使用陈述句。|因為當時的陳述句問法討論都有一堆異議了]]，其他用戶怎麼看？--[[User:Z7504|<span style=\"color:#00BFFF;\">Z7504</span>]]<span style=\"color: #6640FF;\">非常建議必要時多</span>[[Wikipedia:条目评选|<span style=\"color: #6640FF;\">關注評選</span>]]（[[User talk:Z7504|留言]]） 2023年2月9日 (四) 06:40 (UTC)\\n'],\n",
       "       'comments': [],\n",
       "       'cosigners': [],\n",
       "       'author': 'Z7504',\n",
       "       'time_stamp': '2023年2月9日 (四) 06:40 (UTC)'},\n",
       "      {'text_blocks': [\"****我有考虑过其它问法，但发现和植物学研究内容相关的问法都很难排除争议。其实我觉得你在上面提到的「'''[[植物学|何謂植物學？]]'''」也是一个好的选择。\\n\",\n",
       "        '***抱歉，但我有异议。{{问题不当}}：问题指南规定：“问题要有抓住内容的特点，哪怕是一个小特点，而不是无聊的属性。”—<span style=\"text-shadow:0 1px 5px #66F9CF\">[[U:MintCandy|远方传来风笛]]</span><small>（[[PJ:ZJ|浙江专题]]/[[PJ:TZ|台州专题]]/[[UT:MintCandy|Talk]]）</small> 2023年2月10日 (五) 02:41 (UTC)\\n',\n",
       "        '****恕我直言，未見有何無聊之處，而文中有多處提到林奈，我想也是内容的特点。--[[User:Cdip150|-{街燈電箱150號}-]] <small>[[User talk:Cdip150|開箱維修]] [[Special:Contributions/Cdip150|抄錶]] [[WP:AH/ARC/2011/1-3|檢驗證明]]</small> 2023年2月11日 (六) 03:28 (UTC)\\n'],\n",
       "       'comments': [{'text_blocks': ['*****恕我无法苟同。我不懂相关领域，不知道林奈和这本书籍，更不知道这位科学家之于整个植物学的意义，所以我自认为可以代表读者们的感受。在我看来，植物学作为一门比较大的学科，读者最关心的是植物学的内容、成就、地位、影响等等，而非“一位科学家有讲解植物学的经历”。现行问题和问题指南中的“哪位中共中央党校校长1953年出生？”比起来，无聊程度有过之而无不及。一家之言，如有谬误请指正。—<span style=\"text-shadow:0 1px 5px #66F9CF\">[[U:MintCandy|远方传来风笛]]</span><small>（[[PJ:ZJ|浙江专题]]/[[PJ:TZ|台州专题]]/[[UT:MintCandy|Talk]]）</small> 2023年2月11日 (六) 07:02 (UTC)\\n',\n",
       "          '*****我的建议问题：“\\'\\'\\'哪门生物学分支学科\\'\\'\\'发源于旧石器时代人类对[[植物]]的认识？”查了生物学条目，“生物学分支学科”的范围有限，这一问题似比较恰当。如此问题也不行，那就采用“何谓植物学”好了。—<span style=\"text-shadow:0 1px 5px #66F9CF\">[[U:MintCandy|远方传来风笛]]</span><small>（[[PJ:ZJ|浙江专题]]/[[PJ:TZ|台州专题]]/[[UT:MintCandy|Talk]]）</small> 2023年2月11日 (六) 07:07 (UTC)\\n',\n",
       "          '******正常來說，如果真的沒有好問題的話，您們應該比照[[剝削]]辦理才是。--[[User:Z7504|<span style=\"color:#00BFFF;\">Z7504</span>]]<span style=\"color: #6640FF;\">非常建議必要時多</span>[[Wikipedia:条目评选|<span style=\"color: #6640FF;\">關注評選</span>]]（[[User talk:Z7504|留言]]） 2023年2月12日 (日) 09:08 (UTC)\\n'],\n",
       "         'comments': [],\n",
       "         'cosigners': [],\n",
       "         'author': 'Z7504',\n",
       "         'time_stamp': '2023年2月12日 (日) 09:08 (UTC)'}],\n",
       "       'cosigners': [],\n",
       "       'author': 'Cdip150',\n",
       "       'time_stamp': '2023年2月11日 (六) 03:28 (UTC)'}],\n",
       "     'cosigners': [],\n",
       "     'author': 'Cdip150',\n",
       "     'time_stamp': '2023年2月9日 (四) 03:10 (UTC)'},\n",
       "    {'text_blocks': [\"**現在的問題很好，不無聊，問問題就是要找讀者不懂的地方來問。而“'''哪门生物学分支学科'''发源于旧石器时代人类对[[植物]]的认识？”和“何谓'''植物学'''？”這兩個直接秀了答案出來的，就跟“ '''習近平'''這個人如何？”一樣無聊。--[[User:Turpd|Turpd]]（[[User talk:Turpd|留言]]） 2023年2月17日 (五) 17:31 (UTC)\\n\"],\n",
       "     'comments': [],\n",
       "     'cosigners': [],\n",
       "     'author': 'Turpd',\n",
       "     'time_stamp': '2023年2月17日 (五) 17:31 (UTC)'},\n",
       "    {'text_blocks': ['**{{意見}}，如何謂之無聊，純屬個人主觀判斷，觀點與角度不同很難研判。而始終DYK的問題應盡可能要隱藏謎底，以上提議都提到「植物」二字，可說已經是開了大半個估，不十分好。如果已有能完全隱蔽條目名稱的問法而又不會出錯，那就應優先採用。除非能證明目前的問法會導致答案不正確之情況，否則三天後放行。--[[User:Cdip150|-{街燈電箱150號}-]] <small>[[User talk:Cdip150|開箱維修]] [[Special:Contributions/Cdip150|抄錶]] [[WP:AH/ARC/2011/1-3|檢驗證明]]</small> 2023年2月19日 (日) 19:29 (UTC)\\n'],\n",
       "     'comments': [{'text_blocks': ['***講的好像只有[[卡尔·林奈]]講授植物學才是特別的，其他人都無法講授是嗎？真是服了這條目評選判定問題的方式。--[[User:Z7504|<span style=\"color:#00BFFF;\">Z7504</span>]]<span style=\"color: #6640FF;\">非常建議必要時多</span>[[Wikipedia:条目评选|<span style=\"color: #6640FF;\">關注評選</span>]]（[[User talk:Z7504|留言]]） 2023年2月21日 (二) 09:23 (UTC)\\n'],\n",
       "       'comments': [{'text_blocks': [\"****如果有人問「林書豪是'''哪種球類'''的運動員？」難道你會覺得其他人都不會打籃球是嗎？你這種想法才真是服了。--[[User:Turpd|Turpd]]（[[User talk:Turpd|留言]]） 2023年2月22日 (三) 14:31 (UTC)\\n\"],\n",
       "         'comments': [],\n",
       "         'cosigners': [],\n",
       "         'author': 'Turpd',\n",
       "         'time_stamp': '2023年2月22日 (三) 14:31 (UTC)'}],\n",
       "       'cosigners': [],\n",
       "       'author': 'Z7504',\n",
       "       'time_stamp': '2023年2月21日 (二) 09:23 (UTC)'}],\n",
       "     'cosigners': [],\n",
       "     'author': 'Cdip150',\n",
       "     'time_stamp': '2023年2月19日 (日) 19:29 (UTC)'}],\n",
       "   'cosigners': [],\n",
       "   'author': '金色黎明',\n",
       "   'time_stamp': '2023年1月28日 (六) 14:43 (UTC)'},\n",
       "  {'text_blocks': ['{{Reflist-talk}}\\n', '{{DYKvoteF}}'],\n",
       "   'comments': [],\n",
       "   'cosigners': []}],\n",
       " 'heading': '關於研究領域'}"
      ]
     },
     "execution_count": 63,
     "metadata": {},
     "output_type": "execute_result"
    }
   ],
   "source": [
    "parsed_ch_ex4[\"sections\"][3]"
   ]
  },
  {
   "cell_type": "markdown",
   "id": "278cd0cd",
   "metadata": {},
   "source": [
    "https://zh.wikipedia.org/wiki/Talk:%E7%94%9F%E7%89%A9%E5%AD%A6"
   ]
  },
  {
   "cell_type": "code",
   "execution_count": 64,
   "id": "9d9d691a",
   "metadata": {},
   "outputs": [],
   "source": [
    "ch_ex5 = None\n",
    "for page in dump:\n",
    "    if page.namespace in {1,3}:\n",
    "        ch_ex5 = page\n",
    "        break"
   ]
  },
  {
   "cell_type": "code",
   "execution_count": 65,
   "id": "8ae72d9a",
   "metadata": {},
   "outputs": [
    {
     "data": {
      "text/plain": [
       "Page(id=163, title='生物学', namespace=1, redirect=None, restrictions=[])"
      ]
     },
     "execution_count": 65,
     "metadata": {},
     "output_type": "execute_result"
    }
   ],
   "source": [
    "ch_ex5"
   ]
  },
  {
   "cell_type": "code",
   "execution_count": 66,
   "id": "60934c9c",
   "metadata": {},
   "outputs": [],
   "source": [
    "# grab last revision\n",
    "revision5 = None\n",
    "for revision5 in ch_ex5:\n",
    "    pass"
   ]
  },
  {
   "cell_type": "code",
   "execution_count": 74,
   "id": "7f2b0002",
   "metadata": {},
   "outputs": [
    {
     "data": {
      "text/plain": [
       "Timestamp('2024-02-08T11:28:22Z')"
      ]
     },
     "execution_count": 74,
     "metadata": {},
     "output_type": "execute_result"
    }
   ],
   "source": [
    "revision5.timestamp"
   ]
  },
  {
   "cell_type": "code",
   "execution_count": 67,
   "id": "8335d11e",
   "metadata": {},
   "outputs": [],
   "source": [
    "parsed_ch_ex5 = wc.parse(revision5.text)"
   ]
  },
  {
   "cell_type": "code",
   "execution_count": 68,
   "id": "8032a176",
   "metadata": {},
   "outputs": [
    {
     "data": {
      "text/plain": [
       "{'subsections': [],\n",
       " 'comments': [{'text_blocks': ['{{WikiProject banner shell|class=C|vital=yes|\\n{{WikiProject Biology|importance=top}}\\n{{WikiProject FAOL|西班牙语|es:Biología|lang2=希伯來語|link2=he:ביולוגיה|lang3=越南语|link3=vi:Sinh học}}\\n}}\\n',\n",
       "    '----\\n',\n",
       "    '將原本進化論和分類學討論擺到相關條目裡  用戶[[hibaby]] 2005/01/22 <small>—以上[[Wikipedia:在對話頁上簽名|未簽名]]的留言由[[User:Hibaby|Hibaby]]（[[User talk:Hibaby|對話]]｜[[Special:Contributions/Hibaby|貢獻]]）於2005年1月21日 (五) 17:29加入。</small>\\n',\n",
       "    '\\n',\n",
       "    '\\n',\n",
       "    '提点个人的意见，这个页面似乎※多了一些，视觉的效果不太好。:)\\n',\n",
       "    '--[[用户:ghyll|ghyll]] 2002 年 11 月 28 日 19:30（北京时间）\\n',\n",
       "    '\\n',\n",
       "    '的确觉得※不是很好看哦，呵呵。\\n',\n",
       "    '[[用户:Samuel|Samuel]] 2003年5月23日 13:14 (UTC)\\n'],\n",
       "   'comments': [{'text_blocks': ['\\n',\n",
       "      ':换掉了。好点没有？ --[[用户:Lorenzarius|Lorenzarius]] 2003年5月23日 16:18 (UTC)\\n'],\n",
       "     'comments': [],\n",
       "     'cosigners': [],\n",
       "     'author': 'Lorenzarius',\n",
       "     'time_stamp': '2003年5月23日 16:18 (UTC)'}],\n",
       "   'cosigners': [],\n",
       "   'author': 'Samuel',\n",
       "   'time_stamp': '2003年5月23日 13:14 (UTC)'},\n",
       "  {'text_blocks': ['----\\n',\n",
       "    '\\n',\n",
       "    '看了英文的条目，发现英文条目本身就写的不好，中文的翻译也欠缺太多。\\n',\n",
       "    '其实我们如果要翻译的话，还是翻译自己拿手的专业比较好，比较熟悉，也了解专业词汇的习惯译法；\\n',\n",
       "    '否则费了不少功夫，但起到的效果并不好，给人的感觉这里非常不专业。\\n',\n",
       "    '\\n',\n",
       "    '直言几句，还请勿怪。\\n',\n",
       "    '[[用户:Ghyll|ghyll]] 2002年12月 6日 16:54 (UTC)\\n',\n",
       "    '----\\n',\n",
       "    '这个页面上的条目内容许多不太地道。我只将“朊毒体”改过来了。\\n',\n",
       "    '其它如“一个生物的进化历史叫做它的系统发生学”显然属于不能细读的，一个生物是不能进化的，应指“物种”。\\n',\n",
       "    '\\n'],\n",
       "   'comments': [],\n",
       "   'cosigners': []}]}"
      ]
     },
     "execution_count": 68,
     "metadata": {},
     "output_type": "execute_result"
    }
   ],
   "source": [
    "parsed_ch_ex5[\"sections\"][0]"
   ]
  },
  {
   "attachments": {
    "image.png": {
     "image/png": "[encoded data removed]"
    }
   },
   "cell_type": "markdown",
   "id": "141802ca",
   "metadata": {},
   "source": [
    "Somehow the links in the box at the bottom of the page got into the parse of the first section in the page:\n",
    "![image.png](attachment:image.png)"
   ]
  },
  {
   "cell_type": "code",
   "execution_count": 69,
   "id": "f4dee3e9",
   "metadata": {},
   "outputs": [
    {
     "data": {
      "text/plain": [
       "{'subsections': [],\n",
       " 'comments': [{'text_blocks': ['==图徐改之==\\n',\n",
       "    '[[用户:Chenghui|Chenghui]] 2003年7月21日 15:34 (UTC)\\n'],\n",
       "   'comments': [{'text_blocks': ['\\n',\n",
       "      ':我在這裡翻譯了一些内容，不過我的生物和英語水平有限，可能有很多錯誤的地方，那就麻煩您修改一下了，呵呵。--[[用户:Samuel|Samuel]] 2003年7月22日 05:39 (UTC)\\n'],\n",
       "     'comments': [],\n",
       "     'cosigners': [],\n",
       "     'author': 'Samuel',\n",
       "     'time_stamp': '2003年7月22日 05:39 (UTC)'}],\n",
       "   'cosigners': [],\n",
       "   'author': 'Chenghui',\n",
       "   'time_stamp': '2003年7月21日 15:34 (UTC)'},\n",
       "  {'text_blocks': ['\\n',\n",
       "    '[[Category:其他语言的维基百科典范条目 (英语)|生]]\\n',\n",
       "    '[[Category:其他语言的维基百科典范条目 (西班牙语)|生]]\\n',\n",
       "    '[[Category:其他语言的维基百科典范条目 (日语)|生]]\\n',\n",
       "    '[[Category:其他语言的维基百科典范条目 (越南语)|生]]\\n',\n",
       "    '\\n'],\n",
       "   'comments': [],\n",
       "   'cosigners': []}],\n",
       " 'heading': '图徐改之'}"
      ]
     },
     "execution_count": 69,
     "metadata": {},
     "output_type": "execute_result"
    }
   ],
   "source": [
    "parsed_ch_ex5[\"sections\"][1]"
   ]
  },
  {
   "cell_type": "code",
   "execution_count": 70,
   "id": "373ae4af",
   "metadata": {},
   "outputs": [
    {
     "data": {
      "text/plain": [
       "{'subsections': [],\n",
       " 'comments': [{'text_blocks': ['== 生命科學=生物學？ ==\\n',\n",
       "    '\\n',\n",
       "    '大家好！\\n',\n",
       "    '我發現生命科學條目被重定向為生物學，但是我覺得兩者不一定完全相同？英文版的wiki也不是把[[:en:Life Science|Life Science]] (生命科學)重定向為[[:en:Biology|Biology]] (生物學)，而是詳列出很多有關生命科學的學科，如[[生物化學]],[[生物學]]只是其中的一列而已。因此我覺得中文版的wiki也應該仿效。你們怎麼看呢？\\n',\n",
       "    '\\n',\n",
       "    '--[[用户:DualDoomsdays|DualDoomsdays]] 2011年12月9日 23:20 (UTC)\\n'],\n",
       "   'comments': [],\n",
       "   'cosigners': [],\n",
       "   'author': 'DualDoomsdays',\n",
       "   'time_stamp': '2011年12月9日 23:20 (UTC)'},\n",
       "  {'text_blocks': ['\\n',\n",
       "    '    生物學之拉丁文原意本身就是指「研究生命之科學」，本質上生物學與生命科學是相同的，而且僅就「生物學」一詞而言也非特指Biology下之一門學科。故私心以為無需如此仿效。\\n',\n",
       "    '\\n',\n",
       "    '--[[User:愚人的搏鬥|愚人的搏鬥]]（[[User talk:愚人的搏鬥|留言]]） 2012年12月26日 (三) 14:07 (UTC)\\n'],\n",
       "   'comments': [],\n",
       "   'cosigners': [],\n",
       "   'author': '愚人的搏鬥',\n",
       "   'time_stamp': '2012年12月26日 (三) 14:07 (UTC)'},\n",
       "  {'text_blocks': ['\\n'], 'comments': [], 'cosigners': []}],\n",
       " 'heading': ' 生命科學=生物學？ '}"
      ]
     },
     "execution_count": 70,
     "metadata": {},
     "output_type": "execute_result"
    }
   ],
   "source": [
    "parsed_ch_ex5[\"sections\"][2]"
   ]
  },
  {
   "cell_type": "code",
   "execution_count": 71,
   "id": "66049909",
   "metadata": {},
   "outputs": [
    {
     "data": {
      "text/plain": [
       "{'subsections': [],\n",
       " 'comments': [{'text_blocks': ['== 外部链接已修改 ==\\n',\n",
       "    '\\n',\n",
       "    '各位维基人：\\n',\n",
       "    '\\n',\n",
       "    '我刚刚修改了[[生物学]]中的2个外部链接，请大家仔细检查[https://zh.wikipedia.org/w/index.php?diff=prev&oldid=44736020 我的编辑]。如果您有疑问，或者需要让机器人忽略某个链接甚至整个页面，请访问[[:m:InternetArchiveBot/FAQ|这个简单的FAQ]]获取更多信息。我进行了以下修改：\\n',\n",
       "    '*向 http://community.weber.edu/sciencemuseum/pages/life_main.asp 中加入存档链接 https://web.archive.org/web/20130727182113/http://community.weber.edu/sciencemuseum/pages/life_main.asp\\n',\n",
       "    '*向 http://ibot.sav.sk/icbn/main.htm 中加入存档链接 https://web.archive.org/web/20121006231936/http://ibot.sav.sk/icbn/main.htm\\n',\n",
       "    '\\n',\n",
       "    '有关机器人修正错误的详情请参阅FAQ。\\n',\n",
       "    '\\n',\n",
       "    '祝编安。—[[User:InternetArchiveBot|\\'\\'\\'<span style=\"color:darkgrey;font-family:monospace\">InternetArchiveBot</span>\\'\\'\\']] <span style=\"color:green;font-family:Rockwell\">([[:en:User talk:InternetArchiveBot|報告軟件缺陷]])</span> 2017年6月12日 (一) 13:12 (UTC)\\n'],\n",
       "   'comments': [],\n",
       "   'cosigners': [],\n",
       "   'author': 'InternetArchiveBot',\n",
       "   'time_stamp': '2017年6月12日 (一) 13:12 (UTC)'},\n",
       "  {'text_blocks': ['\\n'], 'comments': [], 'cosigners': []}],\n",
       " 'heading': ' 外部链接已修改 '}"
      ]
     },
     "execution_count": 71,
     "metadata": {},
     "output_type": "execute_result"
    }
   ],
   "source": [
    "parsed_ch_ex5[\"sections\"][3]"
   ]
  },
  {
   "cell_type": "code",
   "execution_count": 72,
   "id": "e0ab0022",
   "metadata": {},
   "outputs": [
    {
     "data": {
      "text/plain": [
       "{'subsections': [],\n",
       " 'comments': [{'text_blocks': ['== 外部链接已修改 ==\\n',\n",
       "    '\\n',\n",
       "    '各位维基人：\\n',\n",
       "    '\\n',\n",
       "    '我刚刚修改了[[生物学]]中的1个外部链接，请大家仔细检查[https://zh.wikipedia.org/w/index.php?diff=prev&oldid=49917299 我的编辑]。如果您有疑问，或者需要让机器人忽略某个链接甚至整个页面，请访问[[:m:InternetArchiveBot/FAQ|这个简单的FAQ]]获取更多信息。我进行了以下修改：\\n',\n",
       "    '*向 http://www.ultranet.com/~jkimball/BiologyPages/ 中加入存档链接 https://web.archive.org/web/20020604021647/http://www.ultranet.com/~jkimball/BiologyPages/\\n',\n",
       "    '\\n',\n",
       "    '有关机器人修正错误的详情请参阅FAQ。\\n',\n",
       "    '\\n',\n",
       "    '祝编安。—[[User:InternetArchiveBot|\\'\\'\\'<span style=\"color:darkgrey;font-family:monospace\">InternetArchiveBot</span>\\'\\'\\']] <span style=\"color:green;font-family:Rockwell\">([[:en:User talk:InternetArchiveBot|報告軟件缺陷]])</span> 2018年6月10日 (日) 04:46 (UTC)'],\n",
       "   'comments': [],\n",
       "   'cosigners': [],\n",
       "   'author': 'InternetArchiveBot',\n",
       "   'time_stamp': '2018年6月10日 (日) 04:46 (UTC)'}],\n",
       " 'heading': ' 外部链接已修改 '}"
      ]
     },
     "execution_count": 72,
     "metadata": {},
     "output_type": "execute_result"
    }
   ],
   "source": [
    "parsed_ch_ex5[\"sections\"][4]"
   ]
  },
  {
   "cell_type": "markdown",
   "id": "3cada49b",
   "metadata": {},
   "source": [
    "https://zh.wikipedia.org/wiki/User_talk:Ktsquare#%E8%AA%A0%E6%91%AF%E9%82%80%E8%AB%8B%E5%8F%83%E8%88%87%E9%9F%B3%E6%A8%82%E8%88%87%E8%88%9E%E8%B9%88%E6%8F%90%E5%8D%87%E8%A8%88%E7%95%AB"
   ]
  },
  {
   "cell_type": "code",
   "execution_count": 75,
   "id": "baed50ee",
   "metadata": {},
   "outputs": [],
   "source": [
    "ch_ex6 = None\n",
    "for page in dump:\n",
    "    if page.namespace in {1,3}:\n",
    "        ch_ex6 = page\n",
    "        break\n",
    "        \n",
    "# grab last revision\n",
    "revision6 = None\n",
    "for revision6 in ch_ex6:\n",
    "    pass\n",
    "\n",
    "parsed_ch_ex6 = wc.parse(revision6.text)"
   ]
  },
  {
   "cell_type": "code",
   "execution_count": 76,
   "id": "c37af1da",
   "metadata": {},
   "outputs": [
    {
     "name": "stdout",
     "output_type": "stream",
     "text": [
      "Page(id=174, title='Ktsquare', namespace=3, redirect=None, restrictions=[])\n"
     ]
    }
   ],
   "source": [
    "print(ch_ex6)"
   ]
  },
  {
   "cell_type": "code",
   "execution_count": 77,
   "id": "4525ca28",
   "metadata": {
    "scrolled": true
   },
   "outputs": [
    {
     "data": {
      "text/plain": [
       "{'subsections': [],\n",
       " 'comments': [{'text_blocks': [\"{{Personal announcement||content=歡迎您來到本用戶討論頁，泡個茶，[[WP:囉嗦|不用囉嗦]]留個言。如果您的留言沒有得到及時回應，請見諒。建議留言人士請勿在此討論頁中張貼與'''動員令'''相關活動的'''廣告宣傳'''，謝謝大家合作！|backcolor=purple|fontcolor=white}}\\n\",\n",
       "    '\\n',\n",
       "    '<center>[[Image:Barn star free zone.png|200px]]</center>\\n',\n",
       "    '{{Personal announcement||content=出於上面表達對於星章的我見，可以以書面、文字表達閣下送本人星章的原因；謝謝大家合作！|backcolor=purple|fontcolor=white}}\\n',\n",
       "    \"<!---遺址數據===见字留意===\\n:可疑：[[user:Ws227]][https://zh.wikipedia.org/w/index.php?title=User:Ktsquare&diff=8280690&oldid=8280560&diffmode=source]、[[User:Shoichi]]、[[user:Theodoranian]]\\n:其他help+可疑：[[user:Cloudcolors]]、[[user:Yuyu]]、[[user:KaurJmeb]]、[[user:Cobrachen]]、[[user:PhiLiP]]、[[user:Trudylan]]、[[user:Kandance]]\\n:其他talk：[[user:Lecter]]、[[user:阿佳]]、[[User:Smartneddy]]、[[user:Snowyowls]]、[[user:Wdshu]]、[[user:Peterpan]]\\n:existence on other site(s)'''?'''：[[User:玄史生]]\\n'''跟据经历，不欢迎'''以下用户就非维基百科事务在此留言：[[user:R.O.C]]、[[User:用心阁]]、[[user:Wing]]、[[user:Mountain]]、[[user:Tomchiukc]]、[[user:Stewart]]--[[user:Ktsquare|Ktsquare]] [[user talk:Ktsquare|留言]] 2019年5月9日 (四) 13:32 (UTC)\\n\\n+ [[user:ffaarr]]（::补充，ffaarr于2018年6月21日 (四) 08:35说「Ktsquare你好，好久沒聯絡，不知近來可好。」；在我而言，这只是「应酬的」客气话。我出于礼貌上说上相对的「应酬的」客气话；不代表我曾经现实中联络过ffaarr本人。-- ~~~~） -- [[user:Ktsquare|Ktsquare]] [[user talk:Ktsquare|留言]] 2019年7月29日 (一) 14:41 (UTC)\\n以下用户'''留意'''自身行为：[[User:Mywood]][https://zh.wikipedia.org/w/index.php?title=User:Ktsquare&diff=8280690&oldid=8280560&diffmode=source]、[[user:Rayng5]]、[[User:Tsugiko]] --\\n可能消息来源：……\\n~~~~\\n===容易入口，極度簡單的一兩句的總結===\\n[https://zh.wikipedia.org/w/index.php?title=%E9%A6%99%E6%B8%AF%E6%AD%B7%E5%8F%B2&oldid=210370 寫條目内容]時，[[Talk:香港歷史#建議拆分香港歷史|内容不在十餘年前]]當時[https://zh.wikipedia.org/w/index.php?title=%E9%A6%99%E6%B8%AF%E6%AD%B7%E5%8F%B2&type=revision&diff=2008015&oldid=210370&diffmode=source 你處理分拆條目的範圍內]，所以“[https://zh.wikipedia.org/w/index.php?target=Stewart&namespace=all&tagfilter=&start=2018-06-01&end=&limit=1000&title=Special%3A%E7%94%A8%E6%88%B7%E8%B4%A1%E7%8C%AE 現在要求有份參與十餘年前當時的相關内容是毫無理據，就是明目張膽的Stewart以不公開回應將文字貢獻記錄據為己維基百科以外、現實中所有！]並有[[User_talk:Ffaarr#资料补充遭到删除|將現在因爲討論（AT、Sammosa]]、[https://zh.wikipedia.org/w/index.php?title=%E9%A9%AC%E5%85%8B%C2%B7%E5%A4%A7%E5%8D%AB%C2%B7%E6%9F%A5%E6%99%AE%E6%9B%BC&diff=52461895&oldid=51011855&diffmode=source\\u3000筆和擦膠必有用）]引起的[[User_talk:筆和擦膠必有用#有个疑问|現實責任落在本用戶、及有份參與討論的用戶]]。例如AT確實有刪除AT、Sammosa及第三位用戶的討論。Sammosa誤會本用戶不善意推定。\\n看官想看教訓的話，就係[[User_talk:Stewart#近日查网上已有资料，原来此等事情曾经发生|當十年前左右因爲閣下成爲受害者]]而幫忙反而成爲現在反噬的資源。\\n---->\\n\",\n",
       "    '\\n'],\n",
       "   'comments': [],\n",
       "   'cosigners': []}]}"
      ]
     },
     "execution_count": 77,
     "metadata": {},
     "output_type": "execute_result"
    }
   ],
   "source": [
    "parsed_ch_ex6[\"sections\"][0]"
   ]
  },
  {
   "cell_type": "code",
   "execution_count": 78,
   "id": "023c0c3a",
   "metadata": {},
   "outputs": [
    {
     "data": {
      "text/plain": [
       "{'subsections': [],\n",
       " 'comments': [{'text_blocks': ['== 誠摯邀請參與音樂與舞蹈提升計畫 ==\\n',\n",
       "    \"會發此邀請帖是因閣下為[[Wikipedia:音乐兴趣小组维基人列表|音乐兴趣小组]]成員之一，故通知您'''[[維基百科:條目質量提升計劃/樂舞主題提升計畫|音樂與舞蹈條目提升]]'''已開始了！您現在可在該計畫提出協作請求或者幫忙協作，這比您在一兩個同好對話頁或條目討論頁互動性更佳。為了提升中文維基百科各領域的條目數量及品質，亦歡迎您邀請您認識的同好一起參與該計畫或 [[Wikipedia:條目質量提升計劃/子計畫|其他子計畫]]（也可參與籌備），或參閱[[WP:條目質量提升計畫]]（若純支持請至正式報到處[[Wikipedia: 條目質量提升計劃/報到處|簽到]]）。--''[[吟遊詩人]]''~'''[[User:wasami007|安可 ]]''' <sup>[[User talk:Wasami007|-{留言請按此}-]]</sup>[[File:Smiley.svg|16px|alt=☺|link=]]  2010年12月8日 (三) 08:09 (UTC)\\n\"],\n",
       "   'comments': [{'text_blocks': [':留言已閱。-- [[user:Ktsquare|Ktsquare]] [[user talk:Ktsquare|留言]] 2011年7月22日 (五) 18:43 (UTC)\\n'],\n",
       "     'comments': [],\n",
       "     'cosigners': [],\n",
       "     'author': 'Ktsquare',\n",
       "     'time_stamp': '2011年7月22日 (五) 18:43 (UTC)'}],\n",
       "   'cosigners': [],\n",
       "   'author': 'Wasami007',\n",
       "   'time_stamp': '2010年12月8日 (三) 08:09 (UTC)'},\n",
       "  {'text_blocks': ['\\n'], 'comments': [], 'cosigners': []}],\n",
       " 'heading': ' 誠摯邀請參與音樂與舞蹈提升計畫 '}"
      ]
     },
     "execution_count": 78,
     "metadata": {},
     "output_type": "execute_result"
    }
   ],
   "source": [
    "parsed_ch_ex6[\"sections\"][1]"
   ]
  },
  {
   "cell_type": "code",
   "execution_count": 79,
   "id": "31c7f689",
   "metadata": {},
   "outputs": [
    {
     "data": {
      "text/plain": [
       "{'subsections': [],\n",
       " 'comments': [{'text_blocks': ['== 歷史提升計畫邀請函 ==\\n',\n",
       "    '<div style=\"border: 10px solid Chocolate; background: #F5DEB3; padding: 1em;\">\\n',\n",
       "    '[[File:World Map 1689.JPG|right|200px]]\\n',\n",
       "    '<font style=\"font-size: 170%; \" ><center><font color=red> \\'\\'\\'[[Wikipedia:條目質量提升計劃/歷史提升計畫|歷史提升計畫]]\\'\\'\\'邀請函</center></font></font>\\n',\n",
       "    \"'''{{PAGENAME}}，您好'''：\\n\",\n",
       "    \"誠摯邀請您參加'''[[Wikipedia:條目質量提升計劃/歷史提升計畫|歷史條目質量提升計畫]]'''，本計畫旨在提升[[歷史]]相關條目的質量，藉由募求開放'''協作'''方式將更多的[[歷史]]條目達到一定水準，內容包含'''歷史朝代、國家、文明、文化、專門史、歷史事件、制度、戰役'''等等與歷史相關的條目都可以提報於此。期盼您能加入我們提升質量的行列，來改善或創建更高品質的[[中文維基百科|百科]]條目。\\n\",\n",
       "    \"為了提升中文維基百科各領域的條目數量及品質，歡迎您參與'''[[Wikipedia:條目質量提升計劃/子計畫|其他子計畫]]'''，請參閱[[WP:條目質量提升計畫|主計畫]]說明。謹祝編安。\\n\",\n",
       "    '<span style=\"font-size:smaller;\">收到此邀請函的維基人，可使用\\'\\'\\'{{Tls|歷史提升計畫/邀請}}\\'\\'\\'語法張貼至您認識的維基人[[WP:對話頁|對話頁]]，將此消息廣為推介來共襄盛舉，謝謝。</span>\\n',\n",
       "    '<!-- <small>[[Wikipedia:條目質量提升計畫|計畫說明]] | [[Wikipedia:條目質量提升計劃/子計畫|計畫總覽]]</small> -->\\n',\n",
       "    '<span style=\"display:none\">\\n',\n",
       "    '<span style=\"display:none\">{{subst:#if:\\n|</span>邀请人：\\n',\n",
       "    '<span style=\"display:none\"></span>邀請人：<span style=\"background-color:#FFFFFF;border:solid 1px;font:11px Verdana,Arial\">[[User:Jason22|<span style=\"color:navy\">&nbsp;Jason&nbsp;</span>]][[User:Jason22/info|<span style=\"color:navy\">22&nbsp;</span>]][[User talk:Jason22|<span style=\"background:#06256D;color:white\">&nbsp;對話頁&nbsp;</span>]][[Special:Contributions/Jason22|<span style=\"background:#C60027;color:white\">&nbsp;貢獻&nbsp;</span>]]</span> 2011年6月24日 (五) 16:54 (UTC)<span style=\"display:none\"></span></div>\\n'],\n",
       "   'comments': [{'text_blocks': [':留言已閱。-- [[user:Ktsquare|Ktsquare]] [[user talk:Ktsquare|留言]] 2011年7月22日 (五) 18:43 (UTC)\\n'],\n",
       "     'comments': [],\n",
       "     'cosigners': [],\n",
       "     'author': 'Ktsquare',\n",
       "     'time_stamp': '2011年7月22日 (五) 18:43 (UTC)'}],\n",
       "   'cosigners': [],\n",
       "   'author': 'Jason22',\n",
       "   'time_stamp': '2011年6月24日 (五) 16:54 (UTC)'},\n",
       "  {'text_blocks': ['\\n'], 'comments': [], 'cosigners': []}],\n",
       " 'heading': ' 歷史提升計畫邀請函 '}"
      ]
     },
     "execution_count": 79,
     "metadata": {},
     "output_type": "execute_result"
    }
   ],
   "source": [
    "parsed_ch_ex6[\"sections\"][2]"
   ]
  },
  {
   "cell_type": "code",
   "execution_count": 80,
   "id": "54cd63ec",
   "metadata": {},
   "outputs": [
    {
     "data": {
      "text/plain": [
       "{'subsections': [],\n",
       " 'comments': [{'text_blocks': ['== 邀請您參與法律條文提升 ==\\n',\n",
       "    '因有人提案[[Wikipedia:互助客栈/條目探討#歡迎大家參與“美國憲法第一修正案”詞條的翻譯工作|歡迎大家參與“美國憲法第一修正案”詞條的翻譯工作]]，因此敝人開闢了\\'\\'\\'[[Wikipedia:條目質量提升計劃/人文提升計畫#政治與法律|政治與法律提升計畫]]\\'\\'\\'，因見您對法律方面似乎頗有興趣，因此並誠摯邀請您能協助參與相關提升作業，拜託您撥些冗空幫忙一下，感激不盡。--[[User:wasami007|<span style=\"font-family:Cooper Black;font-size:large;color:red;\">安可</span>]]（[[User_talk:wasami007|來酒館談談]] ） 2011年7月11日 (一) 12:22 (UTC)\\n'],\n",
       "   'comments': [{'text_blocks': [':留言已閱。-- [[user:Ktsquare|Ktsquare]] [[user talk:Ktsquare|留言]] 2011年7月22日 (五) 18:43 (UTC)\\n'],\n",
       "     'comments': [],\n",
       "     'cosigners': [],\n",
       "     'author': 'Ktsquare',\n",
       "     'time_stamp': '2011年7月22日 (五) 18:43 (UTC)'}],\n",
       "   'cosigners': [],\n",
       "   'author': 'wasami007',\n",
       "   'time_stamp': '2011年7月11日 (一) 12:22 (UTC)'},\n",
       "  {'text_blocks': ['\\n'], 'comments': [], 'cosigners': []}],\n",
       " 'heading': ' 邀請您參與法律條文提升 '}"
      ]
     },
     "execution_count": 80,
     "metadata": {},
     "output_type": "execute_result"
    }
   ],
   "source": [
    "parsed_ch_ex6[\"sections\"][3]"
   ]
  },
  {
   "cell_type": "code",
   "execution_count": 81,
   "id": "cc16095c",
   "metadata": {},
   "outputs": [
    {
     "data": {
      "text/plain": [
       "{'subsections': [],\n",
       " 'comments': [{'text_blocks': ['==參考資料==\\n',\n",
       "    '如你所加的連結這樣，不需帳號就可完整閱讀的話，當然留網上連結也很好，也比較方便讀者看到，我指的主要還是那些一般人可能連不上的電子書或資料庫。[[user:ffaarr|ffaarr]] [[User talk:Ffaarr|(talk)]] 2013年4月19日 (五) 01:31 (UTC)\\n'],\n",
       "   'comments': [],\n",
       "   'cosigners': [],\n",
       "   'author': 'Ffaarr',\n",
       "   'time_stamp': '2013年4月19日 (五) 01:31 (UTC)'},\n",
       "  {'text_blocks': ['\\n'], 'comments': [], 'cosigners': []}],\n",
       " 'heading': '參考資料'}"
      ]
     },
     "execution_count": 81,
     "metadata": {},
     "output_type": "execute_result"
    }
   ],
   "source": [
    "parsed_ch_ex6[\"sections\"][4]"
   ]
  },
  {
   "cell_type": "code",
   "execution_count": 82,
   "id": "1eb9d973",
   "metadata": {},
   "outputs": [
    {
     "data": {
      "text/plain": [
       "{'subsections': [],\n",
       " 'comments': [{'text_blocks': ['== 訂閱 ==\\n',\n",
       "    '您好，您可以將名字加到下面的頁面以訂閱通訊。--[[User:Gakmo|Gakmo]]（[[User talk:Gakmo|留言]]） 2013年6月7日 (五) 04:12 (UTC)\\n'],\n",
       "   'comments': [{'text_blocks': ['*http://meta.wikimedia.org/wiki/Global_message_delivery/Targets/Tech_ambassadors\\n',\n",
       "      '*http://meta.wikimedia.org/wiki/Global_message_delivery/Targets/Wikidata\\n',\n",
       "      '\\n'],\n",
       "     'comments': [],\n",
       "     'cosigners': []}],\n",
       "   'cosigners': [],\n",
       "   'author': 'Gakmo',\n",
       "   'time_stamp': '2013年6月7日 (五) 04:12 (UTC)'}],\n",
       " 'heading': ' 訂閱 '}"
      ]
     },
     "execution_count": 82,
     "metadata": {},
     "output_type": "execute_result"
    }
   ],
   "source": [
    "parsed_ch_ex6[\"sections\"][5]"
   ]
  },
  {
   "cell_type": "code",
   "execution_count": 83,
   "id": "06847bf2",
   "metadata": {},
   "outputs": [
    {
     "data": {
      "text/plain": [
       "{'subsections': [],\n",
       " 'comments': [{'text_blocks': ['== re ==\\n',\n",
       "    '我盡量避免公開點名其他維基的人，不過你有興趣的話，參見[http://en.wikipedia.org/wiki/Wikipedia:Featured_articles/2012_RfC_on_FA_leadership 這個RFC]。[[User:Lecter|Lecter]] [[User_talk:Lecter|咖啡館♨]] 2013年7月15日 (一) 21:40 (UTC)\\n'],\n",
       "   'comments': [],\n",
       "   'cosigners': [],\n",
       "   'author': 'Lecter',\n",
       "   'time_stamp': '2013年7月15日 (一) 21:40 (UTC)'},\n",
       "  {'text_blocks': ['\\n'], 'comments': [], 'cosigners': []}],\n",
       " 'heading': ' re '}"
      ]
     },
     "execution_count": 83,
     "metadata": {},
     "output_type": "execute_result"
    }
   ],
   "source": [
    "parsed_ch_ex6[\"sections\"][6]"
   ]
  },
  {
   "cell_type": "code",
   "execution_count": 84,
   "id": "cabfbb55",
   "metadata": {},
   "outputs": [
    {
     "data": {
      "text/plain": [
       "{'subsections': [],\n",
       " 'comments': [{'text_blocks': ['==求问一下==\\n',\n",
       "    '《唐代墓志铭汇编附考》这本书您是如何得到的？谢谢回复。——[[User:星光下的人|星光下的人]]（[[User talk:星光下的人|留言]]） 2014年4月19日 (六) 00:19 (UTC)\\n'],\n",
       "   'comments': [{'text_blocks': [':[https://zh.wikipedia.org/w/index.php?title=User_talk:%E6%98%9F%E5%85%89%E4%B8%8B%E7%9A%84%E4%BA%BA&diff=32058966&oldid=32045199 已回覆]。-- [[user:Ktsquare|Ktsquare]] [[user talk:Ktsquare|留言]] 2014年7月29日 (二) 10:12 (UTC)\\n'],\n",
       "     'comments': [],\n",
       "     'cosigners': [],\n",
       "     'author': 'Ktsquare',\n",
       "     'time_stamp': '2014年7月29日 (二) 10:12 (UTC)'}],\n",
       "   'cosigners': [],\n",
       "   'author': '星光下的人',\n",
       "   'time_stamp': '2014年4月19日 (六) 00:19 (UTC)'},\n",
       "  {'text_blocks': ['\\n'], 'comments': [], 'cosigners': []}],\n",
       " 'heading': '求问一下'}"
      ]
     },
     "execution_count": 84,
     "metadata": {},
     "output_type": "execute_result"
    }
   ],
   "source": [
    "parsed_ch_ex6[\"sections\"][7]"
   ]
  },
  {
   "cell_type": "code",
   "execution_count": 85,
   "id": "f54ca3b0",
   "metadata": {},
   "outputs": [
    {
     "data": {
      "text/plain": [
       "{'subsections': [],\n",
       " 'comments': [{'text_blocks': ['==覆：WM2013技術人員的線上工作坊之我見==\\n',\n",
       "    '近日事忙，遲覆為歉。我是在WM2013當天遇到Sharihareswara（是在女性維基人午餐聚之類的場合），她說出了有這個構思，並托我向中文維基社群傳達此訊息。之後事情的發展，我也不太清楚了。--[[User:Charlotte1125|Charlotte1125]]（[[User talk:Charlotte1125|留言]]） 2014年6月16日 (一) 06:49 (UTC)\\n'],\n",
       "   'comments': [],\n",
       "   'cosigners': [],\n",
       "   'author': 'Charlotte1125',\n",
       "   'time_stamp': '2014年6月16日 (一) 06:49 (UTC)'},\n",
       "  {'text_blocks': ['\\n'], 'comments': [], 'cosigners': []}],\n",
       " 'heading': '覆：WM2013技術人員的線上工作坊之我見'}"
      ]
     },
     "execution_count": 85,
     "metadata": {},
     "output_type": "execute_result"
    }
   ],
   "source": [
    "parsed_ch_ex6[\"sections\"][8]"
   ]
  },
  {
   "cell_type": "code",
   "execution_count": 86,
   "id": "e6ee7d7e",
   "metadata": {},
   "outputs": [
    {
     "data": {
      "text/plain": [
       "{'subsections': [],\n",
       " 'comments': [{'text_blocks': ['==[[:File:Yearpage01.xls]]-{zh-hans:文件;zh-hant:檔案;}-存廢討論通知==\\n',\n",
       "    \"[[File:Icono_aviso_borrar.svg|left|40px|link=]]您好，您先前上传的-{zh-hans:文件;zh-hant:檔案;}-「[[:File:Yearpage01.xls]]」已被提出[[Wikipedia:檔案存廢討論|存廢討論]]，'''正在討論-{zh-hans:文件;zh-hant:檔案;}-的存廢'''。<br/>維基百科非常歡迎您上传-{zh-hans:文件;zh-hant:檔案;}-，但請先看看[[Wikipedia:合理使用準則|合理使用準則]]和[[Wikipedia:图像使用守则#版权|图像使用守则]]。<br/>\\n\",\n",
       "    '大多問題圖片可以通過添加[[Wikipedia:图像版权标志|图像版权标志]]等重要資訊解決。{{#ifexist:Wikipedia:檔案存廢討論/記錄/2017/01/07#File:Yearpage01.xls|請参与[[Wikipedia:檔案存廢討論/記錄/2017/01/07#File:Yearpage01.xls|檔案存廢討論]]，您亦可以與提刪的維基人進行溝通。|您亦可以與提刪的維基人進行溝通}}，多謝合作!<br/><small>幫助：[[維基百科:互助客棧|互助客棧]]、[[Wikipedia:版權FAQ|著作權]]、[[維基百科:IRC聊天頻道|IRC聊天頻道]]。</small>--[[User:Taiwania Justo|<span style=\"background:#228B22;color:Snow;padding: 2px 5px 2px 5px\">臺灣杉</span>]] 在此發言 <small>\\'\\'\\'([[User Talk:Taiwania Justo|會客室]])\\'\\'\\'</small> 2017年1月7日 (六) 07:42 (UTC)\\n'],\n",
       "   'comments': [],\n",
       "   'cosigners': [],\n",
       "   'author': 'Taiwania Justo',\n",
       "   'time_stamp': '2017年1月7日 (六) 07:42 (UTC)'},\n",
       "  {'text_blocks': ['\\n'], 'comments': [], 'cosigners': []}],\n",
       " 'heading': '[[:File:Yearpage01.xls]]-{zh-hans:文件;zh-hant:檔案;}-存廢討論通知'}"
      ]
     },
     "execution_count": 86,
     "metadata": {},
     "output_type": "execute_result"
    }
   ],
   "source": [
    "parsed_ch_ex6[\"sections\"][9]"
   ]
  },
  {
   "cell_type": "code",
   "execution_count": 87,
   "id": "792a03e9",
   "metadata": {},
   "outputs": [
    {
     "data": {
      "text/plain": [
       "{'subsections': [],\n",
       " 'comments': [{'text_blocks': ['== 新事證 ==\\n',\n",
       "    '您好。在今天繼續擴大搜尋在各維基語言是否有類似的檔案存留，已發現一例來自羅馬尼亞語維基百科：\\n',\n",
       "    '[[:ro:Fișier:Listă localități din județul Cluj.xls]]\\n',\n",
       "    '此外，在日語維基百科曾經討論過類似xls檔案的刪除案，討論結果是因為該檔案不再被使用而刪除：\\n',\n",
       "    '[[:ja:Wikipedia:削除依頼/画像:新規Microsoft_Excel_ﾜｰｸｼｰﾄ.xls]]\\n',\n",
       "    '因為羅馬尼亞語的維基百科仍有XLS檔案，因此有可能不是中文維基百科的個案，因此先予以撤回，並會繼續向國際社群詢問。對於造成您的困擾，僅此致歉，請原諒。\\n',\n",
       "    '[[User:Taiwania Justo|<span style=\"background:#228B22;color:Snow;padding: 2px 5px 2px 5px\">臺灣杉</span>]] 在此發言 <small>\\'\\'\\'([[User Talk:Taiwania Justo|會客室]])\\'\\'\\'</small> 2017年1月11日 (三) 06:43 (UTC)\\n'],\n",
       "   'comments': [{'text_blocks': ['\\n',\n",
       "      ':無需請見諒,請提供1)如何找出羅馬尼亞語與日語的案例.2)你在哪裡會繼續向國際社群詢問?我不一定需要你全程幫忙.--[[user:Ktsquare|Ktsquare]] [[user talk:Ktsquare|留言]] 2017年1月11日 (三) 07:22 (UTC)\\n'],\n",
       "     'comments': [{'text_blocks': ['\\n',\n",
       "        '::我提報的頁面為維基共享資源的互助客棧Village pump，與一般維基百科的互助客棧同機制。[[User:Taiwania Justo|<span style=\"background:#228B22;color:Snow;padding: 2px 5px 2px 5px\">臺灣杉</span>]] 在此發言 <small>\\'\\'\\'([[User Talk:Taiwania Justo|會客室]])\\'\\'\\'</small> 2017年1月11日 (三) 09:49 (UTC)\\n'],\n",
       "       'comments': [],\n",
       "       'cosigners': [],\n",
       "       'author': 'Taiwania Justo',\n",
       "       'time_stamp': '2017年1月11日 (三) 09:49 (UTC)'}],\n",
       "     'cosigners': [],\n",
       "     'author': 'Ktsquare',\n",
       "     'time_stamp': '2017年1月11日 (三) 07:22 (UTC)'}],\n",
       "   'cosigners': [],\n",
       "   'author': 'Taiwania Justo',\n",
       "   'time_stamp': '2017年1月11日 (三) 06:43 (UTC)'},\n",
       "  {'text_blocks': ['\\n'], 'comments': [], 'cosigners': []}],\n",
       " 'heading': ' 新事證 '}"
      ]
     },
     "execution_count": 87,
     "metadata": {},
     "output_type": "execute_result"
    }
   ],
   "source": [
    "parsed_ch_ex6[\"sections\"][10]"
   ]
  },
  {
   "attachments": {
    "image.png": {
     "image/png": "[encoded data removed]"
    }
   },
   "cell_type": "markdown",
   "id": "10f303af",
   "metadata": {},
   "source": [
    "![image.png](attachment:image.png)"
   ]
  },
  {
   "cell_type": "code",
   "execution_count": 88,
   "id": "ac7a09ab",
   "metadata": {
    "scrolled": true
   },
   "outputs": [
    {
     "data": {
      "text/plain": [
       "{'subsections': [],\n",
       " 'comments': [{'text_blocks': ['==回复通告==\\n',\n",
       "    '{{talkback|Aa1388zz|歷史顯示你大量提刪除年分條目|ts=2017年1月13日 (五) 08:42 (UTC)}}\\n',\n",
       "    '[[User:aa1388zz|<span style=\"color: #007FFF;\">\\'\\'\\'東東\\'\\'\\'</span>]]※[[User talk:aa1388zz|留言]] 2017年1月13日 (五) 08:42 (UTC)\\n'],\n",
       "   'comments': [],\n",
       "   'cosigners': [],\n",
       "   'author': 'aa1388zz',\n",
       "   'time_stamp': '2017年1月13日 (五) 08:42 (UTC)'},\n",
       "  {'text_blocks': ['\\n'], 'comments': [], 'cosigners': []}],\n",
       " 'heading': '回复通告'}"
      ]
     },
     "execution_count": 88,
     "metadata": {},
     "output_type": "execute_result"
    }
   ],
   "source": [
    "parsed_ch_ex6[\"sections\"][11]"
   ]
  },
  {
   "cell_type": "code",
   "execution_count": 89,
   "id": "0c86f9fb",
   "metadata": {},
   "outputs": [
    {
     "data": {
      "text/plain": [
       "{'subsections': [],\n",
       " 'comments': [{'text_blocks': ['== 編輯小技巧提示 ==\\n',\n",
       "    '加入來源後，請幫手移走「來源請求」標纖（<nowiki>{{fact|}}</nowiki>），例如你在[[香港秦朝至元朝歷史]]中的編輯，謝謝！——[[User:Silvermetals|Silvermetals]]（[[User talk:Silvermetals|留言]]） 2017年7月29日 (六) 14:23 (UTC)\\n'],\n",
       "   'comments': [{'text_blocks': [':Silvermetals你好，当中的一些内容可以在一时间找到可靠来源？例如城市論壇二〇一四年五月十八日的讲者们的意见。--[[user:Ktsquare|Ktsquare]] [[user talk:Ktsquare|留言]] 2017年7月30日 (日) 23:20 (UTC)\\n'],\n",
       "     'comments': [],\n",
       "     'cosigners': [],\n",
       "     'author': 'Ktsquare',\n",
       "     'time_stamp': '2017年7月30日 (日) 23:20 (UTC)'}],\n",
       "   'cosigners': [],\n",
       "   'author': 'Silvermetals',\n",
       "   'time_stamp': '2017年7月29日 (六) 14:23 (UTC)'},\n",
       "  {'text_blocks': ['\\n'], 'comments': [], 'cosigners': []}],\n",
       " 'heading': ' 編輯小技巧提示 '}"
      ]
     },
     "execution_count": 89,
     "metadata": {},
     "output_type": "execute_result"
    }
   ],
   "source": [
    "parsed_ch_ex6[\"sections\"][17]"
   ]
  },
  {
   "cell_type": "code",
   "execution_count": 90,
   "id": "9559058b",
   "metadata": {
    "scrolled": true
   },
   "outputs": [
    {
     "data": {
      "text/plain": [
       "{'subsections': [],\n",
       " 'comments': [{'text_blocks': ['== RE:香港秦朝至元朝歷史：最早來源是哪？ ==\\n',\n",
       "    '當年是取自香港各區的風物志書籍，以及白德:《香港文物志》、劉蜀永：《簡明香港史》等，以及從其他[[香港]]相關的條目分拆出文字，但具體哪一句取自何方，基於已是12年前的事，恕小弟已無法逐句尋回了。[[User:Stewart|Stewart]]~[[User_talk:Stewart|惡龍]] 2018年6月6日 (三) 16:07 (UTC)\\n'],\n",
       "   'comments': [{'text_blocks': [':[https://zh.wikipedia.org/w/index.php?title=%E9%A6%99%E6%B8%AF%E6%AD%B7%E5%8F%B2&type=revision&diff=212826&oldid=118255 我對我自己寫過的內容還是有印象的]、[https://zh.wikipedia.org/w/index.php?title=%E9%A6%99%E6%B8%AF%E6%AD%B7%E5%8F%B2&type=revision&diff=1982246&oldid=210370 其后合众人之力]。有人的洞見[https://zh.wikipedia.org/w/index.php?title=%E9%A6%99%E6%B8%AF%E6%AD%B7%E5%8F%B2&type=revision&diff=2008015&oldid=210370 再次在我面前又一次重現]啦。-- [[user:Ktsquare|Ktsquare]] [[user talk:Ktsquare|留言]] 2018年6月7日 (四) 02:50 (UTC)\\n'],\n",
       "     'comments': [{'text_blocks': ['::重新編寫還是怎樣？[[User:Stewart|Stewart]]~[[User_talk:Stewart|惡龍]] 2018年6月12日 (二) 03:44 (UTC)\\n'],\n",
       "       'comments': [{'text_blocks': [':::资料存档。--- [[user:Ktsquare|Ktsquare]] [[user talk:Ktsquare|留言]] 2018年6月12日 (二) 14:54 (UTC)\\n'],\n",
       "         'comments': [],\n",
       "         'cosigners': [],\n",
       "         'author': 'Ktsquare',\n",
       "         'time_stamp': '2018年6月12日 (二) 14:54 (UTC)'},\n",
       "        {'text_blocks': [':::例如比较这个[https://zh.wikipedia.org/w/index.php?title=%E9%A6%99%E6%B8%AF%E7%A7%A6%E6%9C%9D%E8%87%B3%E5%85%83%E6%9C%9D%E6%AD%B7%E5%8F%B2&oldid=2007755 存档]与[https://zh.wikipedia.org/w/index.php?title=%E9%A6%99%E6%B8%AF%E6%AD%B7%E5%8F%B2&type=revision&diff=2008015&oldid=210370 有人的洞見]。--[[user:Ktsquare|Ktsquare]] [[user talk:Ktsquare|留言]] 2018年7月25日 (三) 17:03 (UTC)\\n'],\n",
       "         'comments': [],\n",
       "         'cosigners': [],\n",
       "         'author': 'Ktsquare',\n",
       "         'time_stamp': '2018年7月25日 (三) 17:03 (UTC)'}],\n",
       "       'cosigners': [],\n",
       "       'author': 'Stewart',\n",
       "       'time_stamp': '2018年6月12日 (二) 03:44 (UTC)'}],\n",
       "     'cosigners': [],\n",
       "     'author': 'Ktsquare',\n",
       "     'time_stamp': '2018年6月7日 (四) 02:50 (UTC)'}],\n",
       "   'cosigners': [],\n",
       "   'author': 'Stewart',\n",
       "   'time_stamp': '2018年6月6日 (三) 16:07 (UTC)'},\n",
       "  {'text_blocks': ['\\n'], 'comments': [], 'cosigners': []}],\n",
       " 'heading': ' RE:香港秦朝至元朝歷史：最早來源是哪？ '}"
      ]
     },
     "execution_count": 90,
     "metadata": {},
     "output_type": "execute_result"
    }
   ],
   "source": [
    "parsed_ch_ex6[\"sections\"][19]"
   ]
  },
  {
   "cell_type": "markdown",
   "id": "c5864a9f",
   "metadata": {},
   "source": [
    "This section can test whether quoted material is parsed correctly: https://zh.wikipedia.org/wiki/User_talk:Ktsquare#Re:_%E6%BE%B3%E9%96%80%E7%B8%BD%E7%9D%A3%E5%90%8D%E7%A7%B0%E7%BF%BB%E8%AF%91"
   ]
  },
  {
   "cell_type": "code",
   "execution_count": 91,
   "id": "e4dc4c2e",
   "metadata": {},
   "outputs": [
    {
     "data": {
      "text/plain": [
       "{'subsections': [],\n",
       " 'comments': [{'text_blocks': ['== Re: 澳門總督名称翻译  ==\\n',\n",
       "    '按[https://app04.fmac.org.mo/macaubook/book090/html/0434001.htm 澳門政府基金會提供的人名對照]，“Martim Afonso de Melo Coutinho”衹譯為「馬爾丁·阿豐索」，如果全部字都要譯的話，可能是「馬爾丁·阿豐索·[[澳門總督|美路·高(丁/甸/定)玉]]」吧。--[[User:Cdip150|-{街燈電箱150號}-]] <small>[[User talk:Cdip150|開箱維修]] [[Special:Contributions/Cdip150|抄錶]] [[WP:AH/ARC/2011/1-3|檢驗證明]]</small> 2020年3月2日 (一) 03:27 (UTC)\\n'],\n",
       "   'comments': [{'text_blocks': ['\\n',\n",
       "      ':按[http://www.icm.gov.mo/rc/viewer/10040/701 澳門文化局的資料]，「別都盧」是指Pedro Homen Coutinho（Martim Afonso de Melo Coutinho的胞弟），所以「別都盧」並不是“Coutinho”的音譯，而“Pedro”才是對應「別都盧」。--[[User:Cdip150|-{街燈電箱150號}-]] <small>[[User talk:Cdip150|開箱維修]] [[Special:Contributions/Cdip150|抄錶]] [[WP:AH/ARC/2011/1-3|檢驗證明]]</small> 2020年3月3日 (二) 09:06 (UTC)\\n'],\n",
       "     'comments': [],\n",
       "     'cosigners': [],\n",
       "     'author': 'Cdip150',\n",
       "     'time_stamp': '2020年3月3日 (二) 09:06 (UTC)'}],\n",
       "   'cosigners': [],\n",
       "   'author': 'Cdip150',\n",
       "   'time_stamp': '2020年3月2日 (一) 03:27 (UTC)'},\n",
       "  {'text_blocks': [':知道“Pedro”才是對應「別都盧」了。按[http://www.icm.gov.mo/rc/viewer/10040/701 澳門文化局的資料]，\\n',\n",
       "    '\\n',\n",
       "    '{{quote|6月27日，葡人杜瓦爾特·科爾奧(Duarte Coelho，或譯杜阿特、庫爾胡)又領兩艘葡艦抵達增援。後又有雷戈(Ambrocio do Rego)領兩船從滿剌加抵屯門。戰役始於1521年6月，終於9月初。(茜草灣戰役)1522年4月....末兒丁·甫思·多·滅兒(Martim Affonsio de Mello Coutinho)任艦隊長，率其兩個兄弟和迪奧戈·多·滅兒(Diogo de Mello)及別都盧·奧門(Pedro Homen)等乘四艘艦船和一、兩艘中國式的船，載著三百人和貨物，於1522年7月10日離開滿剌加來中國。同來者有上年屯門戰役敗回的科埃略和雷戈兩人，顯然有報復企圖。}}\\n',\n",
       "    '{{quote|[[:pt:Martim_Afonso_de_Melo_Coutinho|葡萄牙語維基百科中放上需要專家關注模板的内容说明馬爾丁·阿豐索·美路·高(丁/甸/定)玉]]到達印度後，他不得不乘坐艦隊前往中國，他的兄弟Vasco Fernandes Coutinho也要去中國，而Diogo de Melo和Pedro Homen則是每艘船的船長。}}\\n',\n",
       "    '\\n',\n",
       "    ':兩條內容都沒有指名Pedro Homen是Martim Affonsio de Mello Coutinho的胞弟。反而Vasco Fernandes Coutinho是。--[[user:Ktsquare|Ktsquare]][[user talk:Ktsquare|留言]] 2020年3月3日 (二) 16:48 (UTC)\\n'],\n",
       "   'comments': [],\n",
       "   'cosigners': [],\n",
       "   'author': 'Ktsquare',\n",
       "   'time_stamp': '2020年3月3日 (二) 16:48 (UTC)'}],\n",
       " 'heading': ' Re: 澳門總督名称翻译  '}"
      ]
     },
     "execution_count": 91,
     "metadata": {},
     "output_type": "execute_result"
    }
   ],
   "source": [
    "parsed_ch_ex6[\"sections\"][30]"
   ]
  },
  {
   "cell_type": "code",
   "execution_count": 92,
   "id": "c1b9f02c",
   "metadata": {},
   "outputs": [
    {
     "data": {
      "text/plain": [
       "'Cdip150'"
      ]
     },
     "execution_count": 92,
     "metadata": {},
     "output_type": "execute_result"
    }
   ],
   "source": [
    "parsed_ch_ex6[\"sections\"][30][\"comments\"][0][\"author\"]"
   ]
  },
  {
   "cell_type": "markdown",
   "id": "c613ca5d",
   "metadata": {},
   "source": [
    "https://zh.wikipedia.org/wiki/Talk:%E7%A8%8B%E5%BA%8F%E8%AE%BE%E8%AE%A1"
   ]
  },
  {
   "cell_type": "code",
   "execution_count": 94,
   "id": "37fc82e5",
   "metadata": {},
   "outputs": [],
   "source": [
    "ch_ex7 = None\n",
    "for page in dump:\n",
    "    if page.namespace in {1,3}:\n",
    "        ch_ex7 = page\n",
    "        break\n",
    "        \n",
    "# grab last revision\n",
    "revision7 = None\n",
    "for revision7 in ch_ex7:\n",
    "    pass\n",
    "\n",
    "parsed_ch_ex7 = wc.parse(revision7.text)"
   ]
  },
  {
   "cell_type": "code",
   "execution_count": 95,
   "id": "813d8093",
   "metadata": {},
   "outputs": [
    {
     "data": {
      "text/plain": [
       "Page(id=185, title='程序设计', namespace=1, redirect=None, restrictions=[])"
      ]
     },
     "execution_count": 95,
     "metadata": {},
     "output_type": "execute_result"
    }
   ],
   "source": [
    "ch_ex7"
   ]
  },
  {
   "cell_type": "code",
   "execution_count": 96,
   "id": "dc2d406e",
   "metadata": {},
   "outputs": [
    {
     "data": {
      "text/plain": [
       "{'sections': [{'subsections': [],\n",
       "   'comments': [{'text_blocks': ['{{WikiProject banner shell|vital=yes|\\n{{WikiProject Computer science|importance=top}}\\n}}\\n',\n",
       "      '，讨论讨论。:)\\n',\n",
       "      '\\n',\n",
       "      'Can anyone who can edit this page ?\\n',\n",
       "      '\\n',\n",
       "      '「QF-Zhang」'],\n",
       "     'comments': [],\n",
       "     'cosigners': []}]}]}"
      ]
     },
     "execution_count": 96,
     "metadata": {},
     "output_type": "execute_result"
    }
   ],
   "source": [
    "parsed_ch_ex7"
   ]
  },
  {
   "cell_type": "markdown",
   "id": "bbf03372",
   "metadata": {},
   "source": [
    "https://zh.wikipedia.org/wiki/User_talk:Mountain/%E5%AD%98%E6%A1%A3_1"
   ]
  },
  {
   "cell_type": "code",
   "execution_count": 97,
   "id": "f07d7596",
   "metadata": {},
   "outputs": [],
   "source": [
    "ch_ex8 = None\n",
    "for page in dump:\n",
    "    if page.namespace in {1,3}:\n",
    "        ch_ex8 = page\n",
    "        break\n",
    "        \n",
    "# grab last revision\n",
    "revision8 = None\n",
    "for revision8 in ch_ex8:\n",
    "    pass\n",
    "\n",
    "parsed_ch_ex8 = wc.parse(revision8.text)"
   ]
  },
  {
   "cell_type": "code",
   "execution_count": 99,
   "id": "6745e39b",
   "metadata": {},
   "outputs": [
    {
     "data": {
      "text/plain": [
       "Page(id=234, title='Mountain/存档 1', namespace=3, redirect=None, restrictions=[])"
      ]
     },
     "execution_count": 99,
     "metadata": {},
     "output_type": "execute_result"
    }
   ],
   "source": [
    "ch_ex8"
   ]
  },
  {
   "cell_type": "code",
   "execution_count": 100,
   "id": "e563d38b",
   "metadata": {},
   "outputs": [
    {
     "data": {
      "text/plain": [
       "{'subsections': [],\n",
       " 'comments': [{'text_blocks': ['== 申請罷免管理員[[User:Shizhao]]投票==\\n',\n",
       "    '\\n',\n",
       "    '我注意到你在[[Wikipedia:申請罷免管理員/Shizhao/第4次]]投票時未加上理由。[[WP:RFDA|申請罷免管理員方針]]（解任過程：→投票）有「無論支持票還是反對票，投票人需給出理由」的規定。如果日後嚴格地復核投票結果，你的一票就有被註為無效的可能。請你考慮前去補上一個簡短的理由吧。—[[User:Computor|Computor]] ([[User talk:Computor|留言]]) 2010年4月12日 (一) 13:57 (UTC)\\n'],\n",
       "   'comments': [],\n",
       "   'cosigners': [],\n",
       "   'author': 'Computor',\n",
       "   'time_stamp': '2010年4月12日 (一) 13:57 (UTC)'},\n",
       "  {'text_blocks': ['\\n'], 'comments': [], 'cosigners': []}],\n",
       " 'heading': ' 申請罷免管理員[[User:Shizhao]]投票'}"
      ]
     },
     "execution_count": 100,
     "metadata": {},
     "output_type": "execute_result"
    }
   ],
   "source": [
    "parsed_ch_ex8[\"sections\"][1]"
   ]
  },
  {
   "cell_type": "code",
   "execution_count": 101,
   "id": "106012b0",
   "metadata": {},
   "outputs": [
    {
     "data": {
      "text/plain": [
       "{'subsections': [],\n",
       " 'comments': [{'text_blocks': ['== 有兴趣加入条目拯救队吗？==\\n',\n",
       "    '\\n',\n",
       "    '如题—[[User:Edouardlicn|Edouardlicn]] ([[User talk:Edouardlicn|留言]]) 2010年4月27日 (二) 05:36 (UTC)\\n'],\n",
       "   'comments': [{'text_blocks': ['\\n',\n",
       "      ':非常抱歉，因为平日工作比较忙，只能参加有限的几个维基上的活动，还请谅解。--[[User:Mountain|Mountain]] ([[User talk:Mountain#top|留言]]) 2010年4月27日 (二) 09:45 (UTC)\\n'],\n",
       "     'comments': [],\n",
       "     'cosigners': [],\n",
       "     'author': 'Mountain',\n",
       "     'time_stamp': '2010年4月27日 (二) 09:45 (UTC)'}],\n",
       "   'cosigners': [],\n",
       "   'author': 'Edouardlicn',\n",
       "   'time_stamp': '2010年4月27日 (二) 05:36 (UTC)'}],\n",
       " 'heading': ' 有兴趣加入条目拯救队吗？'}"
      ]
     },
     "execution_count": 101,
     "metadata": {},
     "output_type": "execute_result"
    }
   ],
   "source": [
    "parsed_ch_ex8[\"sections\"][2]"
   ]
  },
  {
   "cell_type": "code",
   "execution_count": 102,
   "id": "55511b22",
   "metadata": {},
   "outputs": [
    {
     "data": {
      "text/plain": [
       "{'subsections': [],\n",
       " 'comments': [{'text_blocks': ['== 打個招呼==\\n',\n",
       "    '\\n',\n",
       "    '你好啊\\n',\n",
       "    '\\n',\n",
       "    '這一陣子才開始真正摸索怎麼編輯,先來打個招呼.(之前試過一兩次,但總是半途而廢...)\\n',\n",
       "    '\\n',\n",
       "    '(預覽時發現\"發言須與本百科之寫作或改進有關\",我這麼算是違規了嗎?)\\n',\n",
       "    '\\n',\n",
       "    '在維基上最擔心的就是不小心犯規了...\\n',\n",
       "    '\\n',\n",
       "    '[[User:Feima|Feima]] ([[User talk:Feima|留言]]) 2010年5月14日 (五) 02:18 (UTC)\\n'],\n",
       "   'comments': [],\n",
       "   'cosigners': [],\n",
       "   'author': 'Feima',\n",
       "   'time_stamp': '2010年5月14日 (五) 02:18 (UTC)'},\n",
       "  {'text_blocks': ['\\n'], 'comments': [], 'cosigners': []}],\n",
       " 'heading': ' 打個招呼'}"
      ]
     },
     "execution_count": 102,
     "metadata": {},
     "output_type": "execute_result"
    }
   ],
   "source": [
    "parsed_ch_ex8[\"sections\"][3]"
   ]
  },
  {
   "attachments": {
    "image.png": {
     "image/png": "[encoded data removed]"
    }
   },
   "cell_type": "markdown",
   "id": "791b4cf3",
   "metadata": {},
   "source": [
    "Fancy formatting: But further experimentation reveals that the user signature extraction issue is not actually the fancy formatting--it's due to the code for parsing signatures being dependent on first finding the timestamp.\n",
    "![image.png](attachment:image.png)"
   ]
  },
  {
   "cell_type": "code",
   "execution_count": 103,
   "id": "9d00758e",
   "metadata": {},
   "outputs": [
    {
     "data": {
      "text/plain": [
       "{'subsections': [],\n",
       " 'comments': [{'text_blocks': ['== 邀请参加第八次动员令==\\n',\n",
       "    '<div style=\"border: 5px solid #C71585; background: #AFEEEE; padding: 1em; -moz-border-radius: 15px; -webkit-border-radius: 15px;\">\\n\\n<font style=\"font-size: 170%; \"></font><center><font color=\"#DE3163\">[[File:Wikipedia-logo-v2-zh.svg|30px|中文维基百科]]  \\'\\'\\'第八次动员令邀请函\\'\\'\\'</font></center>\\n\\n[[文件:Wikipedesketch1.png|100px|left|查查资料，完善条目！]][[File:八.png|100px|right|第八次动员令|link=File:%E5%85%AB.png]]亲爱的维基百科用户您好：\\n\\n为了增加中文维基的条目数量，[[wikipedia:动员令/第八次动员令|第八次动员令]]将在2010年7月1日开始，8月28日结束，期间欢迎阁下积极参与。\\n\\n本次动员令分為大、中及小動員令，中動員令的4个主题分别是\\'\\'\\'世界各地\\'\\'\\'、\\'\\'\\'自然与自然科学\\'\\'\\'、\\'\\'\\'最多语言待撰写条目\\'\\'\\'和\\'\\'\\'基础条目\\'\\'\\'，小動員令的2个主题分别是\\'\\'\\'战争及军事武器\\'\\'\\'以及\\'\\'\\'侵权待拯救条目\\'\\'\\'。\\n\\n关于本次动员令的详细规定请阁下参见：[[Wikipedia:动员令/第八次动员令]]\\n\\n请收到此邀请函的维基人，利用{{tls|动员令/8}}，将此动员令贴到其他还未收到此动员令的维基人讨论页上，就算您由于各种原因不能响应本次动员令、积极建立新条目，也请帮忙散发动员令，因为能否将动员令[[wikipedia:动员令/散发动员令|传播]]出去，是历次动员令成败关键之一。大家一起合力才能提高维基的质量！\\n\\n<span style=\"display:none\"></span>邀请人：[[User:Evo101469|Evo101469]] ([[User talk:Evo101469|留言]])<span style=\"display:none\"></span>\\n</div>\\n',\n",
       "    '\\n',\n",
       "    '\\n'],\n",
       "   'comments': [],\n",
       "   'cosigners': []}],\n",
       " 'heading': ' 邀请参加第八次动员令'}"
      ]
     },
     "execution_count": 103,
     "metadata": {},
     "output_type": "execute_result"
    }
   ],
   "source": [
    "parsed_ch_ex8[\"sections\"][4]"
   ]
  },
  {
   "cell_type": "code",
   "execution_count": 104,
   "id": "7c38ef72",
   "metadata": {},
   "outputs": [
    {
     "data": {
      "text/plain": [
       "{'subsections': [],\n",
       " 'comments': [{'text_blocks': ['== 編輯星章==\\n',\n",
       "    '\\n',\n",
       "    '{| style=\"border: 1px solid gray; background-color: #fdffe7;\"\\n\\n| rowspan=\"2\" valign=\"middle\" |[[File:Editors Barnstar Hires.png|100px]]\\n\\n| rowspan=\"2\" |\\n| style=\"font-size: x-large; padding: 0; vertical-align: middle; height: 1.1em;\" |\\'\\'\\'編輯星章\\'\\'\\'\\n\\n|-\\n| style=\"vertical-align: middle; border-top: 1px solid gray;\" |作為維基人的先驅，此星章一定要頒給你。 [[User:Flamelai|Flame]] [[User talk:Flamelai|歡迎泡茶]] 2010年7月21日 (三) 02:10 (UTC)\\n\\n|}\\n'],\n",
       "   'comments': [],\n",
       "   'cosigners': [],\n",
       "   'author': 'Flamelai',\n",
       "   'time_stamp': '2010年7月21日 (三) 02:10 (UTC)'}],\n",
       " 'heading': ' 編輯星章'}"
      ]
     },
     "execution_count": 104,
     "metadata": {},
     "output_type": "execute_result"
    }
   ],
   "source": [
    "parsed_ch_ex8[\"sections\"][7]"
   ]
  },
  {
   "cell_type": "code",
   "execution_count": 105,
   "id": "e37e576c",
   "metadata": {},
   "outputs": [
    {
     "data": {
      "text/plain": [
       "{'subsections': [],\n",
       " 'comments': [{'text_blocks': ['== 請問您正在做什麼測試==\\n',\n",
       "    '默默注意您在多個條目討論頁上的編輯測試很久了，但一直看不懂您在做什麼？[[User:燈火闌珊處|<span style=\"color: #191970;\">\\'\\'\\'燈火闌珊處\\'\\'\\'</span>]]－[[User talk:燈火闌珊處|<span style=\"color: #FFB366;\">點燈</span>]][[Special:用户贡献/燈火闌珊處|<sup><span style=\"font-family:Monotype Corsiva;font-size:medium;color:#007FFF\">Wahrheit wird man frei machen.</span></sup>]] 2010年10月3日 (日) 09:14 (UTC)\\n'],\n",
       "   'comments': [{'text_blocks': [':原來如此，期待閣下的工具開發成功。順祝編安。[[User:燈火闌珊處|<span style=\"color: #191970;\">\\'\\'\\'燈火闌珊處\\'\\'\\'</span>]]－[[User talk:燈火闌珊處|<span style=\"color: #FFB366;\">點燈</span>]][[Special:用户贡献/燈火闌珊處|<sup><span style=\"font-family:Monotype Corsiva;font-size:medium;color:#007FFF\">Wahrheit wird man frei machen.</span></sup>]] 2010年10月3日 (日) 09:30 (UTC)\\n'],\n",
       "     'comments': [],\n",
       "     'cosigners': [],\n",
       "     'author': '燈火闌珊處',\n",
       "     'time_stamp': '2010年10月3日 (日) 09:30 (UTC)'}],\n",
       "   'cosigners': [],\n",
       "   'author': '燈火闌珊處',\n",
       "   'time_stamp': '2010年10月3日 (日) 09:14 (UTC)'}],\n",
       " 'heading': ' 請問您正在做什麼測試'}"
      ]
     },
     "execution_count": 105,
     "metadata": {},
     "output_type": "execute_result"
    }
   ],
   "source": [
    "parsed_ch_ex8[\"sections\"][8]"
   ]
  },
  {
   "cell_type": "code",
   "execution_count": 106,
   "id": "a7fb52de",
   "metadata": {},
   "outputs": [
    {
     "data": {
      "text/plain": [
       "{'subsections': [],\n",
       " 'comments': [{'text_blocks': ['== 可用了嗎?==\\n',\n",
       "    'hi~ ultrafilter可以使用了嗎?--[[User:Jasonzhuocn|Jasonzhuocn]] ([[User talk:Jasonzhuocn|留言]]) 2010年10月9日 (六) 14:00 (UTC)\\n'],\n",
       "   'comments': [{'text_blocks': [':抱歉打扰了。还在调试，有些数据格式还不对。等做好了，我会通知大家。--[[User:Mountain|Mountain]] ([[User talk:Mountain#top|留言]]) 2010年10月9日 (六) 14:02 (UTC)\\n'],\n",
       "     'comments': [],\n",
       "     'cosigners': [],\n",
       "     'author': 'Mountain',\n",
       "     'time_stamp': '2010年10月9日 (六) 14:02 (UTC)'}],\n",
       "   'cosigners': [],\n",
       "   'author': 'Jasonzhuocn',\n",
       "   'time_stamp': '2010年10月9日 (六) 14:00 (UTC)'}],\n",
       " 'heading': ' 可用了嗎?'}"
      ]
     },
     "execution_count": 106,
     "metadata": {},
     "output_type": "execute_result"
    }
   ],
   "source": [
    "parsed_ch_ex8[\"sections\"][9]"
   ]
  },
  {
   "cell_type": "code",
   "execution_count": 107,
   "id": "244dcbd8",
   "metadata": {},
   "outputs": [
    {
     "data": {
      "text/plain": [
       "{'subsections': [],\n",
       " 'comments': [{'text_blocks': ['== 關於維基日報==\\n',\n",
       "    \"請問[[WP:維基日報]]這是取代[[WP:維基簡訊]]的新動態快訊？以模組化設計來看，應該頗為容易維護與更新（這比維基簡訊好很多），請問是否開放協助編輯，可否引入版面管理員制度？特色與優良方面可否使用[[維基百科:優良條目/存檔]]？可否融入[[WP:條目質量提升計畫]]（刊載產生之加強條目）？請問你可否至[[WP:條目質量提升計畫/發起創建]]創建您感興趣或有研究之主題提升計畫並成為主持人？以上諸多問題，期待您的回覆，感謝。--'''[[User:wasami007|安可]]''' <sup>[[User talk:Wasami007|-{留言請按此}-]]</sup>  2010年11月4日 (四) 01:12 (UTC)\\n\"],\n",
       "   'comments': [{'text_blocks': ['\\n',\n",
       "      \":[[WP:維基簡訊]]經由[[User:Waihorace|HW]]改版後，也是面向站外用戶的，也可通過多種方式（email、rss）遞送給站外用戶（但目前沒成功用過...）。雖然名稱與版面不同，但功能上其實還是可以互相整合（不是內容整合，而是透過內部連結成為姊妹版），這方面希望能與[[User:Waihorace|HW]]切搓商量，他的排版功力已達出神入化境界，維基首頁也是由他改版創建的。--'''[[User:wasami007|安可]]''' <sup>[[User talk:Wasami007|-{留言請按此}-]]</sup>  2010年11月4日 (四) 13:41 (UTC)\\n\"],\n",
       "     'comments': [{'text_blocks': [\"::另外面向站內用戶的版面應該是[[WP:公告欄]]，而[[WP:主題]]創建方面能善用{{T1|主題公告欄}}發布消息，還有維基百科社群盡量不要區隔你我們，畢竟簡繁合家也有一段時間了，敝人也為中國大陸社群創建[[WP:中國大陸維基人佈告板]]也請多加利用，感謝您的熱心創建。--'''[[User:wasami007|安可]]''' <sup>[[User talk:Wasami007|-{留言請按此}-]]</sup>  2010年11月4日 (四) 13:56 (UTC)\\n\"],\n",
       "       'comments': [],\n",
       "       'cosigners': [],\n",
       "       'author': 'Wasami007',\n",
       "       'time_stamp': '2010年11月4日 (四) 13:56 (UTC)'}],\n",
       "     'cosigners': [],\n",
       "     'author': 'Wasami007',\n",
       "     'time_stamp': '2010年11月4日 (四) 13:41 (UTC)'},\n",
       "    {'text_blocks': [\":這應該要同時更新[[Template:主題首頁數]]、[[Portal:首頁/TODO#已發表主題列表]]、[[Template:行事曆]]、[[Template:主題首頁數]]，以及[[Template:Portals]]。--'''[[User:wasami007|安可]]''' <sup>[[User talk:Wasami007|-{留言請按此}-]]</sup>  2010年11月4日 (四) 14:08 (UTC)\\n\"],\n",
       "     'comments': [],\n",
       "     'cosigners': [],\n",
       "     'author': 'Wasami007',\n",
       "     'time_stamp': '2010年11月4日 (四) 14:08 (UTC)'}],\n",
       "   'cosigners': [],\n",
       "   'author': 'Wasami007',\n",
       "   'time_stamp': '2010年11月4日 (四) 01:12 (UTC)'},\n",
       "  {'text_blocks': ['\\n'], 'comments': [], 'cosigners': []}],\n",
       " 'heading': ' 關於維基日報'}"
      ]
     },
     "execution_count": 107,
     "metadata": {},
     "output_type": "execute_result"
    }
   ],
   "source": [
    "parsed_ch_ex8[\"sections\"][13]"
   ]
  },
  {
   "cell_type": "code",
   "execution_count": 108,
   "id": "bfcb101e",
   "metadata": {},
   "outputs": [
    {
     "data": {
      "text/plain": [
       "{'subsections': [],\n",
       " 'comments': [{'text_blocks': ['==<s>[[Template:Feature]]</s>==\\n',\n",
       "    '\\n',\n",
       "    '想问一下您在这里加的div标签说是bot用，能够具体说一下吗？做什么用？因为我有一个bot脚本在生成这个页面的RSS，我担心您加的内容可能会影响到我运行的脚本....---{百無一用是書生]]}- (<big>[[User talk:Shizhao|&#9742;]]</big>) 2010年12月9日 (四) 03:21 (UTC)\\n'],\n",
       "   'comments': [{'text_blocks': ['\\n',\n",
       "      ':呃，写错了，[[Template:Feature]]的修改不会影响到我的脚本，[[Template:Itn]]上的同样的div倒是貌似要让我改写代码才可以---{百無一用是書生]]}- (<big>[[User talk:Shizhao|&#9742;]]</big>) 2010年12月9日 (四) 03:26 (UTC)\\n'],\n",
       "     'comments': [],\n",
       "     'cosigners': [],\n",
       "     'author': 'Shizhao',\n",
       "     'time_stamp': '2010年12月9日 (四) 03:26 (UTC)'}],\n",
       "   'cosigners': [],\n",
       "   'author': 'Shizhao',\n",
       "   'time_stamp': '2010年12月9日 (四) 03:21 (UTC)'}],\n",
       " 'heading': '<s>[[Template:Feature]]</s>'}"
      ]
     },
     "execution_count": 108,
     "metadata": {},
     "output_type": "execute_result"
    }
   ],
   "source": [
    "parsed_ch_ex8[\"sections\"][19]"
   ]
  },
  {
   "cell_type": "code",
   "execution_count": 109,
   "id": "0056698b",
   "metadata": {},
   "outputs": [
    {
     "data": {
      "text/plain": [
       "{'subsections': [],\n",
       " 'comments': [{'text_blocks': ['== 能不能帮忙解禁啊==\\n',\n",
       "    '我不是什么机器人攻击什么的，都是正常编辑啊,自己的页面都不能编辑了T.T[[User:Jimjiawzw|Jimw]] ([[User talk:Jimjiawzw|留言]]) 2011年2月12日 (六) 06:33 (UTC)\\n'],\n",
       "   'comments': [],\n",
       "   'cosigners': [],\n",
       "   'author': 'Jimjiawzw',\n",
       "   'time_stamp': '2011年2月12日 (六) 06:33 (UTC)'},\n",
       "  {'text_blocks': [' ，@，\\n', '\\n'], 'comments': [], 'cosigners': []}],\n",
       " 'heading': ' 能不能帮忙解禁啊'}"
      ]
     },
     "execution_count": 109,
     "metadata": {},
     "output_type": "execute_result"
    }
   ],
   "source": [
    "parsed_ch_ex8[\"sections\"][23]"
   ]
  },
  {
   "cell_type": "code",
   "execution_count": 110,
   "id": "80b93596",
   "metadata": {},
   "outputs": [
    {
     "data": {
      "text/plain": [
       "{'subsections': [],\n",
       " 'comments': [{'text_blocks': ['== 邀请您参加第九次动员令==\\n',\n",
       "    '<div style=\"border: 5px solid #127436; background: #66FF00; padding: 1em; -moz-border-radius: 15px; -webkit-border-radius: 15px;\">\\n\\n<font style=\"font-size: 170%; \"></font><center><font color=\"red\">[[File:Wikipedia-logo-v2-zh.svg|50px|中文维基百科]] \\'\\'\\'[[wikipedia:动员令/第九次动员令|<font color=\"red\">第九次动员令</font>]]邀请函\\'\\'\\'</font></center>\\n\\n[[File:Wikipe-tan_do_not.png|250px|right|維基娘，第九次動員令的吉祥物]]<big>\\'\\'\\'亲爱的维基百科用户{{PAGENAME}}您好：\\'\\'\\'</big>\\n\\n首先，感謝你對維基百科的貢獻！为了提升中文维基的条目品質及数量，[[wikipedia:动员令/第九次动员令|第九次动员令]]將於2011年6月25日开始，9月3日结束，我們竭誠邀請您积极参与。\\n\\n本次动员令分為大、中、小動員令，大動員令是可以在任何主題中貢獻的動員令項目，而中動員令的2个主题分别是\\'\\'\\'人文與社會科學\\'\\'\\'及\\'\\'\\'世界各地\\'\\'\\'，小動員令的4个主题分别是\\'\\'\\'最多語言待撰條目\\'\\'\\'、\\'\\'\\'自然與自然科學\\'\\'\\'、\\'\\'\\'工程、技術與應用科學\\'\\'\\'及\\'\\'\\'外交\\'\\'\\'。\\n\\n关于本次动员令的详细信息请您参见：\\'\\'\\'[[wikipedia:動員令/第九次動員令|第九次动员令]]\\'\\'\\'，並歡迎您到[[wikipedia:動員令/第九次動員令/新手入門|動員令入門]]頁了解甚麼是動員令，並請至[[wikipedia:動員令/第九次動員令/報名|報名頁面]]報名參與是次動員令，<u>已於6月25日開放報名了</u>。\\n\\n请收到本邀请函的维基人，将\\'\\'\\'{{Tls|动员令}}\\'\\'\\'轉贴到其他尚未收到本动员令的维基人讨论页上（也請參考\\'\\'\\'[[wikipedia:動員令/第九次動員令/工具|工具]]\\'\\'\\'），如果您由于各种原因不能响应本次动员令、积极建立新条目，也请帮忙散发动员令，因为能否将动员令\\'\\'\\'[[wikipedia:动员令/散发动员令|传播]]\\'\\'\\'出去，是历次动员令成败之关键，大家一起合力才能提升维基的服務、品质及數量！非常感謝您的參與！\\n\\n<div align=\"right\">邀請你的維基人是：[[User:UAL55|UAL55]] ([[User talk:UAL55|留言]]) 2011年6月28日 (二) 05:58 (UTC)\\n</div>\\n</div>\\n'],\n",
       "   'comments': [],\n",
       "   'cosigners': [],\n",
       "   'author': 'UAL55',\n",
       "   'time_stamp': '2011年6月28日 (二) 05:58 (UTC)'},\n",
       "  {'text_blocks': ['\\n'], 'comments': [], 'cosigners': []}],\n",
       " 'heading': ' 邀请您参加第九次动员令'}"
      ]
     },
     "execution_count": 110,
     "metadata": {},
     "output_type": "execute_result"
    }
   ],
   "source": [
    "parsed_ch_ex8[\"sections\"][30]"
   ]
  },
  {
   "cell_type": "code",
   "execution_count": 111,
   "id": "055ddd8e",
   "metadata": {},
   "outputs": [
    {
     "data": {
      "text/plain": [
       "{'subsections': [],\n",
       " 'comments': [{'text_blocks': ['== 星章==\\n',\n",
       "    '\\n',\n",
       "    '{| style=\"border: 1px solid gray; background-color: #fdffe7;\"\\n\\n| rowspan=\"2\" valign=\"middle\" |[[File:Special Barnstar Hires.png|100px]]\\n\\n| rowspan=\"2\" |\\n| style=\"font-size: x-large; padding: 0; vertical-align: middle; height: 1.1em;\" |\\'\\'\\'特别星章\\'\\'\\'\\n\\n|-\\n| style=\"vertical-align: middle; border-top: 1px solid gray;\" |嘛……所有昨天参加完聚会之后又被雨淋的每人一个特别星章……辛苦了～  <span style=\"color:#0000FF\">\\'\\'\\'--\\'\\'\\'</span> [[User:Park1996|<span style=\"color:#0000FF\">\\'\\'\\'Park\\'\\'\\'</span>]]<sup><small> [[User talk:Park1996#top|<span style=\"color:#FF0000\">\\'\\'\\'进站\\'\\'\\'</span>]] [[Special:用户贡献/Park1996|<span style=\"color:#0000FF\">\\'\\'\\'入闸\\'\\'\\'</span>]] [[User:Park1996/IM|<span style=\"color:#FF0000\">\\'\\'\\'乘车\\'\\'\\'</span>]]</small></sup> 2011年7月27日 (三) 01:21 (UTC)\\n\\n|}\\n'],\n",
       "   'comments': [],\n",
       "   'cosigners': [],\n",
       "   'author': 'Park1996',\n",
       "   'time_stamp': '2011年7月27日 (三) 01:21 (UTC)'}],\n",
       " 'heading': ' 星章'}"
      ]
     },
     "execution_count": 111,
     "metadata": {},
     "output_type": "execute_result"
    }
   ],
   "source": [
    "parsed_ch_ex8[\"sections\"][32]"
   ]
  },
  {
   "cell_type": "markdown",
   "id": "ccab1f23",
   "metadata": {},
   "source": [
    "Handling quoted comments: https://zh.wikipedia.org/wiki/User_talk:Mountain/%E5%AD%98%E6%A1%A3_1#%E8%A1%A5%E5%85%85%E5%BD%93%E5%B9%B4%E9%98%81%E4%B8%8B%E7%9A%84%E9%97%AE%E9%A2%98%E2%80%A6%E2%80%A6%E9%A8%B7%E6%93%BE"
   ]
  },
  {
   "cell_type": "code",
   "execution_count": 112,
   "id": "6d10d8bf",
   "metadata": {
    "scrolled": true
   },
   "outputs": [
    {
     "data": {
      "text/plain": [
       "{'subsections': [],\n",
       " 'comments': [{'text_blocks': ['== 补充当年阁下的问题……騷擾==\\n',\n",
       "    \"依据[https://meta.wikimedia.org/w/index.php?title=Privacy_policy&oldid=1041992 13:49, 14 June 2008 by Anthere]，[https://zh.wikipedia.org/wiki/Wikipedia:%E7%94%B3%E8%AF%B7%E6%88%90%E4%B8%BA%E7%AE%A1%E7%90%86%E5%91%98/Ktsquare/%E7%AC%AC2%E6%AC%A1 2008年6月13日 (五) 18:17 时间点三）之前若干月日閣下違反了私隱政策]。[https://meta.wikimedia.org/w/index.php?title=Privacy_policy&oldid=1041992#Policy_on_release_of_data_derived_from_page_logs '''Wikimedia policy does not permit public distribution of such information under any circumstances, except as described above''']。本人在2008年6月13日 (五) 18:17之前若干月日（时间点一）明确向与阁下都是根源于中华人民共和国的地区另一位用户说明不需要打搞在下。阁下在时间点一之后、2008年6月13日 (五) 18:17之前若干月日（时间点二）进入本人、非维基百科相关的网站。\\n\",\n",
       "    '\\n',\n",
       "    '<blockquote class=\"templatequote\">站內行為導致站外問題，歸根結底問題在站外，我作為維基百科站內的管理員沒有能力管理站外事務，除非是站內可以控制的電郵聯繫之類的功能。--[[Special:用户贡献/Tigerzeng|Tigerzeng2019年2月17日 (日) 07:54 (UTC)]]</blockquote>\\n',\n",
       "    '\\n',\n",
       "    '从时间点三（2008年6月13日 (五) 18:17）至2019年2月17日 (日) 07:54（时间点四）的近十一年的时段，其他第三者还是认为維基百科站內的管理員沒有能力管理站外事務。阁下在站外找到在下，也是徒劳，反而阁下做出騷擾与違反了私隱政策。为何呢……\\n',\n",
       "    '此网站向在下显示上述时间为UTC时间。\\n',\n",
       "    '--[[user:Ktsquare|Ktsquare]] [[user talk:Ktsquare|留言]] 2020年9月26日 (六) 15:23 (UTC)\\n'],\n",
       "   'comments': [],\n",
       "   'cosigners': [],\n",
       "   'author': 'Ktsquare',\n",
       "   'time_stamp': '2020年9月26日 (六) 15:23 (UTC)'},\n",
       "  {'text_blocks': ['[https://zh.wikipedia.org/w/index.php?title=User:%E7%94%A8%E5%BF%83%E9%98%81&oldid=6491175 2008年6月13日 (五) 18:17之前用心阁的用户页面顯示維基好友包括你，即代表用心阁与阁下有联系。如上述我于（时间点一）通知用心阁之后，阁下（时间点二）进入本人、非维基百科相关的网站。--[[user:Ktsquare|很累]] [[user talk:Ktsquare|夢話留言]] 2022年8月24日 (三) 16:00 (UTC)\\n'],\n",
       "   'comments': [],\n",
       "   'cosigners': [],\n",
       "   'author': 'Ktsquare',\n",
       "   'time_stamp': '2022年8月24日 (三) 16:00 (UTC)'}],\n",
       " 'heading': ' 补充当年阁下的问题……騷擾'}"
      ]
     },
     "execution_count": 112,
     "metadata": {},
     "output_type": "execute_result"
    }
   ],
   "source": [
    "parsed_ch_ex8[\"sections\"][-4]"
   ]
  },
  {
   "cell_type": "markdown",
   "id": "833f6168",
   "metadata": {},
   "source": [
    "https://zh.wikipedia.org/wiki/User_talk:Number5"
   ]
  },
  {
   "cell_type": "code",
   "execution_count": 113,
   "id": "b407f49a",
   "metadata": {},
   "outputs": [],
   "source": [
    "ch_ex9 = None\n",
    "for page in dump:\n",
    "    if page.namespace in {1,3}:\n",
    "        ch_ex9 = page\n",
    "        break\n",
    "        \n",
    "# grab last revision\n",
    "revision9 = None\n",
    "for revision9 in ch_ex9:\n",
    "    pass\n",
    "\n",
    "parsed_ch_ex9 = wc.parse(revision9.text)"
   ]
  },
  {
   "cell_type": "code",
   "execution_count": 115,
   "id": "34ad99f7",
   "metadata": {},
   "outputs": [
    {
     "data": {
      "text/plain": [
       "Page(id=238, title='Number5', namespace=3, redirect=None, restrictions=[])"
      ]
     },
     "execution_count": 115,
     "metadata": {},
     "output_type": "execute_result"
    }
   ],
   "source": [
    "ch_ex9"
   ]
  },
  {
   "cell_type": "markdown",
   "id": "1c7cc5ad",
   "metadata": {},
   "source": [
    "Possible weird edge case where signature and timestamp weren't properly parsed\n",
    "\n",
    "- Is this due to the extra whitespace in the timestamp?"
   ]
  },
  {
   "cell_type": "code",
   "execution_count": 114,
   "id": "798d92c3",
   "metadata": {},
   "outputs": [
    {
     "data": {
      "text/plain": [
       "{'sections': [{'subsections': [],\n",
       "   'comments': [{'text_blocks': ['欢迎！和大家一起分享我们的知识吧。:)[[用户:Mountain|Mountain]] 2002年12月 11日 14:39 (UTC)'],\n",
       "     'comments': [],\n",
       "     'cosigners': []}]}]}"
      ]
     },
     "execution_count": 114,
     "metadata": {},
     "output_type": "execute_result"
    }
   ],
   "source": [
    "parsed_ch_ex9"
   ]
  },
  {
   "cell_type": "markdown",
   "id": "4309a89a",
   "metadata": {},
   "source": [
    "https://zh.wikipedia.org/wiki/Talk:%E5%AF%86%E7%A0%81%E5%AD%A6"
   ]
  },
  {
   "cell_type": "code",
   "execution_count": 116,
   "id": "274e41af",
   "metadata": {},
   "outputs": [],
   "source": [
    "ch_ex10 = None\n",
    "for page in dump:\n",
    "    if page.namespace in {1,3}:\n",
    "        ch_ex10 = page\n",
    "        break\n",
    "        \n",
    "# grab last revision\n",
    "revision10 = None\n",
    "for revision10 in ch_ex10:\n",
    "    pass\n",
    "\n",
    "parsed_ch_ex10 = wc.parse(revision10.text)"
   ]
  },
  {
   "cell_type": "code",
   "execution_count": 118,
   "id": "1e24864c",
   "metadata": {},
   "outputs": [
    {
     "data": {
      "text/plain": [
       "Page(id=279, title='密码学', namespace=1, redirect=None, restrictions=[])"
      ]
     },
     "execution_count": 118,
     "metadata": {},
     "output_type": "execute_result"
    }
   ],
   "source": [
    "ch_ex10"
   ]
  },
  {
   "cell_type": "code",
   "execution_count": 119,
   "id": "830f7577",
   "metadata": {},
   "outputs": [
    {
     "data": {
      "text/plain": [
       "{'subsections': [],\n",
       " 'comments': [{'text_blocks': ['{{WikiProject banner shell|class=Start|vital=yes|\\n{{WikiProject Maths|importance=top}}\\n{{WikiProject Computer science|importance=top}}\\n{{WikiProject Cryptography |importance=top}}\\n{{WikiProject FAOL |1=英语 |2=en:Cryptography}}\\n}}\\n',\n",
       "    '\\n'],\n",
       "   'comments': [],\n",
       "   'cosigners': []}]}"
      ]
     },
     "execution_count": 119,
     "metadata": {},
     "output_type": "execute_result"
    }
   ],
   "source": [
    "parsed_ch_ex10[\"sections\"][0]"
   ]
  },
  {
   "cell_type": "code",
   "execution_count": 120,
   "id": "c5d4f25e",
   "metadata": {
    "scrolled": true
   },
   "outputs": [
    {
     "data": {
      "text/plain": [
       "{'subsections': [],\n",
       " 'comments': [{'text_blocks': ['==Untitled==\\n',\n",
       "    '这条条目的内容出自瑞星软件的网站,因此版权应该属于瑞星,似乎有违反GNU自由文档协议之嫌.所以先放到这里做参考.而且本文也不适合做百科全书的条目.希望大家能参考以下内容,但尽量使用原创的文章.详悉关于版权的问题还是参考[[Wikipedia:版权信息]]--[[用户:Formulax|Formulax]] 2003年1月17日 07:49 (UTC)\\n'],\n",
       "   'comments': [],\n",
       "   'cosigners': [],\n",
       "   'author': 'Formulax',\n",
       "   'time_stamp': '2003年1月17日 07:49 (UTC)'},\n",
       "  {'text_blocks': ['----\\n',\n",
       "    '\\n',\n",
       "    '本文出自:\\n',\n",
       "    'http://211.101.232.5/safety/safetyschool/safetylesson/1219mmx.htm\\n',\n",
       "    '\\n',\n",
       "    '到目前为止，我们已经对网络的基础知识有了相当的了解，并且连TCP/IP协议都知道了不少，好现在我要问你一个非常简单的问题——放心，不是测验，这个问题就是：你有免费电子邮件吗？——99.99%的可能性是有，是吧？（什么？你还没有？搞不懂你，快去申请一个！！！）接下来告诉你一个比较那个的事实，嘿嘿，你知不知道，你的邮件在网上是以明文的形式传输的？呵呵，不知道了吧——OK，恩哼，大家做好了，现在开始讲课！！\\n',\n",
       "    '\\n',\n",
       "    '上面我们已经知道了加密的必要性，现在我们以一个实例来看看加密的过程。假设你想通过Internet给你表妹送条秘密消息，于是你打算对其进行加密。你通过一种复杂的方式将其变为不规则码的加密信息，除了你的表妹没有人能把它解释成可以读懂的文件，而她之所以能把它读懂，也只是因为你给了她一个解密方法，她将用它把加密的消息变得规则，恢复它的真实面貌。常规的单密钥加密方法是：在你使用它加密之前，把加密密码告诉她。例如，一个简单的单密钥加密方法是把原信息中的字母按字母表的顺序依次移动3位。这样，单同DOG变为GRJ，下面的表显示了一行被用单密钥加密方案加密的文档。\\n',\n",
       "    '\\n',\n",
       "    'H a p p y n e w y e a r K D S S A C Q H Z C A H D U\\n',\n",
       "    '\\n',\n",
       "    '你表妹收到你的消息后，将字母按字母表的顺序向后移动3位即可解密——解出来原来是这么一句话，立即活活气死。默哀三分钟。从中我们提炼出加密解密的过程如下图：\\n',\n",
       "    '\\n',\n",
       "    ' \\n',\n",
       "    '\\n',\n",
       "    '好了，这基本上就是加密解密的过程，当然后面我们还会讲到对不同的密钥体系它的过程又有所复杂，所以我们现在就讲密钥体系。\\n',\n",
       "    '\\n',\n",
       "    '密钥体系 如果以密钥为标准，可将密码系统分为单钥密码（又称为对称密码或私钥密码）体系和双钥密码（又称为非对称密码或公钥密码）体系。哦，对了，所谓密钥差不多可以理解成密码。\\n',\n",
       "    '\\n',\n",
       "    '在单钥体制下，加密密钥和解密密钥是一样的，或实质上是等同的，这种情况下，密钥就经过安全的密钥信道由发方传给收方。单钥密码的特点是无论加密还是解密都使用同一个密钥，因此，此密码体制的安全性就是密钥的安全。如果密钥泄露，则此密码系统便被攻破。最有影响的单钥密码是1977年美国国家标准局颁布的DES算法。单钥密码的优点是：安全性高。加解密速度快。缺点是：1）随着网络规模的扩大，密钥的管理成为一个难点；2）无法解决消息确认问题；3）缺乏自动检测密钥泄露的能力。\\n',\n",
       "    '\\n',\n",
       "    '而在双钥体制下，加密密钥与解密密钥是不同的，此时根本就不需要安全信道来传送密钥，而只需利用本地密钥发生器产生解密密钥即可。双钥密码是：1976年W.Diffie和M.E.Heilinan提出的一种新型密码体制。由于双钥密码体制的加密和解密不同，且能公开加密密钥，而仅需保密解密密钥，所以双钥密码不存在密钥管理问题。双钥密码还有一个优点是可以拥有数字签名等新功能。最有名的双钥密码体系是：1977年由Rivest，Shamir和Ad1eman人提出的RSA密码体制。双钥密码的缺点是：双钥密码算法一般比较复杂，加解密速度慢。\\n',\n",
       "    '\\n',\n",
       "    '因此，网络中的加密普遍采用双钥和单钥密码相结合的混合加密体制，即加解密时采用单钥密码，密钥传送则采用双钥密码。这样既解决了密钥管理的困难，又解决了加解密速度的问题。目前看来，这种方法好象也只能这样了。\\n',\n",
       "    '\\n',\n",
       "    '密码算法 我们前面已经提到了关于密码算法的问题，现在我们就简单的来看一看常用的几种密码算法。其中最著名的（好象也是最悠久的？）就是DES算法了。DES是一种单钥密码算法，它工作起来简直就是典型的分组方式，它的基本思想是将二进制序列的明文分成每64位一组，用长为64位的密钥对这些明文进行16轮代换和置换加密。最后形成密文。它的巧妙之处就在于，除了密钥输入顺序之外，其加密和机密的步骤完全相同，从而在制作DES芯片时很容易达到标准化和通用化，非常适合现代通信的需要。但不幸的是，由于它时间久远，从而成为古往今来的黑客们乐此不疲的攻击对象，目前黑客已经可以在20小时内成功的破掉它（只要有一个好的工具）。所以咱就不好意思再说它了。而在公钥密码系统中，最常用的就是RSA算法了，RSA算法简单的说来是这样的：先找出两个非常大的质数P和Q，算出N=（P*Q），找到一个小于N的E，使E和（P-1）*（Q-1）互质。算出数D，使D*E=1 MOD （P-1）*（Q-1）。公用密钥为（E，N），私钥为（D，N），用户可以销毁P和Q。这种算法的保密性非常好。但是由于RSA涉及到高次幂运算，所以用它实现速度比较慢。 OK，好象讲的太深了？好把，那今天我们就讲到这里拉，明天还有更深的在后面，好好消化消化哦！\\n',\n",
       "    '\\n'],\n",
       "   'comments': [],\n",
       "   'cosigners': []}],\n",
       " 'heading': 'Untitled'}"
      ]
     },
     "execution_count": 120,
     "metadata": {},
     "output_type": "execute_result"
    }
   ],
   "source": [
    "parsed_ch_ex10[\"sections\"][1]"
   ]
  },
  {
   "cell_type": "code",
   "execution_count": 121,
   "id": "204947ae",
   "metadata": {},
   "outputs": [
    {
     "data": {
      "text/plain": [
       "{'subsections': [],\n",
       " 'comments': [{'text_blocks': ['== 外部链接已修改 ==\\n',\n",
       "    '\\n',\n",
       "    '各位维基人：\\n',\n",
       "    '\\n',\n",
       "    '我刚刚修改了[[密码学]]中的1个外部链接，请大家仔细检查[https://zh.wikipedia.org/w/index.php?diff=prev&oldid=45687178 我的编辑]。如果您有疑问，或者需要让机器人忽略某个链接甚至整个页面，请访问[[:m:InternetArchiveBot/FAQ|这个简单的FAQ]]获取更多信息。我进行了以下修改：\\n',\n",
       "    '*向 http://www.murky.org/cryptography/index.shtml 中加入存档链接 https://web.archive.org/web/20040609180803/http://www.murky.org/cryptography/index.shtml\\n',\n",
       "    '\\n',\n",
       "    '有关机器人修正错误的详情请参阅FAQ。\\n',\n",
       "    '\\n',\n",
       "    '祝编安。—[[User:InternetArchiveBot|\\'\\'\\'<span style=\"color:darkgrey;font-family:monospace\">InternetArchiveBot</span>\\'\\'\\']] <span style=\"color:green;font-family:Rockwell\">([[:en:User talk:InternetArchiveBot|報告軟件缺陷]])</span> 2017年8月14日 (一) 23:46 (UTC)\\n'],\n",
       "   'comments': [],\n",
       "   'cosigners': [],\n",
       "   'author': 'InternetArchiveBot',\n",
       "   'time_stamp': '2017年8月14日 (一) 23:46 (UTC)'},\n",
       "  {'text_blocks': ['\\n'], 'comments': [], 'cosigners': []}],\n",
       " 'heading': ' 外部链接已修改 '}"
      ]
     },
     "execution_count": 121,
     "metadata": {},
     "output_type": "execute_result"
    }
   ],
   "source": [
    "parsed_ch_ex10[\"sections\"][2]"
   ]
  },
  {
   "cell_type": "code",
   "execution_count": 122,
   "id": "7daf8c31",
   "metadata": {},
   "outputs": [
    {
     "data": {
      "text/plain": [
       "{'subsections': [],\n",
       " 'comments': [{'text_blocks': ['== 外部链接已修改 ==\\n',\n",
       "    '\\n',\n",
       "    '各位维基人：\\n',\n",
       "    '\\n',\n",
       "    '我刚刚修改了[[密码学]]中的4个外部链接，请大家仔细检查[https://zh.wikipedia.org/w/index.php?diff=prev&oldid=46265944 我的编辑]。如果您有疑问，或者需要让机器人忽略某个链接甚至整个页面，请访问[[:m:InternetArchiveBot/FAQ|这个简单的FAQ]]获取更多信息。我进行了以下修改：\\n',\n",
       "    '*向 http://www.tcs.hut.fi/~helger/crypto/ 中加入存档链接 https://web.archive.org/web/20040210212414/http://www.tcs.hut.fi/~helger/crypto/\\n',\n",
       "    '*向 http://www.rsasecurity.com/rsalabs/faq/index.html 中加入存档链接 https://web.archive.org/web/20040401123210/http://www.rsasecurity.com/rsalabs/faq/index.html\\n',\n",
       "    '*向 http://www.mindspring.com/~schlafly/crypto/faq.htm 中加入存档链接 https://web.archive.org/web/20040423165953/http://www.mindspring.com/~schlafly/crypto/faq.htm\\n',\n",
       "    '*向 http://home.ecn.ab.ca/~jsavard/crypto/jscrypt.htm 中加入存档链接 https://web.archive.org/web/20040402055610/http://home.ecn.ab.ca/~jsavard/crypto/jscrypt.htm\\n',\n",
       "    '\\n',\n",
       "    '有关机器人修正错误的详情请参阅FAQ。\\n',\n",
       "    '\\n',\n",
       "    '祝编安。—[[User:InternetArchiveBot|\\'\\'\\'<span style=\"color:darkgrey;font-family:monospace\">InternetArchiveBot</span>\\'\\'\\']] <span style=\"color:green;font-family:Rockwell\">([[:en:User talk:InternetArchiveBot|報告軟件缺陷]])</span> 2017年9月19日 (二) 21:58 (UTC)'],\n",
       "   'comments': [],\n",
       "   'cosigners': [],\n",
       "   'author': 'InternetArchiveBot',\n",
       "   'time_stamp': '2017年9月19日 (二) 21:58 (UTC)'}],\n",
       " 'heading': ' 外部链接已修改 '}"
      ]
     },
     "execution_count": 122,
     "metadata": {},
     "output_type": "execute_result"
    }
   ],
   "source": [
    "parsed_ch_ex10[\"sections\"][3]"
   ]
  },
  {
   "cell_type": "markdown",
   "id": "779e6ac3",
   "metadata": {},
   "source": [
    "Possible weird edge case where signature and timestamp weren't properly parsed\n",
    "\n",
    "- Is this due to the missing timestamp? - Yes!"
   ]
  },
  {
   "cell_type": "code",
   "execution_count": 124,
   "id": "d9f9025a",
   "metadata": {},
   "outputs": [],
   "source": [
    "ch_ex11 = None\n",
    "for page in dump:\n",
    "    if page.namespace in {1,3}:\n",
    "        ch_ex11 = page\n",
    "        break\n",
    "        \n",
    "# grab last revision\n",
    "revision11 = None\n",
    "for revision11 in ch_ex11:\n",
    "    pass\n",
    "\n",
    "parsed_ch_ex11 = wc.parse(revision11.text)"
   ]
  },
  {
   "cell_type": "code",
   "execution_count": 125,
   "id": "33902744",
   "metadata": {},
   "outputs": [
    {
     "data": {
      "text/plain": [
       "Page(id=347, title='Dlloader', namespace=3, redirect=None, restrictions=[])"
      ]
     },
     "execution_count": 125,
     "metadata": {},
     "output_type": "execute_result"
    }
   ],
   "source": [
    "ch_ex11"
   ]
  },
  {
   "cell_type": "code",
   "execution_count": 127,
   "id": "e9005191",
   "metadata": {},
   "outputs": [
    {
     "data": {
      "text/plain": [
       "{'sections': [{'subsections': [],\n",
       "   'comments': [{'text_blocks': ['请问你所上载的邓丽君的照片版权是属于谁的？如果是专有的话，请不要使用在内容开放的百科全书上。详情参见[[Wikipedia:版权信息]]，谢谢。\\n',\n",
       "      '\\n',\n",
       "      'Dlloader，请在正式开始编辑前，先参阅[[Wikipedia:如何编辑页面]]、[[Wikipedia:帮助]]、[[Wikipedia:欢迎，新来者]]和[[Wikipedia:版权信息]]，还可以到[[Wikipedia:沙盒]]练习，谢谢。--[[用户:Formulax|formulax]]'],\n",
       "     'comments': [],\n",
       "     'cosigners': []}]}]}"
      ]
     },
     "execution_count": 127,
     "metadata": {},
     "output_type": "execute_result"
    }
   ],
   "source": [
    "parsed_ch_ex11"
   ]
  },
  {
   "cell_type": "markdown",
   "id": "d2b34e4b",
   "metadata": {},
   "source": [
    "https://zh.wikipedia.org/wiki/User_talk:%E5%9B%9B%E4%BA%BA%E5%B8%AE"
   ]
  },
  {
   "cell_type": "code",
   "execution_count": 128,
   "id": "361a66e3",
   "metadata": {},
   "outputs": [],
   "source": [
    "ch_ex12 = None\n",
    "for page in dump:\n",
    "    if page.namespace in {1,3}:\n",
    "        ch_ex12 = page\n",
    "        break\n",
    "        \n",
    "# grab last revision\n",
    "revision12 = None\n",
    "for revision12 in ch_ex12:\n",
    "    pass\n",
    "\n",
    "parsed_ch_ex12 = wc.parse(revision12.text)"
   ]
  },
  {
   "cell_type": "code",
   "execution_count": 129,
   "id": "ccb6574a",
   "metadata": {},
   "outputs": [
    {
     "data": {
      "text/plain": [
       "Page(id=360, title='四人帮', namespace=3, redirect=None, restrictions=[])"
      ]
     },
     "execution_count": 129,
     "metadata": {},
     "output_type": "execute_result"
    }
   ],
   "source": [
    "ch_ex12"
   ]
  },
  {
   "cell_type": "code",
   "execution_count": 130,
   "id": "6cf4d11c",
   "metadata": {},
   "outputs": [
    {
     "data": {
      "text/plain": [
       "{'subsections': [],\n",
       " 'comments': [{'text_blocks': ['{{Old vfd multi|2009/10/23|d|page=User:四人帮|bot_checked=OK}}\\n',\n",
       "    '<div style=\"width: 100%; margin: 0.2em 0; padding: 0.3em 0; border-top: 1px solid #ddd; border-bottom: 1px solid #ddd; font-size: 120%;\">\\'\\'\\'您好，{{BASEPAGENAME}}！[[Wikipedia:欢迎，新来者|欢迎]]加入维基百科！\\'\\'\\'</div>\\n',\n",
       "    '\\n',\n",
       "    \"感謝您對維基百科的興趣與貢獻，希望您會喜歡這裡。除了'''[[Wikipedia:欢迎，新来者|歡迎辭]]'''外，也請您了解以下重要文章：\\n\",\n",
       "    '{| style=\"background: transparent; border-top: 1px solid #ddd; border-bottom: 1px solid #ddd; border-collpase: collapse;\" \\n|- style=\"vertical-align: top;\"\\n| style=\"background: #f4f4f4; padding: .8em .2em;\" | [[File:Nuvola apps korganizer.png|35px|left|政策]]\\n<div style=\"margin-left: 45px;\">\\'\\'\\'[[Wikipedia:五大支柱|五大支柱]]\\'\\'\\'<br /><small>[[Wikipedia:不适合维基百科的文章|百科]]、[[Wikipedia:中性的观点|中立]]、[[Wikipedia:简明版权信息|开放]]、[[Wikipedia:文明|互重]]、[[Wikipedia:忽略所有规则|勇於改善]]</small></div>\\n| style=\"background: #faf1df; padding: .8em .2em;\" | [[File:Nuvola apps emacs.png|45px|left|GNU]]\\n<div style=\"margin-left: 55px;\">\\'\\'\\'[[Wikipedia:版权常见问题解答|版權問題解答]]\\'\\'\\'<br /><small>貢獻內容必须是<u>您所著或獲得授權</u>、同意在[[Wikipedia:版权信息|GFDL]]條款下發布</small></div>\\n| style=\"background: #f4f4f4; padding: .8em .2em;\" | [[File:Postscript-viewer.svg|35px|left|手冊]]\\n<div style=\"margin-left: 45px;\">\\'\\'\\'[[Wikipedia:使用指南|使用指南]]\\'\\'\\'<br /><small>[[Wikipedia:沙盒|測試編輯]]  / [[Wikipedia:如何编辑页面|如何编辑]] / [[Help:目录|使用手册]] / [[Help:中文维基百科的繁简处理|繁简处理]] / [[Wikipedia:如何写出非常好的条目|寫個好條目]]</small></div>\\n|-\\n| colspan=\"3\" style=\"border-top: 1px solid #ddd; padding-top: .3em;\" | [[File:Icon apps query.svg|18px|left|問號]]\\'\\'\\'有问题？\\'\\'\\'請到\\'\\'\\'[[Wikipedia:互助客栈|互助客栈]]\\'\\'\\'询问，或在我的对话页提出。別忘記：討論後要[[Wikipedia:在讨论页上签名|\\'\\'\\'簽名\\'\\'\\']]，可使用編輯工具條上的[[File:Signature icon.png|Signature icon.png]]按鈕。<div lang=\"en\" style=\"font-style: italic; font-size: 90%;\">If you have any questions about the Chinese Wikipedia, please leave a message [[Wikipedia talk:Guestbook for non-Chinese-speakers|\\'\\'here\\'\\']]. Thank you for visiting!</div>\\n|}\\n',\n",
       "    '希望您能享受编写人類共有之自由百科的快乐，成为一名[[Wikipedia:维基百科人|维基百科人]]。我是欢迎您的维基百科人：\\n',\n",
       "    '--[[User:Berting Li|Berting Li]] 17:06 2006年8月25日 (UTC)\\n'],\n",
       "   'comments': [],\n",
       "   'cosigners': [],\n",
       "   'author': 'Berting Li',\n",
       "   'time_stamp': '17:06 2006年8月25日 (UTC)'},\n",
       "  {'text_blocks': ['\\n',\n",
       "    '请不要加入一些奇怪的名词，例如“大汉族斯坦”（Google上都找不到的词汇！）。请自觉遵守Wikipedia的准则（参见[[Wikipedia:守则与指导]]），帮助我们使中文Wikipedia成为一个优秀的百科全书。在[[中华人民共和国]]中的关于“位于大汉族斯坦”部分已被删除，因为并不正确（地理上及政治上）。--[[用户:Formulax|Formulax]] 2003年3月8日 13:54 (UTC)\\n'],\n",
       "   'comments': [],\n",
       "   'cosigners': [],\n",
       "   'author': 'Formulax',\n",
       "   'time_stamp': '2003年3月8日 13:54 (UTC)'},\n",
       "  {'text_blocks': ['\\n',\n",
       "    '----\\n',\n",
       "    'Wikipedia是严肃的百科全书协作计划，请不要进行破坏，后果自负！--[[用户:Formulax|Formulax]] 2003年3月9日 09:27 (UTC)\\n'],\n",
       "   'comments': [],\n",
       "   'cosigners': [],\n",
       "   'author': 'Formulax',\n",
       "   'time_stamp': '2003年3月9日 09:27 (UTC)'},\n",
       "  {'text_blocks': ['\\n'], 'comments': [], 'cosigners': []}]}"
      ]
     },
     "execution_count": 130,
     "metadata": {},
     "output_type": "execute_result"
    }
   ],
   "source": [
    "parsed_ch_ex12[\"sections\"][0]"
   ]
  },
  {
   "cell_type": "code",
   "execution_count": 131,
   "id": "19bfa2d7",
   "metadata": {},
   "outputs": [
    {
     "data": {
      "text/plain": [
       "{'subsections': [],\n",
       " 'comments': [{'text_blocks': ['==二次动员令==\\n',\n",
       "    \"为了增加中文维基的条目数量，8月15日到10月1日为止，请每个[[维基人]]编辑'''至少5个'''新条目，条目必须符合维基的规则，内容至少要达到[[条目]]标准，不可是[[維基百科:小條目|小條目]]或[[維基百科:小小條目|小小條目]]，如果可以的话，请尽量提高所编写条目的质量、内容，甚至达到推荐新条目的水平，[[创建新条目]]，创建后请在“[[Wikipedia:正在進行的動員令|二次动员令]]”内设链接，谢谢！\\n\",\n",
       "    '\\n',\n",
       "    \"收到此动员令的维基人，请将此动员令贴到'''至少5个'''还未收到此动员令的维基人讨论页上，就算不想建立新条目，也请帮忙散发动员令，因为能否将动员令传播出去，是成败关键之一，“首次动员令”效果不大，就是因为没有在传播。\\n\",\n",
       "    '\\n',\n",
       "    '现在[[中文维基百科]]有9万注册用户，只要有4000人参加动员令，10月1日就会增加2万条目，意味著中文维基将迅速超越[[:ru:|俄文维基]]，进而突破10万条目大关，且是很漂亮的突破10万大关，因为增加的是有质量的条目，非滥竽充数者，请大家尽力帮忙完成这壮举，就算是新人，也不要害怕，尽量创建新条目，若有问题就改正，参加这次动员令活动，也可让新人们更快学会如何创建条目。--[[User:真實事求是|真實事求是]] 12:36 2006年8月16日 (UTC)\\n'],\n",
       "   'comments': [],\n",
       "   'cosigners': [],\n",
       "   'author': '真實事求是',\n",
       "   'time_stamp': '12:36 2006年8月16日 (UTC)'},\n",
       "  {'text_blocks': ['\\n'], 'comments': [], 'cosigners': []}],\n",
       " 'heading': '二次动员令'}"
      ]
     },
     "execution_count": 131,
     "metadata": {},
     "output_type": "execute_result"
    }
   ],
   "source": [
    "parsed_ch_ex12[\"sections\"][1]"
   ]
  },
  {
   "cell_type": "code",
   "execution_count": 132,
   "id": "3fdb601d",
   "metadata": {},
   "outputs": [
    {
     "data": {
      "text/plain": [
       "{'subsections': [],\n",
       " 'comments': [{'text_blocks': ['== 2009年10月  ==\\n',\n",
       "    '<!--googleoff: all-->{{#ifeq:{{LC:{{NAMESPACE}}}}|user|{{Indefblockeduser}}}}<div style=\"border-width:1px;border-style:solid;padding:0.5em 1em\">\\n',\n",
       "    '[[File:Stop_x_nuvola.svg|left|30px]]\\n',\n",
       "    '<p style=\"text-align: center;\">\\'\\'\\'這個用戶因名稱不適當而遭到永久封禁\\'\\'\\'。</p>\\n',\n",
       "    \"根據'''[[Wikipedia:封禁方针|封禁方針]]'''及'''[[Wikipedia:用户名|用戶名原則]]'''，我們認為您使用的用戶名並不恰當，因此管理員已永久封禁這個帳戶。[[Wikipedia:用户名|用戶名原則]]已提供了選擇用戶名的指引。'''簡而言之，用戶名不應帶有侮辱性、攻擊性、破壞性及宣傳成份，與現實世界中各組織或團體相關，或易於令人混淆。'''另外，除非帳戶是個已準許運作的機械人，否則用戶名亦不應以「bot」结尾。\\n\",\n",
       "    '\\n',\n",
       "    '\\'\\'\\'我們建議您[[Special:Userlogin/signup|註冊]]一個新而無抵觸用戶名原則的用戶名，我們亦歡迎您使用恰當的用戶對維基百科作出貢獻。\\'\\'\\'如果您認為是次封禁有不妥當的地方，請於您的<span class=\"plainlinks\">[{{SERVER}}/w/index.php?title={{TALKPAGENAMEE}}&redirect=no 討論頁]</span>加入{{tl|封禁申訴}}並寫下您要求複審的理由或您的疑問。縱然您被禁止編輯，您仍然可以編輯自己的用戶討論頁。\\n',\n",
       "    '\\n',\n",
       "    '如果您仍想使用這個帳戶編輯維基百科，請以[[Wikipedia:邮件列表|電子郵件列表]]向行政員請求更改用戶名。'],\n",
       "   'comments': [],\n",
       "   'cosigners': []}],\n",
       " 'heading': ' 2009年10月  '}"
      ]
     },
     "execution_count": 132,
     "metadata": {},
     "output_type": "execute_result"
    }
   ],
   "source": [
    "parsed_ch_ex12[\"sections\"][2]"
   ]
  },
  {
   "cell_type": "markdown",
   "id": "a79704a2",
   "metadata": {},
   "source": [
    "https://zh.wikipedia.org/wiki/Talk:%E9%9D%9E%E6%B4%B2%E6%AD%B7%E5%8F%B2"
   ]
  },
  {
   "cell_type": "code",
   "execution_count": 133,
   "id": "375d99de",
   "metadata": {},
   "outputs": [],
   "source": [
    "ch_ex13 = None\n",
    "for page in dump:\n",
    "    if page.namespace in {1,3}:\n",
    "        ch_ex13 = page\n",
    "        break\n",
    "        \n",
    "# grab last revision\n",
    "revision13 = None\n",
    "for revision13 in ch_ex13:\n",
    "    pass\n",
    "\n",
    "parsed_ch_ex13 = wc.parse(revision13.text)"
   ]
  },
  {
   "cell_type": "code",
   "execution_count": 134,
   "id": "8491884d",
   "metadata": {},
   "outputs": [
    {
     "data": {
      "text/plain": [
       "Page(id=400, title='非洲歷史', namespace=1, redirect=None, restrictions=[])"
      ]
     },
     "execution_count": 134,
     "metadata": {},
     "output_type": "execute_result"
    }
   ],
   "source": [
    "ch_ex13"
   ]
  },
  {
   "cell_type": "code",
   "execution_count": 135,
   "id": "551c3411",
   "metadata": {},
   "outputs": [
    {
     "data": {
      "text/plain": [
       "{'sections': [{'subsections': [],\n",
       "   'comments': [{'text_blocks': ['{{WikiProject banner shell|vital=yes|\\n{{非洲專題 |auto=y}}\\n}}\\n',\n",
       "      '古代埃及（Ancient Egypt）\\n',\n",
       "      '\\n',\n",
       "      '概述：\\n',\n",
       "      '\\n',\n",
       "      '公元前 3，500年 出现奴隶制小国。\\n',\n",
       "      '\\n',\n",
       "      '公元前 3，100年 美尼斯（King Menes）统一上、下埃及，定都孟菲斯（Memphis），建立埃及第一个统一的政权。埃及进入第一王朝时期。\\n',\n",
       "      '\\n',\n",
       "      '埃及的历史分期：\\n',\n",
       "      '\\n',\n",
       "      '前王朝时期（Predynastic Period）   约公元前5000-31000年\\n',\n",
       "      '\\n',\n",
       "      '早王朝时期（Early  Period）    约公元前3100-2786年\\n',\n",
       "      '\\n',\n",
       "      '古王国时期（Old Kingdom）    约公元前2686-2181 BC年\\n',\n",
       "      '\\n',\n",
       "      '第一中间期（First Intermediate Period）    公元前2181-1991年\\n',\n",
       "      '\\n',\n",
       "      '中王国时期（Middle Kingdom）    公元前1991-1786年\\n',\n",
       "      '\\n',\n",
       "      '第二中间期（Second Intermediate Period）      公元前1786-1567年\\n',\n",
       "      '\\n',\n",
       "      '新王国时期（New Kingdom）     公元前1567-1085年\\n',\n",
       "      '\\n',\n",
       "      '第三中间期（Third Intermediate Period）    公元前1070-653年 \\n',\n",
       "      '\\n',\n",
       "      '晚王朝时期（Late Period）    公元前664-332年 \\n',\n",
       "      '\\n',\n",
       "      '马其顿统治时期（Macedonian Dynasty）     公元前332-305年\\n',\n",
       "      '\\n',\n",
       "      '托勒密王朝（Ptolemaic Dynasty）     公元前310/305-30年\\n',\n",
       "      '\\n',\n",
       "      '查看相关资料：古代埃及历史年表\\n',\n",
       "      'http://www.doule.cc/style1/article.asp?id=15557'],\n",
       "     'comments': [],\n",
       "     'cosigners': []}]}]}"
      ]
     },
     "execution_count": 135,
     "metadata": {},
     "output_type": "execute_result"
    }
   ],
   "source": [
    "parsed_ch_ex13"
   ]
  },
  {
   "cell_type": "code",
   "execution_count": 136,
   "id": "1ec6849f",
   "metadata": {},
   "outputs": [],
   "source": [
    "ch_ex14 = None\n",
    "for page in dump:\n",
    "    if page.namespace in {1,3}:\n",
    "        ch_ex14 = page\n",
    "        break\n",
    "        \n",
    "# grab last revision\n",
    "revision14 = None\n",
    "for revision14 in ch_ex14:\n",
    "    pass\n",
    "\n",
    "parsed_ch_ex14 = wc.parse(revision14.text)"
   ]
  },
  {
   "cell_type": "code",
   "execution_count": 137,
   "id": "6844783a",
   "metadata": {},
   "outputs": [
    {
     "data": {
      "text/plain": [
       "Page(id=505, title='Mayfly~zhwiki', namespace=3, redirect=None, restrictions=[])"
      ]
     },
     "execution_count": 137,
     "metadata": {},
     "output_type": "execute_result"
    }
   ],
   "source": [
    "ch_ex14"
   ]
  },
  {
   "cell_type": "code",
   "execution_count": 138,
   "id": "e4a2bfe4",
   "metadata": {},
   "outputs": [
    {
     "data": {
      "text/plain": [
       "{'subsections': [],\n",
       " 'comments': [{'text_blocks': ['Mayfly，欢迎你加入Wikipedia！不过在正式开始参与编辑工作之前，请先仔细阅读[[Wikipedia:帮助]]、[[Wikipedia:如何编辑页面]]、[[Wikipedia:欢迎，新来者]]以及（非常重要的）[[Wikipedia:版权信息]]。--[[用户:Formulax|Formulax]] 2003年3月25日 07:22 (UTC)\\n'],\n",
       "   'comments': [],\n",
       "   'cosigners': [],\n",
       "   'author': 'Formulax',\n",
       "   'time_stamp': '2003年3月25日 07:22 (UTC)'},\n",
       "  {'text_blocks': ['\\n'], 'comments': [], 'cosigners': []}]}"
      ]
     },
     "execution_count": 138,
     "metadata": {},
     "output_type": "execute_result"
    }
   ],
   "source": [
    "parsed_ch_ex14[\"sections\"][0]"
   ]
  },
  {
   "cell_type": "code",
   "execution_count": 139,
   "id": "4b42373c",
   "metadata": {},
   "outputs": [
    {
     "data": {
      "text/plain": [
       "{'subsections': [],\n",
       " 'comments': [{'text_blocks': ['== 您的賬戶將被重新命名 ==\\n',\n",
       "    '\\n',\n",
       "    '<div class=\"plainlinks mw-content-ltr\" lang=\"zh\" dir=\"ltr\">\\n\\n您好：\\n\\n維基媒體基金會的開發團隊為了給用戶提供更新、更好的工具（如跨維基通知），正在對账戶的運作方式進行一些調整。這意味著用戶將在任何地方都擁有[[Special:MyLanguage/Help:Unified login|相同的账戶名稱]]。這會讓我們給您帶來更加便利的編輯及討論體驗，並提供更靈活的用戶權限管理工具，但前提條件之一是同一账戶名稱在維基媒體的900個網站中都必須由同一人所持有（詳情請見[[m:Special:MyLanguage/Single User Login finalisation announcement|公告]]）。\\n\\n不幸的是您的账户與另一個名稱為Mayfly的账户衝突。為確保您及另一位用戶於將來皆可正常使用維基媒體的各個网站，我們將會把您的账户重新命名為Mayfly~zhwiki。如果您可以接受，則您不需要做任何事情。如果您希望將账戶改為其他名稱，您可以[[Special:GlobalRenameRequest|提出申請]]。如果您是這個用戶名在所有維基上的擁有者，因而不應收到這則通知，請您到[[Special:MergeAccount|合併帳戶]]頁面確認您的所有的帳戶皆已確實整合，以免您的帳戶被重新命名。\\n\\n屆時，您的账户仍可如以前般使用，且繼承所有的編輯記錄，但您在登錄時必需使用新的账户名稱。\\n\\n不便之處，敬請見諒。\\n\\n<br />[[m:User:Keegan (WMF)|Keegan Peterzell]]<br />維基媒體基金會社群聯絡員\\n</div> 2015年3月20日 (五) 10:40 (UTC)\\n',\n",
       "    '<!-- SUL finalisation notification -->\\n',\n",
       "    '\\n'],\n",
       "   'comments': [],\n",
       "   'cosigners': []}],\n",
       " 'heading': ' 您的賬戶將被重新命名 '}"
      ]
     },
     "execution_count": 139,
     "metadata": {},
     "output_type": "execute_result"
    }
   ],
   "source": [
    "parsed_ch_ex14[\"sections\"][1]"
   ]
  },
  {
   "cell_type": "code",
   "execution_count": 140,
   "id": "f8dcc89e",
   "metadata": {},
   "outputs": [
    {
     "data": {
      "text/plain": [
       "{'subsections': [],\n",
       " 'comments': [{'text_blocks': ['== 已完成重命名 ==\\n',\n",
       "    '\\n',\n",
       "    '<div class=\"plainlinks mw-content-ltr\" lang=\"zh\" dir=\"ltr\">\\n作为[[m:Special:MyLanguage/Single User Login finalisation announcement|单一用户登录最终落实阶段]]的一部分，本帐号已被重命名。如果您持有该帐号，您可[[{{#special:userlogin}}|使用原用户名及密码登录]]以了解详情。如果不喜欢新用户名，您可以在登录后使用该表格自行选择用户名：[[{{#special:GlobalRenameRequest}}]]。 -- [[m:User:Keegan (WMF)|Keegan (WMF)]] ([[m:User talk:Keegan (WMF)|讨论页]])\\n</div> 2015年4月23日 (四) 02:02 (UTC)\\n',\n",
       "    '<!-- SUL post-rename notification -->'],\n",
       "   'comments': [],\n",
       "   'cosigners': []}],\n",
       " 'heading': ' 已完成重命名 '}"
      ]
     },
     "execution_count": 140,
     "metadata": {},
     "output_type": "execute_result"
    }
   ],
   "source": [
    "parsed_ch_ex14[\"sections\"][2]"
   ]
  },
  {
   "cell_type": "code",
   "execution_count": 141,
   "id": "d12f850a",
   "metadata": {},
   "outputs": [],
   "source": [
    "ch_ex15 = None\n",
    "for page in dump:\n",
    "    if page.namespace in {1,3}:\n",
    "        ch_ex15 = page\n",
    "        break\n",
    "        \n",
    "# grab last revision\n",
    "revision15 = None\n",
    "for revision15 in ch_ex15:\n",
    "    pass\n",
    "\n",
    "parsed_ch_ex15 = wc.parse(revision15.text)"
   ]
  },
  {
   "cell_type": "code",
   "execution_count": 142,
   "id": "037844a7",
   "metadata": {},
   "outputs": [
    {
     "data": {
      "text/plain": [
       "Page(id=512, title='中华人民共和国元帅', namespace=1, redirect=None, restrictions=[])"
      ]
     },
     "execution_count": 142,
     "metadata": {},
     "output_type": "execute_result"
    }
   ],
   "source": [
    "ch_ex15"
   ]
  },
  {
   "cell_type": "code",
   "execution_count": 143,
   "id": "0ab3eec2",
   "metadata": {},
   "outputs": [
    {
     "data": {
      "text/plain": [
       "{'sections': [{'subsections': [],\n",
       "   'comments': [{'text_blocks': ['{{WikiProject banner shell|living=no|listas=z|\\n{{WikiProject Biography|importance=na}}\\n}}\\n'],\n",
       "     'comments': [],\n",
       "     'cosigners': []}]},\n",
       "  {'subsections': [],\n",
       "   'comments': [{'text_blocks': ['==Untitled==\\n',\n",
       "      '请恕我无知，我真的不知道甚么是十大元帅。他们是谁？干过甚么？有甚么背景资料？一篇好的文章（就算是很短的）至少都应让一个对这题目一无所知的人有最起码的认识啊。 --[[用户:Lorenzarius|Lorenzarius]] 2003年3月25日 08:47 (UTC)\\n'],\n",
       "     'comments': [],\n",
       "     'cosigners': [],\n",
       "     'author': 'Lorenzarius',\n",
       "     'time_stamp': '2003年3月25日 08:47 (UTC)'},\n",
       "    {'text_blocks': ['\\n',\n",
       "      '大元帅衔拟给毛泽东，毛泽东不要。故中华人民共和国没有大元帅。只有元帅。\\n',\n",
       "      '十大元帅，说法不妥。'],\n",
       "     'comments': [],\n",
       "     'cosigners': []}],\n",
       "   'heading': 'Untitled'}]}"
      ]
     },
     "execution_count": 143,
     "metadata": {},
     "output_type": "execute_result"
    }
   ],
   "source": [
    "parsed_ch_ex15"
   ]
  },
  {
   "cell_type": "code",
   "execution_count": 144,
   "id": "9d961d76",
   "metadata": {},
   "outputs": [],
   "source": [
    "ch_ex16 = None\n",
    "for page in dump:\n",
    "    if page.namespace in {1,3}:\n",
    "        ch_ex16 = page\n",
    "        break\n",
    "        \n",
    "# grab last revision\n",
    "revision16 = None\n",
    "for revision16 in ch_ex16:\n",
    "    pass\n",
    "\n",
    "parsed_ch_ex16 = wc.parse(revision16.text)"
   ]
  },
  {
   "cell_type": "code",
   "execution_count": 146,
   "id": "a9674f0a",
   "metadata": {},
   "outputs": [
    {
     "data": {
      "text/plain": [
       "Page(id=513, title='孔子', namespace=1, redirect=None, restrictions=[])"
      ]
     },
     "execution_count": 146,
     "metadata": {},
     "output_type": "execute_result"
    }
   ],
   "source": [
    "ch_ex16"
   ]
  },
  {
   "cell_type": "code",
   "execution_count": 168,
   "id": "2d7da313",
   "metadata": {},
   "outputs": [
    {
     "data": {
      "text/plain": [
       "Timestamp('2024-03-31T05:08:16Z')"
      ]
     },
     "execution_count": 168,
     "metadata": {},
     "output_type": "execute_result"
    }
   ],
   "source": [
    "revision16.timestamp"
   ]
  },
  {
   "cell_type": "markdown",
   "id": "1cadcb81",
   "metadata": {},
   "source": [
    "https://zh.wikipedia.org/w/index.php?title=Talk:%E5%AD%94%E5%AD%90&oldid=82092240"
   ]
  },
  {
   "cell_type": "code",
   "execution_count": 147,
   "id": "df761368",
   "metadata": {},
   "outputs": [
    {
     "data": {
      "text/plain": [
       "{'subsections': [],\n",
       " 'comments': [{'text_blocks': ['{{ITNtalk |1=2004年 |2=9月27日 |oldid1=161910}}\\n',\n",
       "    '{{WikiProject banner shell|class=C|vital=yes|living=no|listas=x|1=\\n{{WikiProject Politics |importance=mid}}\\n{{WikiProject Biography |importance=top }}\\n{{山东专题 |importance=top}}\\n{{哲学专题 |importance=top}}\\n{{中国专题 |importance=top |auto=y }}\\n{{WikiProject Articles for improvement |1=3.4 |2=良}}\\n{{教育专题 }}\\n}}\\n',\n",
       "    '{{FailedGA}}\\n',\n",
       "    '{{Broken anchors|links=\\n* <nowiki>[[世界遗产#世界遗产列表|世界遗产名录]]</nowiki>  錨點（#世界遗产列表）已不可用，因之前[[Special:Diff/68968719|被使用者刪除]]。 <!-- {\"title\":\"世界遗产列表\",\"appear\":{\"revid\":157356,\"parentid\":156849,\"timestamp\":\"2004-09-23T16:19:23Z\",\"removed_section_titles\":[],\"added_section_titles\":[\"關於世界遺產的爭議\",\"世界遗产列表\"]},\"disappear\":{\"revid\":68968719,\"parentid\":68968656,\"timestamp\":\"2021-12-06T04:06:23Z\",\"removed_section_titles\":[\"世界遗产列表\"],\"added_section_titles\":[]}} -->\\n}}\\n',\n",
       "    '\\n'],\n",
       "   'comments': [],\n",
       "   'cosigners': []}]}"
      ]
     },
     "execution_count": 147,
     "metadata": {},
     "output_type": "execute_result"
    }
   ],
   "source": [
    "parsed_ch_ex16[\"sections\"][0]"
   ]
  },
  {
   "cell_type": "code",
   "execution_count": 148,
   "id": "8f228c98",
   "metadata": {},
   "outputs": [
    {
     "data": {
      "text/plain": [
       "{'subsections': [],\n",
       " 'comments': [{'text_blocks': ['==讨论==\\n',\n",
       "    '各位維基人，我把成就提到有關宣揚理念的部分拆分了，希望成就在敘述上能更簡潔 --[[User:Picnic11219|Picnic11219]]（[[User talk:Picnic11219|留言]]） 2019年1月23日 (三) 04:50 (UTC)\\n'],\n",
       "   'comments': [],\n",
       "   'cosigners': [],\n",
       "   'author': 'Picnic11219',\n",
       "   'time_stamp': '2019年1月23日 (三) 04:50 (UTC)'},\n",
       "  {'text_blocks': ['\\n',\n",
       "    '----\\n',\n",
       "    '在有人可以給這句說話作出解讀之前, 我先把它取下:\\n',\n",
       "    '(爭議)\\n',\n",
       "    '\\n',\n",
       "    '已移除侵犯版权的资料。(http://www.chinakongzi.net/2550/gb/kzsp.htm) --[[用户:Lorenzarius|Lorenzarius]] 2003年3月25日 09:04 (UTC)\\n'],\n",
       "   'comments': [],\n",
       "   'cosigners': [],\n",
       "   'author': 'Lorenzarius',\n",
       "   'time_stamp': '2003年3月25日 09:04 (UTC)'},\n",
       "  {'text_blocks': ['\\n',\n",
       "    '----\\n',\n",
       "    '\\n',\n",
       "    \"why just 孔子 and not 孔夫子 ? is there an important diff ? in the en: wiki for exemple, it's 孔夫子\\n\",\n",
       "    'I know that 夫 means approximatly \"grand, great\"\\n',\n",
       "    '[http://fr.wikipedia.org/wiki/Utilisateur%3AKoxinga koxinga]\\n',\n",
       "    '\\n',\n",
       "    ': Koxinga, nice to see you here. Thanks again for those edits on the [http://fr.wikipedia.org/wiki/Shangha%EF Shanghaï] article.\\n',\n",
       "    '\\n',\n",
       "    ': The difference is unimportant to most people.\\n',\n",
       "    ':* Romanizations of 孔夫子, emphasizing the \"Teacher\" personality, are common for Westerners. The missionaries learned the name from the particular Chinese in Mainland who used such title at that time. This name is particularly used by Confucians to show that they consider themselves students of Confucius. \\n',\n",
       "    ':** Also used in some idioms, such as “孔夫子門前賣文章” (Selling your articles in front of the doors of Confucius.).\\n',\n",
       "    ':* 孔子, emphasizing the \"Philosopher\" aspect, is common for modern Taiwanese (probably Mainlanders too). 子 can also be considered as a mere abbreviation of 夫子.\\n',\n",
       "    '\\n',\n",
       "    ': Re: 夫子\\n',\n",
       "    ':* To be more formal, you could (but would not nowadays) call your teacher 太夫子 or 老夫子, but the later has been corrupted to an \"unrealistic bookworm.\" There\\'s even a popular and lengthy comic strip called 老夫子 in Taiwan with a man wearing 旗袍 robe and eyeglasses with a hat doing odd things with his child-sized adult friend. \\n',\n",
       "    ':* General Guan Yu (Lord Guan) of Shu-Han Kingdom (during the Three Kingdoms period) is also called a Fuzi (關夫子). But Lord Guan was neither a teacher nor a philosopher. Here, 夫子 is in the literal sense, i.e., \"man-person\", characterizing his virility and courage.\\n',\n",
       "    '\\n',\n",
       "    \": Feel free to ask more questions about Chinese culture and society. Others may provide insights as well. If there's no Talk page yet (and for most topics, there probably still aren't any), try our chat room at [[Wikipedia:聊天]].\\n\",\n",
       "    '\\n',\n",
       "    ': --[[用户:Menchi|Menchi]] 2003年6月17日 23:35 (UTC)\\n'],\n",
       "   'comments': [{'text_blocks': ['\\n',\n",
       "      ':: thanks a lot for these very detailed answers \\n',\n",
       "      \"::I'll try to go here sometimes because I wanna learn chinese :)\\n\",\n",
       "      '::[http://fr.wikipedia.org/wiki/Utilisateur%3AKoxinga koxinga]\\n',\n",
       "      ':: P.S. :(is my english correct or incomprehensible ?)\\n',\n",
       "      ':: - Koxinga\\n',\n",
       "      '\\n',\n",
       "      '::: Humility has been valued virtue to Confucians, but you have an adequate grasp of English (especially idiomatically). \\n',\n",
       "      \"::: It'll do just fine. :-) \\n\",\n",
       "      '::: --[[用户:Menchi|Menchi]] 2003年6月18日 10:58 (UTC)\\n'],\n",
       "     'comments': [],\n",
       "     'cosigners': [],\n",
       "     'author': 'Menchi',\n",
       "     'time_stamp': '2003年6月18日 10:58 (UTC)'}],\n",
       "   'cosigners': [],\n",
       "   'author': 'Menchi',\n",
       "   'time_stamp': '2003年6月17日 23:35 (UTC)'},\n",
       "  {'text_blocks': ['\\n',\n",
       "    '----\\n',\n",
       "    '双引号内双引号，有此用法？[[User:61.179.12.115|61.179.12.115]] 02:38 2004年3月11日 (UTC)\\n'],\n",
       "   'comments': [{'text_blocks': ['\\n',\n",
       "      ': 打錯了吧.--[[User:Menchi|Menchi]] ([[User talk:Menchi|討論頁]])[[前247年|<font color=#ffffec>Â</font>]] 07:25 2004年3月11日 (UTC)\\n'],\n",
       "     'comments': [],\n",
       "     'cosigners': [],\n",
       "     'author': 'Menchi',\n",
       "     'time_stamp': '07:25 2004年3月11日 (UTC)'}],\n",
       "   'cosigners': [],\n",
       "   'author': '61.179.12.115',\n",
       "   'time_stamp': '02:38 2004年3月11日 (UTC)'},\n",
       "  {'text_blocks': ['-----\\n',\n",
       "    '纪念孔子诞辰2555年，怎么回事？公元前551年到2004年，是2554周年。\\n',\n",
       "    '\\n',\n",
       "    ':注意公元前後隔了一年啊。--[[User:Uvo|玉米^ō^麦兜]] 20:25 2005年8月21日 (UTC)\\n'],\n",
       "   'comments': [],\n",
       "   'cosigners': [],\n",
       "   'author': 'Uvo',\n",
       "   'time_stamp': '20:25 2005年8月21日 (UTC)'},\n",
       "  {'text_blocks': ['----\\n',\n",
       "    '传言孔子修订了《春秋》是之微言大义，倒是不知哪位仁兄认为孔子没有编过《春秋》？   \\n',\n",
       "    '如何有成了主流观点，不要将自己或者个别人的想法、论点放在重要位置上。   \\n',\n",
       "    '姑且改成“有的学者认为”，还请不吝赐教！\\n',\n",
       "    '----\\n',\n",
       "    '孔子的妻子是谁？\\n',\n",
       "    '在史料上有记载吗？ --[[User:Puhongyi|Puhongyi]] 16:43 2005年4月24日 (UTC) 16:41 2005年4月24日 (UTC)\\n'],\n",
       "   'comments': [],\n",
       "   'cosigners': [],\n",
       "   'author': 'Puhongyi',\n",
       "   'time_stamp': '16:43 2005年4月24日 (UTC)'},\n",
       "  {'text_blocks': ['\\n',\n",
       "    '\\n',\n",
       "    '{{deltalk|sign=[[User:奔流沙|<span style=\"font-family:黑体;color:#000080\">奔流沙</span>]] ([[User talk:奔流沙|<span style=\"font-family:黑体;color:#000080\">留言</span>]])|time=2009年8月13日 (四) 06:25 (UTC)|reason=无关内容\\n}}\\n'],\n",
       "   'comments': [],\n",
       "   'cosigners': [],\n",
       "   'author': '奔流沙',\n",
       "   'time_stamp': '2009年8月13日 (四) 06:25 (UTC)'},\n",
       "  {'text_blocks': ['\\n'], 'comments': [], 'cosigners': []}],\n",
       " 'heading': '讨论'}"
      ]
     },
     "execution_count": 148,
     "metadata": {},
     "output_type": "execute_result"
    }
   ],
   "source": [
    "parsed_ch_ex16[\"sections\"][1]"
   ]
  },
  {
   "cell_type": "markdown",
   "id": "944acb05",
   "metadata": {},
   "source": [
    "Illustration of subsections: https://zh.wikipedia.org/wiki/Talk:%E5%AD%94%E5%AD%90\n",
    "\n",
    "Some of the users really didn't format their posts well (leaving out timestamps or signatures altogether), and as a result the parse is quite messy"
   ]
  },
  {
   "cell_type": "code",
   "execution_count": 157,
   "id": "a04654ba",
   "metadata": {
    "scrolled": true
   },
   "outputs": [
    {
     "data": {
      "text/plain": [
       "{'subsections': [],\n",
       " 'comments': [{'text_blocks': ['===支持===\\n',\n",
       "    '#<strike>--[[User:Refrain|Refrain]] 09:11 2005年3月20日</strike>\\n',\n",
       "    '#:目前重心为[[丝绸之路]]，只好先放弃了……。--[[User:Refrain|Refrain]] 12:51 2005年3月21日 (UTC)\\n'],\n",
       "   'comments': [{'text_blocks': ['#本人从来不到庙里烧香磕头，但是孔（文）庙例外 :-)  --[[User:Captmjc|这个人很懒，什么也没留下]] 08:44 2005年4月8日 (UTC)\\n'],\n",
       "     'comments': [],\n",
       "     'cosigners': [],\n",
       "     'author': 'Captmjc',\n",
       "     'time_stamp': '08:44 2005年4月8日 (UTC)'},\n",
       "    {'text_blocks': ['#支持，这个人对于中国文化有着莫大的影响 --puhongyi\\n',\n",
       "      '#支持。--[[User:Alexcn|Alexcn]] 07:48 2005年6月2日 (UTC)\\n'],\n",
       "     'comments': [],\n",
       "     'cosigners': [],\n",
       "     'author': 'Alexcn',\n",
       "     'time_stamp': '07:48 2005年6月2日 (UTC)'},\n",
       "    {'text_blocks': ['#支持。读论语，才知道自己以前对老夫子有很多误解。--[[User:Dice|Dice]] 05:42 2005年6月18日 (UTC)\\n'],\n",
       "     'comments': [],\n",
       "     'cosigners': [],\n",
       "     'author': 'Dice',\n",
       "     'time_stamp': '05:42 2005年6月18日 (UTC)'},\n",
       "    {'text_blocks': ['#绝对支持！孔夫子是我国以及全世界的伟大教育家！我们应该全力完善这个条目！最强烈支持！——伟大汉语\\n',\n",
       "      '#支持.虽然我对孔子不是很喜欢.但孔子毕竟对中国的影响太大了,我认为,质量提升是必要的,而且,要充分展现正反两方的观点,因为,维基是中立的!--[[User:FDyyr|FDyyr]] 09:46 2005年7月3日 (UTC)\\n'],\n",
       "     'comments': [],\n",
       "     'cosigners': [],\n",
       "     'author': 'FDyyr',\n",
       "     'time_stamp': '09:46 2005年7月3日 (UTC)'},\n",
       "    {'text_blocks': ['#支持 [[User:金翅大鹏鸟|金翅大鹏鸟]][[User talk: 金翅大鹏鸟|(talk)]] 04:06 2005年7月7日 (UTC)\\n'],\n",
       "     'comments': [],\n",
       "     'cosigners': [],\n",
       "     'author': '金翅大鹏鸟',\n",
       "     'time_stamp': '04:06 2005年7月7日 (UTC)'},\n",
       "    {'text_blocks': [\"#支持。我把英文维基上的姓“子”去了。好笑的老外又改回来。--{[[user:齐东野语|'''齐东野语''']]}-(<big>[[User talk:齐东野语|&#9743;]]</big>) 03:31 2005年7月9日 (UTC)\\n\"],\n",
       "     'comments': [],\n",
       "     'cosigners': [],\n",
       "     'author': '齐东野语',\n",
       "     'time_stamp': '03:31 2005年7月9日 (UTC)'},\n",
       "    {'text_blocks': ['#支持!孔子在我国的历史地位之高是不言而喻的，但是在文革的时候却错误地对孔子的思想进行了严重破坏！我们对此应该做点什么，尽自己的微薄之力，复兴我中华文化。[[User:yanhuangzisun|yanhuangzisun]]2005.7.25(bjtime)\\n',\n",
       "      '#你觉得是这样的，说实话，你错了！[[User:Wolfie2222|Wolfie2222]]\\n',\n",
       "      '#支持。他对我们的文化做出了太大的贡献，但是这个条目的完整性居然还不如英语。我们要最认真地完善它。[[User:ilikechinese|ilikechinese]]2005年7月27日\\n',\n",
       "      '\\n'],\n",
       "     'comments': [],\n",
       "     'cosigners': []}],\n",
       "   'cosigners': [],\n",
       "   'author': 'Refrain',\n",
       "   'time_stamp': '12:51 2005年3月21日 (UTC)'}],\n",
       " 'heading': '支持'}"
      ]
     },
     "execution_count": 157,
     "metadata": {},
     "output_type": "execute_result"
    }
   ],
   "source": [
    "parsed_ch_ex16[\"sections\"][2][\"subsections\"][0]"
   ]
  },
  {
   "cell_type": "code",
   "execution_count": 158,
   "id": "b9e308af",
   "metadata": {},
   "outputs": [
    {
     "data": {
      "text/plain": [
       "{'subsections': [],\n",
       " 'comments': [{'text_blocks': ['===反对===\\n',\n",
       "    '#历史方面是不是太多了一点？已经有阿拉伯帝国，丝绸之路，等等。哪位有兴趣的先搞搞吧。[[User:Lion.guo|Lion.guo]] 05:34 2005年7月13日 (UTC)\\n'],\n",
       "   'comments': [],\n",
       "   'cosigners': [],\n",
       "   'author': 'Lion.guo',\n",
       "   'time_stamp': '05:34 2005年7月13日 (UTC)'},\n",
       "  {'text_blocks': ['\\n'], 'comments': [], 'cosigners': []}],\n",
       " 'heading': '反对'}"
      ]
     },
     "execution_count": 158,
     "metadata": {},
     "output_type": "execute_result"
    }
   ],
   "source": [
    "parsed_ch_ex16[\"sections\"][2][\"subsections\"][1]"
   ]
  },
  {
   "cell_type": "code",
   "execution_count": 159,
   "id": "2b3eeadd",
   "metadata": {
    "scrolled": true
   },
   "outputs": [
    {
     "data": {
      "text/plain": [
       "{'subsections': [],\n",
       " 'comments': [{'text_blocks': ['===评论===\\n',\n",
       "    '*[[孔子]]-----在中文维基这里,对孔子的了解太少了.甚至没有英文.日文.韩文版详实.而这里才是孔子的故乡.中国在国外办的中文学校也是以他命名的.可见他对中国文化和世界文化的影响.而英文版谬误让人觉得可笑.\\n',\n",
       "    '\\n',\n",
       "    'Ancestral name (姓): Zi¹ (Chinese: 子; Pinyin: Zǐ) \\n',\n",
       "    'Clan name (氏): Kong (Ch: 孔 ; Py: Kǒng) \\n',\n",
       "    'Given name (名): Qiu (Ch: 丘 ; Py: Qiū) \\n',\n",
       "    'Courtesy name (字): Zhongni (Ch: 仲尼 ; Py: Zhòngní) \\n',\n",
       "    'Posthumous name (謚): The Ultimate Sage Master\\n',\n",
       "    'of Yore² \\n',\n",
       "    '(Ch: 至聖先師 ;\\n',\n",
       "    'Py: Zhìshèng Xiānshī) \\n',\n",
       "    'Styled: Master Kong³ \\n',\n",
       "    '(Ch: 孔子, less frequently 孔夫子; \\n',\n",
       "    'Py: Kǒngzǐ, less fr. Kǒngfūzǐ; \\n',\n",
       "    \"WG: K'ung-tzu, less fr. K'ung Fu-tzu \\n\",\n",
       "    '\\n',\n",
       "    '\"子\"成了姓? 典型的西方思维.\\n',\n",
       "    '\\n',\n",
       "    '建议提升.才能让世界了解孔子.--[[User:222.90.72.60|222.90.72.60]] 09:02 2005年3月20日 (UTC)\\n'],\n",
       "   'comments': [{'text_blocks': [':反對，個人並不對提名者的動機有何不敢苟同之處。但提名者並不了解特色條目的意義與相關的必要知識，再者[[孔子]]條目目前内容有待進一步加強，建議列入[[Wikipedia:条目质量提升计划/票选主题]]進行準備。--[[User:Refrain|Refrain]] 09:11 2005年3月20日 (UTC)\\n'],\n",
       "     'comments': [],\n",
       "     'cosigners': [],\n",
       "     'author': 'Refrain',\n",
       "     'time_stamp': '09:11 2005年3月20日 (UTC)'},\n",
       "    {'text_blocks': ['\\n',\n",
       "      ':同意Refrain的意见---{[[user:shizhao|百無一用是書生]]}- (<big>[[User talk:Shizhao|&#9742;]]</big>) 11:20 2005年3月21日 (UTC)\\n'],\n",
       "     'comments': [],\n",
       "     'cosigners': [],\n",
       "     'author': 'Shizhao',\n",
       "     'time_stamp': '11:20 2005年3月21日 (UTC)'},\n",
       "    {'text_blocks': ['\\n',\n",
       "      '*\"子\"确实是\"姓\"，但是不是孔子的\"子\"，而\"孔\"只是氏。这里的姓，乃是母系社会的遗存，通常多为女子旁，如姬，姜，妫。比如鄙姓陈，按照原先的姓氏分法，就是妫姓陈氏。姜太公一般就认为是姓姜氏吕名尚。英文的应该是正确的--[[User:Captmjc|这个人很懒，什么也没留下]] 08:41 2005年4月8日 (UTC)\\n'],\n",
       "     'comments': [],\n",
       "     'cosigners': [],\n",
       "     'author': 'Captmjc',\n",
       "     'time_stamp': '08:41 2005年4月8日 (UTC)'},\n",
       "    {'text_blocks': ['*就我所知，子不過是對一個男子的尊稱，孔子、孟子、老子、莊子等，我非常不認同上述把子當作姓或氏的說法--[[User:Droxiang|Droxiang]] 17:03 2005年7月4日 (UTC)\\n'],\n",
       "     'comments': [{'text_blocks': ['**阁下有所不知了，孔子先祖是宋公支脉，而宋又是商朝王室后代，所以孔子一族的“姓”，就是商代国姓“子”。英文版恰恰是正确的，反而许多中国人弄不清“姓”和“氏”的区别了，所以，还是提升吧。 [[User:金翅大鹏鸟|金翅大鹏鸟]][[User talk: 金翅大鹏鸟|(talk)]] 04:09 2005年7月7日 (UTC)\\n'],\n",
       "       'comments': [],\n",
       "       'cosigners': [],\n",
       "       'author': '金翅大鹏鸟',\n",
       "       'time_stamp': '04:09 2005年7月7日 (UTC)'},\n",
       "      {'text_blocks': ['\\n',\n",
       "        '**再次强调姓氏的区别。且此“子”非彼“子”。微子乃孔子先祖，可在各种文献中看到。我已在英文版中追加了说明。--[[User:Captmjc|这个人很懒，什么也没留下]][[User_talk:Captmjc|:D]] 11:37 2005年7月9日 (UTC)\\n'],\n",
       "       'comments': [{'text_blocks': ['***應該在開始強調一下吧。子姓孔氏。我不是特別清楚，所以請熟悉的人在開頭弄清一下這個已經廣為流傳了的誤會。--[[User:Wooddoo|wooddoo ]] [[User_talk:Wooddoo|虢國夫人遊春圖]] 13:47 2005年8月17日 (UTC)\\n'],\n",
       "         'comments': [],\n",
       "         'cosigners': [],\n",
       "         'author': 'Wooddoo',\n",
       "         'time_stamp': '13:47 2005年8月17日 (UTC)'}],\n",
       "       'cosigners': [],\n",
       "       'author': 'Captmjc',\n",
       "       'time_stamp': '11:37 2005年7月9日 (UTC)'}],\n",
       "     'cosigners': [],\n",
       "     'author': 'Droxiang',\n",
       "     'time_stamp': '17:03 2005年7月4日 (UTC)'}],\n",
       "   'cosigners': [],\n",
       "   'author': '222.90.72.60',\n",
       "   'time_stamp': '09:02 2005年3月20日 (UTC)'},\n",
       "  {'text_blocks': ['\\n'], 'comments': [], 'cosigners': []}],\n",
       " 'heading': '评论'}"
      ]
     },
     "execution_count": 159,
     "metadata": {},
     "output_type": "execute_result"
    }
   ],
   "source": [
    "parsed_ch_ex16[\"sections\"][2][\"subsections\"][2]"
   ]
  },
  {
   "cell_type": "code",
   "execution_count": 160,
   "id": "7642be51",
   "metadata": {
    "scrolled": true
   },
   "outputs": [
    {
     "data": {
      "text/plain": [
       "{'subsections': [],\n",
       " 'comments': [{'text_blocks': ['==  围棋棋手孔祥明及其子孔令文 ==\\n',\n",
       "    '\\n',\n",
       "    '孔祥明是女的。她儿子不应算是孔家的后代。（砖头！我闪。）按照过去的看法，儿子是继承香火的传人，女儿迟早要嫁人，替别人传宗接代。把孔祥明算是孔家的后代也就罢了，孔令文应是聂家人。（我不是说生理上的后代。生理上孔令文当然是孔祥明的后代，也是孔家的后代）。建议去掉孔令文，再说他也不算什么名人，要不是老聂的儿子的话。--[[User:Mongol|蒙人]] 21:39 2005年8月16日 (UTC)\\n'],\n",
       "   'comments': [{'text_blocks': ['\\n',\n",
       "      ':孔令文怎么回事不清楚。但是女儿的孩子也可能进入家谱，最常见的例子就是入赘或曰招女婿--[[User:Captmjc|这个人很懒，什么也没留下]][[User_talk:Captmjc|:D]] [[:Image:Nomorecommunism.gif]] 09:20 2005年8月22日 (UTC)\\n'],\n",
       "     'comments': [],\n",
       "     'cosigners': [],\n",
       "     'author': 'Captmjc',\n",
       "     'time_stamp': '09:20 2005年8月22日 (UTC)'},\n",
       "    {'text_blocks': ['\\n',\n",
       "      ':孔子嫡系后裔只包括[[曲阜]]的孔家18（或12？记不清了）个府门头的后裔，其他山西孔氏和浙江孔氏等都不算作孔子嫡系后裔（虽然他们也可能使用孔家的辈分字）。---{[[user:shizhao|百無一用是書生]]}- (<big>[[User talk:Shizhao|&#9742;]]</big>) 09:31 2005年8月22日 (UTC)\\n'],\n",
       "     'comments': [],\n",
       "     'cosigners': [],\n",
       "     'author': 'Shizhao',\n",
       "     'time_stamp': '09:31 2005年8月22日 (UTC)'},\n",
       "    {'text_blocks': ['\\n',\n",
       "      ':呵呵，孔令辉是不是也算孔子后裔？我以前一个同学还叫孔祥X(保护其隐私，就不说全名了)，我还佩服他居然跟国民政府老财主一个辈分呢。。。这里面是不是也有很多要打假呀？--[[User:Hamham|Hamham]] 18:44 2005年8月23日 (UTC)\\n'],\n",
       "     'comments': [],\n",
       "     'cosigners': [],\n",
       "     'author': 'Hamham',\n",
       "     'time_stamp': '18:44 2005年8月23日 (UTC)'},\n",
       "    {'text_blocks': ['\\n',\n",
       "      ':孔祥明之子不算孔姓継承，聖裔無疑也。宋美齢乃徐光啓之末也。女児的名字附於男子之末，提供婚姻所生聯接。[[User:Yume149|Yume149]]（[[User talk:Yume149|留言]]） 2017年5月26日 (五) 15:26 (UTC)\\n'],\n",
       "     'comments': [],\n",
       "     'cosigners': [],\n",
       "     'author': 'Yume149',\n",
       "     'time_stamp': '2017年5月26日 (五) 15:26 (UTC)'}],\n",
       "   'cosigners': [],\n",
       "   'author': 'Mongol',\n",
       "   'time_stamp': '21:39 2005年8月16日 (UTC)'},\n",
       "  {'text_blocks': ['\\n'], 'comments': [], 'cosigners': []}],\n",
       " 'heading': '  围棋棋手孔祥明及其子孔令文 '}"
      ]
     },
     "execution_count": 160,
     "metadata": {},
     "output_type": "execute_result"
    }
   ],
   "source": [
    "parsed_ch_ex16[\"sections\"][3]"
   ]
  },
  {
   "cell_type": "code",
   "execution_count": 161,
   "id": "f5a25a01",
   "metadata": {},
   "outputs": [
    {
     "data": {
      "text/plain": [
       "{'subsections': [],\n",
       " 'comments': [{'text_blocks': ['== 他是轴心时代中国的关键人物 ==\\n',\n",
       "    '\\n',\n",
       "    '啥叫轴心时代中国？莫名其妙，还是我孤陋寡闻？--[[User:Mongol|蒙人]] 21:42 2005年8月16日 (UTC)\\n'],\n",
       "   'comments': [],\n",
       "   'cosigners': [],\n",
       "   'author': 'Mongol',\n",
       "   'time_stamp': '21:42 2005年8月16日 (UTC)'},\n",
       "  {'text_blocks': ['\\n',\n",
       "    '请参见汤因比<世界历史>,<一个历史学家的宗教观>\\n',\n",
       "    '\\n',\n",
       "    '个人以为《论语》起到了轴心中国宪法的作用。政权组织，中央地方关系，治国理念等等均在其中。法老佛等等\\n',\n",
       "    '地位如同宪法修正案。----潜水艇那么长 03:37 2005年8月24日 (UTC)\\n',\n",
       "    '\\n',\n",
       "    '\\n',\n",
       "    '{{deltalk|sign=[[User:奔流沙|<span style=\"font-family:黑体;color:#000080\">奔流沙</span>]] ([[User talk:奔流沙|<span style=\"font-family:黑体;color:#000080\">留言</span>]])|time=2009年8月13日 (四) 06:33 (UTC)|reason=只是发表无关条目编辑的个人见解。\\n}}\\n'],\n",
       "   'comments': [],\n",
       "   'cosigners': [],\n",
       "   'author': '奔流沙',\n",
       "   'time_stamp': '2009年8月13日 (四) 06:33 (UTC)'},\n",
       "  {'text_blocks': ['\\n'], 'comments': [], 'cosigners': []}],\n",
       " 'heading': ' 他是轴心时代中国的关键人物 '}"
      ]
     },
     "execution_count": 161,
     "metadata": {},
     "output_type": "execute_result"
    }
   ],
   "source": [
    "parsed_ch_ex16[\"sections\"][4]"
   ]
  },
  {
   "cell_type": "code",
   "execution_count": 162,
   "id": "1b2d58e2",
   "metadata": {},
   "outputs": [
    {
     "data": {
      "text/plain": [
       "{'subsections': [],\n",
       " 'comments': [{'text_blocks': ['== 是不是应该写明孔子的生日和逝世的月日？ ==\\n',\n",
       "    '\\n',\n",
       "    '[[User:Xiaojeng|无名无形]] 02:28:21 2005年9月22日 (UTC)\\n'],\n",
       "   'comments': [{'text_blocks': ['\\n',\n",
       "      ':我记得孔子的生日好像有几种说法---{[[user:shizhao|百無一用是書生]]}- (<big>[[User talk:Shizhao|&#9742;]]</big>) 02:40 2005年9月22日 (UTC)\\n'],\n",
       "     'comments': [],\n",
       "     'cosigners': [],\n",
       "     'author': 'Shizhao',\n",
       "     'time_stamp': '02:40 2005年9月22日 (UTC)'}],\n",
       "   'cosigners': [],\n",
       "   'author': 'Xiaojeng',\n",
       "   'time_stamp': '28:21 2005年9月22日 (UTC)'},\n",
       "  {'text_blocks': ['\\n'], 'comments': [], 'cosigners': []}],\n",
       " 'heading': ' 是不是应该写明孔子的生日和逝世的月日？ '}"
      ]
     },
     "execution_count": 162,
     "metadata": {},
     "output_type": "execute_result"
    }
   ],
   "source": [
    "parsed_ch_ex16[\"sections\"][5]"
   ]
  },
  {
   "cell_type": "code",
   "execution_count": 163,
   "id": "f9d8002d",
   "metadata": {},
   "outputs": [
    {
     "data": {
      "text/plain": [
       "{'subsections': [],\n",
       " 'comments': [{'text_blocks': ['== 中国古代的主流学说儒家 ==\\n',\n",
       "    '\\n',\n",
       "    '最重要的学派之一并不能体现儒家的确切的地位。基本上，中国文化观念的基本要素，以儒家为主体，辅以佛、道。实际上汉以后用学派来指儒家已经不合适了。 所以将“他被认为是自汉代起中国古代最重要的学派之一儒家的创始人” 改为“他是自汉代起古代中国的主流学说儒家的创始人”。实际上，在清之前，不仅是中国的主流学说，而且是官方学说。民国以后，儒家依然得到官方的尊崇。只有到中国共产党带着西洋马克思学说来统治中国的时候，和儒家不可避免的发生矛盾，才在官方上打击儒家。不过，改革开放至今，虽然中国共产党还在，不过其“坚持”的马克思学说已经面目全非，所以儒家思想才逐步有了公开发展的空间乃至官方的肯定。 --[[User:Wikinu|Wikinu]] 15:38 2005年11月8日 (UTC)\\n'],\n",
       "   'comments': [],\n",
       "   'cosigners': [],\n",
       "   'author': 'Wikinu',\n",
       "   'time_stamp': '15:38 2005年11月8日 (UTC)'},\n",
       "  {'text_blocks': ['\\n'], 'comments': [], 'cosigners': []}],\n",
       " 'heading': ' 中国古代的主流学说儒家 '}"
      ]
     },
     "execution_count": 163,
     "metadata": {},
     "output_type": "execute_result"
    }
   ],
   "source": [
    "parsed_ch_ex16[\"sections\"][6]"
   ]
  },
  {
   "cell_type": "markdown",
   "id": "50dd1968",
   "metadata": {},
   "source": [
    "This comment has a deletion notice box at the bottom which ends up getting parsed in with the rest of the message, due to lack of proper post demarcation/signing?: https://zh.wikipedia.org/wiki/Talk:%E5%AD%94%E5%AD%90#Move_from_Wikipedia:?%C2%A2%C3%A5??%C2%A1%C3%A7%E2%80%BA%C2%AE?%E2%80%A2%C3%A7%C2%A5%C2%A8"
   ]
  },
  {
   "cell_type": "code",
   "execution_count": 164,
   "id": "6f087fc0",
   "metadata": {
    "scrolled": true
   },
   "outputs": [
    {
     "data": {
      "text/plain": [
       "{'subsections': [{'subsections': [],\n",
       "   'comments': [{'text_blocks': ['==== 關於孔子條目 ====\\n',\n",
       "      '\\n',\n",
       "      \" ''>>>移动开始<<<''\\n\",\n",
       "      '\\n',\n",
       "      '我一向崇敬孔子，又受業於孔德成老師．總覺得網路世界上孔老師的資料不夠全面，想在網路世界上整合一下他的資料．素仰維基百科全書的聲名，所以在孔子這個條目中大膽妄為地留下了些添枝加葉的塗鴉，如果唐突了各位先進，請不要在意．由於我初到貴境，不熟悉這裡的遊戲規則．而且我的版權觀念一向不能與時具進，前兩天轉貼了幾條資料，被管理員刪除了，在這裡我應該感謝他們對我的版權知識的教育．話雖如此，有幾點意見我還是想提出來，供大家參考．\\n',\n",
       "      '\\n',\n",
       "      \"一．我前幾天初來孔子條目時，看到他的世系表是從微子開始的．我覺得不足，於是往前加上了三十幾代(這在孔氏家譜中有徵的)，一直到軒轅黃帝．後來，我發現維基本身的'少昊'條目過於簡略，而且有錯字(如皞寫成嗥)，所以做了改正補充．孰不知修改未幾，馬上又變回原形．我不知道這是否因為電腦的故障，假若不是的話，如此態度令人覺得蠻橫．\\n\",\n",
       "      '\\n',\n",
       "      \"二．發現不能轉貼資料後，我於是退而求其次，蒐集資料後改寫．但我發現，有的資料依舊被刪除．如'孔宗願'那條，刪除的理由竟然是我只有IP地址，沒有正式的ID．請問這跟條目的內容有關嗎？如此理由令人覺得有歧視之嫌．\\n\",\n",
       "      '\\n',\n",
       "      \"三．稍微了解衍聖公府歷史的人，都知道孔氏有南北二宗．而孔子條目的世系部分只講北宗，不講南宗，實為美中不足．於是我補上了衢州南宗的世系，而且另立條目解釋了南宗的來源．結果同樣被刪除．而刪除的原因之一是'不知所云'．原來在下撰寫的資料，在管理員眼中只不過是一堆gibberish而已．如此措辭令人覺得灰心．\\n\",\n",
       "      '\\n',\n",
       "      '如前所言，我妄加補充一些資料，只是出於對孔子的崇敬，還有對孔德成老師的愛戴．我很忙，不可能長期泡在網上，也就沒有註冊ID．名者，實之賓也，要來何用？如果各位管理員認為我擾亂的您們的工作秩序，實在非常抱歉，我不會再次出現於此地．謝謝．--[[User:140.111.165.104]] 08:14 2005年11月29日\\n',\n",
       "      '\\n',\n",
       "      \" ''>>>移动结束<<<''\\n\",\n",
       "      '＝＝＝＝＝＝＝＝＝＝＝＝＝＝＝＝＝＝＝\\n',\n",
       "      '\\n',\n",
       "      '請不要再copy別的網站上的內容，你已侵害他人著作權。如果持續發布侵權內容可能被認為是破壞行為。--[[Theodoranian|虎兒]] =^-^= 05:08 2005年11月29日 (UTC)\\n',\n",
       "      '\\n',\n",
       "      '＝＝＝＝＝＝＝＝＝＝＝＝＝＝＝＝＝＝＝\\n',\n",
       "      '\\n',\n",
       "      \"感謝管理員的告誡．對於你的感謝，我已經在前文表達過一次了．可是我要聲明一點：孔宗願和南宗兩條，都不是直接copy，而是重新整理過的．如果因為我copy了幾條，就將那些沒有直接copy的條目都否定掉，那麼我想你們的審核水準還待改善．而且，我發現'少昊'之誤，你們不讓我改正可也，但自己也始終沒有改正．這不是適宜的態度．我前文提出的三點意見，你們視而不見，卻依然拿’侵害他人著作權’來警告我，我認為有點答非所問．再謝．\\n\",\n",
       "      '\\n',\n",
       "      '\\n',\n",
       "      '{{deltalk|sign=[[User:奔流沙|<span style=\"font-family:黑体;color:#000080\">奔流沙</span>]] ([[User talk:奔流沙|<span style=\"font-family:黑体;color:#000080\">留言</span>]])|time=2009年8月13日 (四) 06:25 (UTC)|reason=无关文章内容的发问\\n}}\\n'],\n",
       "     'comments': [],\n",
       "     'cosigners': [],\n",
       "     'author': '奔流沙',\n",
       "     'time_stamp': '2009年8月13日 (四) 06:25 (UTC)'},\n",
       "    {'text_blocks': ['\\n'], 'comments': [], 'cosigners': []}],\n",
       "   'heading': ' 關於孔子條目 '}],\n",
       " 'comments': [{'text_blocks': ['==Move from [[Wikipedia:?¢å??¡ç›®?•ç¥¨]]==\\n',\n",
       "    '\\n'],\n",
       "   'comments': [],\n",
       "   'cosigners': []}],\n",
       " 'heading': 'Move from [[Wikipedia:?¢å??¡ç›®?•ç¥¨]]'}"
      ]
     },
     "execution_count": 164,
     "metadata": {},
     "output_type": "execute_result"
    }
   ],
   "source": [
    "parsed_ch_ex16[\"sections\"][7]"
   ]
  },
  {
   "cell_type": "code",
   "execution_count": 165,
   "id": "5b6c3a80",
   "metadata": {},
   "outputs": [
    {
     "data": {
      "text/plain": [
       "{'subsections': [],\n",
       " 'comments': [{'text_blocks': ['==优良条目评选==\\n',\n",
       "    '<small>以下内容从[[Wikipedia:優良條目評選]]搬至</small>\\n',\n",
       "    '* {{article|孔子}} 人文學者-哲學家 -- [[User:沙田友|沙田友]] 11:16 2006年8月30日 (UTC)\\n'],\n",
       "   'comments': [{'text_blocks': ['**{{Oppose}}，没有列明参考文献，而外部连结不等于参考文献。--[[user:长夜无风|长夜无风]]([[user talk:长夜无风|风言风语]]) 15:57 2006年8月30日 (UTC)\\n'],\n",
       "     'comments': [],\n",
       "     'cosigners': [],\n",
       "     'author': '长夜无风',\n",
       "     'time_stamp': '15:57 2006年8月30日 (UTC)'},\n",
       "    {'text_blocks': ['**{{Oppose}} [[User:明陽明|明陽明]] 05:05 2006年9月5日 (UTC)\\n'],\n",
       "     'comments': [],\n",
       "     'cosigners': [],\n",
       "     'author': '明陽明',\n",
       "     'time_stamp': '05:05 2006年9月5日 (UTC)'}],\n",
       "   'cosigners': [],\n",
       "   'author': '沙田友',\n",
       "   'time_stamp': '11:16 2006年8月30日 (UTC)'},\n",
       "  {'text_blocks': ['\\n'], 'comments': [], 'cosigners': []}],\n",
       " 'heading': '优良条目评选'}"
      ]
     },
     "execution_count": 165,
     "metadata": {},
     "output_type": "execute_result"
    }
   ],
   "source": [
    "parsed_ch_ex16[\"sections\"][8]"
   ]
  },
  {
   "cell_type": "markdown",
   "id": "342b6fc2",
   "metadata": {},
   "source": [
    "Did the order of the subsections get swapped here?:"
   ]
  },
  {
   "cell_type": "code",
   "execution_count": 195,
   "id": "43458610",
   "metadata": {
    "scrolled": true
   },
   "outputs": [
    {
     "data": {
      "text/plain": [
       "{'subsections': [{'subsections': [],\n",
       "   'comments': [{'text_blocks': ['===孔子的時代背景===\\n',\n",
       "      '一個文化要自稱完善，仍應該不斷的做深層的反省，個人認為孔子的時代背景應再加強，以深入了解這個文化重要匯聚的一家之言如何形成，像是心理學的追溯都必須了解病患的兒童時期，才能完全推論其成因。\\n',\n",
       "      '\\n',\n",
       "      '例如：孔子的時代是個宗法政文史哲不分的時代，所以會有周禮禮教的部份內容在描述祭祀制度，有近代學者研究先後提出\"\\'\\'\\'[[中國傳統宗法性宗教]]\\'\\'\\'\"的學術用語來捕捉這個遠古中原體系與制度，這從側面解釋了[[儒教]]的形成正是在完善的服務這個專政體系，讓數千年的文人士大夫體系不疑有它的「子不語怪力亂神」，重新被檢視其立論的背景是否與「天子祭天」的祭祀體系，密切相關。如果成立，就是某種程度的說明中國古政權藉此論點蒙蔽知識份子，使其追求天人合一的方向與手段趨向哲學性而偏離宗教性，使得宗教性部份成為禁忌與天子的特權，雖有內在矛盾而不易察覺，到宋明理學仍陷在這些矛盾之中難以對天人關係形成多元的知識系統。\\n',\n",
       "      '\\n',\n",
       "      '與中國相較，西方雖長期有天主教把持與安撫，但祭天仍為普遍大眾的基本權利，這個基本權利配合印刷術的逐漸普及，導致一系列宗教改革，知識份子始終普遍關心甚至參與這些改革並居於主導地位，原來因服務神學(天人合一)的多元的知識系統逐漸從中解放出來使宗教脫去外在的許多攀附形式，回歸信仰本質就是信仰，其他反作用力則(由釋經學等)產生哲學、科學、人權學等至今東方人仍無法完全領會的思想。\\n',\n",
       "      '\\n',\n",
       "      '這種探討目的不應在追究或是批評優劣，而應是完整的幫助華人更客觀、中立的理解自己的認知體系是架構在怎樣的時空基礎之上，才能夠有智慧的判斷我們的文化根源應該將何去何從。--[[User:喜爾|喜爾]]（[[User talk:喜爾|留言]]） 2013年5月28日 (二) 18:10 (UTC)\\n'],\n",
       "     'comments': [],\n",
       "     'cosigners': [],\n",
       "     'author': '喜爾',\n",
       "     'time_stamp': '2013年5月28日 (二) 18:10 (UTC)'},\n",
       "    {'text_blocks': ['\\n'], 'comments': [], 'cosigners': []}],\n",
       "   'heading': '孔子的時代背景'}],\n",
       " 'comments': [{'text_blocks': ['== 中立性 ==\\n',\n",
       "    '為什麼沒有對孔子的批評？難怪連優良都評不上！哈哈！--[[User:Whhalbert|Whhalbert]] 06:48 2006年9月27日 (UTC)\\n'],\n",
       "   'comments': [{'text_blocks': [':把虛偽的孔丘孟軻當作偶像崇拜，怪不得中國人這么虛偽。孔丘的主要目的是為了維護帝王專制，居然有人可笑地說他有民主思想。孔丘把人都教傻了，中國的科學技術是一代不如一代。孔丘威力最大的明清是中國歷史上最黑暗無光的時候，思想最閉塞，壓迫最嚴重，人權最受侵犯，一點也不和諧。反而是被儒家罵為“髒唐臭漢”的漢唐時期人民比在明清更有權利更自由。儒家與民主自由等普世價值背道而馳，導致中國人長期受專制之苦，可笑的是，中國人還以此為樂，樂不思蜀。孔丘所說過的個別正確觀點只不過是被歷史上無數個民族都懂得的道德而已，根本談不上什么思想可言。[[User:Dreamer in Utopia|Dreamer in Utopia]] ([[User talk:Dreamer in Utopia|留言]]) 2010年1月6日 (三) 07:45 (UTC)\\n'],\n",
       "     'comments': [],\n",
       "     'cosigners': [],\n",
       "     'author': 'Dreamer in Utopia',\n",
       "     'time_stamp': '2010年1月6日 (三) 07:45 (UTC)'}],\n",
       "   'cosigners': [],\n",
       "   'author': 'Whhalbert',\n",
       "   'time_stamp': '06:48 2006年9月27日 (UTC)'},\n",
       "  {'text_blocks': ['→維護帝王專制的始作俑者是前漢公孫弘，借前人衣冠。孟軻對於梁惠王来言，是個激烈的持不同政見者。\\n',\n",
       "    '→儒家與民主自由等普世價值出發点皆是浩然守正之風紀，惟生搬硬套者是責。\\n',\n",
       "    '→根本談不上什么思想可言。倒也是。如果是這様倒好了。\\n',\n",
       "    '→孔丘威力最大的其實是与刑法相結合的漢唐，先生感覚有些皮相。\\n',\n",
       "    '→不是樂不思蜀，事後諸葛亮爾。一生秋風糊\\n',\n",
       "    '→為什麼沒有對孔子的批評？批評自在字裏行間。批判的継承。\\n',\n",
       "    '→中國漢人主導的科學技術發明，到明末清初才變成六斤老太。\\n',\n",
       "    '<small>—以上[[Wikipedia:在對話頁上簽名|未簽名]]的留言由[[User:Yume149|Yume149]]（[[User talk:Yume149|對話]]｜[[Special:Contributions/Yume149|貢獻]]）於2017年5月26日 (五) 16:23 (UTC)加入。</small>\\n'],\n",
       "   'comments': [],\n",
       "   'cosigners': [],\n",
       "   'author': 'Yume149',\n",
       "   'time_stamp': '2017年5月26日 (五) 16:23 (UTC)'},\n",
       "  {'text_blocks': ['\\n',\n",
       "    '文章用詞有違史實和中立，混雜評論，問題如下：\\n',\n",
       "    '* 「(春秋戰國) 是中國人的文化自覺最初發生的年代」。當時華夏的天下觀，與現時的民族國家[[中國]]觀念相去甚遠。建議改成「春秋戰國時，天下的觀念在華夏成形」。\\n',\n",
       "    '* 「古典成為時尚」不符史實，春秋戰國是百家爭鳴的年代。儒家思想到漢朝才是時尚。\\n',\n",
       "    '* 「孔子正是這時代精神的代表人物與集大成者」同上一樣不符史實，儒家有如同期其他思想，是一偏之言，並非集幾家之大成。\\n',\n",
       "    '* 「遂開戰國諸子百家之先河」一句，到底開了甚麼先河？若是開創文史哲思辯的先河，那不符史實。若是指開創儒家，那這點才之前章節已提及，不需再提。\\n',\n",
       "    '* 「孔子絕不單出講仁」的「絕」字預設有人指控，作者要回擊。此乃有違中立。\\n',\n",
       "    '* 「使原來的六畫卦華麗轉身」語意不明，而且欠中立。\\n',\n",
       "    '[[User:Lowerlowerhk|陳孰明]]（[[User talk:Lowerlowerhk|留言]]） 2015年9月17日 (四) 03:46 (UTC)\\n'],\n",
       "   'comments': [],\n",
       "   'cosigners': [],\n",
       "   'author': 'Lowerlowerhk',\n",
       "   'time_stamp': '2015年9月17日 (四) 03:46 (UTC)'},\n",
       "  {'text_blocks': ['\\n',\n",
       "    '* 「(春秋戰國) 是中國人的文化自覺最初發生的年代」。當時華夏的天下觀，與現時的民族國家[[中國]]觀念相去甚遠。建議改成「春秋戰國時，天下的觀念在華夏成形」。→春秋戰國僅称中国，後世儒家方有正統華夏觀念。\\n',\n",
       "    '* 「古典成為時尚」不符史實，春秋戰國是百家爭鳴的年代。儒家思想到漢朝才是時尚。→一時代有一時代的時尚。\\n',\n",
       "    '* 「孔子正是這時代精神的代表人物與集大成者」同上一樣不符史實，儒家有如同期其他思想，是一偏之言，並非集幾家之大成。→集大成者也。歴代魯君賛同之。\\n',\n",
       "    '* 「遂開戰國諸子百家之先河」一句，到底開了甚麼先河？若是開創文史哲思辯的先河，那不符史實。若是指開創儒家，那這點才之前章節已提及，不需再提。→春秋戰國之際，手定「春秋」「論語」「六経」符史實。\\n',\n",
       "    '* 「孔子絕不單出講仁」的「絕」字預設有人指控，作者要回擊。此乃有違中立。→「妊娠中絶」有違中立？\\n',\n",
       "    '* 「使原來的六畫卦華麗轉身」語意不明，而且欠中立。→建議改成「使原來的六畫卦換骨奪胎」\\n',\n",
       "    '\\n',\n",
       "    '敬具。吾雅欲除去「中立性」模板。\\n',\n",
       "    '[[User:Yume149|Yume149]]（[[User talk:Yume149|留言]]） 2017年5月26日 (五) 15:43 (UTC)\\n'],\n",
       "   'comments': [],\n",
       "   'cosigners': [],\n",
       "   'author': 'Yume149',\n",
       "   'time_stamp': '2017年5月26日 (五) 15:43 (UTC)'},\n",
       "  {'text_blocks': ['\\n'], 'comments': [], 'cosigners': []}],\n",
       " 'heading': ' 中立性 '}"
      ]
     },
     "execution_count": 195,
     "metadata": {},
     "output_type": "execute_result"
    }
   ],
   "source": [
    "parsed_ch_ex16[\"sections\"][9]"
   ]
  },
  {
   "cell_type": "code",
   "execution_count": 169,
   "id": "dcddb0a9",
   "metadata": {},
   "outputs": [
    {
     "data": {
      "text/plain": [
       "{'subsections': [],\n",
       " 'comments': [{'text_blocks': ['==第二次优良条目评选==\\n',\n",
       "    '<small>以下内容由[[Wikipedia:優良條目候選]]移至</small>\\n',\n",
       "    '* {{article|孔子}}分类：哲学家--[[User:左图右史|不中举的秀才]]([[User_talk:左图右史|江南贡院]]) 02:56 2006年12月10日 (UTC)\\n'],\n",
       "   'comments': [{'text_blocks': ['**{{Oppose}}，没有列明参考资料。--[[user:长夜无风|长夜无风]]([[user talk:长夜无风|风言风语]]) 03:52 2006年12月10日 (UTC)\\n'],\n",
       "     'comments': [],\n",
       "     'cosigners': [],\n",
       "     'author': '长夜无风',\n",
       "     'time_stamp': '03:52 2006年12月10日 (UTC)'},\n",
       "    {'text_blocks': ['**{{support}}--[[User:Iflwlou|Iflwlou]] 18:42 2006年12月10日 (UTC)\\n'],\n",
       "     'comments': [],\n",
       "     'cosigners': [],\n",
       "     'author': 'Iflwlou',\n",
       "     'time_stamp': '18:42 2006年12月10日 (UTC)'},\n",
       "    {'text_blocks': ['**{{Oppose}}，同长夜无风---{[[user:shizhao|百無一用是書生]]}- (<big>[[User talk:Shizhao|&#9742;]]</big>) 14:28 2006年12月11日 (UTC)\\n'],\n",
       "     'comments': [],\n",
       "     'cosigners': [],\n",
       "     'author': 'Shizhao',\n",
       "     'time_stamp': '14:28 2006年12月11日 (UTC)'}],\n",
       "   'cosigners': [],\n",
       "   'author': '左图右史',\n",
       "   'time_stamp': '02:56 2006年12月10日 (UTC)'}],\n",
       " 'heading': '第二次优良条目评选'}"
      ]
     },
     "execution_count": 169,
     "metadata": {},
     "output_type": "execute_result"
    }
   ],
   "source": [
    "parsed_ch_ex16[\"sections\"][10]"
   ]
  },
  {
   "cell_type": "code",
   "execution_count": 170,
   "id": "2a00675c",
   "metadata": {
    "scrolled": true
   },
   "outputs": [
    {
     "data": {
      "text/plain": [
       "{'subsections': [],\n",
       " 'comments': [{'text_blocks': ['==第三次优良条目评选==\\n',\n",
       "    '*{{article|孔子}}分类：前551年出生 | 前479年逝世 | 中國哲學家 | 中國思想家 | 中國教育家 | 儒家聖人 | 春秋戰國人物 | 山東人 | 孔姓----仁美 21:34 2007年1月20日 (UTC)\\n',\n",
       "    '**{{Oppose}}，内容组织太乱，个人成就部分还有待扩充，没有参考文献---{[[user:shizhao|百無一用是書生]]}- (<big>[[User talk:Shizhao|&#9742;]]</big>) 16:06 2007年1月20日 (UTC)\\n'],\n",
       "   'comments': [{'text_blocks': ['**{{反對}}文獻不足以支持整篇文章，且內容不符合NPOV的原則，缺乏批判性的論點，簡單來說，就是內容不足，還可以發揮得更完善才是。題外話，申請優良條目時的分類請看[[wikipedia:優良條目]]已有的分類選一個就好--[[User:Droxiang|Droxiang]] 16:12 2007年1月20日 (UTC)\\n'],\n",
       "     'comments': [{'text_blocks': ['***User:Droxiang的反對理由根本就是搞笑。 還“批判性觀點”呢....User:Droxiang要不要去批林批孔阿？--[[User:民國九十五年|民國九十六年]] 16:30 2007年1月20日 (UTC)\\n'],\n",
       "       'comments': [],\n",
       "       'cosigners': [],\n",
       "       'author': '民國九十五年',\n",
       "       'time_stamp': '16:30 2007年1月20日 (UTC)'}],\n",
       "     'cosigners': [],\n",
       "     'author': 'Droxiang',\n",
       "     'time_stamp': '16:12 2007年1月20日 (UTC)'},\n",
       "    {'text_blocks': ['**{{反對}}，缺乏批判性觀點。為什麼孔子罵不得？--[[User:Whhalbert|Whhalbert]] 05:55 2007年1月21日 (UTC)\\n'],\n",
       "     'comments': [],\n",
       "     'cosigners': [],\n",
       "     'author': 'Whhalbert',\n",
       "     'time_stamp': '05:55 2007年1月21日 (UTC)'},\n",
       "    {'text_blocks': ['**{{support}}--[[User:Dennybrosh|約翰哈博克]] 05:27 2007年1月22日 (UTC)\\n'],\n",
       "     'comments': [],\n",
       "     'cosigners': [],\n",
       "     'author': 'Dennybrosh',\n",
       "     'time_stamp': '05:27 2007年1月22日 (UTC)'},\n",
       "    {'text_blocks': ['**{{反對}}——尚未完成的條目。--[[User:Quarty|Quarty]] 10:15 2007年1月22日 (UTC)\\n'],\n",
       "     'comments': [],\n",
       "     'cosigners': [],\n",
       "     'author': 'Quarty',\n",
       "     'time_stamp': '10:15 2007年1月22日 (UTC)'},\n",
       "    {'text_blocks': ['**{{反對}}--語氣不太像百科全書。另外（台灣）高中國文課上的《中國文化基本教材》，內容雖然大都只是語錄，不過偶而還是會出現一些歌功頌德的東西，要在裡面找「批判性觀點」更是不可能。[[User:Bstlee|Bstlee]] 17:43 2007年1月22日 (UTC)\\n'],\n",
       "     'comments': [],\n",
       "     'cosigners': [],\n",
       "     'author': 'Bstlee',\n",
       "     'time_stamp': '17:43 2007年1月22日 (UTC)'},\n",
       "    {'text_blocks': ['**{{反對}}--個人不贊成加入不適當的批判性觀點，但條目內容確實有待改善。--[[User:Hiaeoupyc|Hiaeoupyc]] 02:46 2007年3月4日 (UTC)\\n'],\n",
       "     'comments': [],\n",
       "     'cosigners': [],\n",
       "     'author': 'Hiaeoupyc',\n",
       "     'time_stamp': '02:46 2007年3月4日 (UTC)'}],\n",
       "   'cosigners': [],\n",
       "   'author': 'Shizhao',\n",
       "   'time_stamp': '16:06 2007年1月20日 (UTC)'},\n",
       "  {'text_blocks': ['\\n'], 'comments': [], 'cosigners': []}],\n",
       " 'heading': '第三次优良条目评选'}"
      ]
     },
     "execution_count": 170,
     "metadata": {},
     "output_type": "execute_result"
    }
   ],
   "source": [
    "parsed_ch_ex16[\"sections\"][11]"
   ]
  },
  {
   "cell_type": "code",
   "execution_count": 171,
   "id": "2ed261f2",
   "metadata": {
    "scrolled": false
   },
   "outputs": [
    {
     "data": {
      "text/plain": [
       "{'subsections': [],\n",
       " 'comments': [{'text_blocks': ['== 不知有多少人看过[[何新]]的新书《孔子新传》 ==\\n',\n",
       "    '\\n',\n",
       "    '{{deltalk|sign=[[User:奔流沙|<span style=\"font-family:黑体;color:#000080\">奔流沙</span>]] ([[User talk:奔流沙|<span style=\"font-family:黑体;color:#000080\">留言</span>]])|time=2009年8月13日 (四) 06:25 (UTC)|reason=侵犯版权\\n}}\\n'],\n",
       "   'comments': [],\n",
       "   'cosigners': [],\n",
       "   'author': '奔流沙',\n",
       "   'time_stamp': '2009年8月13日 (四) 06:25 (UTC)'},\n",
       "  {'text_blocks': ['\\n'], 'comments': [], 'cosigners': []}],\n",
       " 'heading': ' 不知有多少人看过[[何新]]的新书《孔子新传》 '}"
      ]
     },
     "execution_count": 171,
     "metadata": {},
     "output_type": "execute_result"
    }
   ],
   "source": [
    "parsed_ch_ex16[\"sections\"][12]"
   ]
  },
  {
   "cell_type": "code",
   "execution_count": 172,
   "id": "8ae048f9",
   "metadata": {
    "scrolled": true
   },
   "outputs": [
    {
     "data": {
      "text/plain": [
       "{'subsections': [],\n",
       " 'comments': [{'text_blocks': ['== 第四次優良條目候選 ==\\n',\n",
       "    \":''～移動自[[Wikipedia:优良条目候选]]～（[{{fullurl:Wikipedia:优良条目候选|oldid=4971543}} 最後修訂]）''\\n\",\n",
       "    '*{{article|孔子}} 分類：人文學者-哲學家。--[[User:DoraConan|DoraConan]] [[User talk:DoraConan|<span style=\"color:blue;\">按此入禀本人的對話頁起訴本人</span>]] 2007年8月18日 (六) 01:25 (UTC)\\n'],\n",
       "   'comments': [{'text_blocks': [\"**{{意見}}，'''家世與生平'''到受困陳蔡後就沒了，建議補齊。'''爭議'''最後一句''孔子被韓國說是韓國人，但並沒有證據。''有沒有來源可參考。這樣應該差不多了--[[User:Jason22|Jason22]]([[User_talk:Jason22|請留言]]) 2007年8月18日 (六) 02:55 (UTC)\\n\"],\n",
       "     'comments': [],\n",
       "     'cosigners': [],\n",
       "     'author': 'Jason22',\n",
       "     'time_stamp': '2007年8月18日 (六) 02:55 (UTC)'},\n",
       "    {'text_blocks': ['**{{意見}}孔子的學習態度和孔子與時人的對答都沒有內容。—[[User:shinghinyeung|楊承軒]]([[User_talk:shinghinyeung|★☆~~]]) 2007年8月19日 (日) 08:42 (UTC)\\n'],\n",
       "     'comments': [],\n",
       "     'cosigners': [],\n",
       "     'author': 'shinghinyeung',\n",
       "     'time_stamp': '2007年8月19日 (日) 08:42 (UTC)'},\n",
       "    {'text_blocks': ['**{{support}}思想很详细呢--[[User:Winger|Winger]] 2007年8月21日 (二) 02:09 (UTC)\\n'],\n",
       "     'comments': [],\n",
       "     'cosigners': [],\n",
       "     'author': 'Winger',\n",
       "     'time_stamp': '2007年8月21日 (二) 02:09 (UTC)'},\n",
       "    {'text_blocks': ['**{{意见}}，“孔子被韓國說是韓國人，但並沒有證據。”完全是韩国人的YY，不应该出现在百科中，况且没有任何证据。生平没有写完。——[[User:蘇州宇文宙武|<span style=\"padding: 1px; border: 2px solid gold; background: black; color: gold;font: bold 120% 隶书;\"><span style=\"color:#FFBA00;\">顧</span><span style=\"color:#FFCC00;\">心</span><span style=\"color:#FDE910\">陽</span></span>]][[User_talk:蘇州宇文宙武|<span style=\"padding: 1px; border: 2px solid gold; background: black; color: gold; font-family: Wingdings; color:#FFFF00;font-size:120%\">≡¤≈</span>]][[Special:Contributions/蘇州宇文宙武|<span style=\"padding: 1px; border: 2px solid gold; background: black; color: gold; font-family:Wingdings; color:#FFFF00; font-size:120%\">☆★☆</span>]]&nbsp; 2007年8月23日 (四) 01:49 (UTC)\\n'],\n",
       "     'comments': [],\n",
       "     'cosigners': [],\n",
       "     'author': '蘇州宇文宙武',\n",
       "     'time_stamp': '2007年8月23日 (四) 01:49 (UTC)'},\n",
       "    {'text_blocks': ['**{{反對}}：有空的段落，不符合優良條目的水準—<span style=\"color: #3300CC;\">\\'\\'\\'[[User:Chaplin|<span style=\"font-family:Monotype Corsiva;font-size:large;color:#7777ff;\">Chaplin</span>]]\\'\\'\\' <sub><span style=\"color: #3300CC;\">  ♨[[User_talk:Chaplin|參謀部]]  ★[[User:Chaplin/contributions|戰績]]</span></sub> 2007年8月24日 (五) 01:33 (UTC)\\n'],\n",
       "     'comments': [],\n",
       "     'cosigners': [],\n",
       "     'author': 'Chaplin',\n",
       "     'time_stamp': '2007年8月24日 (五) 01:33 (UTC)'},\n",
       "    {'text_blocks': ['\\n',\n",
       "      \":''～移動完畢～''\\n\",\n",
       "      \":''评选结果：1票支持，1票反对，未能達到至少6票支持的当选条件。''—[[User:shinghinyeung|楊承軒]]([[User_talk:shinghinyeung|★☆~~]]) 2007年8月24日 (五) 16:50 (UTC)\\n\"],\n",
       "     'comments': [],\n",
       "     'cosigners': [],\n",
       "     'author': 'shinghinyeung',\n",
       "     'time_stamp': '2007年8月24日 (五) 16:50 (UTC)'}],\n",
       "   'cosigners': [],\n",
       "   'author': 'DoraConan',\n",
       "   'time_stamp': '2007年8月18日 (六) 01:25 (UTC)'},\n",
       "  {'text_blocks': ['\\n'], 'comments': [], 'cosigners': []}],\n",
       " 'heading': ' 第四次優良條目候選 '}"
      ]
     },
     "execution_count": 172,
     "metadata": {},
     "output_type": "execute_result"
    }
   ],
   "source": [
    "parsed_ch_ex16[\"sections\"][13]"
   ]
  },
  {
   "cell_type": "code",
   "execution_count": 173,
   "id": "1d5f71c3",
   "metadata": {
    "scrolled": true
   },
   "outputs": [
    {
     "data": {
      "text/plain": [
       "{'subsections': [],\n",
       " 'comments': [{'text_blocks': ['== 孔丘（前552.10.9～前479.3.9）or（前551.10.4～前479.3.9） ==\\n',\n",
       "    '\\n',\n",
       "    '* 鲁襄公二十一年十月庚子是公元前552年10月9日，孔丘出生。\\n',\n",
       "    '* 鲁襄公二十二年十月庚子是公元前551年10月4日，孔丘出生。\\n',\n",
       "    '* 鲁哀公十六年四月己丑是公元前479年3月9日，孔丘去世。\\n',\n",
       "    '我只关心哪一个更接近史实。\\n',\n",
       "    '-----------------------------\\n',\n",
       "    '{| class=\"wikitable\"\\n|-\\n! [[孔子誕辰日]] !! 《[[谷梁传]]》 !! 《[[公羊传]]》 !! 《[[史记]]》!! 今人据《[[史记]]》推算\\n|-\\n| 书中记载 || 鲁襄公二十一年十月庚子日 || 鲁襄公二十一年十一月庚子日 ||鲁襄公二十二年 || 无\\n|-\\n| [[儒略历]]推算 || 前552年10月9日 || 前552年10月9日 || 前551年 || 前551年10月4日\\n|-\\n| [[格里历]]推算 || 前552年10月3日 || 前552年10月3日 || 前551年 || 前551年9月28日\\n|}\\n',\n",
       "    '\\n',\n",
       "    \"'''孔子'''，生於鲁襄公二十一年[[十月]]庚子日（前552年，[[儒略历]]10月9日，[[格里历]]10月3日，夏曆[[八月廿一]]），一說生於鲁襄公二十二年（前551年），卒於鲁哀公十六年[[四月]]己丑日（前479年，[[儒略历]]3月9日，[[格里历]]3月4日，夏曆[[二月十一]]）。\\n\",\n",
       "    '\\n',\n",
       "    '依据张培瑜《三千五百年历日天象表》鲁襄公二十一年十月庚辰朔（前552年9月19日）即周灵王二十年十一月庚辰朔，鲁襄公二十一年十月庚子日（前552年10月9日）即周灵王二十年十一月庚子日，与《[[谷梁传]]》所载吻合，与《[[公羊传]]》同年同日不同月，春秋三传之《谷梁传》、《公羊传》皆记载鲁襄公二十一年孔子出生，唯《[[史记]]》作鲁襄公二十二年孔子出生。就是现代史学家也非精通天文历算，没有万年历书也不可能对准历史日期，司马迁虽史学家，没有春秋长历，也无法精确掌握春秋各国历法，准确知道确切历史日期。\\n',\n",
       "    '[[谷梁赤]]、[[公羊高]]皆为孔子再传弟子，对祖师孔子的生日要比略早于孔子的[[左丘明]]要清楚孔子的生日，他们把孔学的传承带进了《谷梁传》、《公羊传》，而对于非孔门的左丘明、司马迁其实并不关心孔子的生日，也就不作具体考证。当然司马迁等人手中的资料有限，也不可能比孔门弟子更尊孔子，何况当时的汉武帝才开始尊儒尊孔，司马迁的时代就是孔学初尊的时代，从百家争鸣到独尊儒术，其实当时的人也很盲目。\\n',\n",
       "    '\\n'],\n",
       "   'comments': [],\n",
       "   'cosigners': []}],\n",
       " 'heading': ' 孔丘（前552.10.9～前479.3.9）or（前551.10.4～前479.3.9） '}"
      ]
     },
     "execution_count": 173,
     "metadata": {},
     "output_type": "execute_result"
    }
   ],
   "source": [
    "parsed_ch_ex16[\"sections\"][17]"
   ]
  },
  {
   "cell_type": "markdown",
   "id": "c1330bbe",
   "metadata": {},
   "source": [
    "https://zh.wikipedia.org/wiki/User_talk:Mashellwe"
   ]
  },
  {
   "cell_type": "code",
   "execution_count": 174,
   "id": "65f41a02",
   "metadata": {},
   "outputs": [],
   "source": [
    "ch_ex17 = None\n",
    "for page in dump:\n",
    "    if page.namespace in {1,3}:\n",
    "        ch_ex17 = page\n",
    "        break\n",
    "        \n",
    "# grab last revision\n",
    "revision17 = None\n",
    "for revision17 in ch_ex17:\n",
    "    pass\n",
    "\n",
    "parsed_ch_ex17 = wc.parse(revision17.text)"
   ]
  },
  {
   "cell_type": "code",
   "execution_count": 175,
   "id": "8af73fc9",
   "metadata": {},
   "outputs": [
    {
     "data": {
      "text/plain": [
       "Page(id=536, title='Mashellwe', namespace=3, redirect=None, restrictions=[])"
      ]
     },
     "execution_count": 175,
     "metadata": {},
     "output_type": "execute_result"
    }
   ],
   "source": [
    "ch_ex17"
   ]
  },
  {
   "cell_type": "code",
   "execution_count": 176,
   "id": "978d9677",
   "metadata": {},
   "outputs": [
    {
     "data": {
      "text/plain": [
       "Timestamp('2005-01-28T12:07:39Z')"
      ]
     },
     "execution_count": 176,
     "metadata": {},
     "output_type": "execute_result"
    }
   ],
   "source": [
    "revision17.timestamp"
   ]
  },
  {
   "cell_type": "code",
   "execution_count": 177,
   "id": "189bd02e",
   "metadata": {},
   "outputs": [
    {
     "data": {
      "text/plain": [
       "{'sections': [{'subsections': [],\n",
       "   'comments': [{'text_blocks': ['您好，Mashellwe，[[Wikipedia:欢迎，新来者|欢迎您]]参与建设中文Wikipedia的工程。如果您在编辑时有问题请参阅[[Wikipedia:守则与指导]]、[[Wikipedia:如何编辑页面]]以及到[[Wikipedia:沙盒]]试验一下。如果您对Wikipedia有其它问题请参阅[[Wikipedia:帮助]]或到[[Wikipedia:互助客栈|Wikipedia:Village_pump]]提出。 --[[用户:Lorenzarius|Lorenzarius]] 2003年3月26日 10:46 (UTC)'],\n",
       "     'comments': [],\n",
       "     'cosigners': [],\n",
       "     'author': 'Lorenzarius',\n",
       "     'time_stamp': '2003年3月26日 10:46 (UTC)'}]}]}"
      ]
     },
     "execution_count": 177,
     "metadata": {},
     "output_type": "execute_result"
    }
   ],
   "source": [
    "parsed_ch_ex17"
   ]
  },
  {
   "cell_type": "code",
   "execution_count": 178,
   "id": "0391cfd6",
   "metadata": {},
   "outputs": [],
   "source": [
    "ch_ex18 = None\n",
    "for page in dump:\n",
    "    if page.namespace in {1,3}:\n",
    "        ch_ex18 = page\n",
    "        break\n",
    "        \n",
    "# grab last revision\n",
    "revision18 = None\n",
    "for revision18 in ch_ex18:\n",
    "    pass\n",
    "\n",
    "parsed_ch_ex18 = wc.parse(revision18.text)"
   ]
  },
  {
   "cell_type": "code",
   "execution_count": 179,
   "id": "908760da",
   "metadata": {},
   "outputs": [
    {
     "data": {
      "text/plain": [
       "Page(id=549, title='Ww9rivers~zhwiki', namespace=3, redirect=None, restrictions=[])"
      ]
     },
     "execution_count": 179,
     "metadata": {},
     "output_type": "execute_result"
    }
   ],
   "source": [
    "ch_ex18"
   ]
  },
  {
   "cell_type": "code",
   "execution_count": 180,
   "id": "76f9d880",
   "metadata": {},
   "outputs": [
    {
     "data": {
      "text/plain": [
       "{'sections': [{'subsections': [],\n",
       "   'comments': [{'text_blocks': ['欢迎您，Ww9rivers！[[Wikipedia:欢迎，新来者|欢迎]]加入Wikipedia志愿者的队伍！在正式开始参与编辑前，希望您可以先阅读[[Wikipedia:帮助]]、[[Wikipedia:版权信息]]和[[Wikipedia:如何编辑页面]]。您也可以到[[Wikipedia:沙盒]]进行实验。如果您有任何问题，欢迎您随时到[[Wikipedia:互助客栈|Wikipedia:Village_pump]]提出，也欢迎您到我的[[用户对话:Formulax|对话页]]。--[[用户:Formulax|Formulax]]\\n',\n",
       "      '\\n'],\n",
       "     'comments': [],\n",
       "     'cosigners': []}]},\n",
       "  {'subsections': [],\n",
       "   'comments': [{'text_blocks': ['== 您的賬戶將被重新命名 ==\\n',\n",
       "      '\\n',\n",
       "      '<div class=\"plainlinks mw-content-ltr\" lang=\"zh\" dir=\"ltr\">\\n\\n您好：\\n\\n維基媒體基金會的開發團隊為了給用戶提供更新、更好的工具（如跨維基通知），正在對账戶的運作方式進行一些調整。這意味著用戶將在任何地方都擁有[[Special:MyLanguage/Help:Unified login|相同的账戶名稱]]。這會讓我們給您帶來更加便利的編輯及討論體驗，並提供更靈活的用戶權限管理工具，但前提條件之一是同一账戶名稱在維基媒體的900個網站中都必須由同一人所持有（詳情請見[[m:Special:MyLanguage/Single User Login finalisation announcement|公告]]）。\\n\\n不幸的是您的账户與另一個名稱為Ww9rivers的账户衝突。為確保您及另一位用戶於將來皆可正常使用維基媒體的各個网站，我們將會把您的账户重新命名為Ww9rivers~zhwiki。如果您可以接受，則您不需要做任何事情。如果您希望將账戶改為其他名稱，您可以[[Special:GlobalRenameRequest|提出申請]]。如果您是這個用戶名在所有維基上的擁有者，因而不應收到這則通知，請您到[[Special:MergeAccount|合併帳戶]]頁面確認您的所有的帳戶皆已確實整合，以免您的帳戶被重新命名。\\n\\n屆時，您的账户仍可如以前般使用，且繼承所有的編輯記錄，但您在登錄時必需使用新的账户名稱。\\n\\n不便之處，敬請見諒。\\n\\n<br />[[m:User:Keegan (WMF)|Keegan Peterzell]]<br />維基媒體基金會社群聯絡員\\n</div> 2015年3月20日 (五) 11:31 (UTC)\\n',\n",
       "      '<!-- SUL finalisation notification -->\\n',\n",
       "      '\\n'],\n",
       "     'comments': [],\n",
       "     'cosigners': []}],\n",
       "   'heading': ' 您的賬戶將被重新命名 '},\n",
       "  {'subsections': [],\n",
       "   'comments': [{'text_blocks': ['== 已完成重命名 ==\\n',\n",
       "      '\\n',\n",
       "      '<div class=\"plainlinks mw-content-ltr\" lang=\"zh\" dir=\"ltr\">\\n作为[[m:Special:MyLanguage/Single User Login finalisation announcement|单一用户登录最终落实阶段]]的一部分，本帐号已被重命名。如果您持有该帐号，您可[[{{#special:userlogin}}|使用原用户名及密码登录]]以了解详情。如果不喜欢新用户名，您可以在登录后使用该表格自行选择用户名：[[{{#special:GlobalRenameRequest}}]]。 -- [[m:User:Keegan (WMF)|Keegan (WMF)]] ([[m:User talk:Keegan (WMF)|讨论页]])\\n</div> 2015年4月23日 (四) 02:43 (UTC)\\n',\n",
       "      '<!-- SUL post-rename notification -->'],\n",
       "     'comments': [],\n",
       "     'cosigners': []}],\n",
       "   'heading': ' 已完成重命名 '}]}"
      ]
     },
     "execution_count": 180,
     "metadata": {},
     "output_type": "execute_result"
    }
   ],
   "source": [
    "parsed_ch_ex18"
   ]
  },
  {
   "cell_type": "code",
   "execution_count": 181,
   "id": "95b74256",
   "metadata": {},
   "outputs": [],
   "source": [
    "ch_ex19 = None\n",
    "for page in dump:\n",
    "    if page.namespace in {1,3}:\n",
    "        ch_ex19 = page\n",
    "        break\n",
    "        \n",
    "# grab last revision\n",
    "revision19 = None\n",
    "for revision19 in ch_ex19:\n",
    "    pass\n",
    "\n",
    "parsed_ch_ex19 = wc.parse(revision19.text)"
   ]
  },
  {
   "cell_type": "code",
   "execution_count": 182,
   "id": "78557d38",
   "metadata": {},
   "outputs": [
    {
     "data": {
      "text/plain": [
       "Page(id=557, title='平方千米', namespace=1, redirect=None, restrictions=[])"
      ]
     },
     "execution_count": 182,
     "metadata": {},
     "output_type": "execute_result"
    }
   ],
   "source": [
    "ch_ex19"
   ]
  },
  {
   "cell_type": "code",
   "execution_count": 184,
   "id": "05886364",
   "metadata": {},
   "outputs": [
    {
     "data": {
      "text/plain": [
       "Timestamp('2024-02-11T03:07:23Z')"
      ]
     },
     "execution_count": 184,
     "metadata": {},
     "output_type": "execute_result"
    }
   ],
   "source": [
    "revision19.timestamp"
   ]
  },
  {
   "cell_type": "code",
   "execution_count": 185,
   "id": "906648d7",
   "metadata": {
    "scrolled": true
   },
   "outputs": [
    {
     "data": {
      "text/plain": [
       "{'sections': [{'subsections': [],\n",
       "   'comments': [{'text_blocks': ['{{WikiProject banner shell|vital=yes}}\\n',\n",
       "      '转换器换个中文的好吗？\\n',\n",
       "      ':谢谢提醒，已经换好了。--[[用户:Formulax|Formulax]] 2003年3月29日 01:25 (UTC)\\n'],\n",
       "     'comments': [],\n",
       "     'cosigners': [],\n",
       "     'author': 'Formulax',\n",
       "     'time_stamp': '2003年3月29日 01:25 (UTC)'},\n",
       "    {'text_blocks': ['\\n',\n",
       "      '----\\n',\n",
       "      '\\n',\n",
       "      '平方千米較正式？\\n',\n",
       "      '\\n',\n",
       "      '平方千米： [http://www.google.com/search?q=%22%E5%B9%B3%E6%96%B9%E5%8D%83%E7%B1%B3%22&ie=UTF-8&oe=UTF-8&hl=zh-CN&btnG=Google%E6%90%9C%E7%B4%A2&lr=lang_zh-CN%7Clang_zh-TW]\\n',\n",
       "      '11800 hits\\n',\n",
       "      '\\n',\n",
       "      '平方公里： \\n',\n",
       "      '[http://www.google.com/search?hl=zh-CN&ie=UTF-8&oe=UTF-8&q=%22%E5%B9%B3%E6%96%B9%E5%85%AC%E9%87%8C%22&btnG=Google%E6%90%9C%E7%B4%A2&lr=lang_zh-CN%7Clang_zh-TW]\\n',\n",
       "      \"'''208,000 hits'''（請留意第一項結果！）\\n\",\n",
       "      '\\n',\n",
       "      '請把這頁移回[[平方公里]]。\\n',\n",
       "      '\\n',\n",
       "      '（還有[http://www.google.com/search?hl=zh-CN&ie=UTF-8&oe=UTF-8&q=%22%E5%8D%83%E7%B1%B3%22&btnG=Google%E6%90%9C%E7%B4%A2&lr=lang_zh-CN%7Clang_zh-TW 千米] vs\\n',\n",
       "      '[http://www.google.com/search?hl=zh-CN&ie=UTF-8&oe=UTF-8&q=%22%E5%85%AC%E9%87%8C%22&btnG=Google%E6%90%9C%E7%B4%A2&lr=lang_zh-CN%7Clang_zh-TW 公里]）\\n',\n",
       "      '\\n',\n",
       "      '--[[用户:Lorenzarius|Lorenzarius]] 2003年6月22日 16:36 (UTC)\\n'],\n",
       "     'comments': [],\n",
       "     'cosigners': [],\n",
       "     'author': 'Lorenzarius',\n",
       "     'time_stamp': '2003年6月22日 16:36 (UTC)'},\n",
       "    {'text_blocks': ['\\n',\n",
       "      '正式:也許,但是我的台灣辭典冇\"千米\". --[[用户:Menchi|Menchi]] 2003年6月23日 03:05 (UTC)\\n'],\n",
       "     'comments': [],\n",
       "     'cosigners': [],\n",
       "     'author': 'Menchi',\n",
       "     'time_stamp': '2003年6月23日 03:05 (UTC)'},\n",
       "    {'text_blocks': ['\\n',\n",
       "      '我移动平方千米的原因是：\\n',\n",
       "      '#km<sup>2</sup>的中文翻译是“平方千米”；\\n',\n",
       "      '#“平方公里”应该是与“公里”一样，来源于汉语的词汇；\\n',\n",
       "      '#科学上通常用“平方千米”，而不是“平方公里”；“千米”和“公里”也是这样。如速度的表示。\\n',\n",
       "      '#大陆的现代汉语词典中有“平方千米”和“平方公里”，但是“平方公里”是注解在括号里的；（上面两点如果只是大陆这样，我就不多说了）\\n',\n",
       "      '以上是我的观点，但是如果大家不同意的话，我已经把它移动回去了。\\n',\n",
       "      '[[用户:Samuel|Samuel]] 2003年6月23日 04:52 (UTC)\\n'],\n",
       "     'comments': [{'text_blocks': ['\\n',\n",
       "        ':“千米”固然是kilo-metre的翻译，但“公里”这个词用得更广泛，也较方便（三千千米 vs 三千公里）。 --[[用户:Lorenzarius|Lorenzarius]] 2003年6月23日 08:11 (UTC)\\n'],\n",
       "       'comments': [],\n",
       "       'cosigners': [],\n",
       "       'author': 'Lorenzarius',\n",
       "       'time_stamp': '2003年6月23日 08:11 (UTC)'},\n",
       "      {'text_blocks': ['\\n',\n",
       "        ':确实是这样，同样的情况也适用于[[千克]]（133,000 hits）和公斤（825,000 hits）。但是在物理和化学等自然科学上，千克比较常用，而公斤就比较少用（虽然口头上常用“公斤”或“斤”）。我私底下认为在自然百科全书类的条目上，千克等比公斤等更正式，可能是我修的是理科的缘故吧！（我不认为三千千米有什么不妥或不顺口的，我们也常说一吨等于一千千克的）不过中文上它们不会有什么区别，我想只是口语和书面语的区别罢了，hehe。[[用户:Samuel|Samuel]] 2003年6月23日 08:35 (UTC)'],\n",
       "       'comments': [],\n",
       "       'cosigners': [],\n",
       "       'author': 'Samuel',\n",
       "       'time_stamp': '2003年6月23日 08:35 (UTC)'}],\n",
       "     'cosigners': [],\n",
       "     'author': 'Samuel',\n",
       "     'time_stamp': '2003年6月23日 04:52 (UTC)'}]}]}"
      ]
     },
     "execution_count": 185,
     "metadata": {},
     "output_type": "execute_result"
    }
   ],
   "source": [
    "parsed_ch_ex19"
   ]
  },
  {
   "cell_type": "code",
   "execution_count": 186,
   "id": "9b258aef",
   "metadata": {},
   "outputs": [],
   "source": [
    "ch_ex20 = None\n",
    "for page in dump:\n",
    "    if page.namespace in {1,3}:\n",
    "        ch_ex20 = page\n",
    "        break\n",
    "        \n",
    "# grab last revision\n",
    "revision20 = None\n",
    "for revision20 in ch_ex20:\n",
    "    pass\n",
    "\n",
    "parsed_ch_ex20 = wc.parse(revision20.text)"
   ]
  },
  {
   "cell_type": "code",
   "execution_count": 187,
   "id": "086feab8",
   "metadata": {},
   "outputs": [
    {
     "data": {
      "text/plain": [
       "Page(id=606, title='清朝/存檔1', namespace=1, redirect=None, restrictions=[])"
      ]
     },
     "execution_count": 187,
     "metadata": {},
     "output_type": "execute_result"
    }
   ],
   "source": [
    "ch_ex20"
   ]
  },
  {
   "cell_type": "code",
   "execution_count": 188,
   "id": "fa100de7",
   "metadata": {},
   "outputs": [
    {
     "data": {
      "text/plain": [
       "Timestamp('2017-07-27T00:15:53Z')"
      ]
     },
     "execution_count": 188,
     "metadata": {},
     "output_type": "execute_result"
    }
   ],
   "source": [
    "revision20.timestamp"
   ]
  },
  {
   "cell_type": "code",
   "execution_count": 189,
   "id": "022ae3ab",
   "metadata": {},
   "outputs": [
    {
     "data": {
      "text/plain": [
       "{'subsections': [],\n",
       " 'comments': [{'text_blocks': ['{{talkarchive}}\\n',\n",
       "    '{{Policy-pol}}\\n',\n",
       "    '{{Calm talk}}\\n',\n",
       "    '----\\n',\n",
       "    '\\n',\n",
       "    '\\n'],\n",
       "   'comments': [],\n",
       "   'cosigners': []}]}"
      ]
     },
     "execution_count": 189,
     "metadata": {},
     "output_type": "execute_result"
    }
   ],
   "source": [
    "parsed_ch_ex20[\"sections\"][0]"
   ]
  },
  {
   "cell_type": "code",
   "execution_count": 190,
   "id": "ca5b7c01",
   "metadata": {},
   "outputs": [
    {
     "data": {
      "text/plain": [
       "{'subsections': [],\n",
       " 'comments': [{'text_blocks': ['==版權==\\n',\n",
       "    '\\n',\n",
       "    '柏楊的《中國人史綱》\"應該\"是有版權的. 請不要原封不動的照搬上來. [[%E7%94%A8%E6%88%B7:Ktsquare|Ktsquare]]\\n',\n",
       "    '\\n',\n",
       "    'Copyright violation: http://www.greatchinese.com/emperors/qingchao.htm --[[用户:Lorenzarius|Lorenzarius]] 2003年3月30日 06:25 (UTC)\\n'],\n",
       "   'comments': [],\n",
       "   'cosigners': [],\n",
       "   'author': 'Lorenzarius',\n",
       "   'time_stamp': '2003年3月30日 06:25 (UTC)'},\n",
       "  {'text_blocks': ['\\n',\n",
       "    '這邊講的既然是清朝歷史，那麼對應的下一篇文章就應該是中華民國歷史沒錯啊?\\n',\n",
       "    '\\n',\n",
       "    ':是的。-)\\n',\n",
       "    '\\n',\n",
       "    '\\n'],\n",
       "   'comments': [],\n",
       "   'cosigners': []}],\n",
       " 'heading': '版權'}"
      ]
     },
     "execution_count": 190,
     "metadata": {},
     "output_type": "execute_result"
    }
   ],
   "source": [
    "parsed_ch_ex20[\"sections\"][1]"
   ]
  },
  {
   "cell_type": "code",
   "execution_count": 191,
   "id": "a4da0020",
   "metadata": {},
   "outputs": [
    {
     "data": {
      "text/plain": [
       "{'subsections': [],\n",
       " 'comments': [{'text_blocks': ['==拜託不要自己下結論==\\n',\n",
       "    '\\n',\n",
       "    '我們是在編輯百科全書，陳述事實即可，說什麼滿清政權下中國像各民族的監獄，這種東西參入了非常明顯的個人偏見，希望編輯者不要這樣。\\n',\n",
       "    '\\n',\n",
       "    ' --> 關於這具有偏見性的描述，我已刪除，不過沒多久就會被回復。\\n',\n",
       "    '\\n'],\n",
       "   'comments': [],\n",
       "   'cosigners': []}],\n",
       " 'heading': '拜託不要自己下結論'}"
      ]
     },
     "execution_count": 191,
     "metadata": {},
     "output_type": "execute_result"
    }
   ],
   "source": [
    "parsed_ch_ex20[\"sections\"][2]"
   ]
  },
  {
   "cell_type": "code",
   "execution_count": 192,
   "id": "00519eba",
   "metadata": {
    "scrolled": true
   },
   "outputs": [
    {
     "data": {
      "text/plain": [
       "{'subsections': [],\n",
       " 'comments': [{'text_blocks': ['==溥仪谥号==\\n',\n",
       "    '原有条目中写明了是清皇室家族後代協商追谥，与满洲国到底是不是傀儡或伪政权不同，这一点是客观事实，所以我觉得完全没必要删除。比较妥善的做法，我认为是将原来的“但中國公眾尚未普遍知道此事。”改为“但此事尚未被中國公眾普遍知晓和接受。”--[[User:Captmjc|这个人很懒，什么也没留下]][[User_talk:Captmjc|:D]] 07:18 2005年7月10日 (UTC)\\n'],\n",
       "   'comments': [{'text_blocks': ['\\n',\n",
       "      ':私谥是没有效力的，最多只能在家族内部用，我认为作为公共知识的百科全书没有必要收录私谥。而且[[溥仪]]条目里所加的私谥来历不明，如果大家认同百科全书中收录私谥，而且能够证实这个私谥的真实性，我觉得可以这样写：“溥仪的后人上私谥为xxx”。现在这样不能确定真实性的内容我就把它去掉了。--[[User:Alexcn|Alexcn]] 07:32 2005年7月10日 (UTC)\\n'],\n",
       "     'comments': [{'text_blocks': ['\\n',\n",
       "        '::按照历史惯例，叫清后主吧。-[[User:数字崇拜|数字崇拜]] 16:44 2005年8月31日 (UTC)\\n'],\n",
       "       'comments': [{'text_blocks': [':::好像从未听到过“清后主”这种叫法的。--[[User:Wengier|Wengier]] 16:52 2005年8月31日 (UTC)\\n'],\n",
       "         'comments': [{'text_blocks': ['::::最后一个君主没谥号不都叫“后主”吗，我们不应该搞特殊化。-[[User:数字崇拜|数字崇拜]] 17:14 2005年8月31日 (UTC)\\n'],\n",
       "           'comments': [{'text_blocks': [':::::倒不是特殊化的问题，而现在在网上确无法找到任何“清后主”的称法，大家也没有这样叫的，维基不应去生造。--[[User:Wengier|Wengier]] 17:27 2005年8月31日 (UTC)\\n'],\n",
       "             'comments': [{'text_blocks': ['::::::这怎么叫生造，这叫传统。-[[User:数字崇拜|数字崇拜]] 13:10 2005年9月2日 (UTC)\\n'],\n",
       "               'comments': [{'text_blocks': [':::::::“后主”实际基本上只用在某些特定的朝代（尤其是割据王朝）的习惯称谓，如三国中的蜀汉、南北朝中的陈等，而对于其它朝代，尤其是大一统王朝，并没有实际这样用的，也不习惯这样用，如果硬搬上维基来的话别人也会听得别扭。--[[User:Wengier|Wengier]] 17:25 2005年9月2日 (UTC)\\n'],\n",
       "                 'comments': [{'text_blocks': ['::::::::跟大一统割据才没关系，只跟有没有谥号有关系。-[[User:数字崇拜|数字崇拜]] 14:57 2005年9月6日 (UTC)\\n'],\n",
       "                   'comments': [{'text_blocks': [':::::::::才不是呢，跟有没有谥号没有直接关系。至少目前并不存在“清后主”这样的叫法，这才是事实。--[[User:Wengier|Wengier]]（[[User Talk:Wengier|留言]]） 15:09 2005年9月6日 (UTC)\\n'],\n",
       "                     'comments': [],\n",
       "                     'cosigners': [],\n",
       "                     'author': 'Wengier',\n",
       "                     'time_stamp': '15:09 2005年9月6日 (UTC)'}],\n",
       "                   'cosigners': [],\n",
       "                   'author': '数字崇拜',\n",
       "                   'time_stamp': '14:57 2005年9月6日 (UTC)'}],\n",
       "                 'cosigners': [],\n",
       "                 'author': 'Wengier',\n",
       "                 'time_stamp': '17:25 2005年9月2日 (UTC)'}],\n",
       "               'cosigners': [],\n",
       "               'author': '数字崇拜',\n",
       "               'time_stamp': '13:10 2005年9月2日 (UTC)'}],\n",
       "             'cosigners': [],\n",
       "             'author': 'Wengier',\n",
       "             'time_stamp': '17:27 2005年8月31日 (UTC)'}],\n",
       "           'cosigners': [],\n",
       "           'author': '数字崇拜',\n",
       "           'time_stamp': '17:14 2005年8月31日 (UTC)'}],\n",
       "         'cosigners': [],\n",
       "         'author': 'Wengier',\n",
       "         'time_stamp': '16:52 2005年8月31日 (UTC)'}],\n",
       "       'cosigners': [],\n",
       "       'author': '数字崇拜',\n",
       "       'time_stamp': '16:44 2005年8月31日 (UTC)'}],\n",
       "     'cosigners': [],\n",
       "     'author': 'Alexcn',\n",
       "     'time_stamp': '07:32 2005年7月10日 (UTC)'}],\n",
       "   'cosigners': [],\n",
       "   'author': 'Captmjc',\n",
       "   'time_stamp': '07:18 2005年7月10日 (UTC)'},\n",
       "  {'text_blocks': ['：蜀汉后主被谥过孝怀皇帝，可后人还是叫他后主，\\n',\n",
       "    '::::::::::既然不是官方给的，就不要特别注明，但可以在文章中提到。—[[User:祥雪|祥雪]] 2007年7月11日 (三) 06:17 (UTC)\\n'],\n",
       "   'comments': [],\n",
       "   'cosigners': [],\n",
       "   'author': '祥雪',\n",
       "   'time_stamp': '2007年7月11日 (三) 06:17 (UTC)'},\n",
       "  {'text_blocks': ['\\n'], 'comments': [], 'cosigners': []}],\n",
       " 'heading': '溥仪谥号'}"
      ]
     },
     "execution_count": 192,
     "metadata": {},
     "output_type": "execute_result"
    }
   ],
   "source": [
    "parsed_ch_ex20[\"sections\"][3]"
   ]
  },
  {
   "cell_type": "code",
   "execution_count": 193,
   "id": "162d5aa0",
   "metadata": {
    "scrolled": true
   },
   "outputs": [
    {
     "data": {
      "text/plain": [
       "{'subsections': [],\n",
       " 'comments': [{'text_blocks': ['==开国君主问题==\\n',\n",
       "    '究竟是努尔哈赤还是皇太极？？？？\\n',\n",
       "    '希望不要搞成编辑战[[User:Derekhe|Derekhe]] 13:57 2005年7月14日 (UTC)\\n'],\n",
       "   'comments': [{'text_blocks': [':主要看“开国”的定义。其实把事实说清楚了，谁开国有关系么？--[[User_talk:zy26|zy26 was here.]] 15:25 2005年7月14日 (UTC)\\n'],\n",
       "     'comments': [{'text_blocks': ['::无论如何，努尔哈赤时还叫后金，不叫清。而且，努尔哈赤本人也不是皇帝，而是大汗。皇太极在1636年从北元那儿得到传国璽后才正式即位为皇帝，国号大清。--[[User:Wengier|Wengier]] 17:19 2005年7月14日 (UTC)\\n'],\n",
       "       'comments': [],\n",
       "       'cosigners': [],\n",
       "       'author': 'Wengier',\n",
       "       'time_stamp': '17:19 2005年7月14日 (UTC)'},\n",
       "      {'text_blocks': ['::回复zy26：我觉得上方写的是开国君主，不是皇帝，国是努尔哈赤建的，从皇太极开始称帝，可以继续讨论一下，如果有必要，还可以申请保护[[User:Derekhe|Derekhe]] 11:03 2005年7月15日 (UTC)\\n'],\n",
       "       'comments': [{'text_blocks': [':::原来这栏中一直写的是皇太极（已经很久了），只有你这几天不断改成努尔哈赤，如果真要保护的话也应对原状（即“皇太极”）进行保护。无论怎样，说皇太极是清朝的开国君主或开国皇帝都是并没有错误的，因为努尔哈赤是大金（后金汗国）的开国君主（大汗），而皇太极是大清（大清帝国）的开国君主（皇帝），努尔哈赤在世时其国家从不叫“清”，直到皇太极在位时国号才为“清”。要知道，国号在古代中国是相当重要的，不同的国号往往不认为是同一个国家，即使有一定的继承关系。就像我们一般认为元朝的开国君主是忽必烈而不是成吉思汗一样（已在“元朝”条目中说明），因为“元”是忽必烈于其在位时的1271年所建的，而不是更早，所以忽必烈自然是元朝的开国君主了，虽然元朝的前身是大蒙古国。如果你认为清朝的开国君主是努尔哈赤，在某种意义上虽然也说得过去，但并不是最正确的说法。而且正如zy26所说，“其实把事实说清楚了，谁开国有关系么？”--[[User:Wengier|Wengier]] 14:15 2005年7月15日 (UTC)\\n'],\n",
       "         'comments': [{'text_blocks': ['::::补充一下，条目一开头就已说明“清朝（1636年—1912年，1644年~1911年統治中國）”，而后金大汗努尔哈赤则是1559-1626年在世，他在世时清朝并不存在也未建立，所以如果说努尔哈赤是清朝的君主显然在时间上就是矛盾的，虽然他在世时的努力为后来的皇太极建立清朝打下了一定的基础。根据遵守客观事实的原则，谁是清朝的名义和实际创建者，则谁就是清朝真正的开国君主，因此皇太极为清朝的开国君主和开国皇帝从客观事实上来说其实基本上已无疑问。--[[User:Wengier|Wengier]] 00:57 2005年7月20日 (UTC)\\n'],\n",
       "           'comments': [],\n",
       "           'cosigners': [],\n",
       "           'author': 'Wengier',\n",
       "           'time_stamp': '00:57 2005年7月20日 (UTC)'}],\n",
       "         'cosigners': [],\n",
       "         'author': 'Wengier',\n",
       "         'time_stamp': '14:15 2005年7月15日 (UTC)'}],\n",
       "       'cosigners': [],\n",
       "       'author': 'Derekhe',\n",
       "       'time_stamp': '11:03 2005年7月15日 (UTC)'}],\n",
       "     'cosigners': [],\n",
       "     'author': 'zy26',\n",
       "     'time_stamp': '15:25 2005年7月14日 (UTC)'}],\n",
       "   'cosigners': [],\n",
       "   'author': 'Derekhe',\n",
       "   'time_stamp': '13:57 2005年7月14日 (UTC)'},\n",
       "  {'text_blocks': ['\\n'], 'comments': [], 'cosigners': []}],\n",
       " 'heading': '开国君主问题'}"
      ]
     },
     "execution_count": 193,
     "metadata": {},
     "output_type": "execute_result"
    }
   ],
   "source": [
    "parsed_ch_ex20[\"sections\"][4]"
   ]
  },
  {
   "cell_type": "code",
   "execution_count": 194,
   "id": "c7371b42",
   "metadata": {
    "scrolled": true
   },
   "outputs": [
    {
     "data": {
      "text/plain": [
       "{'subsections': [],\n",
       " 'comments': [{'text_blocks': ['==開始時間==\\n',\n",
       "    '我将清的开始时间改为了1616，因为这是中国权威史书公认的，也不应改把宣布国号作为清的起点。--[[User:Potatohai|Potatohai]] 08:11 2005年8月23日 (UTC)\\n'],\n",
       "   'comments': [{'text_blocks': ['\\n',\n",
       "      ':不行，要更注意的是史實，就好比[[元朝]]，應以其實際宣布國號那年（即1271年）為元朝的起點，而不能以1206年（大蒙古國建立）、1260年（忽必烈即位）、1279年（元朝控制全中國）來作為元朝的開始時間。這些是維基的一向政策。--[[User:Wengier|Wengier]] 21:51 2005年8月23日 (UTC)\\n'],\n",
       "     'comments': [{'text_blocks': ['::谢谢提醒。 --[[User:Potatohai|Potatohai]] 12:23 2005年8月24日 (UTC)\\n'],\n",
       "       'comments': [],\n",
       "       'cosigners': [],\n",
       "       'author': 'Potatohai',\n",
       "       'time_stamp': '12:23 2005年8月24日 (UTC)'},\n",
       "      {'text_blocks': ['::这样有问题，比如辽，中间曾经又改为契丹，后来又叫辽。-[[User:数字崇拜|数字崇拜]] 16:54 2005年8月31日 (UTC)\\n'],\n",
       "       'comments': [{'text_blocks': [':::原辽朝的写法是有些乱，现在我已重新整理了一番。辽朝前身为契丹国，而于947年定国号为大辽，其间曾去国号，后来于1066年重称辽朝，直到灭亡。--[[User:Wengier|Wengier]] 17:15 2005年8月31日 (UTC)\\n'],\n",
       "         'comments': [{'text_blocks': ['::::可如果用使用正式国号算建国，那改变国号就该算亡国了，那辽应该算亡了次国再重建。-[[User:数字崇拜|数字崇拜]] 13:18 2005年9月2日 (UTC)\\n'],\n",
       "           'comments': [{'text_blocks': [':::::这倒不一定，一般从政权首次开始使用国号开始算起，至此政权的国号最终结束/转变为止，中间即使有一定的间断（如唐朝中的武周），也会算是政权仍然存在着而不算亡国（当然，中间的间断定会在条目中说明）。要不然，反而会有更大的争议，而且也不NPOV。如果不以首次开始使用国号开始算起，那辽朝从哪年开始算起呢？907年？916年？还是？似乎都不像是，而且这些年份中当时在位的契丹君主们恐怕还不知道“大辽”是什么呢。元朝和清朝也一样（尤其是元朝的情况更为复杂），如果没有一种合理且中立的标准的话，反而会成为争议更大的问题，也不符合维基的政策。--[[User:Wengier|Wengier]] 17:34 2005年9月2日 (UTC)\\n'],\n",
       "             'comments': [{'text_blocks': ['::::::那只说明那个朝代交替用“辽”和“契丹”，如果非要用“辽”来称呼才是不NPOV。-[[User:数字崇拜|数字崇拜]] 14:45 2005年9月6日 (UTC)\\n'],\n",
       "               'comments': [{'text_blocks': [':::::::这带有一点维基命名规范的问题了，辽是正式汉名，所以条目名应以汉名为主，而具体的实际情况可在条目中说明。--[[User:Wengier|Wengier]]（[[User Talk:Wengier|留言]]） 14:51 2005年9月6日 (UTC)\\n'],\n",
       "                 'comments': [],\n",
       "                 'cosigners': [],\n",
       "                 'author': 'Wengier',\n",
       "                 'time_stamp': '14:51 2005年9月6日 (UTC)'}],\n",
       "               'cosigners': [],\n",
       "               'author': '数字崇拜',\n",
       "               'time_stamp': '14:45 2005年9月6日 (UTC)'}],\n",
       "             'cosigners': [],\n",
       "             'author': 'Wengier',\n",
       "             'time_stamp': '17:34 2005年9月2日 (UTC)'}],\n",
       "           'cosigners': [],\n",
       "           'author': '数字崇拜',\n",
       "           'time_stamp': '13:18 2005年9月2日 (UTC)'}],\n",
       "         'cosigners': [],\n",
       "         'author': 'Wengier',\n",
       "         'time_stamp': '17:15 2005年8月31日 (UTC)'}],\n",
       "       'cosigners': [],\n",
       "       'author': '数字崇拜',\n",
       "       'time_stamp': '16:54 2005年8月31日 (UTC)'}],\n",
       "     'cosigners': [],\n",
       "     'author': 'Wengier',\n",
       "     'time_stamp': '21:51 2005年8月23日 (UTC)'}],\n",
       "   'cosigners': [],\n",
       "   'author': 'Potatohai',\n",
       "   'time_stamp': '08:11 2005年8月23日 (UTC)'},\n",
       "  {'text_blocks': ['\\n',\n",
       "    ':是不是還應該回復到1616開始，因為連現代漢語大辭典附表的朝代列表中，清都是1616 而元都是1206\\n',\n",
       "    '根據最近百家講壇的說法，1616 1636 1644三種方法都應該是對的，閻崇年先生算是國內頂級的清史專家之一了\\n',\n",
       "    '作為一個百科全書，我覺得還是應該都寫上，然讀者來判斷 不能盲目說1616 或者元的1206就是錯的\\n',\n",
       "    '因為一般中國一個朝代的開始，都是從太祖開始的--[[User:Red16|16]] 15:54 2007年3月13日 (UTC)\\n'],\n",
       "   'comments': [],\n",
       "   'cosigners': [],\n",
       "   'author': 'Red16',\n",
       "   'time_stamp': '15:54 2007年3月13日 (UTC)'},\n",
       "  {'text_blocks': ['\\n'], 'comments': [], 'cosigners': []}],\n",
       " 'heading': '開始時間'}"
      ]
     },
     "execution_count": 194,
     "metadata": {},
     "output_type": "execute_result"
    }
   ],
   "source": [
    "parsed_ch_ex20[\"sections\"][5]"
   ]
  },
  {
   "cell_type": "markdown",
   "id": "6d5b58c4",
   "metadata": {},
   "source": [
    "# Debugging Subsection Ordering\n",
    "Digging into the misordered subsections issue:"
   ]
  },
  {
   "cell_type": "code",
   "execution_count": 5,
   "id": "99e02de5",
   "metadata": {},
   "outputs": [],
   "source": [
    "test = \"\"\"== 中立性 ==\n",
    "為什麼沒有對孔子的批評？難怪連優良都評不上！哈哈！--[[User:Whhalbert|Whhalbert]] 06:48 2006年9月27日 (UTC)\n",
    ":把虛偽的孔丘孟軻當作偶像崇拜，怪不得中國人這么虛偽。孔丘的主要目的是為了維護帝王專制，居然有人可笑地說他有民主思想。孔丘把人都教傻了，中國的科學技術是一代不如一代。孔丘威力最大的明清是中國歷史上最黑暗無光的時候，思想最閉塞，壓迫最嚴重，人權最受侵犯，一點也不和諧。反而是被儒家罵為“髒唐臭漢”的漢唐時期人民比在明清更有權利更自由。儒家與民主自由等普世價值背道而馳，導致中國人長期受專制之苦，可笑的是，中國人還以此為樂，樂不思蜀。孔丘所說過的個別正確觀點只不過是被歷史上無數個民族都懂得的道德而已，根本談不上什么思想可言。[[User:Dreamer in Utopia|Dreamer in Utopia]] ([[User talk:Dreamer in Utopia|留言]]) 2010年1月6日 (三) 07:45 (UTC)\n",
    "\n",
    ":谁篡改了[[孔老二]]一词的重定向?这就是最大的不中立.孔老二蔑称有一定道理,粉丝行为偶像买单.\n",
    ":民主自由人权不是普世价值,接受自然现实而基于[[物种主义]]为他人谋福利才是.等级制度是动物本能,智慧生物要克服它,连人权人赋都不懂那政治学得太差劲;[[文明衝突論|掌握有组织暴力]],向组织贡献而在组织恶化时推翻重建是公民权的根基.自由就是尽最大努力自给自足,在此基础上提供给他人利益又为所欲为.[[苏格拉底]]的毒药分谁一半呢?DO NOT ACT WHITE!--[[U:ZXX4444|ZXX4444]] [[UT:ZXX4444|議]] [[特殊:贡献/ZXX4444|作]] 2024年7月25日 (四) 07:40 (UTC)\n",
    "\n",
    "→維護帝王專制的始作俑者是前漢公孫弘，借前人衣冠。孟軻對於梁惠王来言，是個激烈的持不同政見者。\n",
    "→儒家與民主自由等普世價值出發点皆是浩然守正之風紀，惟生搬硬套者是責。\n",
    "→根本談不上什么思想可言。倒也是。如果是這様倒好了。\n",
    "→孔丘威力最大的其實是与刑法相結合的漢唐，先生感覚有些皮相。\n",
    "→不是樂不思蜀，事後諸葛亮爾。一生秋風糊\n",
    "→為什麼沒有對孔子的批評？批評自在字裏行間。批判的継承。\n",
    "→中國漢人主導的科學技術發明，到明末清初才變成六斤老太。\n",
    "<small>—以上[[Wikipedia:在對話頁上簽名|未簽名]]的留言由[[User:Yume149|Yume149]]（[[User talk:Yume149|對話]]｜[[Special:Contributions/Yume149|貢獻]]）於2017年5月26日 (五) 16:23 (UTC)加入。</small>\n",
    "\n",
    "文章用詞有違史實和中立，混雜評論，問題如下：\n",
    "* 「(春秋戰國) 是中國人的文化自覺最初發生的年代」。當時華夏的天下觀，與現時的民族國家[[中國]]觀念相去甚遠。建議改成「春秋戰國時，天下的觀念在華夏成形」。\n",
    "* 「古典成為時尚」不符史實，春秋戰國是百家爭鳴的年代。儒家思想到漢朝才是時尚。\n",
    "* 「孔子正是這時代精神的代表人物與集大成者」同上一樣不符史實，儒家有如同期其他思想，是一偏之言，並非集幾家之大成。\n",
    "* 「遂開戰國諸子百家之先河」一句，到底開了甚麼先河？若是開創文史哲思辯的先河，那不符史實。若是指開創儒家，那這點才之前章節已提及，不需再提。\n",
    "* 「孔子絕不單出講仁」的「絕」字預設有人指控，作者要回擊。此乃有違中立。\n",
    "* 「使原來的六畫卦華麗轉身」語意不明，而且欠中立。\n",
    "[[User:Lowerlowerhk|陳孰明]]（[[User talk:Lowerlowerhk|留言]]） 2015年9月17日 (四) 03:46 (UTC)\n",
    "\n",
    "* 「(春秋戰國) 是中國人的文化自覺最初發生的年代」。當時華夏的天下觀，與現時的民族國家[[中國]]觀念相去甚遠。建議改成「春秋戰國時，天下的觀念在華夏成形」。→春秋戰國僅称中国，後世儒家方有正統華夏觀念。\n",
    "* 「古典成為時尚」不符史實，春秋戰國是百家爭鳴的年代。儒家思想到漢朝才是時尚。→一時代有一時代的時尚。\n",
    "* 「孔子正是這時代精神的代表人物與集大成者」同上一樣不符史實，儒家有如同期其他思想，是一偏之言，並非集幾家之大成。→集大成者也。歴代魯君賛同之。\n",
    "* 「遂開戰國諸子百家之先河」一句，到底開了甚麼先河？若是開創文史哲思辯的先河，那不符史實。若是指開創儒家，那這點才之前章節已提及，不需再提。→春秋戰國之際，手定「春秋」「論語」「六経」符史實。\n",
    "* 「孔子絕不單出講仁」的「絕」字預設有人指控，作者要回擊。此乃有違中立。→「妊娠中絶」有違中立？\n",
    "* 「使原來的六畫卦華麗轉身」語意不明，而且欠中立。→建議改成「使原來的六畫卦換骨奪胎」\n",
    "\n",
    "敬具。吾雅欲除去「中立性」模板。\n",
    "[[User:Yume149|Yume149]]（[[User talk:Yume149|留言]]） 2017年5月26日 (五) 15:43 (UTC)\n",
    "\n",
    "===孔子的時代背景===\n",
    "一個文化要自稱完善，仍應該不斷的做深層的反省，個人認為孔子的時代背景應再加強，以深入了解這個文化重要匯聚的一家之言如何形成，像是心理學的追溯都必須了解病患的兒童時期，才能完全推論其成因。\n",
    "\n",
    "例如：孔子的時代是個宗法政文史哲不分的時代，所以會有周禮禮教的部份內容在描述祭祀制度，有近代學者研究先後提出\"'''[[中國傳統宗法性宗教]]'''\"的學術用語來捕捉這個遠古中原體系與制度，這從側面解釋了[[儒教]]的形成正是在完善的服務這個專政體系，讓數千年的文人士大夫體系不疑有它的「子不語怪力亂神」，重新被檢視其立論的背景是否與「天子祭天」的祭祀體系，密切相關。如果成立，就是某種程度的說明中國古政權藉此論點蒙蔽知識份子，使其追求天人合一的方向與手段趨向哲學性而偏離宗教性，使得宗教性部份成為禁忌與天子的特權，雖有內在矛盾而不易察覺，到宋明理學仍陷在這些矛盾之中難以對天人關係形成多元的知識系統。\n",
    "\n",
    "與中國相較，西方雖長期有天主教把持與安撫，但祭天仍為普遍大眾的基本權利，這個基本權利配合印刷術的逐漸普及，導致一系列宗教改革，知識份子始終普遍關心甚至參與這些改革並居於主導地位，原來因服務神學(天人合一)的多元的知識系統逐漸從中解放出來使宗教脫去外在的許多攀附形式，回歸信仰本質就是信仰，其他反作用力則(由釋經學等)產生哲學、科學、人權學等至今東方人仍無法完全領會的思想。\n",
    "\n",
    "這種探討目的不應在追究或是批評優劣，而應是完整的幫助華人更客觀、中立的理解自己的認知體系是架構在怎樣的時空基礎之上，才能夠有智慧的判斷我們的文化根源應該將何去何從。--[[User:喜爾|喜爾]]（[[User talk:喜爾|留言]]） 2013年5月28日 (二) 18:10 (UTC)\n",
    "\"\"\""
   ]
  },
  {
   "cell_type": "code",
   "execution_count": 6,
   "id": "87e77c9b",
   "metadata": {
    "scrolled": true
   },
   "outputs": [
    {
     "name": "stdout",
     "output_type": "stream",
     "text": [
      "Calling extract_comments()\n",
      "Before running comment extractor: p.sections = [<2:  中立性 >]\n",
      "Before running comment extractor: p.sections[0].comments = []\n",
      "Before running comment extractor: p.sections[0]._subsections [<3: 孔子的時代背景>]\n",
      "Before running comment extractor: p.sections[0]._subsections[0].comments []\n",
      "After running comment extractor: p.sections = [<2:  中立性 >]\n",
      "After running comment extractor: p.sections[0].comments = [== 中立性 ==\n",
      "\n",
      "為什麼沒有對孔子的批評？難怪連優良都評不上！哈哈！--[[User:Whhalbert|Whhalbert]] 06:48 2006年9月27日 (UTC)\n",
      ", \n",
      "\n",
      ":谁篡改了[[孔老二]]一词的重定向?这就是最大的不中立.孔老二蔑称有一定道理,粉丝行为偶像买单.\n",
      "\n",
      ":民主自由人权不是普世价值,接受自然现实而基于[[物种主义]]为他人谋福利才是.等级制度是动物本能,智慧生物要克服它,连人权人赋都不懂那政治学得太差劲;[[文明衝突論|掌握有组织暴力]],向组织贡献而在组织恶化时推翻重建是公民权的根基.自由就是尽最大努力自给自足,在此基础上提供给他人利益又为所欲为.[[苏格拉底]]的毒药分谁一半呢?DO NOT ACT WHITE!--[[U:ZXX4444|ZXX4444]] [[UT:ZXX4444|議]] [[特殊:贡献/ZXX4444|作]] 2024年7月25日 (四) 07:40 (UTC)\n",
      "\n",
      "\n",
      "\n",
      "→維護帝王專制的始作俑者是前漢公孫弘，借前人衣冠。孟軻對於梁惠王来言，是個激烈的持不同政見者。\n",
      "\n",
      "→儒家與民主自由等普世價值出發点皆是浩然守正之風紀，惟生搬硬套者是責。\n",
      "\n",
      "→根本談不上什么思想可言。倒也是。如果是這様倒好了。\n",
      "\n",
      "→孔丘威力最大的其實是与刑法相結合的漢唐，先生感覚有些皮相。\n",
      "\n",
      "→不是樂不思蜀，事後諸葛亮爾。一生秋風糊\n",
      "\n",
      "→為什麼沒有對孔子的批評？批評自在字裏行間。批判的継承。\n",
      "\n",
      "→中國漢人主導的科學技術發明，到明末清初才變成六斤老太。\n",
      "\n",
      "<small>—以上[[Wikipedia:在對話頁上簽名|未簽名]]的留言由[[User:Yume149|Yume149]]（[[User talk:Yume149|對話]]｜[[Special:Contributions/Yume149|貢獻]]）於2017年5月26日 (五) 16:23 (UTC)加入。</small>\n",
      ", \n",
      "\n",
      "文章用詞有違史實和中立，混雜評論，問題如下：\n",
      "\n",
      "* 「(春秋戰國) 是中國人的文化自覺最初發生的年代」。當時華夏的天下觀，與現時的民族國家[[中國]]觀念相去甚遠。建議改成「春秋戰國時，天下的觀念在華夏成形」。\n",
      "\n",
      "* 「古典成為時尚」不符史實，春秋戰國是百家爭鳴的年代。儒家思想到漢朝才是時尚。\n",
      "\n",
      "* 「孔子正是這時代精神的代表人物與集大成者」同上一樣不符史實，儒家有如同期其他思想，是一偏之言，並非集幾家之大成。\n",
      "\n",
      "* 「遂開戰國諸子百家之先河」一句，到底開了甚麼先河？若是開創文史哲思辯的先河，那不符史實。若是指開創儒家，那這點才之前章節已提及，不需再提。\n",
      "\n",
      "* 「孔子絕不單出講仁」的「絕」字預設有人指控，作者要回擊。此乃有違中立。\n",
      "\n",
      "* 「使原來的六畫卦華麗轉身」語意不明，而且欠中立。\n",
      "\n",
      "[[User:Lowerlowerhk|陳孰明]]（[[User talk:Lowerlowerhk|留言]]） 2015年9月17日 (四) 03:46 (UTC)\n",
      ", \n",
      "\n",
      "* 「(春秋戰國) 是中國人的文化自覺最初發生的年代」。當時華夏的天下觀，與現時的民族國家[[中國]]觀念相去甚遠。建議改成「春秋戰國時，天下的觀念在華夏成形」。→春秋戰國僅称中国，後世儒家方有正統華夏觀念。\n",
      "\n",
      "* 「古典成為時尚」不符史實，春秋戰國是百家爭鳴的年代。儒家思想到漢朝才是時尚。→一時代有一時代的時尚。\n",
      "\n",
      "* 「孔子正是這時代精神的代表人物與集大成者」同上一樣不符史實，儒家有如同期其他思想，是一偏之言，並非集幾家之大成。→集大成者也。歴代魯君賛同之。\n",
      "\n",
      "* 「遂開戰國諸子百家之先河」一句，到底開了甚麼先河？若是開創文史哲思辯的先河，那不符史實。若是指開創儒家，那這點才之前章節已提及，不需再提。→春秋戰國之際，手定「春秋」「論語」「六経」符史實。\n",
      "\n",
      "* 「孔子絕不單出講仁」的「絕」字預設有人指控，作者要回擊。此乃有違中立。→「妊娠中絶」有違中立？\n",
      "\n",
      "* 「使原來的六畫卦華麗轉身」語意不明，而且欠中立。→建議改成「使原來的六畫卦換骨奪胎」\n",
      "\n",
      "\n",
      "\n",
      "敬具。吾雅欲除去「中立性」模板。\n",
      "\n",
      "[[User:Yume149|Yume149]]（[[User talk:Yume149|留言]]） 2017年5月26日 (五) 15:43 (UTC)\n",
      ", \n",
      "]\n",
      "After running comment extractor: p.sections[0]._subsections [<3: 孔子的時代背景>]\n",
      "After running comment extractor: p.sections[0]._subsections[0].comments [===孔子的時代背景===\n",
      "\n",
      "一個文化要自稱完善，仍應該不斷的做深層的反省，個人認為孔子的時代背景應再加強，以深入了解這個文化重要匯聚的一家之言如何形成，像是心理學的追溯都必須了解病患的兒童時期，才能完全推論其成因。\n",
      "\n",
      "\n",
      "\n",
      "例如：孔子的時代是個宗法政文史哲不分的時代，所以會有周禮禮教的部份內容在描述祭祀制度，有近代學者研究先後提出\"'''[[中國傳統宗法性宗教]]'''\"的學術用語來捕捉這個遠古中原體系與制度，這從側面解釋了[[儒教]]的形成正是在完善的服務這個專政體系，讓數千年的文人士大夫體系不疑有它的「子不語怪力亂神」，重新被檢視其立論的背景是否與「天子祭天」的祭祀體系，密切相關。如果成立，就是某種程度的說明中國古政權藉此論點蒙蔽知識份子，使其追求天人合一的方向與手段趨向哲學性而偏離宗教性，使得宗教性部份成為禁忌與天子的特權，雖有內在矛盾而不易察覺，到宋明理學仍陷在這些矛盾之中難以對天人關係形成多元的知識系統。\n",
      "\n",
      "\n",
      "\n",
      "與中國相較，西方雖長期有天主教把持與安撫，但祭天仍為普遍大眾的基本權利，這個基本權利配合印刷術的逐漸普及，導致一系列宗教改革，知識份子始終普遍關心甚至參與這些改革並居於主導地位，原來因服務神學(天人合一)的多元的知識系統逐漸從中解放出來使宗教脫去外在的許多攀附形式，回歸信仰本質就是信仰，其他反作用力則(由釋經學等)產生哲學、科學、人權學等至今東方人仍無法完全領會的思想。\n",
      "\n",
      "\n",
      "\n",
      "這種探討目的不應在追究或是批評優劣，而應是完整的幫助華人更客觀、中立的理解自己的認知體系是架構在怎樣的時空基礎之上，才能夠有智慧的判斷我們的文化根源應該將何去何從。--[[User:喜爾|喜爾]]（[[User talk:喜爾|留言]]） 2013年5月28日 (二) 18:10 (UTC)\n",
      "]\n"
     ]
    }
   ],
   "source": [
    "parsed_ch_ex20 = wc.parse(test)"
   ]
  },
  {
   "cell_type": "code",
   "execution_count": 8,
   "id": "81427dc4",
   "metadata": {
    "scrolled": true
   },
   "outputs": [
    {
     "data": {
      "text/plain": [
       "[{'subsections': [{'subsections': [],\n",
       "    'comments': [{'text_blocks': ['===孔子的時代背景===\\n',\n",
       "       '一個文化要自稱完善，仍應該不斷的做深層的反省，個人認為孔子的時代背景應再加強，以深入了解這個文化重要匯聚的一家之言如何形成，像是心理學的追溯都必須了解病患的兒童時期，才能完全推論其成因。\\n',\n",
       "       '\\n',\n",
       "       '例如：孔子的時代是個宗法政文史哲不分的時代，所以會有周禮禮教的部份內容在描述祭祀制度，有近代學者研究先後提出\"\\'\\'\\'[[中國傳統宗法性宗教]]\\'\\'\\'\"的學術用語來捕捉這個遠古中原體系與制度，這從側面解釋了[[儒教]]的形成正是在完善的服務這個專政體系，讓數千年的文人士大夫體系不疑有它的「子不語怪力亂神」，重新被檢視其立論的背景是否與「天子祭天」的祭祀體系，密切相關。如果成立，就是某種程度的說明中國古政權藉此論點蒙蔽知識份子，使其追求天人合一的方向與手段趨向哲學性而偏離宗教性，使得宗教性部份成為禁忌與天子的特權，雖有內在矛盾而不易察覺，到宋明理學仍陷在這些矛盾之中難以對天人關係形成多元的知識系統。\\n',\n",
       "       '\\n',\n",
       "       '與中國相較，西方雖長期有天主教把持與安撫，但祭天仍為普遍大眾的基本權利，這個基本權利配合印刷術的逐漸普及，導致一系列宗教改革，知識份子始終普遍關心甚至參與這些改革並居於主導地位，原來因服務神學(天人合一)的多元的知識系統逐漸從中解放出來使宗教脫去外在的許多攀附形式，回歸信仰本質就是信仰，其他反作用力則(由釋經學等)產生哲學、科學、人權學等至今東方人仍無法完全領會的思想。\\n',\n",
       "       '\\n',\n",
       "       '這種探討目的不應在追究或是批評優劣，而應是完整的幫助華人更客觀、中立的理解自己的認知體系是架構在怎樣的時空基礎之上，才能夠有智慧的判斷我們的文化根源應該將何去何從。--[[User:喜爾|喜爾]]（[[User talk:喜爾|留言]]） 2013年5月28日 (二) 18:10 (UTC)\\n'],\n",
       "      'comments': [],\n",
       "      'cosigners': [],\n",
       "      'author': '喜爾',\n",
       "      'time_stamp': '2013年5月28日 (二) 18:10 (UTC)'}],\n",
       "    'heading': '孔子的時代背景'}],\n",
       "  'comments': [{'text_blocks': ['== 中立性 ==\\n',\n",
       "     '為什麼沒有對孔子的批評？難怪連優良都評不上！哈哈！--[[User:Whhalbert|Whhalbert]] 06:48 2006年9月27日 (UTC)\\n'],\n",
       "    'comments': [{'text_blocks': [':把虛偽的孔丘孟軻當作偶像崇拜，怪不得中國人這么虛偽。孔丘的主要目的是為了維護帝王專制，居然有人可笑地說他有民主思想。孔丘把人都教傻了，中國的科學技術是一代不如一代。孔丘威力最大的明清是中國歷史上最黑暗無光的時候，思想最閉塞，壓迫最嚴重，人權最受侵犯，一點也不和諧。反而是被儒家罵為“髒唐臭漢”的漢唐時期人民比在明清更有權利更自由。儒家與民主自由等普世價值背道而馳，導致中國人長期受專制之苦，可笑的是，中國人還以此為樂，樂不思蜀。孔丘所說過的個別正確觀點只不過是被歷史上無數個民族都懂得的道德而已，根本談不上什么思想可言。[[User:Dreamer in Utopia|Dreamer in Utopia]] ([[User talk:Dreamer in Utopia|留言]]) 2010年1月6日 (三) 07:45 (UTC)\\n'],\n",
       "      'comments': [],\n",
       "      'cosigners': [],\n",
       "      'author': 'Dreamer in Utopia',\n",
       "      'time_stamp': '2010年1月6日 (三) 07:45 (UTC)'}],\n",
       "    'cosigners': [],\n",
       "    'author': 'Whhalbert',\n",
       "    'time_stamp': '06:48 2006年9月27日 (UTC)'},\n",
       "   {'text_blocks': ['\\n',\n",
       "     ':谁篡改了[[孔老二]]一词的重定向?这就是最大的不中立.孔老二蔑称有一定道理,粉丝行为偶像买单.\\n',\n",
       "     ':民主自由人权不是普世价值,接受自然现实而基于[[物种主义]]为他人谋福利才是.等级制度是动物本能,智慧生物要克服它,连人权人赋都不懂那政治学得太差劲;[[文明衝突論|掌握有组织暴力]],向组织贡献而在组织恶化时推翻重建是公民权的根基.自由就是尽最大努力自给自足,在此基础上提供给他人利益又为所欲为.[[苏格拉底]]的毒药分谁一半呢?DO NOT ACT WHITE!--[[U:ZXX4444|ZXX4444]] [[UT:ZXX4444|議]] [[特殊:贡献/ZXX4444|作]] 2024年7月25日 (四) 07:40 (UTC)\\n',\n",
       "     '\\n',\n",
       "     '→維護帝王專制的始作俑者是前漢公孫弘，借前人衣冠。孟軻對於梁惠王来言，是個激烈的持不同政見者。\\n',\n",
       "     '→儒家與民主自由等普世價值出發点皆是浩然守正之風紀，惟生搬硬套者是責。\\n',\n",
       "     '→根本談不上什么思想可言。倒也是。如果是這様倒好了。\\n',\n",
       "     '→孔丘威力最大的其實是与刑法相結合的漢唐，先生感覚有些皮相。\\n',\n",
       "     '→不是樂不思蜀，事後諸葛亮爾。一生秋風糊\\n',\n",
       "     '→為什麼沒有對孔子的批評？批評自在字裏行間。批判的継承。\\n',\n",
       "     '→中國漢人主導的科學技術發明，到明末清初才變成六斤老太。\\n',\n",
       "     '<small>—以上[[Wikipedia:在對話頁上簽名|未簽名]]的留言由[[User:Yume149|Yume149]]（[[User talk:Yume149|對話]]｜[[Special:Contributions/Yume149|貢獻]]）於2017年5月26日 (五) 16:23 (UTC)加入。</small>\\n'],\n",
       "    'comments': [],\n",
       "    'cosigners': [],\n",
       "    'author': 'Yume149',\n",
       "    'time_stamp': '2017年5月26日 (五) 16:23 (UTC)'},\n",
       "   {'text_blocks': ['\\n',\n",
       "     '文章用詞有違史實和中立，混雜評論，問題如下：\\n',\n",
       "     '* 「(春秋戰國) 是中國人的文化自覺最初發生的年代」。當時華夏的天下觀，與現時的民族國家[[中國]]觀念相去甚遠。建議改成「春秋戰國時，天下的觀念在華夏成形」。\\n',\n",
       "     '* 「古典成為時尚」不符史實，春秋戰國是百家爭鳴的年代。儒家思想到漢朝才是時尚。\\n',\n",
       "     '* 「孔子正是這時代精神的代表人物與集大成者」同上一樣不符史實，儒家有如同期其他思想，是一偏之言，並非集幾家之大成。\\n',\n",
       "     '* 「遂開戰國諸子百家之先河」一句，到底開了甚麼先河？若是開創文史哲思辯的先河，那不符史實。若是指開創儒家，那這點才之前章節已提及，不需再提。\\n',\n",
       "     '* 「孔子絕不單出講仁」的「絕」字預設有人指控，作者要回擊。此乃有違中立。\\n',\n",
       "     '* 「使原來的六畫卦華麗轉身」語意不明，而且欠中立。\\n',\n",
       "     '[[User:Lowerlowerhk|陳孰明]]（[[User talk:Lowerlowerhk|留言]]） 2015年9月17日 (四) 03:46 (UTC)\\n'],\n",
       "    'comments': [],\n",
       "    'cosigners': [],\n",
       "    'author': 'Lowerlowerhk',\n",
       "    'time_stamp': '2015年9月17日 (四) 03:46 (UTC)'},\n",
       "   {'text_blocks': ['\\n',\n",
       "     '* 「(春秋戰國) 是中國人的文化自覺最初發生的年代」。當時華夏的天下觀，與現時的民族國家[[中國]]觀念相去甚遠。建議改成「春秋戰國時，天下的觀念在華夏成形」。→春秋戰國僅称中国，後世儒家方有正統華夏觀念。\\n',\n",
       "     '* 「古典成為時尚」不符史實，春秋戰國是百家爭鳴的年代。儒家思想到漢朝才是時尚。→一時代有一時代的時尚。\\n',\n",
       "     '* 「孔子正是這時代精神的代表人物與集大成者」同上一樣不符史實，儒家有如同期其他思想，是一偏之言，並非集幾家之大成。→集大成者也。歴代魯君賛同之。\\n',\n",
       "     '* 「遂開戰國諸子百家之先河」一句，到底開了甚麼先河？若是開創文史哲思辯的先河，那不符史實。若是指開創儒家，那這點才之前章節已提及，不需再提。→春秋戰國之際，手定「春秋」「論語」「六経」符史實。\\n',\n",
       "     '* 「孔子絕不單出講仁」的「絕」字預設有人指控，作者要回擊。此乃有違中立。→「妊娠中絶」有違中立？\\n',\n",
       "     '* 「使原來的六畫卦華麗轉身」語意不明，而且欠中立。→建議改成「使原來的六畫卦換骨奪胎」\\n',\n",
       "     '\\n',\n",
       "     '敬具。吾雅欲除去「中立性」模板。\\n',\n",
       "     '[[User:Yume149|Yume149]]（[[User talk:Yume149|留言]]） 2017年5月26日 (五) 15:43 (UTC)\\n'],\n",
       "    'comments': [],\n",
       "    'cosigners': [],\n",
       "    'author': 'Yume149',\n",
       "    'time_stamp': '2017年5月26日 (五) 15:43 (UTC)'},\n",
       "   {'text_blocks': ['\\n'], 'comments': [], 'cosigners': []}],\n",
       "  'heading': ' 中立性 '}]"
      ]
     },
     "execution_count": 8,
     "metadata": {},
     "output_type": "execute_result"
    }
   ],
   "source": [
    "parsed_ch_ex20[\"sections\"]"
   ]
  },
  {
   "cell_type": "code",
   "execution_count": 14,
   "id": "a336878d",
   "metadata": {},
   "outputs": [
    {
     "data": {
      "text/plain": [
       "1"
      ]
     },
     "execution_count": 14,
     "metadata": {},
     "output_type": "execute_result"
    }
   ],
   "source": [
    "len(parsed_ch_ex20[\"sections\"])"
   ]
  },
  {
   "cell_type": "code",
   "execution_count": 17,
   "id": "c9ddeb2d",
   "metadata": {},
   "outputs": [
    {
     "name": "stdout",
     "output_type": "stream",
     "text": [
      "subsections : [{'subsections': [], 'comments': [{'text_blocks': ['===孔子的時代背景===\\n', '一個文化要自稱完善，仍應該不斷的做深層的反省，個人認為孔子的時代背景應再加強，以深入了解這個文化重要匯聚的一家之言如何形成，像是心理學的追溯都必須了解病患的兒童時期，才能完全推論其成因。\\n', '\\n', '例如：孔子的時代是個宗法政文史哲不分的時代，所以會有周禮禮教的部份內容在描述祭祀制度，有近代學者研究先後提出\"\\'\\'\\'[[中國傳統宗法性宗教]]\\'\\'\\'\"的學術用語來捕捉這個遠古中原體系與制度，這從側面解釋了[[儒教]]的形成正是在完善的服務這個專政體系，讓數千年的文人士大夫體系不疑有它的「子不語怪力亂神」，重新被檢視其立論的背景是否與「天子祭天」的祭祀體系，密切相關。如果成立，就是某種程度的說明中國古政權藉此論點蒙蔽知識份子，使其追求天人合一的方向與手段趨向哲學性而偏離宗教性，使得宗教性部份成為禁忌與天子的特權，雖有內在矛盾而不易察覺，到宋明理學仍陷在這些矛盾之中難以對天人關係形成多元的知識系統。\\n', '\\n', '與中國相較，西方雖長期有天主教把持與安撫，但祭天仍為普遍大眾的基本權利，這個基本權利配合印刷術的逐漸普及，導致一系列宗教改革，知識份子始終普遍關心甚至參與這些改革並居於主導地位，原來因服務神學(天人合一)的多元的知識系統逐漸從中解放出來使宗教脫去外在的許多攀附形式，回歸信仰本質就是信仰，其他反作用力則(由釋經學等)產生哲學、科學、人權學等至今東方人仍無法完全領會的思想。\\n', '\\n', '這種探討目的不應在追究或是批評優劣，而應是完整的幫助華人更客觀、中立的理解自己的認知體系是架構在怎樣的時空基礎之上，才能夠有智慧的判斷我們的文化根源應該將何去何從。--[[User:喜爾|喜爾]]（[[User talk:喜爾|留言]]） 2013年5月28日 (二) 18:10 (UTC)\\n'], 'comments': [], 'cosigners': [], 'author': '喜爾', 'time_stamp': '2013年5月28日 (二) 18:10 (UTC)'}], 'heading': '孔子的時代背景'}]\n",
      "\n",
      "comments : [{'text_blocks': ['== 中立性 ==\\n', '為什麼沒有對孔子的批評？難怪連優良都評不上！哈哈！--[[User:Whhalbert|Whhalbert]] 06:48 2006年9月27日 (UTC)\\n'], 'comments': [{'text_blocks': [':把虛偽的孔丘孟軻當作偶像崇拜，怪不得中國人這么虛偽。孔丘的主要目的是為了維護帝王專制，居然有人可笑地說他有民主思想。孔丘把人都教傻了，中國的科學技術是一代不如一代。孔丘威力最大的明清是中國歷史上最黑暗無光的時候，思想最閉塞，壓迫最嚴重，人權最受侵犯，一點也不和諧。反而是被儒家罵為“髒唐臭漢”的漢唐時期人民比在明清更有權利更自由。儒家與民主自由等普世價值背道而馳，導致中國人長期受專制之苦，可笑的是，中國人還以此為樂，樂不思蜀。孔丘所說過的個別正確觀點只不過是被歷史上無數個民族都懂得的道德而已，根本談不上什么思想可言。[[User:Dreamer in Utopia|Dreamer in Utopia]] ([[User talk:Dreamer in Utopia|留言]]) 2010年1月6日 (三) 07:45 (UTC)\\n'], 'comments': [], 'cosigners': [], 'author': 'Dreamer in Utopia', 'time_stamp': '2010年1月6日 (三) 07:45 (UTC)'}], 'cosigners': [], 'author': 'Whhalbert', 'time_stamp': '06:48 2006年9月27日 (UTC)'}, {'text_blocks': ['\\n', ':谁篡改了[[孔老二]]一词的重定向?这就是最大的不中立.孔老二蔑称有一定道理,粉丝行为偶像买单.\\n', ':民主自由人权不是普世价值,接受自然现实而基于[[物种主义]]为他人谋福利才是.等级制度是动物本能,智慧生物要克服它,连人权人赋都不懂那政治学得太差劲;[[文明衝突論|掌握有组织暴力]],向组织贡献而在组织恶化时推翻重建是公民权的根基.自由就是尽最大努力自给自足,在此基础上提供给他人利益又为所欲为.[[苏格拉底]]的毒药分谁一半呢?DO NOT ACT WHITE!--[[U:ZXX4444|ZXX4444]] [[UT:ZXX4444|議]] [[特殊:贡献/ZXX4444|作]] 2024年7月25日 (四) 07:40 (UTC)\\n', '\\n', '→維護帝王專制的始作俑者是前漢公孫弘，借前人衣冠。孟軻對於梁惠王来言，是個激烈的持不同政見者。\\n', '→儒家與民主自由等普世價值出發点皆是浩然守正之風紀，惟生搬硬套者是責。\\n', '→根本談不上什么思想可言。倒也是。如果是這様倒好了。\\n', '→孔丘威力最大的其實是与刑法相結合的漢唐，先生感覚有些皮相。\\n', '→不是樂不思蜀，事後諸葛亮爾。一生秋風糊\\n', '→為什麼沒有對孔子的批評？批評自在字裏行間。批判的継承。\\n', '→中國漢人主導的科學技術發明，到明末清初才變成六斤老太。\\n', '<small>—以上[[Wikipedia:在對話頁上簽名|未簽名]]的留言由[[User:Yume149|Yume149]]（[[User talk:Yume149|對話]]｜[[Special:Contributions/Yume149|貢獻]]）於2017年5月26日 (五) 16:23 (UTC)加入。</small>\\n'], 'comments': [], 'cosigners': [], 'author': 'Yume149', 'time_stamp': '2017年5月26日 (五) 16:23 (UTC)'}, {'text_blocks': ['\\n', '文章用詞有違史實和中立，混雜評論，問題如下：\\n', '* 「(春秋戰國) 是中國人的文化自覺最初發生的年代」。當時華夏的天下觀，與現時的民族國家[[中國]]觀念相去甚遠。建議改成「春秋戰國時，天下的觀念在華夏成形」。\\n', '* 「古典成為時尚」不符史實，春秋戰國是百家爭鳴的年代。儒家思想到漢朝才是時尚。\\n', '* 「孔子正是這時代精神的代表人物與集大成者」同上一樣不符史實，儒家有如同期其他思想，是一偏之言，並非集幾家之大成。\\n', '* 「遂開戰國諸子百家之先河」一句，到底開了甚麼先河？若是開創文史哲思辯的先河，那不符史實。若是指開創儒家，那這點才之前章節已提及，不需再提。\\n', '* 「孔子絕不單出講仁」的「絕」字預設有人指控，作者要回擊。此乃有違中立。\\n', '* 「使原來的六畫卦華麗轉身」語意不明，而且欠中立。\\n', '[[User:Lowerlowerhk|陳孰明]]（[[User talk:Lowerlowerhk|留言]]） 2015年9月17日 (四) 03:46 (UTC)\\n'], 'comments': [], 'cosigners': [], 'author': 'Lowerlowerhk', 'time_stamp': '2015年9月17日 (四) 03:46 (UTC)'}, {'text_blocks': ['\\n', '* 「(春秋戰國) 是中國人的文化自覺最初發生的年代」。當時華夏的天下觀，與現時的民族國家[[中國]]觀念相去甚遠。建議改成「春秋戰國時，天下的觀念在華夏成形」。→春秋戰國僅称中国，後世儒家方有正統華夏觀念。\\n', '* 「古典成為時尚」不符史實，春秋戰國是百家爭鳴的年代。儒家思想到漢朝才是時尚。→一時代有一時代的時尚。\\n', '* 「孔子正是這時代精神的代表人物與集大成者」同上一樣不符史實，儒家有如同期其他思想，是一偏之言，並非集幾家之大成。→集大成者也。歴代魯君賛同之。\\n', '* 「遂開戰國諸子百家之先河」一句，到底開了甚麼先河？若是開創文史哲思辯的先河，那不符史實。若是指開創儒家，那這點才之前章節已提及，不需再提。→春秋戰國之際，手定「春秋」「論語」「六経」符史實。\\n', '* 「孔子絕不單出講仁」的「絕」字預設有人指控，作者要回擊。此乃有違中立。→「妊娠中絶」有違中立？\\n', '* 「使原來的六畫卦華麗轉身」語意不明，而且欠中立。→建議改成「使原來的六畫卦換骨奪胎」\\n', '\\n', '敬具。吾雅欲除去「中立性」模板。\\n', '[[User:Yume149|Yume149]]（[[User talk:Yume149|留言]]） 2017年5月26日 (五) 15:43 (UTC)\\n'], 'comments': [], 'cosigners': [], 'author': 'Yume149', 'time_stamp': '2017年5月26日 (五) 15:43 (UTC)'}, {'text_blocks': ['\\n'], 'comments': [], 'cosigners': []}]\n",
      "\n",
      "heading :  中立性 \n",
      "\n"
     ]
    }
   ],
   "source": [
    "for k in parsed_ch_ex20[\"sections\"][0]:\n",
    "    print(k, \":\", parsed_ch_ex20[\"sections\"][0][k])\n",
    "    print()"
   ]
  },
  {
   "cell_type": "code",
   "execution_count": 5,
   "id": "d4bcdda6",
   "metadata": {},
   "outputs": [],
   "source": [
    "ex2 = \"\"\"{{Automatic archive navigator}}\n",
    "\n",
    "==Bad name==\n",
    "{{ping|Greyshark09}}, Hi, Israel is a country and Sunnism is a branch of Islam. As if we say cooperation of a company with an artifact. Sunnism is not an entity which can participate in a coalition with a country! I suggest to move it to \"Israel-[[Gulf Cooperation Council|GCC]] Coalition.--<samp>[[User:Sa.vakilian|Seyyed]]([[User talk:Sa.vakilian|t]]-[[Special:Contributions/Sa.vakilian|c]])</samp> 12:14, 16 March 2019 (UTC)\n",
    ":I think that could be a good solution, even though most media sources use \"Israeli-Sunni\" or \"Arab-Israeli\". If you can find a source using this term - this would be great.[[User:Greyshark09|'''''GreyShark''''']] ([[User talk:Greyshark09|''dibra'']]) 13:37, 19 March 2019 (UTC)\n",
    "::Yes, there are some sources. For example according to CFR there is Israel-Sunni Arab states Alliance [https://www.cfr.org/interview/sick-alliance-against-iran] and another term is \"Israeli-Arab axis against Iran\"[https://www.ispionline.it/it/pubblicazione/new-israeli-arab-axis-against-iran-20502].--<samp>[[User:Sa.vakilian|Seyyed]]([[User talk:Sa.vakilian|t]]-[[Special:Contributions/Sa.vakilian|c]])</samp> 17:09, 26 March 2019 (UTC)\n",
    "\n",
    "== Alliance/Membership ==\n",
    "\n",
    "Wouldn't Cabal/Associates as terminology or something similar be more appropriate as this is an unofficial \"open secret\" grouping among states?[[User:Doyna Yar|Doyna Yar]] ([[User talk:Doyna Yar|talk]]) 23:26, 15 November 2020 (UTC)\n",
    "\n",
    ":In general, I think the article is overegging the pudding (coordination group? Is there one? Do they meet up on Zoom?). Certainly there is a current confluence of interests but it is in the nature of these things that they are fragile in changing circumstances.[[User:Selfstudier|Selfstudier]] ([[User talk:Selfstudier|talk]]) 10:54, 16 November 2020 (UTC)\n",
    "\n",
    "::I have restored the improperly removed, citations needed tag. Citations are still needed in this article, in particular for the \"membership\" of this fictional alliance. The source just added does not mention the alliance, it is about the Abraham Accords (which Sudan and Morocco have not signed). It seems that some editors think the only qualification needed to join this group is a dislike of Iran. Adding two new members as was just done is pure synth. There is no foundational source for the membership. The other points raised in the Afd continue to exist, when was the group founded, what were/is its goals, when do they meet, have they made any joint announcements concerning plans/actions taken? No answer. Even the title of this article makes no sense, it says \"Israeli Arab\" or \"Israeli Sunni\" which is already a contradiction. This group does not actually exist, I could just as well write the Russia-Chinese alliance versus the US by way of comparison.\n",
    ":Yesterday [https://www.israelhayom.com/2021/01/27/uae-bahrain-call-for-joint-stand-with-israel-in-approaching-us-on-iran-threat/ UAE, Bahrain call for joint stand with Israel in approaching US on Iran threat] If the UAE and Bahrain are already members in an \"alliance\" with Israel, why do they need to call on Israel to join them?\n",
    "[[User:Selfstudier|Selfstudier]] ([[User talk:Selfstudier|talk]]) 13:39, 27 January 2021 (UTC)\n",
    "\n",
    "== Merge this somewhere ==\n",
    "\n",
    "Please. This synthesized fiction should not exist in Wikipedia mainspace.[[User:Selfstudier|Selfstudier]] ([[User talk:Selfstudier|talk]]) 16:14, 31 January 2021 (UTC)\n",
    ": I agree, it is full of opinions and original research [[User:Shadow4dark|Shadow4dark]] ([[User talk:Shadow4dark|talk]]) 22:38, 31 January 2021 (UTC)\n",
    "::An editor is edit warring the tags despite being warned about this, the source added to support the members list is completely insufficient, it mentions only Saudi, UAE, Israel and Iran. Since this \"alliance\" does not actually exist, I expect that it will be quite difficult to discover a single source mentioning that alliance and listing the members but we can wait a bit longer to see if it can be done, if not then a merge should be proposed.[[User:Selfstudier|Selfstudier]] ([[User talk:Selfstudier|talk]]) 13:16, 3 February 2021 (UTC)\n",
    ":::More evidence of alliance non existence https://www.middleeastmonitor.com/20210204-netanyahu-seeks-anti-iran-alliance-parallel-to-biden-administration/ According to this article, Israel already has an anti Iran alliance with Bahrain and the UAE so why is Netanyahu seeking one? [[User:Selfstudier|Selfstudier]] ([[User talk:Selfstudier|talk]]) 13:43, 4 February 2021 (UTC)\n",
    "::::Run Parallel means to run alongside or in this case continue under Biden as it was done under Trump. Once again, the alliance is proven to exist. Learn to read something that isn't anti-semitic and or has an anti-Israeli bias. And the MEM is a pro-Hamas outlet for nonsense. --[[User:WikiCleanerMan|WikiCleanerMan]] ([[User talk:WikiCleanerMan|talk]]) 16:12, 4 February 2021 (UTC)\n",
    "\n",
    "== Requested move 9 February 2021 ==\n",
    "\n",
    "<div class=\"boilerplate\" style=\"background-color: #efe; margin: 0; padding: 0 10px 0 10px; border: 1px dotted #aaa;\"><!-- Template:RM top -->\n",
    ":''The following is a closed discussion of a [[Wikipedia:Requested moves|requested move]]. <span style=\"color:red\">'''Please do not modify it.'''</span> Subsequent comments should be made in a new section on the talk page. Editors desiring to contest the closing decision should consider a [[Wikipedia:move review|move review]] after discussing it on the closer's talk page. No further edits should be made to this discussion. ''\n",
    "\n",
    "The result of the move request was: '''PAGE NOT MOVED OR RENAMED'''   [[User:Steamboat2020|Steamboat2020]] ([[User talk:Steamboat2020|talk]]) 17:53, 14 February 2021 (UTC)\n",
    "----\n",
    "\t\n",
    "\n",
    "[[:Arab states–Israeli alliance against Iran]] → {{no redirect|Arab states–Israeli anti-Iran grouping}} – The article, subject of recent deletion and merge proposals, currently fails WP:V for the reasons stated in the preceding section. In the absence of any source detailing the fact of an alliance and listing its members but given the desire to retain possibly useful content, it is proposed to remedy the policy deficiency via a rename that does not require such specific sourcing. (Note: Since the grouping is informal and membership of the group appears to fluctuate or is otherwise not specifically known, an infobox is not appropriate. Pinging participants in the prior discussions {{re|Huldra|Steamboat2020|Sliekid|ImTheIP|Shrike|Vici Vidi|Mr.User200|WikiCleanerMan|Chefallen}} [[User:Selfstudier|Selfstudier]] ([[User talk:Selfstudier|talk]]) 18:39, 9 February 2021 (UTC)\n",
    "\n",
    "[[User:Selfstudier|Selfstudier]] You need to stop. This article does not fail meeting verifiability or notability. You have been told countless times through the deletion discussion and your merger proposal for this article. What is changing the article's name going to do? --[[User:WikiCleanerMan|WikiCleanerMan]] ([[User talk:WikiCleanerMan|talk]]) 19:47, 9 February 2021 (UTC)\n",
    ":As stated, the previous section explains exactly why the article presently fails WP:V and quotes verbatim the policy requirement. I am not making a mere assertion. This is the root of the problem with this article, you are attempting to formalize via an infobox something that is exactly the opposite of formal, a loose grouping at best.(btw, can you explain to me how the purpose (in the infobox) of this grouping is two different proxy conflicts? I cannot even begin to translate that into an English sentence).[[User:Selfstudier|Selfstudier]] ([[User talk:Selfstudier|talk]]) 20:14, 9 February 2021 (UTC)\n",
    ":: The most accurate name could be '''Israeli-Arab alliance on Iran'''. Since not all arab states are openly allied against Iran.[[User:Mr.User200|Mr.User200]] ([[User talk:Mr.User200|talk]]) 20:27, 9 February 2021 (UTC)\n",
    ":::[[User:Selfstudier|Selfstudier]] Probably because you haven't read the two articles on Israel's and Saudi Arabia's proxy conflict with Iran. Both are allied against Iran. Iran is the mutual adversary of both Israel and Saudi Arabia. Quite clearly established for anyone who follows current affairs. --[[User:WikiCleanerMan|WikiCleanerMan]] ([[User talk:WikiCleanerMan|talk]]) 20:35, 9 February 2021 (UTC)\n",
    "::: {{Re|Mr.User200}} That's a bit better I guess, I would like to know which is right, \"Arab states\" or \"Sunni Arab states\"?[[User:Selfstudier|Selfstudier]] ([[User talk:Selfstudier|talk]]) 12:58, 10 February 2021 (UTC)\n",
    "::::That doesn't answer my question. Let me try again, compose a sentence in English explaining what the \"purpose\" of the \"alliance\" is.[[User:Selfstudier|Selfstudier]] ([[User talk:Selfstudier|talk]]) 22:13, 9 February 2021 (UTC)\n",
    ":::::The purpose is to counter Iran. --[[User:WikiCleanerMan|WikiCleanerMan]] ([[User talk:WikiCleanerMan|talk]]) 22:53, 9 February 2021 (UTC)\n",
    "\n",
    "'''NO MOVE'''- @[[User:Selfstudier|Selfstudier]]: I agree with @[[User:WikiCleanerMan|WikiCleanerMan]] that this proposal has no more merit than the previous \"delete\" and \"merge\" proposals which were both rejected--[[User:Steamboat2020|Steamboat2020]] ([[User talk:Steamboat2020|talk]]) 23:53, 9 February 2021 (UTC)\n",
    "\n",
    "'''Comment''' OK, I have amended the purpose per above, \"To counter Iran\". Next problem, the article says \"The roots of the alliance are believed to have started in the 2000s\" and then goes on to say \"The coalition emerged by November 2017\" so these two statements seem to contradict one another. Any clarification there?[[User:Selfstudier|Selfstudier]] ([[User talk:Selfstudier|talk]]) 12:47, 10 February 2021 (UTC)\n",
    ":Roots mean the starting ground. The coalition emerged means that's when it took a more formal shape. --[[User:WikiCleanerMan|WikiCleanerMan]] ([[User talk:WikiCleanerMan|talk]]) 14:56, 10 February 2021 (UTC)\n",
    "::More formal how? The given BBC source is a discussion about a developing Israel-Saudi relationship? It doesn't mention the alliance at all. And 2017 is only the date that the source article was written, nothing more. [[User:Selfstudier|Selfstudier]] ([[User talk:Selfstudier|talk]]) 15:06, 10 February 2021 (UTC)\n",
    ":::It's not just Saudi Arabia, other countries listed in the infobox are part of it. The alliance is cited everywhere in the article. --[[User:WikiCleanerMan|WikiCleanerMan]] ([[User talk:WikiCleanerMan|talk]]) 17:20, 10 February 2021 (UTC)\n",
    "::::Eh, no it isn't. I just checked. In case I missed it somehow, give me a quote, please.[[User:Selfstudier|Selfstudier]] ([[User talk:Selfstudier|talk]]) 17:43, 10 February 2021 (UTC)\n",
    "::::Once again, I agree with @[[User:WikiCleanerMan|WikiCleanerMan]] on this. ----[[User:Steamboat2020|Steamboat2020]] ([[User talk:Steamboat2020|talk]]) 17:29, 10 February 2021 (UTC)\n",
    "@[[User:Selfstudier|Selfstudier]]: I admire your passion and perseverance but I think that it's time for you to just let this go!--[[User:Steamboat2020|Steamboat2020]] ([[User talk:Steamboat2020|talk]]) 17:29, 10 February 2021 (UTC)\n",
    ":::::Still waiting for any argument that this article complies with WP:V. By the way, I don't know why you are addressing your comments to me, this is a page move discussion not a thread between you and I.[[User:Selfstudier|Selfstudier]] ([[User talk:Selfstudier|talk]]) 17:43, 10 February 2021 (UTC)\n",
    ":::::::@[[User:Selfstudier|Selfstudier]], I addressed my comments to you because you are the only one advocating for the the move/name change. I see no reason to pretend otherwise!--[[User:Steamboat2020|Steamboat2020]] ([[User talk:Steamboat2020|talk]]) 20:22, 10 February 2021 (UTC)\n",
    "'''Comment''' The most informative and authoritative source I have found so far is a recent journal article (https://www.athensjournals.gr/mediterranean/2019-5-4-2-Zisser.pdf) about this subject written in 2019 by Eyal Zisser, a Mid East history professor from Tel Aviv U. I think we can consider him to be a reliable source on this subject even if possibly a little biased. In his conclusions he refers to the alliance as an \"alliance\" in scare quotes (because it isn't actually an alliance) and several times refers to it as \"a co-operation\", one that has the potential to develop if obstacles (detailed) can be overcome. Nor does he specifically identify a list of members (so it doesn't help with WP:V) but speaks in generalities like most of the other sources we have already. Still, overall this is a much better source than the sources we currently have and would work well for a properly constructed article.[[User:Selfstudier|Selfstudier]] ([[User talk:Selfstudier|talk]]) 19:12, 10 February 2021 (UTC)\n",
    ":@[[User:Selfstudier|Selfstudier]]: You can twist Zisser's words to try to bolster your argument but I see nothing in his article to warrant the name-change/page-move that you are proposing--[[User:Steamboat2020|Steamboat2020]] ([[User talk:Steamboat2020|talk]]) 20:22, 10 February 2021 (UTC)\n",
    "::Just close this discussion. This is all pointless. And this is the first time he has provided a source for his argument, unlike the previous two times. --[[User:WikiCleanerMan|WikiCleanerMan]] ([[User talk:WikiCleanerMan|talk]]) 20:31, 10 February 2021 (UTC)\n",
    ":Obviously, the applicant has a problem inviting me to this talk and the previous one. In any case, I support keeping the name as it is, because there is really an alliance between the regimes of Egypt, Jordan and the UAE with Israel--[[User:Sakiv|Sakiv]] ([[User talk:Sakiv|talk]]) 19:54, 12 February 2021 (UTC)\n",
    "----\n",
    ": ''The discussion above is closed.  <b style=\"color: #FF0000;\">Please do not modify it.</b> Subsequent comments should be made on the appropriate discussion page. No further edits should be made to this discussion.''<!-- from [[Template:Archive bottom]] -->\n",
    "</div><div style=\"clear:both;\"></div>\n",
    "\n",
    "== Added article wide tag, article fails verifiability. ==\n",
    "\n",
    "Specifically:\n",
    "\n",
    ":\"All material in Wikipedia articles must be attributable to a reliable published source. This means a reliable published source must exist for it, whether or not it is cited in the article.\"\n",
    ":\"Sources must support the material clearly and directly: drawing inferences from multiple sources to advance a novel position is prohibited by the NOR policy.\"\n",
    "\n",
    ":No source exists in the article to demonstrate the existence of this alliance and the list of its members. Inferences HAVE been drawn from multiple sources. The article therefore fails [[WP:V]].[[User:Selfstudier|Selfstudier]] ([[User talk:Selfstudier|talk]]) 13:34, 6 February 2021 (UTC)\n",
    "\n",
    "::I have restored the tags yet again. They need to stay there until the identified problems have been resolved.[[User:Selfstudier|Selfstudier]] ([[User talk:Selfstudier|talk]]) 18:10, 18 February 2021 (UTC)\n",
    "::::'''@[[User:Selfstudier|Selfstudier]]: As you already know, there are other editors (including myself) who strongly disagree with you on this matter. Accordingly, I don't believe that it was proper for you to have repeatedly added these tags unilateraly. I know that you have very strong opinions on this article but you need to respect other editor's viewpoints. I am going to remove the tags. If you wish to restore the tags, please obtain a concensus for it beforehand via a [[Wikipedia:Requests for comment|request for comment]]. Thank You!'''--[[User:Steamboat2020|Steamboat2020]] ([[User talk:Steamboat2020|talk]]) 21:00, 7 March 2021 (UTC)\n",
    "\n",
    "== Possible alliance ==\n",
    "\n",
    "https://www.middleeastmonitor.com/20210226-israel-in-talks-with-gulf-states-to-form-defence-alliance-report-claims/\n",
    "'''If''' it comes about, then this is what an alliance would look like, not the synthesized rubbish that is in this article at the moment. However this may be just more made up nonsense, we will have to wait and see.[[User:Selfstudier|Selfstudier]] ([[User talk:Selfstudier|talk]]) 12:53, 26 February 2021 (UTC)\n",
    ": This is definitely [[WP:NOTJUSTYET]] [[User:Shadow4dark|Shadow4dark]] ([[User talk:Shadow4dark|talk]]) 13:02, 26 February 2021 (UTC)\n",
    "::This actually proves the existence of the alliance rather than disprove it. --[[User:WikiCleanerMan|WikiCleanerMan]] ([[User talk:WikiCleanerMan|talk]]) 18:39, 1 March 2021 (UTC)\n",
    ":::It has nothing whatsoever to do with the \"alliance\" in this article, which is just a synthesis of might be's, could be's and maybes. It is a discussion of a proposed actual alliance which may or may not happen, we will see.[[User:Selfstudier|Selfstudier]] ([[User talk:Selfstudier|talk]]) 19:40, 1 March 2021 (UTC)\n",
    "::::And yet if there isn't a covert alliance, then why is Israel reaching out to Saudi Arabia and a few other gulf states to form a more formal and open military defence coalition somewhere in the likes of the GCC? --[[User:WikiCleanerMan|WikiCleanerMan]] ([[User talk:WikiCleanerMan|talk]]) 20:40, 1 March 2021 (UTC)\n",
    ":::::The article says why, it doesn't mention anything about any preexisting arrangement, only possible covert ties but those are not in dispute. Covert ties is a thing, there are sources for those but not for an existing alliance. Nor is it necessary for an alliance to previously exist in order to propose the one mentioned in the article. I am not saying there is no alliance, I am saying there are no sources that we can cite for its existence. I still think the material can be made into a good and interesting article but it should be more about the nature of the relationships and things that can be clearly sourced.[[User:Selfstudier|Selfstudier]] ([[User talk:Selfstudier|talk]]) 23:15, 1 March 2021 (UTC)\n",
    "::::::But this alliance as stated in the article does exist. How could it not if we all agree that Iran has proxy conflicts with Israel and Saudi Arabia? Why wouldn't Israel and the Arab States have an alliance to counter Iranian aggression, influence, and interests in the MENA region as this article states? --[[User:WikiCleanerMan|WikiCleanerMan]] ([[User talk:WikiCleanerMan|talk]]) 14:36, 2 March 2021 (UTC)\n",
    ":::::::As far as WP is concerned, if no reliable secondary sources confirm its existence, then it does not exist, our personal beliefs are irrelevant. What is required is as in https://www.middleeastmonitor.com/20210226-israel-in-talks-with-gulf-states-to-form-defence-alliance-report-claims/ ie these are the members, this is the function and if it was actually being formed, the date of formation. Just because Israel made a deal with UAE to formalize prior covert relations, does not mean they have agreed to an \"alliance\" against Iran (although neither likes Iran). Saudi is actually talking to Iran by the back door right now, doesn't mean Saudi and Iran have an alliance. It's not correct to take normal international dealings and relationships and \"manufacture\" an agreement that actually isn't there.[[User:Selfstudier|Selfstudier]] ([[User talk:Selfstudier|talk]]) 15:43, 2 March 2021 (UTC)\n",
    "\n",
    "That was one of the reasons Bahrain and the Emirates signed a more formal agreement. And what secondary sources aren't cited in the article? I added plenty of them. Saudi Arabia and Iran aren't speaking since the attack on the Saudi embassy in 2016. Also would the [[Axis of Resistance]] not count as an alliance existing even as it's unofficial just as the one Israel and the Gulf States had prior to the Arabharm Accords? --[[User:WikiCleanerMan|WikiCleanerMan]] ([[User talk:WikiCleanerMan|talk]]) 23:47, 2 March 2021 (UTC)\n",
    ":We are going around in circles, the problem remains the same, there are no secondary sources for the existence of an alliance, there are plenty of secondary sources about relations between one or more states but there isn't one that specifies an alliance between the ones listed as members or when it was formed. I will repeat what I already said, there is a good article to be has here but it's not this one which is just a bunch of disparate sources synthed together to produce a conclusion not justified by any of the sources individually.[[User:Selfstudier|Selfstudier]] ([[User talk:Selfstudier|talk]]) 20:54, 3 March 2021 (UTC)\n",
    "::We could do the same about the article called Nuclear weapons and Israel. But the fact remains the sources provided are related to the article's concept. And none of it is disparate. It just seems you are just picking this article apart, whether it is to deny verifiability, or to move, merge, or delete, maybe it doesn't fit your view on this subject. You have to provide evidence for your claim. This is something I'm doing on the Russia-Turkey proxy conflict article's talk page while disagreeing with the existence of what the article alleges. --[[User:WikiCleanerMan|WikiCleanerMan]] ([[User talk:WikiCleanerMan|talk]]) 21:22, 3 March 2021 (UTC)\n",
    ":::My claim is that there is no verifiable secondary source confirming this alliance so it fails V. To refute my claim, show me one. Until you do, the article is OR and synth.[[User:Selfstudier|Selfstudier]] ([[User talk:Selfstudier|talk]]) 23:04, 3 March 2021 (UTC)\n",
    "::::https://www.huffpost.com/entry/why-israel-is-strengthening_b_11946660 --[[User:WikiCleanerMan|WikiCleanerMan]] ([[User talk:WikiCleanerMan|talk]]) 01:31, 4 March 2021 (UTC)\n",
    ":::::Please be serious, I already showed you an example of what it should look like. If this alliance really did exist there would be multiple readily available sources saying so, the fact that it is not easy to find even one should tell you all you need to know. My recommendation remains the same as it has been since all this discussion began, redo the article but not using an infobox claiming this one and that one as members simply telling it like it is, I even gave you a very good source to use for doing that.[[User:Selfstudier|Selfstudier]] ([[User talk:Selfstudier|talk]]) 13:55, 4 March 2021 (UTC)\n",
    "::::::The consensus is clear on this. You're just in denial for whatever reason. --[[User:WikiCleanerMan|WikiCleanerMan]] ([[User talk:WikiCleanerMan|talk]]) 14:43, 4 March 2021 (UTC)\n",
    ":::::::There is a consensus not to delete, to merge or to move it. There is presently no consensus to fix the V problem.[[User:Selfstudier|Selfstudier]] ([[User talk:Selfstudier|talk]]) 15:42, 4 March 2021 (UTC)\n",
    ":::::::::@[[User:WikiCleanerMan|WikiCleanerMan]] is correct there already was a consensus on this matter because @[[User:Selfstudier|Selfstudier]] presented the alleged \"V problem\" as the rationale for supporting the proposals \"to delete\", \"to merge\" and \"to move\" this page. The \"v problem\" was rejected together with those proposals!--[[User:Steamboat2020|Steamboat2020]] ([[User talk:Steamboat2020|talk]]) 03:23, 5 March 2021 (UTC)\n",
    "::::::::::Those proposals would have fixed the V problem but they were rejected, that does not mean the V problem is fixed, it isn't and I have suggested yet another way to fix it.[[User:Selfstudier|Selfstudier]] ([[User talk:Selfstudier|talk]]) 12:23, 5 March 2021 (UTC)\n",
    "::::::::::::::@selfstudier's alleged \"V problem\" was discussed at length and rejected in those three proposals. Please see the archived discussions for those proposals. There really is no need to keep repeating the same old arguments again and again--[[User:Steamboat2020|Steamboat2020]] ([[User talk:Steamboat2020|talk]]) 16:30, 5 March 2021 (UTC)\n",
    "ping:[[User:Sakiv|Sakiv]]--[[User:Steamboat2020|Steamboat2020]] ([[User talk:Steamboat2020|talk]]) 17:24, 5 March 2021 (UTC)\n",
    "{{od}} The V problem was not rejected, the solutions for it were. You can't reject a V problem, you have to fix it. The problem here is not liking the solutions. If you think that there isn't a V problem, then start an RFC for removal of the tags saying that there is a V problem and we will see what happens. That way we will get a wider pool of editors into the process.[[User:Selfstudier|Selfstudier]] ([[User talk:Selfstudier|talk]]) 17:59, 5 March 2021 (UTC)\n",
    "::::::::::The majority of the editors who discussed your multiple proposals clearly didn't believe that the tags which you added to the page were warranted. An alliance is merely \"[[Alliance|a relationship among people, groups, or states that have joined together for mutual benefit or to achieve some common purpose, '''whether or not explicit agreement has been worked out among them'''.]]\" There is more than enough reliable references to establish that on some level such a relationship already exists between these nations in their mutual desire to counter Iran.--[[User:Steamboat2020|Steamboat2020]] ([[User talk:Steamboat2020|talk]]) 18:30, 5 March 2021 (UTC)\n",
    ":::The solutions have been provided by the rejections of your three proposals. All this time you've said the article's subject matter doesn't exist could have been spent on improving the article. --[[User:WikiCleanerMan|WikiCleanerMan]] ([[User talk:WikiCleanerMan|talk]]) 18:24, 5 March 2021 (UTC)\n",
    ":::I agree that the article has gotten better than before, but I do not think it is appropriate to include Morocco as a member while it is located far from Iran. What matters to Morocco is that it obtains recognition of the sovereignty over Western Sahara. I agree with the removal of Morocco and the addition of Egypt. The verifiability problem can be easily solved by conducting a search and you will find several articles talking about the development of a military alliance.--[[User:Sakiv|Sakiv]] ([[User talk:Sakiv|talk]]) 18:42, 5 March 2021 (UTC)\n",
    "::::::::Morocco is concerned about Iranian involvement in Western Sahara -see [https://jiss.org.il/en/dostri-irans-involvement-western-sahara/ here]--[[User:Steamboat2020|Steamboat2020]] ([[User talk:Steamboat2020|talk]]) 19:25, 5 March 2021 (UTC)\n",
    ":::::::::They may well be, that doesn't mean they are in any alliance. France is concerned about Iran, so are a lot of countries, they are not in the alliance either.[[User:Selfstudier|Selfstudier]] ([[User talk:Selfstudier|talk]]) 19:29, 5 March 2021 (UTC)\n",
    ":::::::::::Western Sahara was the entire basis for Morocco restoring ties with Israel. Iranian involvment in Western Sahara is therefore obviously an integral part of those renewed ties.--[[User:Steamboat2020|Steamboat2020]] ([[User talk:Steamboat2020|talk]]) 20:24, 5 March 2021 (UTC)\n",
    "::::::::::::Same comment as before, does not follow that they are in an alliance. You can say, A+B (source 1) and you can then say A+C (source 2) but you can't then say = A+B+C because that is exactly what SYNTH is. You need a source 3 that says A+B+C.[[User:Selfstudier|Selfstudier]] ([[User talk:Selfstudier|talk]]) 20:32, 5 March 2021 (UTC)\n",
    ":::::::::::::::The article I referenced above claims that ''\"Morocco’s policy is also bringing it close to the Israeli position on Iran and the warming of relations between Israel and the Gulf states.\"'' - That's not synth - it mentions, Israel, Morocco and the Gulf Nations!--[[User:Steamboat2020|Steamboat2020]] ([[User talk:Steamboat2020|talk]]) 20:53, 5 March 2021 (UTC)\n",
    ":::: It is a long time now since I looked at all the sources and I did look at them all. I keep asking for a foundational source and the latest one given (just up above) was https://www.huffpost.com/entry/why-israel-is-strengthening_b_11946660. Note that this article does not even contain the word \"alliance\" and is principally about Israeli UAE ties. So that's no use. If one of the sources specifically refers to an alliance of (some number of specified countries) then that could form a foundational basis for the article instead of what is there now. The only reason there is a V problem is because no source says alliance + countries as listed in the article. That's yet another suggestion for resolving this.[[User:Selfstudier|Selfstudier]] ([[User talk:Selfstudier|talk]]) 19:06, 5 March 2021 (UTC)\n",
    ":::::::The problem is that you insist that an alliance has to be a formal treaty between countries to achieve a specific goal. If you accept the more mild definition of an alliance which is merely \"[[Alliance|a relationship among people, groups, or states that have joined together for mutual benefit or to achieve some common purpose, '''whether or not explicit agreement has been worked out among them''']] then it really doesn't make a difference if any of the sources actually specifically state the magic word \"alliance\"--[[User:Steamboat2020|Steamboat2020]] ([[User talk:Steamboat2020|talk]]) 20:33, 5 March 2021 (UTC)\n",
    "::::::::Doesn't need to be formal, just sourced. You see that the article says the alliance is Israel + (Arab States) with the implication that all the other states have agreed to cooperate with Israel (versus Iran), right? As if Israel is the leader. For me, this was the first warning sign, an alliance/relationship should be between equals, usually. Anyway show me a source mentioning the countries in the list of \"members\" (specifically, not \"Gulf states\") as being in any kind of cooperation versus Iran. You can't do that either, right?[[User:Selfstudier|Selfstudier]] ([[User talk:Selfstudier|talk]]) 22:56, 5 March 2021 (UTC)\n",
    ":::::::::::::::::::\"''an alliance/relationship should be between equals''\" Where do you get these requirements from???--[[User:Steamboat2020|Steamboat2020]] ([[User talk:Steamboat2020|talk]]) 02:47, 7 March 2021 (UTC)\n",
    "::::::::Look at [https://en.wikipedia.org/w/index.php?title=Arab_states%E2%80%93Israeli_alliance_against_Iran&diff=prev&oldid=1000886570 this edit] on 17 January by the article creator. He removed the US Morocco and Sudan from the list of members leaving Israel, Bahrain, Oman, Saudi Arabia and UAE. Now Morocco and Sudan are back in (synth). As far as I can see the members list is a movable feast and even the article creator could not establish the list to his own satisfaction although at least he removed the US, which was obvious nonsense. If you do not want to accept any of the 5 possible fixes I have suggested up till now then the best thing is to start an RFC at the end of which a neutral editor may decide if V is satisfied or not.[[User:Selfstudier|Selfstudier]] ([[User talk:Selfstudier|talk]]) 23:19, 5 March 2021 (UTC)\n",
    ":::::::::::U.S. participation in the Iranian opposition under the Trump administration certainly wasn't \"nonsense\". Even the Biden administration has [https://www.politico.com/news/2021/02/17/biden-netanyahu-phone-call-469486 pledged to work together with Israel on regional security issues such as Iran] and the [https://www.axios.com/biden-israel-syria-iran-militia-strike-cc5c60c5-5a77-425f-897a-e44b4904da7f.html Biden administration notified Israel in advance about the airstrike against an Iranian-backed Shiite militia base on the Syrian-Iraqi border]. You can debate whether this rises to the level of an alliance but it certainly wasn't nonsense--[[User:Steamboat2020|Steamboat2020]] ([[User talk:Steamboat2020|talk]]) 02:47, 7 March 2021 (UTC)\n",
    "::::::::::::I am not disputing that the US (and many other countries) have issues with Iran. The \"nonsense\" was that the US was a member of an Israeli led alliance against Iran. It wasn't and isn't.[[User:Selfstudier|Selfstudier]] ([[User talk:Selfstudier|talk]]) 10:25, 7 March 2021 (UTC)\n",
    "::::::::Well, you can't prove this doesn't exist. So it's best you drop it if you're not going to help. --[[User:WikiCleanerMan|WikiCleanerMan]] ([[User talk:WikiCleanerMan|talk]]) 15:58, 6 March 2021 (UTC)\n",
    ":::::::::It is not I making the assertion that it exists. The ONUS for inclusion of disputed material is on those making the assertion and V is a requirement for inclusion. I have tried to help in every way I can  including provision of the best sourcing I was able to locate, it is not my fault if my suggestions are not taken up.[[User:Selfstudier|Selfstudier]] ([[User talk:Selfstudier|talk]]) 16:38, 6 March 2021 (UTC)\n",
    "::::::::::::There is more then enough references to substantiate this unofficial alliance. We are just going in circles!--[[User:Steamboat2020|Steamboat2020]] ([[User talk:Steamboat2020|talk]]) 01:28, 7 March 2021 (UTC)\n",
    "{{od}}As I have stated multiple times now, I just want a single reference that will satisfy V. If multiple references are needed, then they are being combined to produce a conclusion not contained in any of them, synth in other words. [[User:Selfstudier|Selfstudier]] ([[User talk:Selfstudier|talk]]) 10:25, 7 March 2021 (UTC)\n",
    ":A true \"synth\" is, for example, if you were to have a reference to an Israeli-Moroccon alliance and another reference to an Israeli-Baharani alliance. If there is nothing to bind these two seperate references and despite that an editor writes a page about an Israeli-Morrocco-Bahrani Alliance then that would be a classic synth. That is not the case here. There are numerous references to a broad alliance of Israeli and Arab Sunni States in their opposition to Iran. Those references establish an aliiance between numerous states but they don't identify exactly who all of the participants are. You then have numerous individual references which reveal the different states. That isn't synth.--[[User:Steamboat2020|Steamboat2020]] ([[User talk:Steamboat2020|talk]]) 13:46, 7 March 2021 (UTC)\n",
    "::[[WP:SYN]] \"Do not combine material from multiple sources to reach or imply a conclusion not explicitly stated by any of the sources. Similarly, do not combine different parts of one source to reach or imply a conclusion not explicitly stated by the source. If one reliable source says A, and another reliable source says B, do not join A and B together to imply a conclusion C that is not mentioned by either of the sources. This would be improper editorial synthesis of published material to imply a new conclusion, which is original research... If a single source says \"A\" in one context, and \"B\" in another, without connecting them, and does not provide an argument of \"therefore C\", then \"therefore C\" cannot be used in any article.\" This is clear cut. If you don't agree, commence an RFC and at the end a neutral editor will determine which argument is correct.[[User:Selfstudier|Selfstudier]] ([[User talk:Selfstudier|talk]]) 14:01, 7 March 2021 (UTC)\n",
    ":: Apart from the synth, I provided an up to date scholarly rs (Zisser), a specialist in this area, casting doubt on the existence of an \"alliance\" (his scare quotes) and referring to it as a \"cooperation\" and even he is unable to give a list so why do you, a WP editor, think that you can? Why is Israel privileged in this alliance? (as in the title, Everybody else + Israel). I'll tell you why, Israel puts out loads of stories for propaganda purposes, especially about Iran, this is well known, the oil spill being the latest example (it was Iran!) and this whole article probably originates via that route if I know anything.[[User:Selfstudier|Selfstudier]] ([[User talk:Selfstudier|talk]]) 14:16, 7 March 2021 (UTC)\n",
    ":::'''Please keep your anti-Israel propaganda out of this discussion.''' I already discussed Zisser's article with you in response to one of your previos proposals. You are twisting his article to serve your narrative. What surprises me is that you claim to be familiar with the region and everybody in the region knows the alliance exists unofficially. Even the Saudis who officially are opposed to Israel and vehemently denied reports of an impending peace treaty with Israel never denied reports of the anti-iranian cooperation/alliance. Nobody in the region disputes it. The Sunnis want the Iranians to know about it as a detterent and the Iranians want everybody to know that their enemies are collaborating with the Israelis. Nobody seems to want to stifle reports of this alliance/collaboration except for you.--[[User:Steamboat2020|Steamboat2020]] ([[User talk:Steamboat2020|talk]]) 14:56, 7 March 2021 (UTC)\n",
    "::::No one denying it doesn't prove it exists. On WP, rs determines what exists.[[User:Selfstudier|Selfstudier]] ([[User talk:Selfstudier|talk]]) 15:12, 7 March 2021 (UTC)\n",
    "::::::It has been widely reported. I was just pointing out that you are the only one trying to deny it.--[[User:Steamboat2020|Steamboat2020]] ([[User talk:Steamboat2020|talk]]) 15:52, 7 March 2021 (UTC) \n",
    ":: Last but by no means least https://www.reuters.com/article/us-usa-mesa-egypt-exclusive/exclusive-egypt-withdraws-from-u-s-led-anti-iran-security-initiative-sources-idUSKCN1RM2WU, how does this fit together with your \"alliance\"? In addition to the United States and Saudi Arabia, the MESA participants include the United Arab Emirates, Kuwait, Bahrain, Qatar, Oman and Jordan. The so-called \"Arab NATO\". Note that Israel is not a proposed member of it. Also note that assuming it ever got off the ground, then this article would be a founding source for the pact satisfying V, exactly that which is missing for the current article.[[User:Selfstudier|Selfstudier]] ([[User talk:Selfstudier|talk]]) 14:32, 7 March 2021 (UTC)\n",
    ":::::This page discusses a covert alliance. The article you referenced discussed the possible creation of another more formal \"NATO-like\" alliance which obviously never materialized. There really is no contradiction here.--[[User:Steamboat2020|Steamboat2020]] ([[User talk:Steamboat2020|talk]]) 14:56, 7 March 2021 (UTC)\n",
    "::::::It's covert, meaning no-one knows anything about it except WP editors? Yea, right.[[User:Selfstudier|Selfstudier]] ([[User talk:Selfstudier|talk]]) 15:12, 7 March 2021 (UTC)\n",
    "::::::::No, it's well known and has been extensively reported but nations who are officially opposed to Israel still don't want to have a formal \"open\" alliance--[[User:Steamboat2020|Steamboat2020]] ([[User talk:Steamboat2020|talk]]) 15:52, 7 March 2021 (UTC)\n",
    ":::::: They are still talking about Arab NATO https://www.middleeasteye.net/opinion/why-israel-joining-pentagon-arab-nato and Israel joining it! That can be synthed into the article along with everything else.[[User:Selfstudier|Selfstudier]] ([[User talk:Selfstudier|talk]]) 15:16, 7 March 2021 (UTC)\n",
    ":::::::::::That article is just an opinion piece about what Israeli participation in Centcom could potentially ultimately lead to. It doesn't claim to be anything more than speculation--[[User:Steamboat2020|Steamboat2020]] ([[User talk:Steamboat2020|talk]]) 15:52, 7 March 2021 (UTC)\n",
    ":::::: https://www.bloomberg.com/news/articles/2020-12-16/how-iran-has-brought-israel-and-arab-states-together-quicktake \"Q5. Apart from Syria and Iraq, are all Arab governments united against Iran? A. No. Oman and Kuwait remain friendly with Iran, as does Qatar\" This rs directly contradicts Oman membership of the alliance. Don't tell me, Oman is a \"covert\" member?[[User:Selfstudier|Selfstudier]] ([[User talk:Selfstudier|talk]]) 15:28, 7 March 2021 (UTC)\n",
    ":::::::::Many countries maintain ties with adversarial nations--[[User:Steamboat2020|Steamboat2020]] ([[User talk:Steamboat2020|talk]]) 15:52, 7 March 2021 (UTC)\n",
    ":::::::::::Oman is just not united with the rest of them in terms of completely cutting off ties with Iran, that doesn't mean that they still aren't working to undermine the Iranians. Foreign relations between countries are usually extremely complex -- don't try to over simplify it.--[[User:Steamboat2020|Steamboat2020]] ([[User talk:Steamboat2020|talk]]) 15:58, 7 March 2021 (UTC)\n",
    "{{od}} I am usually criticized for making things too complex, I can't win. I would agree that there is a complicated web of interlocking and sometimes contradictory ties between the states mentioned in the article and not just in relation to Iran and that's what I think the article should actually be about. It should as well cover Turkey, the Israel-Palestine conflict, great power relations, Mediterranean gas and any other matters that impact on these ties. So, perhaps 3 or 4 states are involved in one thing and only a couple in another but that's a more realistic portrayal than trying to suggest a constant uniformity of interest that does not actually exist.[[User:Selfstudier|Selfstudier]] ([[User talk:Selfstudier|talk]]) 16:32, 7 March 2021 (UTC)\n",
    ":This page is about their mutual Iranian opposition. I doubt there has ever been nation-allies that have agreed on every issue in the history of the world.--[[User:Steamboat2020|Steamboat2020]] ([[User talk:Steamboat2020|talk]]) 17:07, 7 March 2021 (UTC)\n",
    "::The page claims to be about an alliance that there is no evidence for. Obviously we are not going to agree on this. Btw, the list of see alsos navbars and cats looks ridiculous for a stub article.[[User:Selfstudier|Selfstudier]] ([[User talk:Selfstudier|talk]]) 17:31, 7 March 2021 (UTC)\n",
    ":::I addressed all of your concerns. With regard to the article being a stub - Nobody is going to invest the time and energy to build up this article as long as you continue to try to destroy it and deny the alliance's existence--[[User:Steamboat2020|Steamboat2020]] ([[User talk:Steamboat2020|talk]]) 17:59, 7 March 2021 (UTC)\n",
    "::::I don't agree that my concerns have been addressed, in particular no evidence has been provided that V is satisfied. Hand waving will not suffice. I deny and destroy nothing, what I have said and continue to say is that there is no reliable source establishing the existence of an alliance between the states listed in the article.[[User:Selfstudier|Selfstudier]] ([[User talk:Selfstudier|talk]]) 18:16, 7 March 2021 (UTC)\n",
    "::::::::we are going around in circles--[[User:Steamboat2020|Steamboat2020]] ([[User talk:Steamboat2020|talk]]) 19:29, 7 March 2021 (UTC)\n",
    "{{od}} I have restored the improperly removed verifiability tag and note here that you  and editor WikiCleanerMan are \"teaming\" to force the removal of properly applied tags.[[User:Selfstudier|Selfstudier]] ([[User talk:Selfstudier|talk]]) 22:45, 7 March 2021 (UTC)\n",
    "::::::::Actualy, you improperly applied the tags to begin with. You should have sought out a consensus on the tags before you initialy applied them to the article. You knew very well that other editors strongly disagreed with you and yet you chose to act unilaterally.--[[User:Steamboat2020|Steamboat2020]] ([[User talk:Steamboat2020|talk]]) 02:22, 8 March 2021 (UTC)\n",
    ":::::::::That is not how tags work, they should stay absent a consensus to remove them. <small style=\"border: 1px solid;padding:1px 3px;white-space:nowrap\">'''[[User talk:Nableezy|<span style=\"color:#C11B17\">nableezy</span>]]''' - 15:48, 11 March 2021 (UTC)</small>\n",
    "\n",
    "== RFC tag removed ==\n",
    "\n",
    "I have removed the rfc tag. I do not propose to engage further with this article.[[User:Selfstudier|Selfstudier]] ([[User talk:Selfstudier|talk]]) 11:33, 16 March 2021 (UTC)\n",
    "\n",
    "== Membership section in Infobox ==\n",
    "\n",
    "I think the word \"membership\" is a bad choice for the infobox, since this is an unofficial group with no formal membership. I think the word \"participants\" better describe who is involved in the unofficial group. This is reflected in the lead and the infobox should reflect the article content. However there is no option for a participants field, so it might be eliminated altogether.\n",
    "\n",
    "Each nation listed here has a nuanced level and type of participation. Instead of trying to use footnotes in the infobox to show this, a section \"Participants\" can be created with a subsection for each participant with details and sources. This will allow development of the article and if other nations begin participating, a section could be added with details and sources; as their participation changes, the section can be updated with details. \n",
    "\n",
    "This will solve the issue of Morocco and Sudan being included in the infobox, they can have their own sections under participants that can detail the circumstances and type of involvement in the subject. \n",
    "\n",
    "The history section could become a summary, and I believe a general background section may also be helpful to the readers. \n",
    "<span style=\"font-family:Courier;\"><b>&nbsp;//&nbsp;[[User:TimothyBlue|Timothy]]&nbsp;::&nbsp;[[User talk:TimothyBlue|talk]]&nbsp;</b></span> 05:47, 18 March 2021 (UTC)\n",
    "\n",
    ":How about \"Involved parties\" or \"Involved countries/Countries involved\" [[User:Wikieditor19920|Wikieditor19920]] ([[User talk:Wikieditor19920|talk]]) 06:23, 18 March 2021 (UTC)\n",
    "::Involved parties is a good suggestion at first glance, but its not a field in the infobox. The article adapts [[:Template:Infobox organization]] (a very generic infobox used in all kinds of articles); we might be able to customize it to add a field if a consensus emerges on a phrase. I need to look to see if there is an existing template that better fits the fields the article could use. <span style=\"font-family:Courier;\"><b>&nbsp;//&nbsp;[[User:TimothyBlue|Timothy]]&nbsp;::&nbsp;[[User talk:TimothyBlue|talk]]&nbsp;</b></span> 06:42, 18 March 2021 (UTC)\n",
    "Can you explain how \"participants\" or \"involved countries\" would solve any verifiability issue here? There is no sourcing for either country participating on any level in this alliance with Israel and against Iran. <small style=\"border: 1px solid;padding:1px 3px;white-space:nowrap\">'''[[User talk:Nableezy|<span style=\"color:#C11B17\">nableezy</span>]]''' - 06:57, 18 March 2021 (UTC)</small>\n",
    "::These are the same arguments that were raised and rejected in two[https://en.wikipedia.org/wiki/Wikipedia:Articles_for_deletion/Arab_states%E2%80%93Israeli_alliance_against_Iran 1][https://en.wikipedia.org/wiki/Talk:Foreign_relations_of_Israel#Merger_proposal 2] prior discussions. I don't think the problem was that no one heard them. [[User:Wikieditor19920|Wikieditor19920]] ([[User talk:Wikieditor19920|talk]]) 07:04, 18 March 2021 (UTC)\n",
    ":::You seem to be purposely antagonizing here. I am not asking you anything here. I am asking TimothyBlue how changing the infobox to either ''participants'' or ''involved countries'' as is suggested '''in this section''' solves any verifiability issue. If you have nothing to add to that question you do not need to respond. Kindly stop disrupting the talk page. <small style=\"border: 1px solid;padding:1px 3px;white-space:nowrap\">'''[[User talk:Nableezy|<span style=\"color:#C11B17\">nableezy</span>]]''' - 07:09, 18 March 2021 (UTC)</small>\n",
    "::::The sources provided in the first sentence answer your question. Scholarly sources describe an ''alliance.'' An [https://www.merriam-webster.com/dictionary/alliance#:~:text=1a%20%3A%20the%20state%20of,alliance%20between%20government%20and%20industry alliance] is between two states, parties, individuals, or countries. So participants or involved parties fits the bill. If you want to make another argument about fundamental verifiability, then 1) that's a deletion or merge argument with this article, and 2) those arguments have already been adjudged. I don't know what else I can add there.\n",
    "::::Now forgive me for moving on from this for a moment, but TimothyBlue raises a good point, and that's that a more flexible infobox might help if we want to change the \"membership\" language. We should probably settle on what we want before going about that, though, since it could be more complex and we don't want that bouncing back and forth between versions if there's any disagreement.[[User:Wikieditor19920|Wikieditor19920]] ([[User talk:Wikieditor19920|talk]]) 07:14, 18 March 2021 (UTC)\n",
    ":::::Which of those sources say that Morocco or Sudan are a part of that? And no, a verifiability issue with one part of an article is not a merge or deletion argument. That makes literally no sense. Saying Morocco being included, in whatever phrasing invented here, is not verifiable does not mean the article should be deleted or merged. <small style=\"border: 1px solid;padding:1px 3px;white-space:nowrap\">'''[[User talk:Nableezy|<span style=\"color:#C11B17\">nableezy</span>]]''' - 07:19, 18 March 2021 (UTC)</small>\n",
    "::::{{u|nableezy}}, Wikieditor is actually being helpful and you are being less than helpful. As to the answer to your question, If there is no membership section, no nations will be listed. I made this clear when I stated \"However there is no option for a participants field, so it might be eliminated altogether.\" Everything can be discussed in individual sections for each nation describing how they are involved, with all the nuance sources provide. As replacing the field in the infobox with another word, I'm open to other options. such as another infobox or customizing this one. <span style=\"font-family:Courier;\"><b>&nbsp;//&nbsp;[[User:TimothyBlue|Timothy]]&nbsp;::&nbsp;[[User talk:TimothyBlue|talk]]&nbsp;</b></span> 07:29, 18 March 2021 (UTC)\n",
    ":::::Nice of you to feel that way, but I still have a problem with having a section of participants that includes countries without sources that say they are participants. That remains the root problem with including countries that the sources dont. <small style=\"border: 1px solid;padding:1px 3px;white-space:nowrap\">'''[[User talk:Nableezy|<span style=\"color:#C11B17\">nableezy</span>]]''' - 07:32, 18 March 2021 (UTC)</small>\n",
    "::::::If sources describe nations taking part in something it is acceptable to state they are participants in that something. <span style=\"font-family:Courier;\"><b>&nbsp;//&nbsp;[[User:TimothyBlue|Timothy]]&nbsp;::&nbsp;[[User talk:TimothyBlue|talk]]&nbsp;</b></span> 08:38, 18 March 2021 (UTC)\n",
    ":::::::Sure? I dont think I disputed that. <small style=\"border: 1px solid;padding:1px 3px;white-space:nowrap\">'''[[User talk:Nableezy|<span style=\"color:#C11B17\">nableezy</span>]]''' - 13:46, 18 March 2021 (UTC)</small>\n",
    "::::::::You opened four sections in the past 48 hours on separate issues, but many of these arguments are overlapping. Perhaps your arguments specific to Morocco/Sudan should be placed in those respective sections, because here the focus of TimothyBlue's inquiry is clearly the infobox generally. [[User:Wikieditor19920|Wikieditor19920]] ([[User talk:Wikieditor19920|talk]]) 17:24, 18 March 2021 (UTC)\n",
    ":::::::::I would very much appreciate it if [[WP:AVOIDYOU]] were followed. I am trying to focus on content, not on the players here. Thanks, <small style=\"border: 1px solid;padding:1px 3px;white-space:nowrap\">'''[[User talk:Nableezy|<span style=\"color:#C11B17\">nableezy</span>]]''' - 17:35, 18 March 2021 (UTC)</small>\n",
    "::::::::::It doesn't matter who it is -- everyone should ensure their comments are responsive to the header for the sake of clarity. Thanks for understanding. [[User:Wikieditor19920|Wikieditor19920]] ([[User talk:Wikieditor19920|talk]]) 19:20, 18 March 2021 (UTC)\n",
    "===Discussion===\n",
    "* Obviously as the author of the above I agree with the suggestion. I think its a solid way to move forward that will allow for the article to be expanded with sources that includes important details and allow for more sources to be included. The simple category \"Member\" is inadequate to describe the nature of participation in the group. <span style=\"font-family:Courier;\"><b>&nbsp;//&nbsp;[[User:TimothyBlue|Timothy]]&nbsp;::&nbsp;[[User talk:TimothyBlue|talk]]&nbsp;</b></span> 05:47, 18 March 2021 (UTC)\n",
    "*Regardless of how you want to phrase it, to claim that any country is involved in such an alliance requires a reliable source explicitly saying that such and such country is in such an alliance. Simply normalizing relations with Israel is not that. Whatever formula you want to use still needs sources explicitly supporting it, and there are no such sources claiming that either Morocco or Sudan are ''participants'' or ''members'' of such an alliance. There needs to be a single source for any country saying that country is ''involved'' or ''participating'' in an alliance both with other Arab countries and Israel and against Iran. <small style=\"border: 1px solid;padding:1px 3px;white-space:nowrap\">'''[[User talk:Nableezy|<span style=\"color:#C11B17\">nableezy</span>]]''' - 05:59, 18 March 2021 (UTC)</small>\n",
    "*:Stop repeating the same arguments in every thread. We've heard these points before. TimothyBlue is addressing a separate issue in this thread. [[User:Wikieditor19920|Wikieditor19920]] ([[User talk:Wikieditor19920|talk]]) 06:24, 18 March 2021 (UTC)\n",
    ":::Im responding to his suggestion. He suggested using \"participants\". I am responding that even that formulation will need sources explicitly backing it up. If you dont get that then ¯\\_(ツ)_/¯ <small style=\"border: 1px solid;padding:1px 3px;white-space:nowrap\">'''[[User talk:Nableezy|<span style=\"color:#C11B17\">nableezy</span>]]''' - 06:50, 18 March 2021 (UTC)</small>\n",
    "::::If sources describe nations working together it is fine to state they are participating in something. <span style=\"font-family:Courier;\"><b>&nbsp;//&nbsp;[[User:TimothyBlue|Timothy]]&nbsp;::&nbsp;[[User talk:TimothyBlue|talk]]&nbsp;</b></span> 08:19, 18 March 2021 (UTC)\n",
    "\n",
    "== Rough draft of a possible rewording of the first part of the lead ==\n",
    "\n",
    "This is not a final suggestion, it is a starting place for discussion. It is not a final draft, it is a rough draft. \n",
    "\n",
    "'''New text'''\n",
    "---Start of copy---\n",
    "\n",
    ":The '''Arab-Israeli alliance''' against Iran<ref name=\"worldaffairs-179-2\">{{cite journal|author=Totten, Michael J.|title=The New Arab–Israeli Alliance|year=2016|journal=World Affairs|volume=179|issue=2|pages=28–36|jstor=26369507|doi=10.1177/0043820016673779|s2cid=151328992}}</ref> (also referred to as the '''Israeli–Sunni Coalition'''<ref>{{cite web|url=https://www.washingtoninstitute.org/fikraforum/view/jordans-shift-back-to-the-sunni-israeli-coalition1|title=Jordan's Shift Back to the Sunni-Israeli Coalition - The Washington Institute for Near East Policy|work=Fikra Forum, Washington Institute|date=July 13, 2018|access-date=2019-02-14}}</ref>{{Unreliable source?|date=March 2021}}<ref name=\"almonitor20201013\">{{cite web |url=https://www.al-monitor.com/pulse/originals/2013/10/israel-gulf-states-sunni-coalition-iran.html |title=The Israeli-Sunni Coalition Against Iran - Al-Monitor: the Pulse of the Middle East |newspaper=Al Monitor |date=13 October 2020  |author=Ben Caspit |accessdate= March 18, 2021}}</ref> or the '''Israeli–Sunni Alliance'''<ref name=\"jpost20171121\">{{cite web|url=https://www.jpost.com/Jerusalem-Report/The-Israel-Sunni-alliance-514809|title=The Israel-Sunni alliance|work=The Jerusalem Post|date=2017-11-21|access-date=2019-02-14}}</ref><ref name=\"cfr20070123\">{{cite web|url=https://www.cfr.org/interview/sick-alliance-against-iran|title=Sick: Alliance against Iran|work=Council on Foreign Relations|date=January 23, 2007}}</ref>), referes to the unofficial group of nations which cooperate togehter in various ways in opposition to Iran.<ref name=\"worldaffairs-179-2\" /> The cooperation is based on regional security interests and concerns which are mutually shared by Israel and primarily Sunni Arab States led by Saudi Arabia. It was promoted by the United States following the [[February 2019 Warsaw Conference]].<ref name=\"reuters20190213\">{{cite news|url=https://www.reuters.com/article/us-mideast-crisis-summit/us-meeting-on-middle-east-brings-together-israel-gulf-arab-states-idUSKCN1Q22E2|author=Lesley Wroughton|title=U.S. meeting on Middle East brings together Israel, Gulf Arab states|work=Reuters|date=13 February 2019|access-date=2019-02-14}}</ref>\n",
    "\n",
    "---End of copy---\n",
    "\n",
    "'''Original text'''\n",
    "\n",
    "---Start of copy---\n",
    "\n",
    ":The Arab-Israeli alliance against Iran[7] also known as Israeli–Sunni Coalition,[8][unreliable source?][9] or Israeli–Sunni Alliance,[10][11] is an unofficial coalition in Western Asia. It was promoted by the United States following the February 2019 Warsaw Conference.[12] It is based on mutual shared regional security between Israel and mostly Sunni Arab States led by Saudi Arabia. Participating Arab states form the core of the Gulf Cooperation Council. They include Saudi Arabia and the United Arab Emirates.[4]\n",
    "\n",
    "---End of copy---\n",
    "<span style=\"font-family:Courier;\"><b>&nbsp;//&nbsp;[[User:TimothyBlue|Timothy]]&nbsp;::&nbsp;[[User talk:TimothyBlue|talk]]&nbsp;</b></span> 23:13, 18 March 2021 (UTC)\n",
    "{{reflist-talk}}\n",
    "===Discussion===\n",
    "{{disdis|Kenosha Forever|spi=NoCal100|lta=NoCal100}}\n",
    "<s>Your new text looks fine to me. I'd either remove the tag that says \"unreliable source\" next to WINEP (per my comments in the section above, it's a fine source for this, I think), or just drop the source altogether , as we have another one that support it. [[User:Kenosha Forever|Kenosha Forever]] ([[User talk:Kenosha Forever|talk]]) 00:11, 19 March 2021 (UTC)</s>\n",
    "\n",
    "The second altname isnt supported by the cited sources, at all, and the first probably isnt either as the phrase just appears in the title of the article. There is no reason to include multiple descriptions of the same thing when we are using a descriptive title to begin with. <small style=\"border: 1px solid;padding:1px 3px;white-space:nowrap\">'''[[User talk:Nableezy|<span style=\"color:#C11B17\">nableezy</span>]]''' - 00:13, 19 March 2021 (UTC)</small>\n",
    "\n",
    "== Tagging ==\n",
    "\n",
    "{{u|Nableezy}} You've added enough tags for one day, let the discussion about your current concerns resolve then you can add more tags. Continuing to add tags when we are busy multiple discussions about the current ones is POINTY and DE. Let's deal with the tags you've added already and the subjects under discussion. There is more than enough for discussion. We cannot discuss everything at once, and combined with your personal 1 week and I remove it makes it impossible to address all the tags you are adding.<span style=\"font-family:Courier;\"><b>&nbsp;//&nbsp;[[User:TimothyBlue|Timothy]]&nbsp;::&nbsp;[[User talk:TimothyBlue|talk]]&nbsp;</b></span> 23:34, 18 March 2021 (UTC)\n",
    ":I dont think there is any policy basis for that request. Its either tag it or remove the statement that failed verification. That Ive identified other issues does not mean I shouldnt continue to address new ones as I see them. <small style=\"border: 1px solid;padding:1px 3px;white-space:nowrap\">'''[[User talk:Nableezy|<span style=\"color:#C11B17\">nableezy</span>]]''' - 23:50, 18 March 2021 (UTC)</small>\n",
    "::There are already 5 active threads discussing nableezy concerns. With the amount of discussion going on it is going to take some time to resolve these. They continue to add tags and with their 1 week and I remove it policy there will not be enough time to discuss all the tags they are adding and changes they are making before their 1 week deadline is up and they start removing things. They are creating an impossible situation and it is disruptive. <span style=\"font-family:Courier;\"><b>&nbsp;//&nbsp;[[User:TimothyBlue|Timothy]]&nbsp;::&nbsp;[[User talk:TimothyBlue|talk]]&nbsp;</b></span> 23:52, 18 March 2021 (UTC)\n",
    ":::So what if there are 5 active threads if there are 7 different statements that fail verification? Policy allows me to remove material without tagging it to begin with. It is not disruptive to alert our readers that the things we say are based on the sources cited are not in fact based on the sources cited. Including things that distort the cited sources is disruptive, and Im pretty close to reporting it. And if the tags are removed I am not going to be waiting a week to remove the material that fails verification. I will be removing the material on ''Israeli–Sunni Alliance'' tomorrow, and any restoration will require both reliable sources directly supporting them and consensus for the reinsertion. Im not playing this game, people dont get to put in things the sources dont support and additionally remove a tag alerting users that the sources dont support it. <small style=\"border: 1px solid;padding:1px 3px;white-space:nowrap\">'''[[User talk:Nableezy|<span style=\"color:#C11B17\">nableezy</span>]]''' - 23:54, 18 March 2021 (UTC)</small>\n",
    "::::Would you go request as I have the ANI thread be closed so I can open one at AE? <span style=\"font-family:Courier;\"><b>&nbsp;//&nbsp;[[User:TimothyBlue|Timothy]]&nbsp;::&nbsp;[[User talk:TimothyBlue|talk]]&nbsp;</b></span> 00:02, 19 March 2021 (UTC)\n",
    ":::::Go to AE lol, I wish you good luck. The ANI doesnt need to be closed, and I already said it should be. <small style=\"border: 1px solid;padding:1px 3px;white-space:nowrap\">'''[[User talk:Nableezy|<span style=\"color:#C11B17\">nableezy</span>]]''' - 00:03, 19 March 2021 (UTC)</small>\n",
    ":::::I was literally about to open another thread about the non-judicious use of tags here. Tags are meant to identify issues in the article. At the time, a shotgun approach applying half a dozen tags across the article does nothing helpful and is likely to confuse readers. [[User:Wikieditor19920|Wikieditor19920]] ([[User talk:Wikieditor19920|talk]]) 00:16, 19 March 2021 (UTC)\n",
    "::::::I am identifying issues in the article. The tags you just removed identified where two cited sources dont support the material. Thats cool though, Ill just go with removing material that fails verification instead. <small style=\"border: 1px solid;padding:1px 3px;white-space:nowrap\">'''[[User talk:Nableezy|<span style=\"color:#C11B17\">nableezy</span>]]''' - 00:17, 19 March 2021 (UTC)</small>\n",
    ":::::::You applied a \"failed verification tag\" to a cite that ''directly supported'' the proposition under question. If you want to progress from edit-warring over tags to actual content in the lead, that's your decision. [[User:Wikieditor19920|Wikieditor19920]] ([[User talk:Wikieditor19920|talk]]) 00:24, 19 March 2021 (UTC)\n",
    "::::::::Are you paying attention to what you are removing? I noted why I added the tag in #altnames. That was on the second altname, one in which the sources do not support that it is an alternative name. I will be removing that altname tomorrow since even a tag alerting readers that the material in question doesnt appear in the source cited is removed disruptively. And returning it without a verifiable source would be a violation of both [[WP:BURDEN]] and [[WP:ONUS]]. <small style=\"border: 1px solid;padding:1px 3px;white-space:nowrap\">'''[[User talk:Nableezy|<span style=\"color:#C11B17\">nableezy</span>]]''' - 00:28, 19 March 2021 (UTC)</small>\n",
    ":::::::::The second alt name is literally supported in the title of the cited article. That is sufficient to support usage of that name. Keep it up, though. [[User:Wikieditor19920|Wikieditor19920]] ([[User talk:Wikieditor19920|talk]]) 01:12, 19 March 2021 (UTC)\n",
    "::::::::::Except it doesnt. As explained above. <small style=\"border: 1px solid;padding:1px 3px;white-space:nowrap\">'''[[User talk:Nableezy|<span style=\"color:#C11B17\">nableezy</span>]]''' - 01:32, 19 March 2021 (UTC)</small>\n",
    "::::::::::Also [[Wikipedia:Reliable_sources#Headlines]]. <small style=\"border: 1px solid;padding:1px 3px;white-space:nowrap\">'''[[User talk:Nableezy|<span style=\"color:#C11B17\">nableezy</span>]]''' - 01:33, 19 March 2021 (UTC)</small>\n",
    ":::::::::::Stop making the same arguments in three different threads. See above for my reply. [[User:Wikieditor19920|Wikieditor19920]] ([[User talk:Wikieditor19920|talk]]) 02:29, 19 March 2021 (UTC)\n",
    "\n",
    "== alt names ==\n",
    "\n",
    "A single newspaper using \"Israel-Sunni alliance\" in its headline does not make this a commonly used alternative name. In fact, since this is a descriptive title without a common proper name there isnt any need for any alternative names. The title also does not have to be bolded. But if there are going to be altnames added in bold they need to be shown to be in common usage, and a single use from one newspaper is not that. <small style=\"border: 1px solid;padding:1px 3px;white-space:nowrap\">'''[[User talk:Nableezy|<span style=\"color:#C11B17\">nableezy</span>]]''' - 21:02, 16 March 2021 (UTC)</small>\n",
    ":The alt names are there because of [[Talk:Arab_states–Israeli_alliance_against_Iran#Bad_name|differing views]] on how to name it. Furthermore there were editors who insisted on a reference that mentioned an exact name.--[[User:Steamboat2020|Steamboat2020]] ([[User talk:Steamboat2020|talk]]) 00:27, 17 March 2021 (UTC)\n",
    "::But that isnt a reason for including any other name. This is a descriptive title, as described in [[WP:NDESC]], not a common name. [[WP:OTHERNAMES]] is for other '''names''', not other descriptions. But definitely a name would have to be in common usage to be included and bolded in the lead, and a single source using it is not that. <small style=\"border: 1px solid;padding:1px 3px;white-space:nowrap\">'''[[User talk:Nableezy|<span style=\"color:#C11B17\">nableezy</span>]]''' - 01:01, 17 March 2021 (UTC)</small>\n",
    ":::Yes, but Sunni and Arab aren't just names they are two completely different descriptions.--[[User:Steamboat2020|Steamboat2020]] ([[User talk:Steamboat2020|talk]]) 02:06, 17 March 2021 (UTC)\n",
    "::::Ok, but so what? If it is not a commonly used name it shouldnt be in the article presented as such. <small style=\"border: 1px solid;padding:1px 3px;white-space:nowrap\">'''[[User talk:Nableezy|<span style=\"color:#C11B17\">nableezy</span>]]''' - 02:29, 17 March 2021 (UTC)</small>\n",
    "I just did a quick google search and I am getting more then one result for each name:\n",
    "'''Israel-Sunni alliance''', see - [https://www.belfercenter.org/publication/emerging-sunni-israeli-alliance-holds-hope-mideast-peace 1], [https://www.jpost.com/jerusalem-report/the-israel-sunni-alliance-514809 2], [https://www.jns.org/biden-administrations-decision-on-weapons-sales-to-gulf-important-test-for-israeli-sunni-alliance/ 3]\n",
    "I'''sraeli–Sunni Coalition''', see - [https://www.washingtoninstitute.org/policy-analysis/jordans-shift-back-sunni-israeli-coalition 1], [https://www.al-monitor.com/pulse/originals/2013/10/israel-gulf-states-sunni-coalition-iran.html 2], [https://atalayar.com/en/content/legacy-cold-war-middle-east 3]--[[User:Steamboat2020|Steamboat2020]] ([[User talk:Steamboat2020|talk]]) 03:02, 17 March 2021 (UTC)\n",
    ":These arent names though, they are descriptions. The manual of style calls for the following:<blockquote>By the design of Wikipedia's software, an article can have only one title. When this title is a name, significant alternative names for the topic should be mentioned in the article, usually in the first sentence or paragraph.</blockquote>These aren't names, and as such they shouldn't be bolded. The different definitions of the supposed alliance obviously should be, but this is treating it like it is NATO or the GCC with a formal name for it, and that isnt true. <small style=\"border: 1px solid;padding:1px 3px;white-space:nowrap\">'''[[User talk:Nableezy|<span style=\"color:#C11B17\">nableezy</span>]]''' - 03:08, 17 March 2021 (UTC)</small>\n",
    "::ok so then just change it from \"also known as\" to \"also described as\"--[[User:Steamboat2020|Steamboat2020]] ([[User talk:Steamboat2020|talk]]) 03:42, 17 March 2021 (UTC)\n",
    "::As far as it being bolded, I don't have an opinion either way--[[User:Steamboat2020|Steamboat2020]] ([[User talk:Steamboat2020|talk]]) 04:06, 17 March 2021 (UTC)\n",
    ":::Significance is measured relative to the entire body of coverage, not a pre-defined number. If one source uses this name and the article depends on coverage from about 6-7 sources, then that seems significant enough. [[User:Wikieditor19920|Wikieditor19920]] ([[User talk:Wikieditor19920|talk]]) 03:14, 18 March 2021 (UTC)\n",
    "::::That doesnt really address anything I said. This isnt an alternative name, it is an alternative description. It shouldnt be treated as a name. <small style=\"border: 1px solid;padding:1px 3px;white-space:nowrap\">'''[[User talk:Nableezy|<span style=\"color:#C11B17\">nableezy</span>]]''' - 03:27, 18 March 2021 (UTC)</small>\n",
    ":::::A description is something written by an editor expressly for an article. A name is something used in a source. The sources above provided by Steamboat2020 use those names. [[User:Wikieditor19920|Wikieditor19920]] ([[User talk:Wikieditor19920|talk]]) 03:33, 18 March 2021 (UTC)\n",
    "::::::What? A name is something used in a source? What? Youre saying this alliance has a formal name? What? <small style=\"border: 1px solid;padding:1px 3px;white-space:nowrap\">'''[[User talk:Nableezy|<span style=\"color:#C11B17\">nableezy</span>]]''' - 03:38, 18 March 2021 (UTC)</small>\n",
    ":::::::Yes, per [[WP:NDESC]]. [[User:Wikieditor19920|Wikieditor19920]] ([[User talk:Wikieditor19920|talk]]) 22:10, 18 March 2021 (UTC)\n",
    "::::::::What in [[WP:NDESC]] supports that view? Quote please. A name is something used in a source per [[WP:NDESC]]? Please quote what in that policy supports that position. <small style=\"border: 1px solid;padding:1px 3px;white-space:nowrap\">'''[[User talk:Nableezy|<span style=\"color:#C11B17\">nableezy</span>]]''' - 22:46, 18 March 2021 (UTC)</small>\n",
    ":::::::::{{tq|In some cases a descriptive phrase (such as Restoration of the Everglades) is best as the title. These are often invented specifically for articles}} How is \"Israel-Sunni alliance\" a \"descriptive title? It seems to be a name used to refer to a ''specific group of countries'' in an informal grouping, and it is not invented by an editor (though the title is). I'm not going to argue this six ways from Sunday. [[User:Wikieditor19920|Wikieditor19920]] ([[User talk:Wikieditor19920|talk]]) 00:34, 19 March 2021 (UTC)\n",
    "The sourcing for ''Israeli-Sunni Alliance'' (with the a capitalized to signify a proper name) is as follows:\n",
    "*{{cite web | last=Melman | first=Yossi | title=The Israel-Sunni alliance | website=The Jerusalem Post| date=2017-11-21 | url=https://www.jpost.com/jerusalem-report/the-israel-sunni-alliance-514809 | access-date=2021-03-18}}\n",
    "*{{cite web | title=Sick: Alliance against Iran | website=Council on Foreign Relations | date=2007-01-23 | url=https://www.cfr.org/interview/sick-alliance-against-iran | ref={{sfnref | Council on Foreign Relations | 2007}} | access-date=2021-03-18}}\n",
    "The first JPost source contains the phrase once in the title of the article, but with the a lowercase (signifying not a proper name, especially given headlines often capitalize every significant word). It never once uses the phrase anywhere else. The second source supports the \"name\" even less, it never uses the phrase anywhere. I am tagging that one as failed verification as well. <small style=\"border: 1px solid;padding:1px 3px;white-space:nowrap\">'''[[User talk:Nableezy|<span style=\"color:#C11B17\">nableezy</span>]]''' - 23:14, 18 March 2021 (UTC)</small>\n",
    ":{{u|Wikieditor19920}}, which of the two sources support this? You cant just remove a tag without addressing the issue, that is plainly disruptive editing. <small style=\"border: 1px solid;padding:1px 3px;white-space:nowrap\">'''[[User talk:Nableezy|<span style=\"color:#C11B17\">nableezy</span>]]''' - 23:46, 18 March 2021 (UTC)</small>\n",
    ":{{u|Wikieditor19920}}, [[WP:HEADLINE]] is fairly clear, headlines are not reliable sources, and no source supports the second alt name. Return the tag or Ill just remove the name as failing verification. <small style=\"border: 1px solid;padding:1px 3px;white-space:nowrap\">'''[[User talk:Nableezy|<span style=\"color:#C11B17\">nableezy</span>]]''' - 01:34, 19 March 2021 (UTC)</small>\n",
    "::The headline is just a name, and the text of the source supports the substance behind that name. Don't threaten me with what you're going to do. [[User:Wikieditor19920|Wikieditor19920]] ([[User talk:Wikieditor19920|talk]]) 02:05, 19 March 2021 (UTC)\n",
    ":::I am not threatening anything. I am telling you I will be removing the material the sources dont support. [[WP:HEADLINES]] explicitly says that headlines are not reliable when the body does not back up the material. This so-called name appears only in the headline in one of the sources, and nowhere in the other source. It fails verification, and since the tag was removed I will be removing the content. Restoring it will require sourcing that actually backs it up and consensus per [[WP:ONUS]] and [[WP:BURDEN]]. <small style=\"border: 1px solid;padding:1px 3px;white-space:nowrap\">'''[[User talk:Nableezy|<span style=\"color:#C11B17\">nableezy</span>]]''' - 02:36, 19 March 2021 (UTC)</small>\n",
    "::::It is now impossible to scroll through this talkpage without reading the same arguments at the bottom of every section, irregardless of what it was opened for. I suggest either taking steps to fix that or we close discussions no longer of use. Second, consensus favors the material. Consensus is not determined by who is the most vocal. Remove it and you will be violating the consensus on this page on a false premise. [[User:Wikieditor19920|Wikieditor19920]] ([[User talk:Wikieditor19920|talk]]) 02:39, 19 March 2021 (UTC)\n",
    ":::::Proclaiming a consensus does not a consensus make. The material fails [[WP:V]], and when removed if restored will require reliable sources (which does not include headlines) and consensus. <small style=\"border: 1px solid;padding:1px 3px;white-space:nowrap\">'''[[User talk:Nableezy|<span style=\"color:#C11B17\">nableezy</span>]]''' - 02:41, 19 March 2021 (UTC)</small>\n",
    "I will however say that [https://www.jns.org/biden-administrations-decision-on-weapons-sales-to-gulf-important-test-for-israeli-sunni-alliance/ this] would justify saying ''also described as an Israeli-Sunni alliance'' (with a little a and unbolded). Totally fine with including it like that. <small style=\"border: 1px solid;padding:1px 3px;white-space:nowrap\">'''[[User talk:Nableezy|<span style=\"color:#C11B17\">nableezy</span>]]''' - 02:58, 19 March 2021 (UTC)</small>\n",
    "\"\"\""
   ]
  },
  {
   "cell_type": "code",
   "execution_count": 6,
   "id": "97b7b72c",
   "metadata": {},
   "outputs": [],
   "source": [
    "parsed_ex2 = wc.parse(ex2)"
   ]
  },
  {
   "cell_type": "code",
   "execution_count": 7,
   "id": "d73d0683",
   "metadata": {},
   "outputs": [
    {
     "data": {
      "text/plain": [
       "{'subsections': [{'subsections': [],\n",
       "   'comments': [{'text_blocks': ['===Discussion===\\n',\n",
       "      '* Obviously as the author of the above I agree with the suggestion. I think its a solid way to move forward that will allow for the article to be expanded with sources that includes important details and allow for more sources to be included. The simple category \"Member\" is inadequate to describe the nature of participation in the group. <span style=\"font-family:Courier;\"><b>&nbsp;//&nbsp;[[User:TimothyBlue|Timothy]]&nbsp;::&nbsp;[[User talk:TimothyBlue|talk]]&nbsp;</b></span> 05:47, 18 March 2021 (UTC)\\n'],\n",
       "     'comments': [{'text_blocks': ['*Regardless of how you want to phrase it, to claim that any country is involved in such an alliance requires a reliable source explicitly saying that such and such country is in such an alliance. Simply normalizing relations with Israel is not that. Whatever formula you want to use still needs sources explicitly supporting it, and there are no such sources claiming that either Morocco or Sudan are \\'\\'participants\\'\\' or \\'\\'members\\'\\' of such an alliance. There needs to be a single source for any country saying that country is \\'\\'involved\\'\\' or \\'\\'participating\\'\\' in an alliance both with other Arab countries and Israel and against Iran. <small style=\"border: 1px solid;padding:1px 3px;white-space:nowrap\">\\'\\'\\'[[User talk:Nableezy|<span style=\"color:#C11B17\">nableezy</span>]]\\'\\'\\' - 05:59, 18 March 2021 (UTC)</small>\\n'],\n",
       "       'comments': [{'text_blocks': [\"*:Stop repeating the same arguments in every thread. We've heard these points before. TimothyBlue is addressing a separate issue in this thread. [[User:Wikieditor19920|Wikieditor19920]] ([[User talk:Wikieditor19920|talk]]) 06:24, 18 March 2021 (UTC)\\n\"],\n",
       "         'comments': [{'text_blocks': [':::Im responding to his suggestion. He suggested using \"participants\". I am responding that even that formulation will need sources explicitly backing it up. If you dont get that then ¯\\\\_(ツ)_/¯ <small style=\"border: 1px solid;padding:1px 3px;white-space:nowrap\">\\'\\'\\'[[User talk:Nableezy|<span style=\"color:#C11B17\">nableezy</span>]]\\'\\'\\' - 06:50, 18 March 2021 (UTC)</small>\\n'],\n",
       "           'comments': [{'text_blocks': ['::::If sources describe nations working together it is fine to state they are participating in something. <span style=\"font-family:Courier;\"><b>&nbsp;//&nbsp;[[User:TimothyBlue|Timothy]]&nbsp;::&nbsp;[[User talk:TimothyBlue|talk]]&nbsp;</b></span> 08:19, 18 March 2021 (UTC)\\n'],\n",
       "             'comments': [],\n",
       "             'cosigners': [],\n",
       "             'author': 'TimothyBlue',\n",
       "             'time_stamp': '08:19, 18 March 2021 (UTC)'}],\n",
       "           'cosigners': [],\n",
       "           'author': 'Nableezy',\n",
       "           'time_stamp': '06:50, 18 March 2021 (UTC)'}],\n",
       "         'cosigners': [],\n",
       "         'author': 'Wikieditor19920',\n",
       "         'time_stamp': '06:24, 18 March 2021 (UTC)'}],\n",
       "       'cosigners': [],\n",
       "       'author': 'Nableezy',\n",
       "       'time_stamp': '05:59, 18 March 2021 (UTC)'}],\n",
       "     'cosigners': [],\n",
       "     'author': 'TimothyBlue',\n",
       "     'time_stamp': '05:47, 18 March 2021 (UTC)'},\n",
       "    {'text_blocks': ['\\n'], 'comments': [], 'cosigners': []}],\n",
       "   'heading': 'Discussion'}],\n",
       " 'comments': [{'text_blocks': ['== Membership section in Infobox ==\\n',\n",
       "    '\\n',\n",
       "    'I think the word \"membership\" is a bad choice for the infobox, since this is an unofficial group with no formal membership. I think the word \"participants\" better describe who is involved in the unofficial group. This is reflected in the lead and the infobox should reflect the article content. However there is no option for a participants field, so it might be eliminated altogether.\\n',\n",
       "    '\\n',\n",
       "    'Each nation listed here has a nuanced level and type of participation. Instead of trying to use footnotes in the infobox to show this, a section \"Participants\" can be created with a subsection for each participant with details and sources. This will allow development of the article and if other nations begin participating, a section could be added with details and sources; as their participation changes, the section can be updated with details. \\n',\n",
       "    '\\n',\n",
       "    'This will solve the issue of Morocco and Sudan being included in the infobox, they can have their own sections under participants that can detail the circumstances and type of involvement in the subject. \\n',\n",
       "    '\\n',\n",
       "    'The history section could become a summary, and I believe a general background section may also be helpful to the readers. \\n',\n",
       "    '<span style=\"font-family:Courier;\"><b>&nbsp;//&nbsp;[[User:TimothyBlue|Timothy]]&nbsp;::&nbsp;[[User talk:TimothyBlue|talk]]&nbsp;</b></span> 05:47, 18 March 2021 (UTC)\\n'],\n",
       "   'comments': [{'text_blocks': ['\\n',\n",
       "      ':How about \"Involved parties\" or \"Involved countries/Countries involved\" [[User:Wikieditor19920|Wikieditor19920]] ([[User talk:Wikieditor19920|talk]]) 06:23, 18 March 2021 (UTC)\\n'],\n",
       "     'comments': [{'text_blocks': ['::Involved parties is a good suggestion at first glance, but its not a field in the infobox. The article adapts [[:Template:Infobox organization]] (a very generic infobox used in all kinds of articles); we might be able to customize it to add a field if a consensus emerges on a phrase. I need to look to see if there is an existing template that better fits the fields the article could use. <span style=\"font-family:Courier;\"><b>&nbsp;//&nbsp;[[User:TimothyBlue|Timothy]]&nbsp;::&nbsp;[[User talk:TimothyBlue|talk]]&nbsp;</b></span> 06:42, 18 March 2021 (UTC)\\n'],\n",
       "       'comments': [],\n",
       "       'cosigners': [],\n",
       "       'author': 'TimothyBlue',\n",
       "       'time_stamp': '06:42, 18 March 2021 (UTC)'}],\n",
       "     'cosigners': [],\n",
       "     'author': 'Wikieditor19920',\n",
       "     'time_stamp': '06:23, 18 March 2021 (UTC)'}],\n",
       "   'cosigners': [],\n",
       "   'author': 'TimothyBlue',\n",
       "   'time_stamp': '05:47, 18 March 2021 (UTC)'},\n",
       "  {'text_blocks': ['Can you explain how \"participants\" or \"involved countries\" would solve any verifiability issue here? There is no sourcing for either country participating on any level in this alliance with Israel and against Iran. <small style=\"border: 1px solid;padding:1px 3px;white-space:nowrap\">\\'\\'\\'[[User talk:Nableezy|<span style=\"color:#C11B17\">nableezy</span>]]\\'\\'\\' - 06:57, 18 March 2021 (UTC)</small>\\n'],\n",
       "   'comments': [{'text_blocks': [\"::These are the same arguments that were raised and rejected in two[https://en.wikipedia.org/wiki/Wikipedia:Articles_for_deletion/Arab_states%E2%80%93Israeli_alliance_against_Iran 1][https://en.wikipedia.org/wiki/Talk:Foreign_relations_of_Israel#Merger_proposal 2] prior discussions. I don't think the problem was that no one heard them. [[User:Wikieditor19920|Wikieditor19920]] ([[User talk:Wikieditor19920|talk]]) 07:04, 18 March 2021 (UTC)\\n\"],\n",
       "     'comments': [{'text_blocks': [':::You seem to be purposely antagonizing here. I am not asking you anything here. I am asking TimothyBlue how changing the infobox to either \\'\\'participants\\'\\' or \\'\\'involved countries\\'\\' as is suggested \\'\\'\\'in this section\\'\\'\\' solves any verifiability issue. If you have nothing to add to that question you do not need to respond. Kindly stop disrupting the talk page. <small style=\"border: 1px solid;padding:1px 3px;white-space:nowrap\">\\'\\'\\'[[User talk:Nableezy|<span style=\"color:#C11B17\">nableezy</span>]]\\'\\'\\' - 07:09, 18 March 2021 (UTC)</small>\\n'],\n",
       "       'comments': [{'text_blocks': [\"::::The sources provided in the first sentence answer your question. Scholarly sources describe an ''alliance.'' An [https://www.merriam-webster.com/dictionary/alliance#:~:text=1a%20%3A%20the%20state%20of,alliance%20between%20government%20and%20industry alliance] is between two states, parties, individuals, or countries. So participants or involved parties fits the bill. If you want to make another argument about fundamental verifiability, then 1) that's a deletion or merge argument with this article, and 2) those arguments have already been adjudged. I don't know what else I can add there.\\n\",\n",
       "          '::::Now forgive me for moving on from this for a moment, but TimothyBlue raises a good point, and that\\'s that a more flexible infobox might help if we want to change the \"membership\" language. We should probably settle on what we want before going about that, though, since it could be more complex and we don\\'t want that bouncing back and forth between versions if there\\'s any disagreement.[[User:Wikieditor19920|Wikieditor19920]] ([[User talk:Wikieditor19920|talk]]) 07:14, 18 March 2021 (UTC)\\n'],\n",
       "         'comments': [{'text_blocks': [':::::Which of those sources say that Morocco or Sudan are a part of that? And no, a verifiability issue with one part of an article is not a merge or deletion argument. That makes literally no sense. Saying Morocco being included, in whatever phrasing invented here, is not verifiable does not mean the article should be deleted or merged. <small style=\"border: 1px solid;padding:1px 3px;white-space:nowrap\">\\'\\'\\'[[User talk:Nableezy|<span style=\"color:#C11B17\">nableezy</span>]]\\'\\'\\' - 07:19, 18 March 2021 (UTC)</small>\\n'],\n",
       "           'comments': [],\n",
       "           'cosigners': [],\n",
       "           'author': 'Nableezy',\n",
       "           'time_stamp': '07:19, 18 March 2021 (UTC)'}],\n",
       "         'cosigners': [],\n",
       "         'author': 'Wikieditor19920',\n",
       "         'time_stamp': '07:14, 18 March 2021 (UTC)'},\n",
       "        {'text_blocks': ['::::{{u|nableezy}}, Wikieditor is actually being helpful and you are being less than helpful. As to the answer to your question, If there is no membership section, no nations will be listed. I made this clear when I stated \"However there is no option for a participants field, so it might be eliminated altogether.\" Everything can be discussed in individual sections for each nation describing how they are involved, with all the nuance sources provide. As replacing the field in the infobox with another word, I\\'m open to other options. such as another infobox or customizing this one. <span style=\"font-family:Courier;\"><b>&nbsp;//&nbsp;[[User:TimothyBlue|Timothy]]&nbsp;::&nbsp;[[User talk:TimothyBlue|talk]]&nbsp;</b></span> 07:29, 18 March 2021 (UTC)\\n'],\n",
       "         'comments': [{'text_blocks': [':::::Nice of you to feel that way, but I still have a problem with having a section of participants that includes countries without sources that say they are participants. That remains the root problem with including countries that the sources dont. <small style=\"border: 1px solid;padding:1px 3px;white-space:nowrap\">\\'\\'\\'[[User talk:Nableezy|<span style=\"color:#C11B17\">nableezy</span>]]\\'\\'\\' - 07:32, 18 March 2021 (UTC)</small>\\n'],\n",
       "           'comments': [{'text_blocks': ['::::::If sources describe nations taking part in something it is acceptable to state they are participants in that something. <span style=\"font-family:Courier;\"><b>&nbsp;//&nbsp;[[User:TimothyBlue|Timothy]]&nbsp;::&nbsp;[[User talk:TimothyBlue|talk]]&nbsp;</b></span> 08:38, 18 March 2021 (UTC)\\n'],\n",
       "             'comments': [{'text_blocks': [':::::::Sure? I dont think I disputed that. <small style=\"border: 1px solid;padding:1px 3px;white-space:nowrap\">\\'\\'\\'[[User talk:Nableezy|<span style=\"color:#C11B17\">nableezy</span>]]\\'\\'\\' - 13:46, 18 March 2021 (UTC)</small>\\n'],\n",
       "               'comments': [{'text_blocks': [\"::::::::You opened four sections in the past 48 hours on separate issues, but many of these arguments are overlapping. Perhaps your arguments specific to Morocco/Sudan should be placed in those respective sections, because here the focus of TimothyBlue's inquiry is clearly the infobox generally. [[User:Wikieditor19920|Wikieditor19920]] ([[User talk:Wikieditor19920|talk]]) 17:24, 18 March 2021 (UTC)\\n\"],\n",
       "                 'comments': [{'text_blocks': [':::::::::I would very much appreciate it if [[WP:AVOIDYOU]] were followed. I am trying to focus on content, not on the players here. Thanks, <small style=\"border: 1px solid;padding:1px 3px;white-space:nowrap\">\\'\\'\\'[[User talk:Nableezy|<span style=\"color:#C11B17\">nableezy</span>]]\\'\\'\\' - 17:35, 18 March 2021 (UTC)</small>\\n'],\n",
       "                   'comments': [{'text_blocks': [\"::::::::::It doesn't matter who it is -- everyone should ensure their comments are responsive to the header for the sake of clarity. Thanks for understanding. [[User:Wikieditor19920|Wikieditor19920]] ([[User talk:Wikieditor19920|talk]]) 19:20, 18 March 2021 (UTC)\\n\"],\n",
       "                     'comments': [],\n",
       "                     'cosigners': [],\n",
       "                     'author': 'Wikieditor19920',\n",
       "                     'time_stamp': '19:20, 18 March 2021 (UTC)'}],\n",
       "                   'cosigners': [],\n",
       "                   'author': 'Nableezy',\n",
       "                   'time_stamp': '17:35, 18 March 2021 (UTC)'}],\n",
       "                 'cosigners': [],\n",
       "                 'author': 'Wikieditor19920',\n",
       "                 'time_stamp': '17:24, 18 March 2021 (UTC)'}],\n",
       "               'cosigners': [],\n",
       "               'author': 'Nableezy',\n",
       "               'time_stamp': '13:46, 18 March 2021 (UTC)'}],\n",
       "             'cosigners': [],\n",
       "             'author': 'TimothyBlue',\n",
       "             'time_stamp': '08:38, 18 March 2021 (UTC)'}],\n",
       "           'cosigners': [],\n",
       "           'author': 'Nableezy',\n",
       "           'time_stamp': '07:32, 18 March 2021 (UTC)'}],\n",
       "         'cosigners': [],\n",
       "         'author': 'TimothyBlue',\n",
       "         'time_stamp': '07:29, 18 March 2021 (UTC)'}],\n",
       "       'cosigners': [],\n",
       "       'author': 'Nableezy',\n",
       "       'time_stamp': '07:09, 18 March 2021 (UTC)'}],\n",
       "     'cosigners': [],\n",
       "     'author': 'Wikieditor19920',\n",
       "     'time_stamp': '07:04, 18 March 2021 (UTC)'}],\n",
       "   'cosigners': [],\n",
       "   'author': 'Nableezy',\n",
       "   'time_stamp': '06:57, 18 March 2021 (UTC)'}],\n",
       " 'heading': ' Membership section in Infobox '}"
      ]
     },
     "execution_count": 7,
     "metadata": {},
     "output_type": "execute_result"
    }
   ],
   "source": [
    "parsed_ex2[\"sections\"][8]"
   ]
  },
  {
   "cell_type": "code",
   "execution_count": null,
   "id": "08c4bfb2",
   "metadata": {},
   "outputs": [],
   "source": []
  }
 ],
 "metadata": {
  "kernelspec": {
   "display_name": "Python 3 (ipykernel)",
   "language": "python",
   "name": "python3"
  },
  "language_info": {
   "codemirror_mode": {
    "name": "ipython",
    "version": 3
   },
   "file_extension": ".py",
   "mimetype": "text/x-python",
   "name": "python",
   "nbconvert_exporter": "python",
   "pygments_lexer": "ipython3",
   "version": "3.11.5"
  }
 },
 "nbformat": 4,
 "nbformat_minor": 5
}
